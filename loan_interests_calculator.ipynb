{
 "cells": [
  {
   "cell_type": "markdown",
   "metadata": {},
   "source": []
  },
  {
   "cell_type": "code",
   "execution_count": null,
   "metadata": {
    "collapsed": true
   },
   "outputs": [],
   "source": []
  },
  {
   "cell_type": "code",
   "execution_count": 46,
   "metadata": {},
   "outputs": [
    {
     "name": "stdout",
     "output_type": "stream",
     "text": [
      "Total investing interests:  64000.00\n",
      "Total loal interests:  78541.67\n",
      "Real annual interests:  1.227%\n",
      "Total loal interests:  115606.34\n",
      "Real annual interests:  1.806%\n"
     ]
    }
   ],
   "source": [
    "total_principal = 400000\n",
    "loan_principal = total_principal*0.8\n",
    "year_rate = 3.25/100\n",
    "month_rate = year_rate/12\n",
    "years = 20\n",
    "months = 20*12\n",
    "\n",
    "investing_year_rate = 4.0/100\n",
    "investing_principal = total_principal - loan_principal\n",
    "investing_interests = investing_principal*investing_year_rate*years\n",
    "print (\"Total investing interests:  %7.2f\" % investing_interests)\n",
    "# 等额本金\n",
    "loan_principal_month = loan/months\n",
    "loan_interests = months*month_rate*(loan_principal - 0.5*(months-1)*loan_principal_month)\n",
    "print (\"Total loal interests:  %7.2f\" % loan_interests)\n",
    "print ('Real annual interests:  {:.3%}'.format(loan_interests/loan_principal/years))\n",
    "loan_left = loan\n",
    "#print (\"      Month    Interest  +  Principal  =  Month Bill\")\n",
    "for i in range (months):\n",
    "    interest_month = loan_left * month_rate\n",
    "    #print (\"%3d th month:   %7.2f      %7.2f       %7.2f\" % \\\n",
    "    #       (i+1, interest_month, loan_principal_month, \\\n",
    "    #        interest_month + loan_principal_month))\n",
    "    loan_left -= loan_month\n",
    "\n",
    "# 等额本息\n",
    "principal_first = loan_principal*month_rate/((1+month_rate)**months -1)\n",
    "#print (principal_first)\n",
    "loan_interests = (principal_first + loan_principal*month_rate)*months - loan_principal\n",
    "print (\"Total loal interests:  %7.2f\" % loan_interests)\n",
    "print ('Real annual interests:  {:.3%}'.format(loan_interests/loan_principal/years))"
   ]
  },
  {
   "cell_type": "code",
   "execution_count": null,
   "metadata": {
    "collapsed": true
   },
   "outputs": [],
   "source": []
  },
  {
   "cell_type": "code",
   "execution_count": null,
   "metadata": {
    "collapsed": true
   },
   "outputs": [],
   "source": []
  }
 ],
 "metadata": {
  "kernelspec": {
   "display_name": "Python 3",
   "language": "python",
   "name": "python3"
  },
  "language_info": {
   "codemirror_mode": {
    "name": "ipython",
    "version": 3
   },
   "file_extension": ".py",
   "mimetype": "text/x-python",
   "name": "python",
   "nbconvert_exporter": "python",
   "pygments_lexer": "ipython3",
   "version": "3.6.3"
  },
  "latex_envs": {
   "LaTeX_envs_menu_present": true,
   "autocomplete": true,
   "bibliofile": "biblio.bib",
   "cite_by": "apalike",
   "current_citInitial": 1,
   "eqLabelWithNumbers": true,
   "eqNumInitial": 1,
   "hotkeys": {
    "equation": "Ctrl-E",
    "itemize": "Ctrl-I"
   },
   "labels_anchors": false,
   "latex_user_defs": false,
   "report_style_numbering": false,
   "user_envs_cfg": false
  },
  "toc": {
   "nav_menu": {},
   "number_sections": true,
   "sideBar": true,
   "skip_h1_title": true,
   "toc_cell": false,
   "toc_position": {},
   "toc_section_display": "block",
   "toc_window_display": false
  }
 },
 "nbformat": 4,
 "nbformat_minor": 2
}
