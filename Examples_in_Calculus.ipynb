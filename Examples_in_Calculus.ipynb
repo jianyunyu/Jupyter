{
 "cells": [
  {
   "cell_type": "markdown",
   "metadata": {},
   "source": [
    "# Counterexamples in Calculus\n",
    "\n",
    "## At the Beginning\n",
    "I tend to think that the demonstration of counterexamples should play an important role for teaching mathematics courses such as calculus, real analysis, functional analysis, etc. Among the goals of mathematics, the most important one may be to teach logical thinking. This can be thought via things like definition and theorems in mathematics. For this purpose, presentation of counterexamples is necessary. It explains why the hypotheses of various theorems are important, also simple counterexamples showing that the conclusion of a theorem may not hold once the hypotheses is violent. Further, counterexamples offer students the intuition and ability to recognize false propositions.  \n",
    "\n",
    "Above are the motivations of starting this notebook to collect good counterexamples I have countered during my studying and teaching. "
   ]
  },
  {
   "cell_type": "code",
   "execution_count": 1,
   "metadata": {
    "collapsed": true
   },
   "outputs": [],
   "source": [
    "%matplotlib inline\n",
    "import numpy as np\n",
    "import matplotlib.pyplot as plt"
   ]
  },
  {
   "cell_type": "markdown",
   "metadata": {},
   "source": [
    "## Differential Calculus\n",
    "### If the derivative of a function $f(x)$ is positive at a point $x = x_0$, then there exists a neighborhood about $x = x_0$ where the function is increasing.\n",
    "\n",
    "__Counterexample__ Considering function\n",
    "\\begin{equation}\n",
    "    f(x) = \\left\\{\\begin{array}{lc} x + 2x^2\\sin\\frac{1}{x}, & \\text{if } x \\neq 0 \\\\\n",
    "    0,& \\text{if } x = 0\\end{array}\\right.\n",
    "\\end{equation}\n",
    "whose derivative is  \n",
    "\\begin{equation}\n",
    "    f'(x) = \\left\\{\\begin{array}{lc} 1 + 4x\\sin\\frac{1}{x}-2\\cos\\frac{1}{x}, & \\text{if } x \\neq 0 \\\\\n",
    "    0,& \\text{if } x = 0\\end{array}\\right..\n",
    "\\end{equation}\n",
    "Clearly, $f'(0) > 0$, but $f(x)$ takes postive and negative values in any neihborhood of the point $x = 0$ (due to the $2\\cos\\frac{1}{x}$ term).  In other words, the function $f(x)$ is not monotone in any neihborhood of the point $x = 0$. "
   ]
  },
  {
   "cell_type": "code",
   "execution_count": 2,
   "metadata": {},
   "outputs": [
    {
     "data": {
      "text/plain": [
       "[<matplotlib.lines.Line2D at 0x7faed0abdf28>]"
      ]
     },
     "execution_count": 2,
     "metadata": {},
     "output_type": "execute_result"
    },
    {
     "data": {
      "image/png": "[encoded data removed]",
      "text/plain": [
       "<matplotlib.figure.Figure at 0x7faed1c85be0>"
      ]
     },
     "metadata": {},
     "output_type": "display_data"
    }
   ],
   "source": [
    "def fun(x):\n",
    "    if (x == 0):\n",
    "        return 0.\n",
    "    else:\n",
    "        return x + 2*x**2*np.sin(1/x)\n",
    "\n",
    "def fun_x(x):\n",
    "    if (x == 0):\n",
    "        return 1.\n",
    "    else:\n",
    "        return 1 + 4*x*np.sin(1/x) - 2*np.cos(1/x)\n",
    "\n",
    "x = np.linspace(-0.4, 0.4, 1001)\n",
    "y = [fun(x[i]) for i in range(1001)]\n",
    "fig, ax = plt.subplots(1,2)\n",
    "ax[0].plot(x, y)\n",
    "y = [fun_x(x[i]) for i in range(1001)]\n",
    "ax[1].plot(x, y)"
   ]
  },
  {
   "cell_type": "markdown",
   "metadata": {
    "collapsed": true
   },
   "source": [
    "## Numerical Methods For Differential Equations\n",
    "### The regularity of the domain plays an important role for the elliptic regularity for a Sololve function\n",
    "\\begin{equation}\n",
    "    \\|u\\|_{W^{2,p}(\\Omega)} \\leq \\|\\Delta u\\|_{L^p(\\Omega)}\n",
    "\\end{equation}\n",
    "where $\\Omega$ is $\\mathcal{C}^{1,1}/\\mathcal{C}^2$ or convex.  In other words, the Poisson equation $-\\Delta u = f$ boundary value problem can get a regularity lifting of $2$ from the data $f$, i.e, the weak differentiability goes up by $2$.\n",
    "\n",
    "__A counterexample in nonconvex domain:__ the regularity lifting is not true anymore. Consider in the Pacman domain $\\Omega$ parametrized using polar coordinates:\n",
    "\\begin{equation}\n",
    "    \\Omega = \\{(r,\\theta): 0 < r < 1, 0 < \\theta < \\pi/\\alpha\\}\n",
    "\\end{equation}\n",
    "with $1/2 < \\alpha < 1$ then\n",
    "\\begin{equation}\n",
    "    u = (1 - r^2)r^\\alpha\\sin(\\alpha\\theta)\n",
    "\\end{equation}\n",
    "solves the homogeneous Dirichlet boundary problem:\n",
    "\\begin{align}\n",
    "    -\\Delta u & = (4\\alpha + 4)r^\\alpha\\sin(\\alpha\\theta)\\,\\,\\quad \\text{in }\\Omega \\\\\n",
    "    u & = 0 \\,\\,\\quad \\text{on } \\partial\\Omega \n",
    "\\end{align}\n",
    "The right hand side data is in $L^p$, but $u \\notin W^{2,p}$ for its second derivative shows strong singular behavior near the origin.  If we extend the Pacman to the full disk, such solution won't be there anymore for the value\n",
    "\\begin{equation}\n",
    "    \\lim\\limits_{\\theta\\rightarrow 0^{+}}u(r,\\theta) = \\lim\\limits_{\\theta\\rightarrow 2\\pi^{-}} u(r,\\theta)\n",
    "\\end{equation}\n",
    "\n"
   ]
  },
  {
   "cell_type": "code",
   "execution_count": null,
   "metadata": {
    "collapsed": true
   },
   "outputs": [],
   "source": []
  }
 ],
 "metadata": {
  "kernelspec": {
   "display_name": "Python 3",
   "language": "python",
   "name": "python3"
  },
  "language_info": {
   "codemirror_mode": {
    "name": "ipython",
    "version": 3
   },
   "file_extension": ".py",
   "mimetype": "text/x-python",
   "name": "python",
   "nbconvert_exporter": "python",
   "pygments_lexer": "ipython3",
   "version": "3.6.3"
  },
  "latex_envs": {
   "LaTeX_envs_menu_present": true,
   "autocomplete": true,
   "bibliofile": "biblio.bib",
   "cite_by": "apalike",
   "current_citInitial": 1,
   "eqLabelWithNumbers": true,
   "eqNumInitial": 1,
   "hotkeys": {
    "equation": "Ctrl-E",
    "itemize": "Ctrl-I"
   },
   "labels_anchors": false,
   "latex_user_defs": false,
   "report_style_numbering": false,
   "user_envs_cfg": false
  },
  "toc": {
   "nav_menu": {},
   "number_sections": true,
   "sideBar": true,
   "skip_h1_title": true,
   "toc_cell": false,
   "toc_position": {},
   "toc_section_display": "block",
   "toc_window_display": false
  }
 },
 "nbformat": 4,
 "nbformat_minor": 2
}
