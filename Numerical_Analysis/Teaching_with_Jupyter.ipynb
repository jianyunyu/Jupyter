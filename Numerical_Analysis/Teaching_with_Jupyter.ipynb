{
 "cells": [
  {
   "cell_type": "markdown",
   "metadata": {},
   "source": [
    "# Teaching Numerical Analysis with Jupyter Notebook\n",
    "\n",
    "<div style=\"text-align: center\"><b> Xiaozhou Li (University of Electronic Science and Technology of China) </b></div>\n",
    "\n",
    "<a rel=\"license\" href=\"http://creativecommons.org/licenses/by/4.0/\"><img alt=\"Creative Commons License\" style=\"border-width:0\" src=\"https://i.creativecommons.org/l/by/4.0/80x15.png\" /></a><br />This notebook by Xiaozhou Li is licensed under a <a rel=\"license\" href=\"http://creativecommons.org/licenses/by/4.0/\">Creative Commons Attribution 4.0 International License</a>.  \n",
    "All code examples are also licensed under the [MIT license](http://opensource.org/licenses/MIT)."
   ]
  },
  {
   "cell_type": "markdown",
   "metadata": {},
   "source": [
    "## Teaching numerical analysis\n",
    "A course in numerical methods normally includes two parts:\n",
    "* the mathematical theory of numerical analysis \n",
    "* the craft of implementing numerical algorithms."
   ]
  },
  {
   "cell_type": "markdown",
   "metadata": {},
   "source": [
    "## Why Jupyter notebook\n",
    "\n",
    "The Jupyter notebook provides a single medium in which combines \n",
    "* Mathematics (using LaTeX)\n",
    "* Explanation texts (using Markdown)\n",
    "* Executable code (in Python or other languages)\n",
    "* Visualizations (figures and animations)\n",
    "\n",
    "With the notebook, student can interact in order to learn both the theory and the craft of numerical methods.  \n",
    "That's much better than a printed textbook!"
   ]
  },
  {
   "cell_type": "markdown",
   "metadata": {},
   "source": [
    "### Advantages of the notebook \n",
    "* Python!\n",
    "* Free\n",
    "* Open source\n",
    "* Text-based (the power of plain text)\n",
    "    - Can diff, merge, grep, search/replace, version control\n",
    "    - Can convert between formats\n",
    "* nbviewer"
   ]
  },
  {
   "cell_type": "markdown",
   "metadata": {},
   "source": [
    "## Uses of the notebook\n",
    "* Homework exercises, perhaps with some code provided\n",
    "* In-class computational demos\n",
    "* In-class exercises\n",
    "* Accessory/Replacement for the textbook"
   ]
  },
  {
   "cell_type": "markdown",
   "metadata": {},
   "source": [
    "### In-class computational demos\n",
    "* Solutions of time-dependent problems\n",
    "* Iterative solvers\n",
    "* ...\n",
    "\n",
    "Some questions can be answered most effectively through the use of animation.  Students learn more -- and have more fun -- when they can visualize the results of their work in this way. "
   ]
  },
  {
   "cell_type": "markdown",
   "metadata": {},
   "source": [
    "## Challenges\n",
    "* Installation\n",
    "* Learning Python + the notebook"
   ]
  },
  {
   "cell_type": "markdown",
   "metadata": {},
   "source": [
    "### Installation\n",
    "\n",
    "#### Local installation \n",
    "The simplest way to have a local installation of all the software on the computer is to install **Anaconda**.  It is free and include Python, IPython, and all of the Python packages likely to be used in scientific computing course.  More import, it can easily be installed on Linux, Mac, and Windows systems.\n",
    "\n",
    "#### Cloud platforms\n",
    "In order to avoid potential installation issues altogether, or as a secondary option, notebooks can be run using only cloud services.\n",
    "* Sage Math Cloud\n",
    "* Wakari"
   ]
  },
  {
   "cell_type": "markdown",
   "metadata": {},
   "source": [
    "### Learning Python"
   ]
  },
  {
   "cell_type": "code",
   "execution_count": null,
   "metadata": {},
   "outputs": [],
   "source": []
  }
 ],
 "metadata": {
  "kernelspec": {
   "display_name": "Python 3",
   "language": "python",
   "name": "python3"
  },
  "language_info": {
   "codemirror_mode": {
    "name": "ipython",
    "version": 3
   },
   "file_extension": ".py",
   "mimetype": "text/x-python",
   "name": "python",
   "nbconvert_exporter": "python",
   "pygments_lexer": "ipython3",
   "version": "3.7.5"
  }
 },
 "nbformat": 4,
 "nbformat_minor": 2
}
