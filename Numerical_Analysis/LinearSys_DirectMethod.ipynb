{
 "cells": [
  {
   "cell_type": "markdown",
   "metadata": {},
   "source": [
    "# Solving Linear Systems: Direct Methods\n",
    "<a rel=\"license\" href=\"http://creativecommons.org/licenses/by/4.0/\"><img alt=\"Creative Commons License\" style=\"border-width:0\" src=\"https://i.creativecommons.org/l/by/4.0/80x15.png\" /></a><br />This notebook by Xiaozhou Li is licensed under a <a rel=\"license\" href=\"http://creativecommons.org/licenses/by/4.0/\">Creative Commons Attribution 4.0 International License</a>.  \n",
    "All code examples are also licensed under the [MIT license](http://opensource.org/licenses/MIT)."
   ]
  },
  {
   "cell_type": "code",
   "execution_count": 38,
   "metadata": {
    "pycharm": {
     "is_executing": false
    }
   },
   "outputs": [],
   "source": [
    "%matplotlib inline\n",
    "%config InlineBackend.figure_format = 'retina'\n",
    "import matplotlib.pyplot as plt\n",
    "import numpy as np\n",
    "from scipy.linalg import lu"
   ]
  },
  {
   "cell_type": "markdown",
   "metadata": {},
   "source": [
    "## Gaussian Elimination\n",
    "\n",
    "The simplest version of Gaussian Elimination only involves two operations as follows:\n",
    "* Add or substrct a muliple of one equation from another.\n",
    "* Multiply an equation by a nonzero constant.\n",
    "\n",
    "### Solving a linear system by Gaussian elimination\n",
    "The general form of a linear system for $n$ equations in $n$ unknown can be wriiten as\n",
    "\\begin{equation}\n",
    "\\begin{pmatrix}{a_{11}} & {a_{12}} & {\\cdots} & {a_{1 n}} \\\\ {a_{21}} & {a_{22}} & {\\cdots} & {a_{2 n}} \\\\ {\\vdots} & {\\vdots} & {} & {\\vdots} \\\\ {a_{n 1}} & {a_{n 2}} & {\\cdots} & {a_{n n}}\\end{pmatrix}\\begin{pmatrix}{x_{1}} \\\\ {x_{2}} \\\\ {\\vdots} \\\\ {x_{n}}\\end{pmatrix}=\\begin{pmatrix}{b_{1}} \\\\ {b_{2}} \\\\ {\\vdots} \\\\ {b_{n}}\\end{pmatrix}\n",
    "\\end{equation}\n",
    "  \n",
    "To solve this linear system by Gaussian elimination \n",
    "1. Using the allowed row operations to eliminate the system to an upper triangular system\n",
    "\\begin{equation}\n",
    "\\begin{pmatrix}{a_{11}} & {a_{12}} & {\\cdots} & {a_{1 n}} & {b_{1}} \\\\ {} & {a_{22}^{(1)}} & {\\cdots} & {a_{2 n}^{(1)}} & {b_{2}^{(1)}} \\\\ {} & {} & {\\ddots} & {\\vdots} & {\\vdots} \\\\ {} & {} & {} & {a_{n n}^{(n-1)}} & {b_{n}^{(n-1)}}\\end{pmatrix}\n",
    "\\end{equation}\n",
    "2. Using the back substituion (backsolving) to solve the upper triangular system, \n",
    "\\begin{align}\n",
    "x_{n}=& \\frac{b_{n}^{(n-1)}}{a_{n-1}^{(n-1)}}  \\\\ x_{k}=& \\frac{b_{k}^{(k-1)}-\\sum_{j=k+1}^{n} a_{k j}^{(k-1)} x_{j} }{a_{k k}^{(k-1)}}, \\quad k=n-1, \\ldots, 1. \n",
    "\\end{align}\n",
    "Here, assuming $a^{(k-1)}_{kk} \\neq 0,\\,\\, k = 1,\\ldots,n$"
   ]
  },
  {
   "cell_type": "markdown",
   "metadata": {},
   "source": [
    "**Example**\n",
    "\n",
    "Using Gaussian elimination to solve the following linear system\n",
    "\\begin{align}\n",
    " 10^{-20}x_1 + x_2 & = 1 \\\\\n",
    " x_1 + 2x_2 & = 4\n",
    "\\end{align}\n",
    "The argumented matrix reads\n",
    "\\begin{pmatrix}\n",
    "10^{-20} & 1 & 1 \\\\\n",
    "1 & 2 & 4\n",
    "\\end{pmatrix}\n",
    "\n",
    "1. Elimination: $\\text{Row}_2 = \\text{Row}_2 - 10^{20}\\times\\text{Row}_1$ "
   ]
  },
  {
   "cell_type": "code",
   "execution_count": 39,
   "metadata": {
    "pycharm": {
     "is_executing": false
    }
   },
   "outputs": [
    {
     "name": "stdout",
     "output_type": "stream",
     "text": [
      "[ 0.e+00 -1.e+20 -1.e+20]\n"
     ]
    }
   ],
   "source": [
    "A = np.array([[1e-20, 1, 1], [1, 2, 4]])\n",
    "A[1] = A[1] - 10**20*A[0]\n",
    "print (A[1])"
   ]
  },
  {
   "cell_type": "markdown",
   "metadata": {},
   "source": [
    "2. The echelon form of the argumented matrix reads\n",
    "\\begin{pmatrix}\n",
    "10^{-20} & 1 & 1 \\\\\n",
    "0 & -10^{20} & -10^{20}\n",
    "\\end{pmatrix}\n",
    "3. Using the back substituion, the solution is \n",
    "$$ x_2 = 1,\\qquad x_1 = 0.$$"
   ]
  },
  {
   "cell_type": "markdown",
   "metadata": {},
   "source": [
    "**Example** (Hilbert Matrix)\n",
    "\n",
    "The $n\\times n$ Hilbert Matrix $H_n$ is defined as follows:\n",
    "$$\n",
    "H_n = \\begin{pmatrix}{1} & {1 / 2} & {1 / 3} & {\\cdots} & {1 / n} \\\\ {1 / 2} & {1 / 3} & {1 / 4} & {\\cdots} & {1 /(n+1)} \\\\ {1 / 3} & {1 / 4} & {1 / 5} & {\\cdots} & {1 /(n+2)} \\\\ {\\cdots} & {\\cdots} & {\\cdots} & {\\cdots} & {\\cdots} \\\\ {1 / n} & {1 /(n+1)} & {1 /(n+2)} & {\\cdots} & {1 /(2 n-1)}\\end{pmatrix}\n",
    "$$\n",
    "\n",
    "Solving the linear system  \n",
    "$$ H_n x = b$$\n",
    "with \n",
    "$$ b = H_n \\cdot\\begin{pmatrix}1 \\\\ 1 \\\\ \\vdots \\\\ 1\\end{pmatrix} $$\n",
    "for $n = 5, 10, 20$\n",
    "* The exact solution is $x = \\begin{pmatrix}1 \\\\ 1 \\\\ \\vdots \\\\ 1\\end{pmatrix} $"
   ]
  },
  {
   "cell_type": "code",
   "execution_count": 40,
   "metadata": {},
   "outputs": [],
   "source": [
    "def hil(n):\n",
    "    A = np.empty([n, n])\n",
    "    for i in range(n):\n",
    "        for j in range(n):\n",
    "            A[i,j] = 1/(i+j+1)\n",
    "    return A\n",
    "\n",
    "def hil_example(n):\n",
    "    A = hil(n)\n",
    "    x_exact = np.zeros(n) + 1.\n",
    "    b = np.dot(A, x_exact)\n",
    "    x = np.linalg.solve(A, b)\n",
    "    \n",
    "    print (\"The Hilbert Example\")\n",
    "    print (\"Exact Solution: \", x_exact)\n",
    "    print (\"Numerical Solution: \", x)\n",
    "    print (\"Max Norm Error: \", np.max(x_exact - x))"
   ]
  },
  {
   "cell_type": "code",
   "execution_count": 41,
   "metadata": {},
   "outputs": [
    {
     "name": "stdout",
     "output_type": "stream",
     "text": [
      "The Hilbert Example\n",
      "Exact Solution:  [1. 1. 1. 1. 1. 1. 1. 1. 1. 1. 1. 1. 1. 1. 1. 1. 1. 1. 1. 1.]\n",
      "Numerical Solution:  [  0.99999973   1.00004237   0.99835796   1.02792418   0.73952115\n",
      "   2.49989561  -4.7311483   16.23893703 -28.01643331  40.83944684\n",
      " -38.14836844  31.73258932 -33.33827867  55.58369907 -52.73705463\n",
      "   4.75778788  52.47961466 -55.3242817   27.11720184  -3.7194526 ]\n",
      "Max Norm Error:  56.32428169603723\n"
     ]
    }
   ],
   "source": [
    "n = 20\n",
    "#A = hil(n)\n",
    "#print (A, '\\n')\n",
    "\n",
    "hil_example(n)"
   ]
  },
  {
   "cell_type": "markdown",
   "metadata": {},
   "source": [
    "**Example**\n",
    "\n",
    "Solve the following linear system\n",
    "\\begin{align}\n",
    " 10^{-20}x_1 + x_2 & = 1 \\\\\n",
    " x_1 + 2x_2 & = 4\n",
    "\\end{align}\n",
    "\n",
    "The argumented matrix reads\n",
    "\\begin{pmatrix}\n",
    "10^{-20} & 1 & 1 \\\\\n",
    "1 & 2 & 4\n",
    "\\end{pmatrix}\n",
    "\n",
    "1. Interchange $\\text{Row}_1$ with $\\text{Row}_2$\n",
    "\\begin{pmatrix}\n",
    "1 & 2 & 4 \\\\\n",
    "10^{-20} & 1 & 1 \n",
    "\\end{pmatrix}\n",
    "2. Elimination: $\\text{Row}_2 = \\text{Row}_2 - 10^{-20}\\times\\text{Row}_1$ "
   ]
  },
  {
   "cell_type": "code",
   "execution_count": 42,
   "metadata": {},
   "outputs": [
    {
     "name": "stdout",
     "output_type": "stream",
     "text": [
      "[0. 1. 1.]\n"
     ]
    }
   ],
   "source": [
    "A = np.array([[1, 2, 4], [1e-20, 1, 1]])\n",
    "A[1] = A[1] - 10**(-20)*A[0]\n",
    "print (A[1])"
   ]
  },
  {
   "cell_type": "markdown",
   "metadata": {},
   "source": [
    "3. The echelon form of the argumented matrix reads\n",
    "\\begin{pmatrix}\n",
    "1 & 2 & 4 \\\\\n",
    "0 & 1 & 1\n",
    "\\end{pmatrix}\n",
    "4. Using the back substituion, the solution is \n",
    "$$ x_2 = 1,\\qquad x_1 = 2.$$"
   ]
  },
  {
   "cell_type": "markdown",
   "metadata": {},
   "source": [
    "* Solving this equation by the build-in linear solover in numpy:"
   ]
  },
  {
   "cell_type": "code",
   "execution_count": 43,
   "metadata": {},
   "outputs": [
    {
     "name": "stdout",
     "output_type": "stream",
     "text": [
      "[2. 1.]\n"
     ]
    }
   ],
   "source": [
    "A = np.array([[1e-20, 1], [1, 2]])\n",
    "b = np.array([1, 4])\n",
    "\n",
    "x = np.linalg.solve(A, b)\n",
    "print (x)"
   ]
  },
  {
   "cell_type": "markdown",
   "metadata": {},
   "source": [
    "**Example**\n",
    "\n",
    "Solve the following linear system\n",
    "\\begin{align}\n",
    " (1 + 10^{-20})x_1 + x_2 & = 2 + 10^{-20} \\\\\n",
    " x_1 + x_2 & = 2\n",
    "\\end{align}"
   ]
  },
  {
   "cell_type": "code",
   "execution_count": 44,
   "metadata": {},
   "outputs": [
    {
     "name": "stdout",
     "output_type": "stream",
     "text": [
      "[0. 2.]\n"
     ]
    }
   ],
   "source": [
    "A = np.array([[1e-20, 1], [1, 1]])\n",
    "b = np.array([2+1e-20, 2])\n",
    "\n",
    "x = np.linalg.solve(A, b)\n",
    "print (x)"
   ]
  }
 ],
 "metadata": {
  "kernelspec": {
   "display_name": "Python 3",
   "language": "python",
   "name": "python3"
  },
  "language_info": {
   "codemirror_mode": {
    "name": "ipython",
    "version": 3
   },
   "file_extension": ".py",
   "mimetype": "text/x-python",
   "name": "python",
   "nbconvert_exporter": "python",
   "pygments_lexer": "ipython3",
   "version": "3.7.5"
  }
 },
 "nbformat": 4,
 "nbformat_minor": 2
}
