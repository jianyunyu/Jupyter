{
 "cells": [
  {
   "cell_type": "markdown",
   "metadata": {},
   "source": [
    "# The Direct Method for Solving Linear Systems"
   ]
  },
  {
   "cell_type": "code",
   "execution_count": 1,
   "metadata": {
    "pycharm": {
     "is_executing": false
    }
   },
   "outputs": [],
   "source": [
    "import numpy as np\n",
    "from scipy.linalg import lu"
   ]
  },
  {
   "cell_type": "markdown",
   "metadata": {},
   "source": [
    "## Gaussian Elimination\n",
    "\n",
    "The simplest version of Gaussian Elimination only involves two operations as follows:\n",
    "* Add or substrct a muliple of one equation from another.\n",
    "* Multiply an equation by a nonzero constant.\n",
    "\n",
    "### Solving a linear system by Gaussian elimination\n",
    "The general form of a linear system for $n$ equations in $n$ unknown can be wriiten as \n",
    "\n",
    "To solve this linear system by Gaussian elimination \n",
    "1. Using the allowed row operations to eliminate the system to an upper triangular system\n",
    "\n",
    "2. Using the back substituion (backsolving) to solve the upper triangular system"
   ]
  },
  {
   "cell_type": "markdown",
   "metadata": {},
   "source": [
    "**Example**\n",
    "\n",
    "Using Gaussian elimination to solve the following linear system\n",
    "\\begin{align}\n",
    " 10^{-20}x_1 + x_2 & = 1 \\\\\n",
    " x_1 + 2x_2 & = 4\n",
    "\\end{align}\n",
    "The argumented matrix reads\n",
    "\\begin{pmatrix}\n",
    "10^{-20} & 1 & 1 \\\\\n",
    "1 & 2 & 4\n",
    "\\end{pmatrix}\n",
    "\n",
    "1. Elimination: $\\text{Row}_2 = \\text{Row}_2 - 10^{20}\\times\\text{Row}_1$ "
   ]
  },
  {
   "cell_type": "code",
   "execution_count": 34,
   "metadata": {
    "pycharm": {
     "is_executing": false
    }
   },
   "outputs": [
    {
     "name": "stdout",
     "output_type": "stream",
     "text": [
      "[ 0.e+00 -1.e+20 -1.e+20]\n"
     ]
    }
   ],
   "source": [
    "A = np.array([[1e-20, 1, 1], [1, 2, 4]])\n",
    "A[1] = A[1] - 10**20*A[0]\n",
    "print (A[1])"
   ]
  },
  {
   "cell_type": "markdown",
   "metadata": {},
   "source": [
    "2. The echelon form of the argumented matrix reads\n",
    "\\begin{pmatrix}\n",
    "10^{-20} & 1 & 1 \\\\\n",
    "0 & -10^{20} & -10^{20}\n",
    "\\end{pmatrix}\n",
    "3. Using the back substituion, the solution is \n",
    "$$ x_2 = 1,\\qquad x_1 = 0.$$"
   ]
  },
  {
   "cell_type": "markdown",
   "metadata": {},
   "source": [
    "**Example** (Hilbert Matrix)\n",
    "\n",
    "The $n\\times n$ Hilbert Matrix $H_n$ is defined as follows:\n",
    "$$\n",
    "H_n = \\begin{pmatrix}{1} & {1 / 2} & {1 / 3} & {\\cdots} & {1 / n} \\\\ {1 / 2} & {1 / 3} & {1 / 4} & {\\cdots} & {1 /(n+1)} \\\\ {1 / 3} & {1 / 4} & {1 / 5} & {\\cdots} & {1 /(n+2)} \\\\ {\\cdots} & {\\cdots} & {\\cdots} & {\\cdots} & {\\cdots} \\\\ {1 / n} & {1 /(n+1)} & {1 /(n+2)} & {\\cdots} & {1 /(2 n-1)}\\end{pmatrix}\n",
    "$$\n",
    "\n",
    "Solving the linear system  \n",
    "$$ H_n x = b$$\n",
    "with \n",
    "$$ b = H_n \\cdot\\begin{pmatrix}1 \\\\ 1 \\\\ \\vdots \\\\ 1\\end{pmatrix} $$\n",
    "for $n = 5, 10, 20$\n",
    "* The exact solution is $x = \\begin{pmatrix}1 \\\\ 1 \\\\ \\vdots \\\\ 1\\end{pmatrix} $"
   ]
  },
  {
   "cell_type": "code",
   "execution_count": 31,
   "metadata": {},
   "outputs": [],
   "source": [
    "def hil(n):\n",
    "    A = np.empty([n, n])\n",
    "    for i in range(n):\n",
    "        for j in range(n):\n",
    "            A[i,j] = 1/(i+j+1)\n",
    "    return A\n",
    "\n",
    "def hil_example(n):\n",
    "    A = hil(n)\n",
    "    x_exact = np.zeros(n) + 1.\n",
    "    b = np.dot(A, x_exact)\n",
    "    x = np.linalg.solve(A, b)\n",
    "    \n",
    "    print (\"The Hilbert Example\")\n",
    "    print (\"Exact Solution: \", x_exact)\n",
    "    print (\"Numerical Solution: \", x)\n",
    "    print (\"Max Norm Error: \", np.max(x_exact - x))"
   ]
  },
  {
   "cell_type": "code",
   "execution_count": 33,
   "metadata": {},
   "outputs": [
    {
     "name": "stdout",
     "output_type": "stream",
     "text": [
      "The Hilbert Example\n",
      "Exact Solution:  [1. 1. 1. 1. 1. 1. 1. 1. 1. 1. 1. 1. 1. 1. 1. 1. 1. 1. 1. 1.]\n",
      "Numerical Solution:  [  0.99999973   1.00004237   0.99835796   1.02792418   0.73952115\n",
      "   2.49989561  -4.7311483   16.23893703 -28.01643331  40.83944684\n",
      " -38.14836844  31.73258932 -33.33827867  55.58369907 -52.73705463\n",
      "   4.75778788  52.47961466 -55.3242817   27.11720184  -3.7194526 ]\n",
      "Max Norm Error:  56.32428169603723\n"
     ]
    }
   ],
   "source": [
    "n = 20\n",
    "#A = hil(n)\n",
    "#print (A, '\\n')\n",
    "\n",
    "hil_example(n)"
   ]
  },
  {
   "cell_type": "code",
   "execution_count": 3,
   "metadata": {
    "pycharm": {
     "is_executing": false
    }
   },
   "outputs": [
    {
     "data": {
      "text/plain": [
       "(array([[0., 1., 0., 0.],\n",
       "        [0., 0., 0., 1.],\n",
       "        [1., 0., 0., 0.],\n",
       "        [0., 0., 1., 0.]]),\n",
       " array([[ 1.        ,  0.        ,  0.        ,  0.        ],\n",
       "        [ 0.28571429,  1.        ,  0.        ,  0.        ],\n",
       "        [ 0.71428571,  0.12      ,  1.        ,  0.        ],\n",
       "        [ 0.71428571, -0.44      , -0.46153846,  1.        ]]),\n",
       " array([[ 7.        ,  5.        ,  6.        ,  6.        ],\n",
       "        [ 0.        ,  3.57142857,  6.28571429,  5.28571429],\n",
       "        [ 0.        ,  0.        , -1.04      ,  3.08      ],\n",
       "        [ 0.        ,  0.        ,  0.        ,  7.46153846]]))"
      ]
     },
     "execution_count": 3,
     "metadata": {},
     "output_type": "execute_result"
    }
   ],
   "source": [
    "lu(A)"
   ]
  },
  {
   "cell_type": "code",
   "execution_count": 4,
   "metadata": {
    "pycharm": {
     "is_executing": false
    }
   },
   "outputs": [],
   "source": [
    "P, L, U = lu(A)"
   ]
  },
  {
   "cell_type": "code",
   "execution_count": 5,
   "metadata": {
    "pycharm": {
     "is_executing": false
    }
   },
   "outputs": [
    {
     "data": {
      "text/plain": [
       "array([[0., 0., 1., 0.],\n",
       "       [1., 0., 0., 0.],\n",
       "       [0., 0., 0., 1.],\n",
       "       [0., 1., 0., 0.]])"
      ]
     },
     "execution_count": 5,
     "metadata": {},
     "output_type": "execute_result"
    }
   ],
   "source": [
    "np.linalg.inv(P)"
   ]
  },
  {
   "cell_type": "code",
   "execution_count": 6,
   "metadata": {
    "pycharm": {
     "is_executing": false
    }
   },
   "outputs": [],
   "source": [
    "P = np.array([[0, 1, 0], [0, 0, 1], [1, 0, 0]])"
   ]
  },
  {
   "cell_type": "code",
   "execution_count": 7,
   "metadata": {
    "pycharm": {
     "is_executing": false
    }
   },
   "outputs": [
    {
     "name": "stdout",
     "output_type": "stream",
     "text": [
      "[[0 1 0]\n",
      " [0 0 1]\n",
      " [1 0 0]]\n"
     ]
    },
    {
     "data": {
      "text/plain": [
       "array([[0., 0., 1.],\n",
       "       [1., 0., 0.],\n",
       "       [0., 1., 0.]])"
      ]
     },
     "execution_count": 7,
     "metadata": {},
     "output_type": "execute_result"
    }
   ],
   "source": [
    "print(P)\n",
    "np.linalg.inv(P)"
   ]
  },
  {
   "cell_type": "code",
   "execution_count": 8,
   "metadata": {
    "pycharm": {
     "is_executing": false
    }
   },
   "outputs": [
    {
     "data": {
      "text/plain": [
       "array([[0, 0, 1],\n",
       "       [1, 0, 0],\n",
       "       [0, 1, 0]])"
      ]
     },
     "execution_count": 8,
     "metadata": {},
     "output_type": "execute_result"
    }
   ],
   "source": [
    "np.dot(P,P)"
   ]
  },
  {
   "cell_type": "markdown",
   "metadata": {},
   "source": [
    "**Example**\n",
    "\\begin{align*}\n",
    "    0.0003 x_1  + 1.566 x_2 & = 1.569 \\\\\n",
    "    0.3454 x_1  - 2.436 x_2 & = 1.018\n",
    "\\end{align*}"
   ]
  },
  {
   "cell_type": "code",
   "execution_count": 9,
   "metadata": {
    "pycharm": {
     "is_executing": false
    }
   },
   "outputs": [
    {
     "data": {
      "text/plain": [
       "4.780000000000525"
      ]
     },
     "execution_count": 9,
     "metadata": {},
     "output_type": "execute_result"
    }
   ],
   "source": [
    "A = np.array([[0.0003, 1.566, 1.569], [0.3454, -2.436, 1.018]])\n",
    "(1.569 - 1.566*1.001)/0.0003"
   ]
  },
  {
   "cell_type": "code",
   "execution_count": 10,
   "metadata": {
    "pycharm": {
     "is_executing": false
    }
   },
   "outputs": [
    {
     "data": {
      "text/plain": [
       "array([10.,  1.])"
      ]
     },
     "execution_count": 10,
     "metadata": {},
     "output_type": "execute_result"
    }
   ],
   "source": [
    "A = np.array([[0.0003, 1.566], [0.3454, -2.436]])\n",
    "b = np.array([1.569, 1.018])\n",
    "np.linalg.solve(A,b)"
   ]
  },
  {
   "cell_type": "code",
   "execution_count": 13,
   "metadata": {
    "pycharm": {
     "is_executing": false
    }
   },
   "outputs": [
    {
     "data": {
      "text/plain": [
       "array([ 0.e+00, -1.e+20, -1.e+20])"
      ]
     },
     "execution_count": 13,
     "metadata": {},
     "output_type": "execute_result"
    }
   ],
   "source": [
    "A = np.array([[1e-20, 1, 1], [1, 2, 4]])\n",
    "A[1] = A[1] - 1e20*A[0]\n",
    "A[1]"
   ]
  },
  {
   "cell_type": "code",
   "execution_count": 15,
   "metadata": {},
   "outputs": [
    {
     "data": {
      "text/plain": [
       "array([2., 1.])"
      ]
     },
     "execution_count": 15,
     "metadata": {},
     "output_type": "execute_result"
    }
   ],
   "source": [
    "A = np.array([[1e-20, 1],[1, 2]])\n",
    "b = np.array([1, 4])\n",
    "np.linalg.solve(A,b)"
   ]
  },
  {
   "cell_type": "code",
   "execution_count": 16,
   "metadata": {},
   "outputs": [
    {
     "data": {
      "text/plain": [
       "(array([[0., 1.],\n",
       "        [1., 0.]]), array([[1.e+00, 0.e+00],\n",
       "        [1.e-20, 1.e+00]]), array([[1., 2.],\n",
       "        [0., 1.]]))"
      ]
     },
     "execution_count": 16,
     "metadata": {},
     "output_type": "execute_result"
    }
   ],
   "source": [
    "lu(A)"
   ]
  },
  {
   "cell_type": "code",
   "execution_count": null,
   "metadata": {},
   "outputs": [],
   "source": [
    " "
   ]
  }
 ],
 "metadata": {
  "kernelspec": {
   "display_name": "Python 3",
   "language": "python",
   "name": "python3"
  },
  "language_info": {
   "codemirror_mode": {
    "name": "ipython",
    "version": 3
   },
   "file_extension": ".py",
   "mimetype": "text/x-python",
   "name": "python",
   "nbconvert_exporter": "python",
   "pygments_lexer": "ipython3",
   "version": "3.7.3"
  }
 },
 "nbformat": 4,
 "nbformat_minor": 2
}
