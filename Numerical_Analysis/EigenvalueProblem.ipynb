{
 "cells": [
  {
   "cell_type": "markdown",
   "metadata": {},
   "source": [
    "# Eigenvalue Problems"
   ]
  },
  {
   "cell_type": "markdown",
   "metadata": {},
   "source": [
    "## Power Iteration"
   ]
  },
  {
   "cell_type": "code",
   "execution_count": 1,
   "metadata": {},
   "outputs": [],
   "source": [
    "import numpy as np\n",
    "%matplotlib inline\n",
    "%config InlineBackend.figure_format = 'retina'\n",
    "import matplotlib.pyplot as plt\n",
    "from ipywidgets import interact, interactive, fixed, interact_manual\n",
    "import ipywidgets as widgets\n",
    "from IPython.display import clear_output, display, Math"
   ]
  },
  {
   "cell_type": "code",
   "execution_count": 2,
   "metadata": {},
   "outputs": [],
   "source": [
    "def Power_Iter(A, x0, iters):\n",
    "    x = np.copy(x0)\n",
    "    print ('Spectral Radius:')\n",
    "    for i in range(iters):\n",
    "        u = x/np.linalg.norm(x,2)\n",
    "        x = np.dot(A, u)\n",
    "        lam = np.dot(u,x)\n",
    "        #if (i < iters-1):\n",
    "        print ('iter %2d, %12.8f' % (i+1, lam))\n",
    "    u = x/np.linalg.norm(x,2)\n",
    "    print (u)\n",
    "    #return lam, u"
   ]
  },
  {
   "cell_type": "markdown",
   "metadata": {},
   "source": [
    "**Example** For\n",
    "$$\n",
    "  A = \\left[\\begin{array}{ccc} 1& 1 & 0.5 \\\\ 1 & 1 & 0.25 \\\\ 0.5 & 0.25 & 2\\end{array}\\right]\n",
    "$$\n",
    "computing $\\rho(A)$ by Power Iteration."
   ]
  },
  {
   "cell_type": "code",
   "execution_count": 3,
   "metadata": {},
   "outputs": [
    {
     "name": "stdout",
     "output_type": "stream",
     "text": [
      "The build in answer: \n"
     ]
    },
    {
     "data": {
      "text/plain": [
       "(array([-0.01664728,  2.53652586,  1.48012142]),\n",
       " array([[ 0.72120713, -0.53148341, -0.44428106],\n",
       "        [-0.68634929, -0.46147335, -0.56210942],\n",
       "        [-0.09372796, -0.71032931,  0.69760113]]))"
      ]
     },
     "execution_count": 3,
     "metadata": {},
     "output_type": "execute_result"
    }
   ],
   "source": [
    "A = np.array([[1, 1, 0.5],[1,1,0.25],[0.5,0.25,2]])\n",
    "x0 = np.array([1,1,1])\n",
    "print (\"The build in answer: \")\n",
    "np.linalg.eig(A)"
   ]
  },
  {
   "cell_type": "code",
   "execution_count": 4,
   "metadata": {},
   "outputs": [
    {
     "data": {
      "application/vnd.jupyter.widget-view+json": {
       "model_id": "c5f6085c091b49efbb3c65b20048b611",
       "version_major": 2,
       "version_minor": 0
      },
      "text/plain": [
       "interactive(children=(IntSlider(value=0, description='iters', max=20), Output()), _dom_classes=('widget-intera…"
      ]
     },
     "metadata": {},
     "output_type": "display_data"
    }
   ],
   "source": [
    "w = interactive(Power_Iter, A=fixed(A), x0=fixed(x0), iters=widgets.IntSlider(min=0,max=20,value=0))\n",
    "display(w)"
   ]
  },
  {
   "cell_type": "markdown",
   "metadata": {},
   "source": [
    "## Inverse Power Iteration"
   ]
  },
  {
   "cell_type": "code",
   "execution_count": 11,
   "metadata": {},
   "outputs": [],
   "source": [
    "def Inverse_Power(A, x0, s, iters):\n",
    "    x = np.copy(x0)\n",
    "    print ('The eigenvalue:')\n",
    "    for i in range(iters):\n",
    "        u = x/np.linalg.norm(x,2)\n",
    "        x = np.linalg.solve(A-s*np.eye(np.size(x0)), u)\n",
    "        lam = np.dot(u,x)\n",
    "        if (i < iters-1):\n",
    "            print ('iter %2d, %12.8f' % (i+1, 1/lam + s))\n",
    "    u = x/np.linalg.norm(x,2)\n",
    "    print (u)\n",
    "    #return 1/lam+s, u"
   ]
  },
  {
   "cell_type": "markdown",
   "metadata": {},
   "source": [
    "**Example** For\n",
    "$$\n",
    "  A = \\left[\\begin{array}{ccc} 2& 1 & 0 \\\\ 1 & 3 & 1 \\\\ 0 & 1 & 4\\end{array}\\right]\n",
    "$$\n",
    "Finding the eigenvalue of $A$ nearest to the real number $1.2679$ (the exact eigenvalue is $\\lambda_3 = 3 - \\sqrt{3}$), and the associated eigenvector."
   ]
  },
  {
   "cell_type": "code",
   "execution_count": 13,
   "metadata": {},
   "outputs": [
    {
     "data": {
      "text/plain": [
       "(array([1.26794919, 3.        , 4.73205081]),\n",
       " array([[-0.78867513, -0.57735027,  0.21132487],\n",
       "        [ 0.57735027, -0.57735027,  0.57735027],\n",
       "        [-0.21132487,  0.57735027,  0.78867513]]))"
      ]
     },
     "execution_count": 13,
     "metadata": {},
     "output_type": "execute_result"
    }
   ],
   "source": [
    "A = np.array([[2, 1, 0],[1,3,1],[0,1,4]])\n",
    "x0 = np.array([1,1,1])\n",
    "np.linalg.eig(A)"
   ]
  },
  {
   "cell_type": "code",
   "execution_count": 14,
   "metadata": {},
   "outputs": [
    {
     "data": {
      "application/vnd.jupyter.widget-view+json": {
       "model_id": "2392283a85ee4930946947a300f2f936",
       "version_major": 2,
       "version_minor": 0
      },
      "text/html": [
       "<p>Failed to display Jupyter Widget of type <code>interactive</code>.</p>\n",
       "<p>\n",
       "  If you're reading this message in the Jupyter Notebook or JupyterLab Notebook, it may mean\n",
       "  that the widgets JavaScript is still loading. If this message persists, it\n",
       "  likely means that the widgets JavaScript library is either not installed or\n",
       "  not enabled. See the <a href=\"https://ipywidgets.readthedocs.io/en/stable/user_install.html\">Jupyter\n",
       "  Widgets Documentation</a> for setup instructions.\n",
       "</p>\n",
       "<p>\n",
       "  If you're reading this message in another frontend (for example, a static\n",
       "  rendering on GitHub or <a href=\"https://nbviewer.jupyter.org/\">NBViewer</a>),\n",
       "  it may mean that your frontend doesn't currently support widgets.\n",
       "</p>\n"
      ],
      "text/plain": [
       "interactive(children=(IntSlider(value=0, description='iters', max=40), Output()), _dom_classes=('widget-interact',))"
      ]
     },
     "metadata": {},
     "output_type": "display_data"
    }
   ],
   "source": [
    "w = interactive(Power_Iter, A=fixed(A), x0=fixed(x0), iters=widgets.IntSlider(min=0,max=40,value=0))\n",
    "display(w)"
   ]
  },
  {
   "cell_type": "code",
   "execution_count": 15,
   "metadata": {},
   "outputs": [
    {
     "data": {
      "application/vnd.jupyter.widget-view+json": {
       "model_id": "8a435245002b4a6589149f824a6ebf51",
       "version_major": 2,
       "version_minor": 0
      },
      "text/html": [
       "<p>Failed to display Jupyter Widget of type <code>interactive</code>.</p>\n",
       "<p>\n",
       "  If you're reading this message in the Jupyter Notebook or JupyterLab Notebook, it may mean\n",
       "  that the widgets JavaScript is still loading. If this message persists, it\n",
       "  likely means that the widgets JavaScript library is either not installed or\n",
       "  not enabled. See the <a href=\"https://ipywidgets.readthedocs.io/en/stable/user_install.html\">Jupyter\n",
       "  Widgets Documentation</a> for setup instructions.\n",
       "</p>\n",
       "<p>\n",
       "  If you're reading this message in another frontend (for example, a static\n",
       "  rendering on GitHub or <a href=\"https://nbviewer.jupyter.org/\">NBViewer</a>),\n",
       "  it may mean that your frontend doesn't currently support widgets.\n",
       "</p>\n"
      ],
      "text/plain": [
       "interactive(children=(IntSlider(value=0, description='iters', max=20), Output()), _dom_classes=('widget-interact',))"
      ]
     },
     "metadata": {},
     "output_type": "display_data"
    }
   ],
   "source": [
    "s = 1.25\n",
    "w = interactive(Inverse_Power, A=fixed(A), x0=fixed(x0), s=fixed(s), iters=widgets.IntSlider(min=0,max=20,value=0))\n",
    "display(w)"
   ]
  },
  {
   "cell_type": "code",
   "execution_count": 16,
   "metadata": {},
   "outputs": [],
   "source": [
    "def Rayleigh_Iter(A, x0, iters):\n",
    "    x = np.copy(x0)\n",
    "    print ('The eigenvalue:')\n",
    "    for i in range(iters):\n",
    "        u = x/np.linalg.norm(x,2)\n",
    "        lam = np.dot(u,np.dot(A,u))\n",
    "        x = np.linalg.solve(A-lam*np.eye(np.size(x0)), u)\n",
    "        if (i < iters-1):\n",
    "            print ('iter %2d, %12.8f' % (i+1, lam))\n",
    "    u = x/np.linalg.norm(x,2)\n",
    "    print (u)"
   ]
  },
  {
   "cell_type": "code",
   "execution_count": 17,
   "metadata": {},
   "outputs": [
    {
     "data": {
      "application/vnd.jupyter.widget-view+json": {
       "model_id": "1c6ab277a3114d12ac382a5ea80eaa1d",
       "version_major": 2,
       "version_minor": 0
      },
      "text/html": [
       "<p>Failed to display Jupyter Widget of type <code>interactive</code>.</p>\n",
       "<p>\n",
       "  If you're reading this message in the Jupyter Notebook or JupyterLab Notebook, it may mean\n",
       "  that the widgets JavaScript is still loading. If this message persists, it\n",
       "  likely means that the widgets JavaScript library is either not installed or\n",
       "  not enabled. See the <a href=\"https://ipywidgets.readthedocs.io/en/stable/user_install.html\">Jupyter\n",
       "  Widgets Documentation</a> for setup instructions.\n",
       "</p>\n",
       "<p>\n",
       "  If you're reading this message in another frontend (for example, a static\n",
       "  rendering on GitHub or <a href=\"https://nbviewer.jupyter.org/\">NBViewer</a>),\n",
       "  it may mean that your frontend doesn't currently support widgets.\n",
       "</p>\n"
      ],
      "text/plain": [
       "interactive(children=(IntSlider(value=0, description='iters', max=40), Output()), _dom_classes=('widget-interact',))"
      ]
     },
     "metadata": {},
     "output_type": "display_data"
    }
   ],
   "source": [
    "w = interactive(Power_Iter, A=fixed(A), x0=fixed(x0), iters=widgets.IntSlider(min=0,max=40,value=0))\n",
    "display(w)"
   ]
  },
  {
   "cell_type": "code",
   "execution_count": 18,
   "metadata": {},
   "outputs": [
    {
     "data": {
      "application/vnd.jupyter.widget-view+json": {
       "model_id": "adf73b5ab5f94baa9ed2bd33020a8653",
       "version_major": 2,
       "version_minor": 0
      },
      "text/html": [
       "<p>Failed to display Jupyter Widget of type <code>interactive</code>.</p>\n",
       "<p>\n",
       "  If you're reading this message in the Jupyter Notebook or JupyterLab Notebook, it may mean\n",
       "  that the widgets JavaScript is still loading. If this message persists, it\n",
       "  likely means that the widgets JavaScript library is either not installed or\n",
       "  not enabled. See the <a href=\"https://ipywidgets.readthedocs.io/en/stable/user_install.html\">Jupyter\n",
       "  Widgets Documentation</a> for setup instructions.\n",
       "</p>\n",
       "<p>\n",
       "  If you're reading this message in another frontend (for example, a static\n",
       "  rendering on GitHub or <a href=\"https://nbviewer.jupyter.org/\">NBViewer</a>),\n",
       "  it may mean that your frontend doesn't currently support widgets.\n",
       "</p>\n"
      ],
      "text/plain": [
       "interactive(children=(IntSlider(value=0, description='iters', max=20), Output()), _dom_classes=('widget-interact',))"
      ]
     },
     "metadata": {},
     "output_type": "display_data"
    }
   ],
   "source": [
    "w = interactive(Rayleigh_Iter, A=fixed(A), x0=fixed(x0), iters=widgets.IntSlider(min=0,max=20,value=0))\n",
    "display(w)"
   ]
  },
  {
   "cell_type": "code",
   "execution_count": null,
   "metadata": {},
   "outputs": [],
   "source": []
  }
 ],
 "metadata": {
  "kernelspec": {
   "display_name": "Python 3",
   "language": "python",
   "name": "python3"
  },
  "language_info": {
   "codemirror_mode": {
    "name": "ipython",
    "version": 3
   },
   "file_extension": ".py",
   "mimetype": "text/x-python",
   "name": "python",
   "nbconvert_exporter": "python",
   "pygments_lexer": "ipython3",
   "version": "3.7.3"
  },
  "toc": {
   "base_numbering": 1,
   "nav_menu": {},
   "number_sections": true,
   "sideBar": true,
   "skip_h1_title": false,
   "title_cell": "Table of Contents",
   "title_sidebar": "Contents",
   "toc_cell": false,
   "toc_position": {},
   "toc_section_display": true,
   "toc_window_display": false
  }
 },
 "nbformat": 4,
 "nbformat_minor": 2
}
