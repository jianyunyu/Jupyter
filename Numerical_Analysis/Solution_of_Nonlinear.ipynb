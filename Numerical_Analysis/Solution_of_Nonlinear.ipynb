{
 "cells": [
  {
   "cell_type": "markdown",
   "metadata": {},
   "source": [
    "# The Solution of Nonlinear Equations\n",
    "One of the most frequently occurring problems in scientific work is to find the roots of equations of the form\n",
    "\\begin{equation}\n",
    "    f(x) = 0,\n",
    "\\end{equation}\n",
    "i.e., zeros of the function $f(x)$."
   ]
  },
  {
   "cell_type": "markdown",
   "metadata": {},
   "source": [
    "## The Bisection Method\n",
    "The first step to solving an equation is to verify that a root exists.\n",
    "### Theorem\n",
    "   Let $f$ be a continuous function on $[a, b]$, satisfying $f(a)f(b) < 0$. Then $f$ has a root between $a$ and $b$, that is, there exists a number $x^{*}$ satisfying $a < x^{*} < b$ and $f(x^{*}) = 0$.\n",
    "\n",
    "### Bisection Method \n",
    "**Algorithm:**\n",
    "```python\n",
    "    Given initial interval [a, b] such that f (a)f (b) < 0 \n",
    "    while (b − a)/2 > TOL:\n",
    "        c = (a + b)/2\n",
    "    if f (c) = 0:\n",
    "        stop \n",
    "    if f(a)f(c) < 0:\n",
    "        b=c \n",
    "    else:\n",
    "        a=c\n",
    "    The final interval [a,b] contains a root. \n",
    "    The approximate root is (a + b)/2.\n",
    "```\n",
    "\n",
    "**Python implementation:**"
   ]
  },
  {
   "cell_type": "code",
   "execution_count": 61,
   "metadata": {},
   "outputs": [],
   "source": [
    "# environment setting, before any codes\n",
    "import numpy as np\n",
    "%matplotlib inline\n",
    "%config InlineBackend.figure_format = 'retina'\n",
    "import matplotlib.pyplot as plt\n",
    "from ipywidgets import interact, interactive, fixed, interact_manual\n",
    "import ipywidgets as widgets\n",
    "from IPython.display import clear_output, display"
   ]
  },
  {
   "cell_type": "code",
   "execution_count": 62,
   "metadata": {},
   "outputs": [],
   "source": [
    "def bisect(f, a, b, tol):\n",
    "    if (np.sign(f(a)*f(b)) >= 0):      # wrong input\n",
    "        print ('$f(a)f(b) <0$ not satisfied')\n",
    "        return\n",
    "    fa = f(a) \n",
    "    fb = f(b)\n",
    "    while ((b - a)/2) > tol:\n",
    "        c = (a + b)/2;\n",
    "        fc = f(c)\n",
    "        if fc == 0:                 # c is a solution, done\n",
    "            return c \n",
    "        if (np.sign(fc*fa) < 0):       # new interval [a, c]\n",
    "            b = c; \n",
    "            fb = fc\n",
    "        else:                       # new interval [c, b]\n",
    "            a = c\n",
    "            fa = fc\n",
    "    return (a + b)/2                #new midpoint is best estimate"
   ]
  },
  {
   "cell_type": "markdown",
   "metadata": {},
   "source": [
    "**Demonstration version:**"
   ]
  },
  {
   "cell_type": "code",
   "execution_count": 63,
   "metadata": {},
   "outputs": [],
   "source": [
    "def bisect_iters(f, a, b, iters):\n",
    "    fa = f(a) \n",
    "    fb = f(b)\n",
    "    \n",
    "    x = np.zeros(iters+1)\n",
    "    for i in range(iters):\n",
    "        c = (a + b)/2\n",
    "        x[i] = c\n",
    "        fc = f(c)\n",
    "        if fc == 0:                 # c is a solution, done\n",
    "            return c \n",
    "        if (np.sign(fc*fa) < 0):       # new interval [a, c]\n",
    "            b = c; \n",
    "            fb = fc\n",
    "        else:                       # new interval [c, b]\n",
    "            a = c\n",
    "            fa = fc\n",
    "    x[iters] = (a + b)/2       \n",
    "    return x              #new midpoint is best estimate"
   ]
  },
  {
   "cell_type": "code",
   "execution_count": 64,
   "metadata": {},
   "outputs": [],
   "source": [
    "def fun(x):\n",
    "    return np.exp(-x) - np.sin(np.pi/2*x)"
   ]
  },
  {
   "cell_type": "code",
   "execution_count": 66,
   "metadata": {},
   "outputs": [
    {
     "name": "stdout",
     "output_type": "stream",
     "text": [
      "Reference Solution:  0.4435735341042957\n",
      "no.    solution    error bound    error\n",
      "  0  0.5000000000   5.00e-01    5.64e-02\n",
      "  1  0.2500000000   2.50e-01    1.94e-01\n",
      "  2  0.3750000000   1.25e-01    6.86e-02\n",
      "  3  0.4375000000   6.25e-02    6.07e-03\n",
      "  4  0.4687500000   3.12e-02    2.52e-02\n",
      "  5  0.4531250000   1.56e-02    9.55e-03\n",
      "  6  0.4453125000   7.81e-03    1.74e-03\n",
      "  7  0.4414062500   3.91e-03    2.17e-03\n",
      "  8  0.4433593750   1.95e-03    2.14e-04\n",
      "  9  0.4443359375   9.77e-04    7.62e-04\n",
      " 10  0.4438476562   4.88e-04    2.74e-04\n"
     ]
    },
    {
     "data": {
      "image/png": "[encoded data removed]",
      "text/plain": [
       "<matplotlib.figure.Figure at 0x103f6c198>"
      ]
     },
     "metadata": {
      "image/png": {
       "height": 252,
       "width": 388
      }
     },
     "output_type": "display_data"
    }
   ],
   "source": [
    "def Iteration_demo(f, a, b, iters):\n",
    "    x = np.linspace(a, b, 1000)\n",
    "    plt.plot(x, f(x), 'k', linewidth=2)\n",
    "    plt.plot(x, 0*x, 'k-.', linewidth=2)\n",
    "    x = bisect_iters(f, a, b, iters)\n",
    "    x_ref = bisect(f, a, b, 1.e-14)\n",
    "    \n",
    "    #print (x)\n",
    "    plt.xlim(0,1)\n",
    "    plt.ylim(-0.6,1)\n",
    "    for i in range(iters+1):\n",
    "        plt.plot(x, f(x), 'r*', linewidth=2)\n",
    "    \n",
    "    print ('Reference Solution: ', x_ref)\n",
    "    print ('no.    solution    error bound    error')\n",
    "    for i in range(iters+1):\n",
    "        print (\"%3d  %12.10f   %7.2e    %7.2e\" % \\\n",
    "                   (i, x[i], (b-a)/2**(i+1), np.abs(x_ref - x[i])))\n",
    "    \n",
    "        \n",
    "a = 0\n",
    "b = 1\n",
    "Iteration_demo(fun, a, b, 10)\n"
   ]
  },
  {
   "cell_type": "code",
   "execution_count": 67,
   "metadata": {},
   "outputs": [
    {
     "data": {
      "application/vnd.jupyter.widget-view+json": {
       "model_id": "7cc245a8e4de46899c757db9c3da720a",
       "version_major": 2,
       "version_minor": 0
      },
      "text/html": [
       "<p>Failed to display Jupyter Widget of type <code>interactive</code>.</p>\n",
       "<p>\n",
       "  If you're reading this message in the Jupyter Notebook or JupyterLab Notebook, it may mean\n",
       "  that the widgets JavaScript is still loading. If this message persists, it\n",
       "  likely means that the widgets JavaScript library is either not installed or\n",
       "  not enabled. See the <a href=\"https://ipywidgets.readthedocs.io/en/stable/user_install.html\">Jupyter\n",
       "  Widgets Documentation</a> for setup instructions.\n",
       "</p>\n",
       "<p>\n",
       "  If you're reading this message in another frontend (for example, a static\n",
       "  rendering on GitHub or <a href=\"https://nbviewer.jupyter.org/\">NBViewer</a>),\n",
       "  it may mean that your frontend doesn't currently support widgets.\n",
       "</p>\n"
      ],
      "text/plain": [
       "interactive(children=(IntSlider(value=1, description='iters', max=20), Output()), _dom_classes=('widget-interact',))"
      ]
     },
     "metadata": {},
     "output_type": "display_data"
    }
   ],
   "source": [
    "w = interactive(Iteration_demo, f=fixed(fun), a=fixed(0), b=fixed(1), iters=widgets.IntSlider(min=0,max=20,value=1))\n",
    "display(w)"
   ]
  },
  {
   "cell_type": "code",
   "execution_count": null,
   "metadata": {},
   "outputs": [],
   "source": []
  }
 ],
 "metadata": {
  "celltoolbar": "Edit Metadata",
  "kernelspec": {
   "display_name": "Python 3",
   "language": "python",
   "name": "python3"
  },
  "language_info": {
   "codemirror_mode": {
    "name": "ipython",
    "version": 3
   },
   "file_extension": ".py",
   "mimetype": "text/x-python",
   "name": "python",
   "nbconvert_exporter": "python",
   "pygments_lexer": "ipython3",
   "version": "3.6.4"
  }
 },
 "nbformat": 4,
 "nbformat_minor": 2
}
