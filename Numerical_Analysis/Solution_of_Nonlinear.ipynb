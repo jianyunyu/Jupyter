{
 "cells": [
  {
   "cell_type": "markdown",
   "metadata": {},
   "source": [
    "# The Solution of Nonlinear Equations\n",
    "\n",
    "<a rel=\"license\" href=\"http://creativecommons.org/licenses/by/4.0/\"><img alt=\"Creative Commons License\" style=\"border-width:0\" src=\"https://i.creativecommons.org/l/by/4.0/80x15.png\" /></a><br />This notebook by Xiaozhou Li is licensed under a <a rel=\"license\" href=\"http://creativecommons.org/licenses/by/4.0/\">Creative Commons Attribution 4.0 International License</a>.  \n",
    "All code examples are also licensed under the [MIT license](http://opensource.org/licenses/MIT)."
   ]
  },
  {
   "cell_type": "markdown",
   "metadata": {},
   "source": [
    "One of the most frequently occurring problems in scientific work is to find the roots of equations of the form\n",
    "\\begin{equation}\n",
    "    f(x) = 0,\n",
    "\\end{equation}\n",
    "i.e., zeros of the function $f(x)$."
   ]
  },
  {
   "cell_type": "markdown",
   "metadata": {},
   "source": [
    "## The Existence of Root\n",
    "The first step to solving an equation is to verify that a root exists.\n",
    "\n",
    "### Theorem\n",
    "   Let $f$ be a continuous function on $[a, b]$, satisfying $f(a)f(b) < 0$. Then $f$ has a root between $a$ and $b$, that is, there exists a number $x^{*}$ satisfying $a < x^{*} < b$ and $f(x^{*}) = 0$.\n",
    "   \n",
    "__Notes:__ \n",
    "* This theorem is just the simplest one for the existence of roots. "
   ]
  },
  {
   "cell_type": "markdown",
   "metadata": {},
   "source": [
    "## The Bisection Method\n",
    "Let us see one of the simplest root finding methods: the bisecion method.\n",
    "\n",
    "### Bisection Method \n",
    "**Algorithm:**\n",
    "```python\n",
    "    Given initial interval [a, b] such that f (a)f (b) < 0 \n",
    "    while (b − a)/2 > TOL:\n",
    "        c = (a + b)/2\n",
    "    if f (c) = 0:\n",
    "        stop \n",
    "    if f(a)f(c) < 0:\n",
    "        b=c \n",
    "    else:\n",
    "        a=c\n",
    "    The final interval [a,b] contains a root. \n",
    "    The approximate root is (a + b)/2.\n",
    "```\n",
    "\n",
    "**Python implementation:**"
   ]
  },
  {
   "cell_type": "code",
   "execution_count": 2,
   "metadata": {},
   "outputs": [],
   "source": [
    "# environment setting, before any codes\n",
    "import numpy as np\n",
    "%matplotlib inline\n",
    "%config InlineBackend.figure_format = 'retina'\n",
    "import matplotlib.pyplot as plt\n",
    "from ipywidgets import interact, interactive, fixed, interact_manual\n",
    "import ipywidgets as widgets\n",
    "from IPython.display import clear_output, display"
   ]
  },
  {
   "cell_type": "markdown",
   "metadata": {},
   "source": [
    "### The Python Code\n",
    "Here, we give the code of bisection method as follows:\n",
    "```python\n",
    "    def bisect(f, a, b, tol):\n",
    "```\n",
    "* $f$ is the function $f(x)$ \n",
    "* $a$ and $b$ are for the interval $[a, b]$\n",
    "* $tol$ is the tolerence error for the numerical solution. "
   ]
  },
  {
   "cell_type": "code",
   "execution_count": 3,
   "metadata": {},
   "outputs": [],
   "source": [
    "def bisect(f, a, b, tol):\n",
    "    if (np.sign(f(a)*f(b)) >= 0):      # wrong input\n",
    "        print ('$f(a)f(b) <0$ not satisfied')\n",
    "        return\n",
    "    fa = f(a) \n",
    "    fb = f(b)\n",
    "    while ((b - a)/2) > tol:\n",
    "        c = (a + b)/2;\n",
    "        fc = f(c)\n",
    "        if fc == 0:                 # c is a solution, done\n",
    "            return c \n",
    "        if (np.sign(fc*fa) < 0):       # new interval [a, c]\n",
    "            b = c; \n",
    "            fb = fc\n",
    "        else:                       # new interval [c, b]\n",
    "            a = c\n",
    "            fa = fc\n",
    "    return (a + b)/2                #new midpoint is best estimate"
   ]
  },
  {
   "cell_type": "markdown",
   "metadata": {},
   "source": [
    "### Demostration\n",
    "**Demonstration version:**"
   ]
  },
  {
   "cell_type": "code",
   "execution_count": 4,
   "metadata": {},
   "outputs": [],
   "source": [
    "def bisect_iters(f, a, b, iters):\n",
    "    fa = f(a) \n",
    "    fb = f(b)\n",
    "    \n",
    "    x = np.zeros(iters+1)\n",
    "    for i in range(iters):\n",
    "        c = (a + b)/2\n",
    "        x[i] = c\n",
    "        fc = f(c)\n",
    "        if fc == 0:                 # c is a solution, done\n",
    "            return c \n",
    "        if (np.sign(fc*fa) < 0):       # new interval [a, c]\n",
    "            b = c; \n",
    "            fb = fc\n",
    "        else:                       # new interval [c, b]\n",
    "            a = c\n",
    "            fa = fc\n",
    "    x[iters] = (a + b)/2       \n",
    "    return x              #new midpoint is best estimate"
   ]
  },
  {
   "cell_type": "markdown",
   "metadata": {},
   "source": [
    "**Exmaple**\n",
    "    Use Bisection Method to find the root of $f(x) = e^{-x} - \\sin\\left(\\frac{\\pi x}{2}\\right)$ on $[0,1]$."
   ]
  },
  {
   "cell_type": "code",
   "execution_count": 5,
   "metadata": {},
   "outputs": [],
   "source": [
    "def fun(x):\n",
    "    return np.exp(-x) - np.sin(np.pi/2*x)"
   ]
  },
  {
   "cell_type": "code",
   "execution_count": 6,
   "metadata": {},
   "outputs": [
    {
     "name": "stdout",
     "output_type": "stream",
     "text": [
      "Reference Solution:  0.4435735341042957\n",
      "no.    solution    error bound    error\n",
      "  0  0.5000000000   5.00e-01    5.64e-02\n",
      "  1  0.2500000000   2.50e-01    1.94e-01\n",
      "  2  0.3750000000   1.25e-01    6.86e-02\n",
      "  3  0.4375000000   6.25e-02    6.07e-03\n",
      "  4  0.4687500000   3.12e-02    2.52e-02\n",
      "  5  0.4531250000   1.56e-02    9.55e-03\n",
      "  6  0.4453125000   7.81e-03    1.74e-03\n",
      "  7  0.4414062500   3.91e-03    2.17e-03\n",
      "  8  0.4433593750   1.95e-03    2.14e-04\n",
      "  9  0.4443359375   9.77e-04    7.62e-04\n",
      " 10  0.4438476562   4.88e-04    2.74e-04\n"
     ]
    },
    {
     "data": {
      "image/png": "[encoded data removed]",
      "text/plain": [
       "<Figure size 432x288 with 1 Axes>"
      ]
     },
     "metadata": {
      "image/png": {
       "height": 252,
       "width": 388
      },
      "needs_background": "light"
     },
     "output_type": "display_data"
    }
   ],
   "source": [
    "def Iteration_demo(f, a, b, iters):\n",
    "    x = np.linspace(a, b, 1000)\n",
    "    plt.plot(x, f(x), 'k', linewidth=3)\n",
    "    plt.plot(x, 0*x, 'k-.', linewidth=3)\n",
    "    x = bisect_iters(f, a, b, iters)\n",
    "    x_ref = bisect(f, a, b, 1.e-14)\n",
    "    \n",
    "    #print (x)\n",
    "    plt.xlim(a,b)\n",
    "    plt.ylim(min(f(a),f(b)),max(f(a),f(b)))\n",
    "    #plt.ylim(1,2)\n",
    "    for i in range(iters+1):\n",
    "        plt.plot(x, f(x), 'r*', markersize=12, linewidth=3)\n",
    "    \n",
    "    print ('Reference Solution: ', x_ref)\n",
    "    print ('no.    solution    error bound    error')\n",
    "    for i in range(iters+1):\n",
    "        print (\"%3d  %12.10f   %7.2e    %7.2e\" % \\\n",
    "                   (i, x[i], (b-a)/2**(i+1), np.abs(x_ref - x[i])))\n",
    "    \n",
    "        \n",
    "a = 0\n",
    "b = 1\n",
    "Iteration_demo(fun, a, b, 10)"
   ]
  },
  {
   "cell_type": "code",
   "execution_count": 7,
   "metadata": {},
   "outputs": [
    {
     "data": {
      "application/vnd.jupyter.widget-view+json": {
       "model_id": "e6c8f9456c204a3aa000bcc18673949d",
       "version_major": 2,
       "version_minor": 0
      },
      "text/plain": [
       "interactive(children=(IntSlider(value=0, description='iters', max=50), Output()), _dom_classes=('widget-intera…"
      ]
     },
     "metadata": {},
     "output_type": "display_data"
    }
   ],
   "source": [
    "w = interactive(Iteration_demo, f=fixed(fun), a=fixed(0), b=fixed(1), iters=widgets.IntSlider(min=0,max=50,value=0))\n",
    "display(w)"
   ]
  },
  {
   "cell_type": "markdown",
   "metadata": {},
   "source": [
    "**Exmaple**\n",
    "    Use Bisection Method to find the root of $f(x) = x^3 + x - 1$ on $[0,1]$."
   ]
  },
  {
   "cell_type": "code",
   "execution_count": 8,
   "metadata": {},
   "outputs": [
    {
     "data": {
      "application/vnd.jupyter.widget-view+json": {
       "model_id": "ddf5f9d480894697888d2604058494c4",
       "version_major": 2,
       "version_minor": 0
      },
      "text/plain": [
       "interactive(children=(IntSlider(value=0, description='iters', max=20), Output()), _dom_classes=('widget-intera…"
      ]
     },
     "metadata": {},
     "output_type": "display_data"
    }
   ],
   "source": [
    "def fun2(x):\n",
    "    return x**3 + x - 1\n",
    "\n",
    "w = interactive(Iteration_demo, f=fixed(fun2), a=fixed(0), b=fixed(1), iters=widgets.IntSlider(min=0,max=20,value=0))\n",
    "display(w)"
   ]
  },
  {
   "cell_type": "markdown",
   "metadata": {},
   "source": [
    "**Exmaple**\n",
    "    Use Bisection Method to find the root of __linear equation__ $f(x) = x - 1/3$ on $[0,1]$.  What do you think of the performance?"
   ]
  },
  {
   "cell_type": "code",
   "execution_count": 9,
   "metadata": {},
   "outputs": [
    {
     "data": {
      "application/vnd.jupyter.widget-view+json": {
       "model_id": "02def2cad6c04a6c9757d3129b7f82ec",
       "version_major": 2,
       "version_minor": 0
      },
      "text/plain": [
       "interactive(children=(IntSlider(value=0, description='iters', max=20), Output()), _dom_classes=('widget-intera…"
      ]
     },
     "metadata": {},
     "output_type": "display_data"
    }
   ],
   "source": [
    "def fun3(x):\n",
    "    return x - 0.50000000001\n",
    "\n",
    "w = interactive(Iteration_demo, f=fixed(fun3), a=fixed(0), b=fixed(1), iters=widgets.IntSlider(min=0,max=20,value=0))\n",
    "display(w)"
   ]
  },
  {
   "cell_type": "markdown",
   "metadata": {},
   "source": [
    "## Fixed-Point Iteration (FPI)\n",
    "\n",
    "### FPI Algorithm\n",
    "First, one can rewrite the equation $f(x) = 0$ as a fixed point problem $g(x) = x$, Fixed-Point Iteration proceeds by starting with an initial guess $x_0$ and iterating the function $g$.\n",
    "\\begin{align}\n",
    "    x_0 & = \\text{initial guess} \\\\\n",
    "    x_{n+1} & = g(x_n) \\,\\,\\text{for}\\,\\,n = 0, 1,\\ldots,\n",
    "\\end{align}\n",
    "\n",
    "### The Python Code\n",
    "The code of FPI is very easy, in each iteration, just do a function evaluation."
   ]
  },
  {
   "cell_type": "code",
   "execution_count": 10,
   "metadata": {},
   "outputs": [
    {
     "data": {
      "text/plain": [
       "array([1.        , 0.54030231, 0.85755322, 0.65428979, 0.79348036,\n",
       "       0.70136877, 0.76395968, 0.72210243, 0.75041776, 0.73140404,\n",
       "       0.74423735, 0.73560474, 0.74142509, 0.73750689, 0.74014734,\n",
       "       0.7383692 , 0.7395672 , 0.73876032, 0.73930389, 0.73893776,\n",
       "       0.7391844 ])"
      ]
     },
     "execution_count": 10,
     "metadata": {},
     "output_type": "execute_result"
    }
   ],
   "source": [
    "def fixed_iters(g, x0, iters):\n",
    "    x = np.zeros(iters+1)\n",
    "    x[0] = x0\n",
    "    for i in range(iters):\n",
    "        x[i+1] = g(x[i])\n",
    "    return x\n",
    "\n",
    "def g(x):\n",
    "    return np.cos(x)\n",
    "\n",
    "fixed_iters(g, 1., 20)"
   ]
  },
  {
   "cell_type": "markdown",
   "metadata": {},
   "source": [
    "### Demostration\n",
    "**Demonstration version:**"
   ]
  },
  {
   "cell_type": "code",
   "execution_count": 11,
   "metadata": {},
   "outputs": [],
   "source": [
    "def Iteration_demo2(f, a, b, g, x0, iters):\n",
    "    x = np.linspace(a, b, 1000)\n",
    "    plt.plot(x, f(x), 'k', linewidth=3)\n",
    "    plt.plot(x, 0*x, 'k-.', linewidth=3)\n",
    "    x = fixed_iters(g, x0, iters)\n",
    "    x_ref = bisect(f, a+1.e-8, b, 1.e-14)\n",
    "    \n",
    "    #print (x)\n",
    "    plt.xlim(a,b)\n",
    "    plt.ylim(min(f(a),f(b)),max(f(a),f(b)))\n",
    "    for i in range(iters+1):\n",
    "        plt.plot(x, f(x), 'r*', markersize=12, linewidth=3)\n",
    "    \n",
    "    print ('Reference Solution: ', x_ref)\n",
    "    print ('no.    solution    |x_{n+1} - x_{n}|    error')\n",
    "    for i in range(iters+1):\n",
    "        if (i < iters):\n",
    "            print (\"%3d  %14.12f      %7.2e       %7.2e\" % \\\n",
    "                   (i, x[i], np.abs(x[i+1]-x[i]), np.abs(x_ref - x[i])))\n",
    "        else:\n",
    "            print (\"%3d  %14.12f      %7.2e       %7.2e\" % \\\n",
    "                   (i, x[i], np.abs(g(x[i])-x[i]), np.abs(x_ref - x[i])))"
   ]
  },
  {
   "cell_type": "markdown",
   "metadata": {},
   "source": [
    "**Example** Use Fixed Point Iteration to find a root of $f(x) = x^3 + 4x^2 - 10$ on $[1, 2]$ with $g_1(x) = \\sqrt{\\frac{10}{x} - 4x}$ and $g_2(x) = \\sqrt{\\frac{10}{x+4}}$, the initial guess $x_0 = 1.5$."
   ]
  },
  {
   "cell_type": "code",
   "execution_count": 35,
   "metadata": {},
   "outputs": [
    {
     "data": {
      "application/vnd.jupyter.widget-view+json": {
       "model_id": "9dc1557c98d04d2dbf668d826499b8cf",
       "version_major": 2,
       "version_minor": 0
      },
      "text/plain": [
       "interactive(children=(IntSlider(value=0, description='iters', max=20), Output()), _dom_classes=('widget-intera…"
      ]
     },
     "metadata": {},
     "output_type": "display_data"
    }
   ],
   "source": [
    "def f(x):\n",
    "    return x**3 + 4*x**2 - 10\n",
    "\n",
    "a = 1; b = 2;\n",
    "\n",
    "def g1(x):\n",
    "    return np.sqrt(10/x - 4*x)\n",
    "\n",
    "def g2(x):\n",
    "    return np.sqrt(10/(x+4))\n",
    "\n",
    "x0 = 1.5\n",
    "\n",
    "w = interactive(Iteration_demo2, f=fixed(f), a=fixed(a), b=fixed(b), g=fixed(g2), x0 = fixed(x0), iters=widgets.IntSlider(min=0,max=20,value=0))\n",
    "display(w)"
   ]
  },
  {
   "cell_type": "markdown",
   "metadata": {},
   "source": [
    "__Better than bisection?__\n",
    "* Solving the above example by using bisection method."
   ]
  },
  {
   "cell_type": "code",
   "execution_count": 36,
   "metadata": {},
   "outputs": [
    {
     "data": {
      "application/vnd.jupyter.widget-view+json": {
       "model_id": "b8c797c104db43808ad935f211296dcb",
       "version_major": 2,
       "version_minor": 0
      },
      "text/plain": [
       "interactive(children=(IntSlider(value=0, description='iters', max=50), Output()), _dom_classes=('widget-intera…"
      ]
     },
     "metadata": {},
     "output_type": "display_data"
    }
   ],
   "source": [
    "w = interactive(Iteration_demo, f=fixed(f), a=fixed(1), b=fixed(2), iters=widgets.IntSlider(min=0,max=50,value=0))\n",
    "display(w)"
   ]
  },
  {
   "cell_type": "markdown",
   "metadata": {},
   "source": [
    "**Example** Find the fixed points of $g(x) = 2.8x - x^2$"
   ]
  },
  {
   "cell_type": "code",
   "execution_count": 46,
   "metadata": {},
   "outputs": [
    {
     "data": {
      "application/vnd.jupyter.widget-view+json": {
       "model_id": "d186d3a6f32943c381ffdc9bd8f003f4",
       "version_major": 2,
       "version_minor": 0
      },
      "text/plain": [
       "interactive(children=(IntSlider(value=0, description='iters', max=40), Output()), _dom_classes=('widget-intera…"
      ]
     },
     "metadata": {},
     "output_type": "display_data"
    }
   ],
   "source": [
    "def f(x):\n",
    "    return 1.8*x - x**2\n",
    "\n",
    "a = 0; b = 2;\n",
    "\n",
    "def g(x):\n",
    "    return 2.8*x - x**2\n",
    "\n",
    "x0 = -1\n",
    "\n",
    "w = interactive(Iteration_demo2, f=fixed(f), a=fixed(a), b=fixed(b), g=fixed(g), x0 = fixed(x0), iters=widgets.IntSlider(min=0,max=40,value=0))\n",
    "display(w)"
   ]
  },
  {
   "cell_type": "markdown",
   "metadata": {},
   "source": [
    "**Example** Use Fixed Point Iteration to find the positive root of $f(x) = x^2 - 3$ with $g_1(x) = x - \\frac{1}{4}(x^2-3)$ and $g_2(x) = \\frac{1}{2}\\left(x + \\frac{3}{x}\\right)$."
   ]
  },
  {
   "cell_type": "code",
   "execution_count": 41,
   "metadata": {},
   "outputs": [
    {
     "data": {
      "application/vnd.jupyter.widget-view+json": {
       "model_id": "36b44b4ec6d84428858244dca5756de9",
       "version_major": 2,
       "version_minor": 0
      },
      "text/plain": [
       "interactive(children=(IntSlider(value=0, description='iters', max=40), Output()), _dom_classes=('widget-intera…"
      ]
     },
     "metadata": {},
     "output_type": "display_data"
    }
   ],
   "source": [
    "def f(x):\n",
    "    return x**2 - 3\n",
    "\n",
    "a = 0; b = 2\n",
    "\n",
    "def g1(x):\n",
    "    return x - 0.25*(x**2-3)\n",
    "\n",
    "def g2(x):\n",
    "    return 0.5*(x + 3/x)\n",
    "\n",
    "x0 = 2\n",
    "\n",
    "w = interactive(Iteration_demo2, f=fixed(f), a=fixed(a), b=fixed(b), g=fixed(g1), x0 = fixed(x0), iters=widgets.IntSlider(min=0,max=40,value=0))\n",
    "display(w)"
   ]
  },
  {
   "cell_type": "markdown",
   "metadata": {},
   "source": [
    "## Newton's Method\n",
    "### Newton's Method \n",
    "Newton's method is a particular kind o af fixed point iteration, with $g(x) = x - \\frac{f(x)}{f'(x)}$.\n",
    "\\begin{align}\n",
    "    x_0 & = \\text{initial guess} \\\\\n",
    "    x_{n+1} & = x_n - \\frac{f(x_n)}{f'(x_{n})} \\,\\,\\text{for}\\,\\,n = 0, 1,\\ldots,\n",
    "\\end{align}\n",
    "\n",
    "### The Python Code\n",
    "Similar as the code of FPI, in each iteration, the Newton's method just need do a function evaluation and compute its derivative."
   ]
  },
  {
   "cell_type": "code",
   "execution_count": 16,
   "metadata": {
    "scrolled": true
   },
   "outputs": [
    {
     "data": {
      "text/plain": [
       "array([1.        , 2.        , 1.75      , 1.73214286, 1.73205081,\n",
       "       1.73205081, 1.73205081, 1.73205081, 1.73205081, 1.73205081,\n",
       "       1.73205081, 1.73205081, 1.73205081, 1.73205081, 1.73205081,\n",
       "       1.73205081, 1.73205081, 1.73205081, 1.73205081, 1.73205081,\n",
       "       1.73205081])"
      ]
     },
     "execution_count": 16,
     "metadata": {},
     "output_type": "execute_result"
    }
   ],
   "source": [
    "def Newton_iters(f, f_der, x0, iters):\n",
    "    x = np.zeros(iters+1)\n",
    "    x[0] = x0\n",
    "    for i in range(iters):\n",
    "        x[i+1] = x[i] - f(x[i])/f_der(x[i])\n",
    "    return x\n",
    "\n",
    "def f(x):\n",
    "    return x**2 - 3\n",
    "\n",
    "def f_der(x):\n",
    "    return 2*x\n",
    "\n",
    "Newton_iters(f, f_der, 1., 20)"
   ]
  },
  {
   "cell_type": "markdown",
   "metadata": {},
   "source": [
    "**Example** Find the positive root of $f(x) = x^2 - a$ by Newton's Methods\n",
    "\n",
    "The iterations is \n",
    "\\begin{equation}\n",
    "    x_{n+1} = \\left(x_n + \\frac{a}{x_n}\\right)/2 \n",
    "\\end{equation}"
   ]
  },
  {
   "cell_type": "code",
   "execution_count": 17,
   "metadata": {},
   "outputs": [],
   "source": [
    "def Iteration_demo3(f, f_der, a, b, x0, x_star, iters):\n",
    "    x = np.linspace(a, b, 1000)\n",
    "    plt.plot(x, f(x), 'k', linewidth=3)\n",
    "    plt.plot(x, 0*x, 'k-.', linewidth=3)\n",
    "    x = Newton_iters(f, f_der, x0, iters)\n",
    "    #x_ref = bisect(f, a+1.e-8, b, 1.e-14)\n",
    "    \n",
    "    #print (x)\n",
    "    plt.xlim(a,b)\n",
    "    #plt.ylim(min(f(a),f(b)),max(f(a),f(b)))\n",
    "    for i in range(iters+1):\n",
    "        plt.plot(x, f(x), 'r*', markersize=12, linewidth=3)\n",
    "    \n",
    "    print ('Reference Solution: ', x_star)\n",
    "    print ('no.    solution    |x_{n} - x_{*}|    e_{n}/e_{n-1}^2   e_{n}/e_{n-1}')\n",
    "    for i in range(iters+1):\n",
    "        if (i < 1):\n",
    "            print (\"%3d  %14.12f      %7.2e\" % \\\n",
    "                   (i, x[i], np.abs(x_star - x[i])))\n",
    "        else:\n",
    "            print (\"%3d  %14.12f      %7.2e           %6.4f          %6.4f\" % \\\n",
    "                   (i, x[i], np.abs(x_star - x[i]), np.abs(x_star - x[i])/(x_star - x[i-1])**2, \\\n",
    "                   np.abs(x_star - x[i])/np.abs(x_star - x[i-1])))"
   ]
  },
  {
   "cell_type": "code",
   "execution_count": 45,
   "metadata": {},
   "outputs": [
    {
     "data": {
      "application/vnd.jupyter.widget-view+json": {
       "model_id": "299a816f11164a69a16f6b64f167f4f8",
       "version_major": 2,
       "version_minor": 0
      },
      "text/plain": [
       "interactive(children=(IntSlider(value=0, description='iters', max=20), Output()), _dom_classes=('widget-intera…"
      ]
     },
     "metadata": {},
     "output_type": "display_data"
    }
   ],
   "source": [
    "def f(x): \n",
    "    return x**2 - 2\n",
    "\n",
    "def f_der(x):\n",
    "    return 2*x\n",
    "\n",
    "x0 = -3\n",
    "x_star = np.sqrt(2)\n",
    "w = interactive(Iteration_demo3, f=fixed(f), f_der=fixed(f_der), a=fixed(a), b=fixed(b), x0 = fixed(x0), \\\n",
    "                x_star = fixed(x_star), iters=widgets.IntSlider(min=0,max=20,value=0))\n",
    "display(w)"
   ]
  },
  {
   "cell_type": "markdown",
   "metadata": {},
   "source": [
    "**Example** Find the root of $f(x) = x^3 + 10x - 20$ around $x_0 = 1.5$ by Newton's Methods\n",
    "\n",
    "The iterations is \n",
    "\\begin{equation}\n",
    "    x_{n+1} = x_n - \\frac{x^3 + 10x - 20}{3x^2 + 10}\n",
    "\\end{equation}"
   ]
  },
  {
   "cell_type": "code",
   "execution_count": 50,
   "metadata": {},
   "outputs": [
    {
     "data": {
      "application/vnd.jupyter.widget-view+json": {
       "model_id": "fd697244a0d24b0abce19dd9179a472c",
       "version_major": 2,
       "version_minor": 0
      },
      "text/plain": [
       "interactive(children=(IntSlider(value=0, description='iters', max=10), Output()), _dom_classes=('widget-intera…"
      ]
     },
     "metadata": {},
     "output_type": "display_data"
    }
   ],
   "source": [
    "def f(x): \n",
    "    return x**3 + 10*x - 20\n",
    "\n",
    "def f_der(x):\n",
    "    return 3*x**2 + 10\n",
    "\n",
    "x0 = 100\n",
    "a = 1 \n",
    "b = 2 \n",
    "x_star = bisect(f, a, b, 1.e-14)\n",
    "w = interactive(Iteration_demo3, f=fixed(f), f_der=fixed(f_der), a=fixed(a), b=fixed(b), x0 = fixed(x0), \\\n",
    "                x_star = fixed(x_star), iters=widgets.IntSlider(min=0,max=10,value=0))\n",
    "display(w)"
   ]
  },
  {
   "cell_type": "markdown",
   "metadata": {},
   "source": [
    "**Example** Find the root of $f(x) = x^3 - 3x + 2$ around $x_0 = 1.1$ by Newton's Methods\n",
    "\n",
    "The iterations is \n",
    "\\begin{equation}\n",
    "    x_{n+1} = x_n - \\frac{x^3 - 3x + 2}{3x^2 - 3}\n",
    "\\end{equation}"
   ]
  },
  {
   "cell_type": "code",
   "execution_count": 60,
   "metadata": {},
   "outputs": [
    {
     "data": {
      "application/vnd.jupyter.widget-view+json": {
       "model_id": "77b0cff5aa9749dab1e398c3092cc42a",
       "version_major": 2,
       "version_minor": 0
      },
      "text/plain": [
       "interactive(children=(IntSlider(value=0, description='iters', max=30), Output()), _dom_classes=('widget-intera…"
      ]
     },
     "metadata": {},
     "output_type": "display_data"
    }
   ],
   "source": [
    "def f(x): \n",
    "    return x**3 - 3*x +2\n",
    "\n",
    "def f_der(x):\n",
    "    return (3*x**2 - 3)/1.\n",
    "\n",
    "x0 = -1.5\n",
    "a = -3. \n",
    "b = 3. \n",
    "x_star = -2.\n",
    "w = interactive(Iteration_demo3, f=fixed(f), f_der=fixed(f_der), a=fixed(a), b=fixed(b), x0 = fixed(x0), \\\n",
    "                x_star = fixed(x_star), iters=widgets.IntSlider(min=0,max=30,value=0))\n",
    "display(w)"
   ]
  },
  {
   "cell_type": "markdown",
   "metadata": {},
   "source": [
    "**Modified Newton Method**  \n",
    "Find the root of $f(x) = x^3 - 3x + 2$ around $x_0 = 1.1$ by Modified Newton Methods\n",
    "\n",
    "The iterations is \n",
    "\\begin{equation}\n",
    "    x_{n+1} = x_n - \\frac{x^3 - 3x + 2}{x^2 - 1}\n",
    "\\end{equation}"
   ]
  },
  {
   "cell_type": "code",
   "execution_count": 58,
   "metadata": {},
   "outputs": [
    {
     "data": {
      "application/vnd.jupyter.widget-view+json": {
       "model_id": "cbd34aa45f4e491eb000a95b58115745",
       "version_major": 2,
       "version_minor": 0
      },
      "text/plain": [
       "interactive(children=(IntSlider(value=0, description='iters', max=30), Output()), _dom_classes=('widget-intera…"
      ]
     },
     "metadata": {},
     "output_type": "display_data"
    }
   ],
   "source": [
    "def f(x): \n",
    "    return x**3 - 3*x +2\n",
    "\n",
    "def f_der(x):\n",
    "    return (3*x**2 - 3)/2.\n",
    "\n",
    "x0 = 1.1\n",
    "a = -3. \n",
    "b = 3. \n",
    "x_star = 1.\n",
    "w = interactive(Iteration_demo3, f=fixed(f), f_der=fixed(f_der), a=fixed(a), b=fixed(b), x0 = fixed(x0), \\\n",
    "                x_star = fixed(x_star), iters=widgets.IntSlider(min=0,max=30,value=0))\n",
    "display(w)"
   ]
  },
  {
   "cell_type": "markdown",
   "metadata": {},
   "source": [
    "### Secant Method\n",
    "One drawback of Newton's method is that it needs the function $f(x)$ and its derivative function $f'(x)$.  What if you do not have the derivative function $f'(x)$?  One way to avoid this issue is to use the so-called secant method.\n",
    "\n",
    "__Secant Method:__\n",
    "\\begin{align}\n",
    "    x_0, x_1 & = \\text{initial guesses} \\\\\n",
    "    x_{n+1} & = x_n - \\frac{f(x_n)(x_n - x_{n-1}}{f(x_{n})-f(x_{n-1})} \\,\\,\\text{for}\\,\\,n = 1, 2,\\ldots,\n",
    "\\end{align}\n",
    "\n",
    "__The Python Code__"
   ]
  },
  {
   "cell_type": "code",
   "execution_count": 21,
   "metadata": {},
   "outputs": [
    {
     "data": {
      "text/plain": [
       "array([1.        , 2.        , 1.66666667, 1.72727273, 1.73214286,\n",
       "       1.73205068, 1.73205081, 1.73205081, 1.73205081, 1.73205081,\n",
       "       1.73205081])"
      ]
     },
     "execution_count": 21,
     "metadata": {},
     "output_type": "execute_result"
    }
   ],
   "source": [
    "def secant_iters(f, x0, x1, iters):\n",
    "    x = np.zeros(iters+1)\n",
    "    x[0] = x0\n",
    "    if (iters >= 1):\n",
    "        x[1] = x1\n",
    "        for i in range(1,iters):\n",
    "            x[i+1] = x[i] - f(x[i])*(x[i]-x[i-1])/(f(x[i]) - f(x[i-1]))\n",
    "    return x\n",
    "\n",
    "def f(x):\n",
    "    return x**2 - 3\n",
    "\n",
    "secant_iters(f, 1., 2., 10)"
   ]
  },
  {
   "cell_type": "code",
   "execution_count": 22,
   "metadata": {},
   "outputs": [],
   "source": [
    "def Iteration_demo4(f, a, b, x0, x1, x_star, iters):\n",
    "    x = np.linspace(a, b, 1000)\n",
    "    plt.plot(x, f(x), 'k', linewidth=3)\n",
    "    plt.plot(x, 0*x, 'k-.', linewidth=3)\n",
    "    x = secant_iters(f, x0, x1, iters)\n",
    "    #x_ref = bisect(f, a+1.e-8, b, 1.e-14)\n",
    "    \n",
    "    #print (x)\n",
    "    plt.xlim(a,b)\n",
    "    #plt.ylim(min(f(a),f(b)),max(f(a),f(b)))\n",
    "    for i in range(iters+1):\n",
    "        plt.plot(x, f(x), 'r*', markersize=12, linewidth=3)\n",
    "    \n",
    "    print ('Reference Solution: ', x_star)\n",
    "    print ('no.    solution    |x_{n} - x^{*}|    e_{n}/e_{n-1}^1.618   e_{n}/e_{n-1}')\n",
    "    for i in range(iters+1):\n",
    "        if (i < 1):\n",
    "            print (\"%3d  %14.12f      %7.2e\" % \\\n",
    "                   (i, x[i], np.abs(x_star - x[i])))\n",
    "        else:\n",
    "            print (\"%3d  %14.12f      %7.2e           %6.4f          %6.4f\" % \\\n",
    "                   (i, x[i], np.abs(x_star - x[i]), np.abs(x_star - x[i])/np.abs(x_star - x[i-1])**1.618, \\\n",
    "                   np.abs(x_star - x[i])/np.abs(x_star - x[i-1])))"
   ]
  },
  {
   "cell_type": "code",
   "execution_count": 59,
   "metadata": {},
   "outputs": [
    {
     "data": {
      "application/vnd.jupyter.widget-view+json": {
       "model_id": "5725d41691044249864398de906a5035",
       "version_major": 2,
       "version_minor": 0
      },
      "text/plain": [
       "interactive(children=(IntSlider(value=0, description='iters', max=20), Output()), _dom_classes=('widget-intera…"
      ]
     },
     "metadata": {},
     "output_type": "display_data"
    }
   ],
   "source": [
    "def f(x): \n",
    "    return x**3 - 3*x +2\n",
    "\n",
    "x0 = -1.5\n",
    "x1 = -2.5\n",
    "a = -3. \n",
    "b = 3. \n",
    "x_star = -2\n",
    "\n",
    "w = interactive(Iteration_demo4, f=fixed(f), a=fixed(a), b=fixed(b), x0 = fixed(x0), x1 = fixed(x1), \\\n",
    "                x_star = fixed(x_star), iters=widgets.IntSlider(min=0,max=20,value=0))\n",
    "display(w)"
   ]
  },
  {
   "cell_type": "markdown",
   "metadata": {},
   "source": [
    "## Assignment\n",
    "### Assignment 1:\n",
    "For equation $x^2−3x+2−e^x =0$\n",
    "1) Fixed Point Iteration: \n",
    "    \\begin{equation*}\n",
    "        x_{n+1} = g(x_n)\n",
    "    \\end{equation*}\n",
    "     with $g(x) = (x^2 + 2^x + 2 - e^x)/5$\n",
    "\n",
    "2) Newton's Methods: \n",
    "\\begin{equation*}\n",
    "x_{n+1} = x_n - \\frac{x^2−3x+2−e^x}{2x -3 - e^x}\n",
    "\\end{equation*}"
   ]
  },
  {
   "cell_type": "code",
   "execution_count": 24,
   "metadata": {},
   "outputs": [
    {
     "data": {
      "application/vnd.jupyter.widget-view+json": {
       "model_id": "218941883345486e9d5fee42227517b4",
       "version_major": 2,
       "version_minor": 0
      },
      "text/plain": [
       "interactive(children=(IntSlider(value=0, description='iters', max=20), Output()), _dom_classes=('widget-intera…"
      ]
     },
     "metadata": {},
     "output_type": "display_data"
    }
   ],
   "source": [
    "def f(x):\n",
    "    return x**2 - 3*x +2 - np.exp(x)\n",
    "\n",
    "def g(x):\n",
    "    return x + 0.2*(x**2 - 3*x +2 - np.exp(x))\n",
    "\n",
    "a = 0; b = 1;\n",
    "x0 = 0.5\n",
    "\n",
    "w = interactive(Iteration_demo2, f=fixed(f), a=fixed(a), b=fixed(b), g=fixed(g), x0 = fixed(x0), iters=widgets.IntSlider(min=0,max=20,value=0))\n",
    "display(w)"
   ]
  },
  {
   "cell_type": "code",
   "execution_count": 25,
   "metadata": {},
   "outputs": [
    {
     "data": {
      "application/vnd.jupyter.widget-view+json": {
       "model_id": "2e9f4bcc4aef45e9856e2e91671ad9ed",
       "version_major": 2,
       "version_minor": 0
      },
      "text/plain": [
       "interactive(children=(IntSlider(value=0, description='iters', max=30), Output()), _dom_classes=('widget-intera…"
      ]
     },
     "metadata": {},
     "output_type": "display_data"
    }
   ],
   "source": [
    "def f(x): \n",
    "    return x**2 - 3*x +2 - np.exp(x)\n",
    "\n",
    "def f_der(x):\n",
    "    return 2*x - 3 - np.exp(x)\n",
    "\n",
    "x0 = 0.5\n",
    "a = 0. \n",
    "b = 1. \n",
    "x_star = bisect(f, a, b, 1.e-14)\n",
    "w = interactive(Iteration_demo3, f=fixed(f), f_der=fixed(f_der), a=fixed(a), b=fixed(b), x0 = fixed(x0), \\\n",
    "                x_star = fixed(x_star), iters=widgets.IntSlider(min=0,max=30,value=0))\n",
    "display(w)"
   ]
  },
  {
   "cell_type": "markdown",
   "metadata": {},
   "source": [
    "### Assignment 2: \n",
    "Design a fixed point iteration method to solve equation $x^3 +2x^2 +10x −20 = 0$"
   ]
  },
  {
   "cell_type": "code",
   "execution_count": 26,
   "metadata": {},
   "outputs": [
    {
     "data": {
      "application/vnd.jupyter.widget-view+json": {
       "model_id": "5c9dec83c40d4c2890662c426a4e812b",
       "version_major": 2,
       "version_minor": 0
      },
      "text/plain": [
       "interactive(children=(IntSlider(value=0, description='iters', max=30), Output()), _dom_classes=('widget-intera…"
      ]
     },
     "metadata": {},
     "output_type": "display_data"
    }
   ],
   "source": [
    "def f(x):\n",
    "    return x**3 + 2*x**2 + 10*x - 20\n",
    "\n",
    "def g(x):\n",
    "    return x - 0.02*(x**3 + 2*x**2 + 10*x -20)\n",
    "\n",
    "a = 1; b = 2;\n",
    "x0 = 1.5\n",
    "\n",
    "w = interactive(Iteration_demo2, f=fixed(f), a=fixed(a), b=fixed(b), g=fixed(g), x0 = fixed(x0), iters=widgets.IntSlider(min=0,max=30,value=0))\n",
    "display(w)"
   ]
  },
  {
   "cell_type": "code",
   "execution_count": 27,
   "metadata": {},
   "outputs": [
    {
     "data": {
      "application/vnd.jupyter.widget-view+json": {
       "model_id": "e4fc1b1bfbf643ef8da689a88b6db0c8",
       "version_major": 2,
       "version_minor": 0
      },
      "text/plain": [
       "interactive(children=(IntSlider(value=0, description='iters', max=30), Output()), _dom_classes=('widget-intera…"
      ]
     },
     "metadata": {},
     "output_type": "display_data"
    }
   ],
   "source": [
    "def f(x): \n",
    "    return x**3 + 2*x**2 + 10*x - 20\n",
    "\n",
    "def f_der(x):\n",
    "    return 3*x**2 + 4*x + 10\n",
    "\n",
    "x0 = 1.5\n",
    "a = 1. \n",
    "b = 2. \n",
    "x_star = bisect(f, a, b, 1.e-14)\n",
    "w = interactive(Iteration_demo3, f=fixed(f), f_der=fixed(f_der), a=fixed(a), b=fixed(b), x0 = fixed(x0), \\\n",
    "                x_star = fixed(x_star), iters=widgets.IntSlider(min=0,max=30,value=0))\n",
    "display(w)"
   ]
  },
  {
   "cell_type": "markdown",
   "metadata": {},
   "source": [
    "### Assignment 3\n",
    "Consider Fixed-Point Iteration applied to $g(x) = 1 − 5x + \\frac{15}{2}x^2 − \\frac{5}{2}x^3$ . (a) Show that \n",
    "$1 − \\sqrt{3/5}$, $1$, and $1 + \\sqrt{3/5}$ are fixed points. (b) Show that none of the three fixed points is \n",
    "locally convergent. \n",
    "\n",
    "Futher, find initial guesses for which FPI (c) cycles endlessly through numbers in the interval $(0,1)$, (d) the same as (c), but the interval is $(1, 2)$ (e) diverges to infinity. Cases (c) and (d) are examples of chaotic dynamics. In all three cases, FPI is unsuccessful."
   ]
  },
  {
   "cell_type": "code",
   "execution_count": 85,
   "metadata": {},
   "outputs": [
    {
     "data": {
      "application/vnd.jupyter.widget-view+json": {
       "model_id": "a8178bd4b23a40a0a7b2def9731c6b6e",
       "version_major": 2,
       "version_minor": 0
      },
      "text/plain": [
       "interactive(children=(IntSlider(value=0, description='iters', max=80), Output()), _dom_classes=('widget-intera…"
      ]
     },
     "metadata": {},
     "output_type": "display_data"
    }
   ],
   "source": [
    "def f(x):\n",
    "    return 1 - 6*x + 7.5*x**2 - 2.5*x**3\n",
    "\n",
    "a = 0; b = 2\n",
    "\n",
    "def g(x):\n",
    "    return 1 - 5*x + 7.5*x**2 - 2.5*x**3\n",
    "\n",
    "\n",
    "x0 = 0.5\n",
    "x_star = 1 - np.sqrt(3./5)\n",
    "w = interactive(Iteration_demo2, f=fixed(f), a=fixed(a), b=fixed(b), g=fixed(g), x0 = fixed(x0), iters=widgets.IntSlider(min=0,max=80,value=0))\n",
    "display(w)"
   ]
  },
  {
   "cell_type": "code",
   "execution_count": 86,
   "metadata": {},
   "outputs": [
    {
     "data": {
      "text/plain": [
       "[<matplotlib.lines.Line2D at 0x113c7fdd8>]"
      ]
     },
     "execution_count": 86,
     "metadata": {},
     "output_type": "execute_result"
    },
    {
     "data": {
      "image/png": "[encoded data removed]",
      "text/plain": [
       "<Figure size 432x288 with 1 Axes>"
      ]
     },
     "metadata": {
      "image/png": {
       "height": 248,
       "width": 372
      },
      "needs_background": "light"
     },
     "output_type": "display_data"
    }
   ],
   "source": [
    "x = fixed_iters(g, x0, 120)\n",
    "plt.plot(np.arange(np.size(x)),x)"
   ]
  },
  {
   "cell_type": "code",
   "execution_count": null,
   "metadata": {},
   "outputs": [],
   "source": []
  }
 ],
 "metadata": {
  "celltoolbar": "Edit Metadata",
  "kernelspec": {
   "display_name": "Python 3",
   "language": "python",
   "name": "python3"
  },
  "language_info": {
   "codemirror_mode": {
    "name": "ipython",
    "version": 3
   },
   "file_extension": ".py",
   "mimetype": "text/x-python",
   "name": "python",
   "nbconvert_exporter": "python",
   "pygments_lexer": "ipython3",
   "version": "3.7.3"
  },
  "toc": {
   "base_numbering": 1,
   "nav_menu": {},
   "number_sections": true,
   "sideBar": true,
   "skip_h1_title": false,
   "title_cell": "Table of Contents",
   "title_sidebar": "Contents",
   "toc_cell": false,
   "toc_position": {},
   "toc_section_display": true,
   "toc_window_display": false
  }
 },
 "nbformat": 4,
 "nbformat_minor": 2
}
