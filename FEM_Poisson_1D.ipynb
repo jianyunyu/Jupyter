{
 "cells": [
  {
   "cell_type": "markdown",
   "metadata": {},
   "source": [
    "# A Tutorial of Implementation of Finite Element Methods  \n",
    "<div style=\"text-align: right\"> *--- Based on Xiaoming He's lecture at UESTC, and re-demonstrated with Jupyter notebook* </div> \n",
    "<div style=\"text-align: center\"> __Xiaozhou Li (University of Electronic Science and Technology of China)__ </div>\n",
    "## 1D Poisson Equation\n",
    "## Basic Framework\n",
    "- Generate the information matrices: P, T, E;\n",
    "- Assembel the matrices and vectors: local assembly based on P, T, E only;\n",
    "- Deal with the boundary conditions: boundary information matrix and local assembly;\n",
    "- Solve linear systems: numerical linear algebra."
   ]
  },
  {
   "cell_type": "code",
   "execution_count": 61,
   "metadata": {
    "collapsed": true
   },
   "outputs": [],
   "source": [
    "import numpy as np\n",
    "import matplotlib.pyplot as plt\n",
    "import GaussQuad as GQ"
   ]
  },
  {
   "cell_type": "code",
   "execution_count": 92,
   "metadata": {
    "collapsed": true
   },
   "outputs": [],
   "source": [
    "def local_basis_1D(x, vertices, basis_type, basis_index,der_order):\n",
    "    #basis_type==101: 1D linear basis functions\n",
    "    #basis_type==102: 1D quadratic basis functions\n",
    "    \n",
    "    left = vertices[0]\n",
    "    right = vertices[1]\n",
    "    h = right - left\n",
    "    if (basis_type==101):\n",
    "        if (basis_index==0):\n",
    "            if (der_order==0):\n",
    "                r = (right - x)/h\n",
    "            elif (der_order==1):\n",
    "                r = -1/h\n",
    "            elif (der_order>1):\n",
    "                r = 0.\n",
    "            else:\n",
    "                print (\"wrong der order\")\n",
    "        elif (basis_index==1):\n",
    "            if (der_order==0):\n",
    "                r = (x - left)/h\n",
    "            elif (der_order==1):\n",
    "                r = 1/h\n",
    "            elif (der_order>1):\n",
    "                r = 0\n",
    "            else:\n",
    "                print (\"wrong der order\")\n",
    "    elif (basis_type==102):\n",
    "        if (basis_index==0):\n",
    "            if (der_order==0):\n",
    "                r = 2*((x-left)/h)**2 - 3*(x-left)/h + 1\n",
    "            elif (der_order==1):\n",
    "                r = 4*(x-left)/h**2 - 3/h\n",
    "            elif (der_order==2):\n",
    "                r = 4/h**2 \n",
    "            elif (der_order>2):\n",
    "                r = 0\n",
    "            else:\n",
    "                print (\"wrong der order\")\n",
    "        elif (basis_index==1):\n",
    "            if (der_order==0):\n",
    "                r = 2*((x-left)/h)**2 - (x-left)/h\n",
    "            elif (der_order==1):\n",
    "                r = 4*(x-left)/h**2 - 1/h\n",
    "            elif (der_order==2):\n",
    "                r = 4/h**2 \n",
    "            elif (der_order>2):\n",
    "                r = 0\n",
    "            else:\n",
    "                print (\"wrong der order\")\n",
    "        elif (basis_index==2):\n",
    "            if (der_order==0):\n",
    "                r = -4*((x-left)/h)**2 + 4*(x-left)/h\n",
    "            elif (der_order==1):\n",
    "                r = -8*(x-left)/h**2 + 4/h\n",
    "            elif (der_order==2):\n",
    "                r = -8/h**2 \n",
    "            elif (der_order>2):\n",
    "                r = 0\n",
    "            else:\n",
    "                print (\"wrong der order\")\n",
    "    return r\n",
    "\n",
    "def generate_Gauss1D(vertices, Gauss_points_ref, Gauss_weights_ref):\n",
    "    mid  = 0.5*(vertices[0] + vertices[1])\n",
    "    scale = 0.5*(vertices[1] - vertices[0])\n",
    "    return mid + scale*Gauss_points_ref, scale*Gauss_weights_ref\n",
    "\n",
    "def generate_Nlb(basis_type):\n",
    "    if (basis_type==101):\n",
    "        Nlb = 2\n",
    "    elif (basis_type==102):\n",
    "        Nlb = 3\n",
    "    return Nlb"
   ]
  },
  {
   "cell_type": "markdown",
   "metadata": {},
   "source": [
    "- Define your global indices for all the mesh elements and mesh nodes. Let $N$ denote the number of mesh elements and $N_m$ denote the number of mesh nodes. Here $N_m = N + 1$.\n",
    "- Define matrix $P$ to be an information matrix consisting of the coordinates of all mesh nodes.\n",
    "- Define matrix $T$ to be an information matrix consisting of the global node indices of the mesh nodes of all the mesh elements."
   ]
  },
  {
   "cell_type": "code",
   "execution_count": 93,
   "metadata": {},
   "outputs": [],
   "source": [
    "def generate_PT_1D(left_boundary, right_boundary, number_of_elements):\n",
    "    P = np.linspace(left_boundary, right_boundary, number_of_elements+1)\n",
    "    T = np.zeros([2, number_of_elements], dtype=int)\n",
    "    for j in range (number_of_elements):\n",
    "        T[0,j] = j\n",
    "        T[1,j] = j+1\n",
    "    return P, T\n",
    "\n",
    "left_boundary = 0\n",
    "right_boundary = 1\n",
    "number_of_elements = 10\n",
    "P, T = generate_PT_1D(left_boundary, right_boundary, number_of_elements)"
   ]
  },
  {
   "cell_type": "markdown",
   "metadata": {},
   "source": [
    "- Let $N_b$ denote the total number of the finite element basis functions (= the number of unknowns = the total number of the finite element nodes). Here $N_b = N + 1$.\n",
    "- Define matrix $P_b$ to be an information matrix consisting of the coordinates of all finite element nodes.\n",
    "- Define matrix $T_b$ to be an information matrix consisting of the global node indices of the finite element nodes of all the mesh elements."
   ]
  },
  {
   "cell_type": "code",
   "execution_count": 94,
   "metadata": {},
   "outputs": [
    {
     "name": "stdout",
     "output_type": "stream",
     "text": [
      "21\n",
      "[ 0.    0.05  0.1   0.15  0.2   0.25  0.3   0.35  0.4   0.45  0.5   0.55\n",
      "  0.6   0.65  0.7   0.75  0.8   0.85  0.9   0.95  1.  ]\n",
      "[[ 0  2  4  6  8 10 12 14 16 18]\n",
      " [ 2  4  6  8 10 12 14 16 18 20]\n",
      " [ 1  3  5  7  9 11 13 15 17 19]]\n"
     ]
    }
   ],
   "source": [
    "def generate_NbPbTb_1D(P, T, basis_type):\n",
    "    if (basis_type==101):\n",
    "        Nb = np.size(P)\n",
    "        Pb = np.copy(P)\n",
    "        Tb = np.copy(T)\n",
    "    elif (basis_type==102):\n",
    "        Nb = 2*np.size(P)-1\n",
    "        Pb = np.zeros(Nb)\n",
    "        Pb[0::2] = P\n",
    "        for i in range (np.size(P)-1):\n",
    "            Pb[2*i+1] = 0.5*(Pb[2*i] + Pb[2*i+2])\n",
    "        Tb = np.zeros([3,np.size(P)-1],dtype=int)\n",
    "        Tb[0:2,:] = T*2\n",
    "        Tb[2,:] = Tb[1,:]-1\n",
    "    return Nb, Pb, Tb\n",
    "\n",
    "# local debugging codes\n",
    "basis_type = 102\n",
    "Nb, Pb, Tb = generate_NbPbTb_1D(P, T, basis_type)\n",
    "print (Nb)\n",
    "print (Pb)\n",
    "print (Tb)"
   ]
  },
  {
   "cell_type": "code",
   "execution_count": 112,
   "metadata": {},
   "outputs": [
    {
     "name": "stdout",
     "output_type": "stream",
     "text": [
      "[[0 2 4 6]\n",
      " [2 4 6 8]\n",
      " [1 3 5 7]]\n"
     ]
    }
   ],
   "source": [
    "# left, right boundary\n",
    "left_boundary = 0\n",
    "right_boundary = 1\n",
    "\n",
    "# number of elements, also size(T[0])\n",
    "number_of_elements = 4\n",
    "\n",
    "# P, T matrice\n",
    "P, T = generate_PT_1D(left_boundary, right_boundary, number_of_elements)\n",
    "\n",
    "basis_type_trial = 102\n",
    "basis_type_test = 102\n",
    "\n",
    "# Nlb, number of local basis\n",
    "Nlb_trial = generate_Nlb(basis_type_trial)\n",
    "Nlb_test  = generate_Nlb(basis_type_test)\n",
    "Nb_trial, Pb_trial, Tb_trial = generate_NbPbTb_1D(P, T, basis_type_trial)\n",
    "Nb_test,  Pb_test,  Tb_test  = generate_NbPbTb_1D(P, T, basis_type_test)\n",
    "\n",
    "print (Tb_trial)\n",
    "# Gauss point number\n",
    "Gpn = 6\n",
    "Gauss_points_ref, Gauss_weights_ref = GQ.LegendreQuad(Gpn)\n",
    "# Gauss_points, Gauss_weights = generate_Gauss1D([0,1], Gauss_points_ref, Gauss_weights_ref)\n",
    "\n",
    "def coeff_fun(x):\n",
    "    #return 1\n",
    "    return np.exp(x) "
   ]
  },
  {
   "cell_type": "code",
   "execution_count": 113,
   "metadata": {
    "collapsed": true
   },
   "outputs": [],
   "source": [
    "def Gauss_int_1D_trial_test(Gpn, Gauss_points, Gauss_weights, coeff_fun, vertices, \\\n",
    "                            der_order_trial, basis_type_trial, basis_index_trial, \\\n",
    "                            der_order_test,  basis_type_test,  basis_index_test):\n",
    "    int_value = 0.\n",
    "    for k in range (Gpn):\n",
    "        int_value += Gauss_weights[k]*coeff_fun(Gauss_points[k])*\\\n",
    "                        local_basis_1D(Gauss_points[k],vertices, basis_type_trial, basis_index_trial, der_order_trial)*\\\n",
    "                        local_basis_1D(Gauss_points[k],vertices, basis_type_test, basis_index_test, der_order_test)\n",
    "    return int_value"
   ]
  },
  {
   "cell_type": "code",
   "execution_count": 114,
   "metadata": {},
   "outputs": [
    {
     "name": "stdout",
     "output_type": "stream",
     "text": [
      "[[  9.85960683 -11.38701365   1.52740682   0.           0.           0.\n",
      "    0.           0.           0.        ]\n",
      " [-11.38701365  24.28725394 -12.9002403    0.           0.           0.\n",
      "    0.           0.           0.        ]\n",
      " [  1.52740682 -12.9002403   24.03281924 -14.62121494   1.96122918   0.\n",
      "    0.           0.           0.        ]\n",
      " [  0.           0.         -14.62121494  31.18545136 -16.56423642   0.\n",
      "    0.           0.           0.        ]\n",
      " [  0.           0.           1.96122918 -16.56423642  30.85875074\n",
      "  -18.77401161   2.51826811   0.           0.        ]\n",
      " [  0.           0.           0.           0.         -18.77401161\n",
      "   40.04291218 -21.26890057   0.           0.        ]\n",
      " [  0.           0.           0.           0.           2.51826811\n",
      "  -21.26890057  39.62342028 -24.10630808   3.23352026]\n",
      " [  0.           0.           0.           0.           0.           0.\n",
      "  -24.10630808  51.416117   -27.30980892]\n",
      " [  0.           0.           0.           0.           0.           0.\n",
      "    3.23352026 -27.30980892  24.07628866]]\n"
     ]
    }
   ],
   "source": [
    "def assemble_matrix_1D(coeff_fun, Gauss_points_ref, Gauss_weights_ref, \n",
    "                       P, T, Tb_trial, Tb_test, Nlb_trial, Nlb_test, Nb_trial, Nb_test,\\\n",
    "                       basis_type_trial, der_order_trial, basis_type_test, der_order_test):\n",
    "    A = np.zeros([Nb_test, Nb_trial])\n",
    "    for n in range(number_of_elements):\n",
    "        vertices = P[T[0,n]:T[1,n]+1]\n",
    "        Gauss_points, Gauss_weights=generate_Gauss1D(vertices, Gauss_points_ref, Gauss_weights_ref)\n",
    "        for alpha in range(Nlb_trial):\n",
    "            for beta in range(Nlb_test):\n",
    "                int_value=Gauss_int_1D_trial_test(Gpn, Gauss_points, Gauss_weights, coeff_fun, vertices, \\\n",
    "                                                    der_order_trial, basis_type_trial, alpha, \\\n",
    "                                                    der_order_test,  basis_type_test,  beta)\n",
    "                A[Tb_trial[beta,n],Tb_test[alpha,n]] += int_value\n",
    "    return A          \n",
    "\n",
    "#print (Nb_trial, Nb_test, np.shape(Tb_trial), np.shape(Tb_test))\n",
    "A = assemble_matrix_1D(coeff_fun, Gauss_points_ref, Gauss_weights_ref, \n",
    "                       P, T, Tb_trial, Tb_test, Nlb_trial, Nlb_test, Nb_trial, Nb_test,\\\n",
    "                       basis_type_trial, 1, basis_type_test, 1)\n",
    "print (A)\n",
    "\n"
   ]
  },
  {
   "cell_type": "code",
   "execution_count": 115,
   "metadata": {},
   "outputs": [
    {
     "name": "stdout",
     "output_type": "stream",
     "text": [
      "[-0.04284023 -0.11144663 -0.02106602  0.07317662  0.10081148  0.38740051\n",
      "  0.29444734  0.85424342  0.28393486]\n"
     ]
    }
   ],
   "source": [
    "def source_fun(x):\n",
    "    #return 0.\n",
    "    return -np.exp(x)*(np.cos(x)-2*np.sin(x)-x*np.cos(x)-x*np.sin(x))\n",
    "\n",
    "def Gauss_int_1D_source_test(Gpn, Gauss_points, Gauss_weights, source_fun, vertices, \\\n",
    "                            der_order_test,  basis_type_test,  basis_index_test):\n",
    "    int_value = 0.\n",
    "    for k in range (Gpn):\n",
    "        int_value += Gauss_weights[k]*source_fun(Gauss_points[k])*\\\n",
    "                        local_basis_1D(Gauss_points[k], vertices, basis_type_test, basis_index_test, der_order_test)\n",
    "    return int_value\n",
    "\n",
    "def assemble_vector_1D(source_fun, Gauss_points_ref, Gauss_weights_ref, \\\n",
    "                       P, T, Tb_test, Nlb_test, Nb_test, basis_type_test, der_order_test):\n",
    "    b = np.zeros(Nb_test)\n",
    "    for n in range(number_of_elements):\n",
    "        vertices = P[T[0,n]:T[1,n]+1]\n",
    "        Gauss_points, Gauss_weights=generate_Gauss1D(vertices, Gauss_points_ref, Gauss_weights_ref)\n",
    "        for beta in range(Nlb_test):\n",
    "            int_value=Gauss_int_1D_source_test(Gpn, Gauss_points, Gauss_weights, source_fun, vertices, \\\n",
    "                                                der_order_test,  basis_type_test,  beta)\n",
    "            b[Tb_test[beta,n]] += int_value\n",
    "    return b\n",
    "\n",
    "b = assemble_vector_1D(source_fun, Gauss_points_ref, Gauss_weights_ref, \\\n",
    "                       P, T, Tb_test, Nlb_test, Nb_test, basis_type_test, 0)\n",
    "print (b)\n",
    "#print (np.size(b))"
   ]
  },
  {
   "cell_type": "markdown",
   "metadata": {},
   "source": [
    "### Treat boundary conditions\n",
    "In general: \n",
    "- Boundary information matrix boundarynodes: \n",
    "- boundarynodes[0,k] is the type of the kth boundary finite element node: Dirichlet, Neumann, Robin......\n",
    "- boundarynodes[1,k] is the global node index of the kth boundary finite element node.\n",
    "- Set nbn to be the number of boundary finite element nodes;\n",
    "- Algorithm III can be reorganized into a more general framework by using the boundary information matrix boundarynodes.\n",
    "\n",
    "#### Dirichlet boundary conditions\n",
    "- Define $g(x)$ to be the boundary function which satisfies $g(a)=g_a$ and $g(b)=g_b$;"
   ]
  },
  {
   "cell_type": "code",
   "execution_count": 118,
   "metadata": {},
   "outputs": [
    {
     "name": "stdout",
     "output_type": "stream",
     "text": [
      "4.65966895148e-05\n"
     ]
    },
    {
     "data": {
      "image/png": "[encoded data removed]",
      "text/plain": [
       "<matplotlib.figure.Figure at 0x111bbe2e8>"
      ]
     },
     "metadata": {},
     "output_type": "display_data"
    }
   ],
   "source": [
    "def generate_boundarynodes_1D(Pb):\n",
    "    nbn = 2\n",
    "    boundarynodes = np.zeros([2,nbn],dtype=int)\n",
    "    # boundarynodes[0,i] = 0, Dirichlet\n",
    "    boundarynodes[1,0] = 0\n",
    "    boundarynodes[1,1] = np.size(Pb)-1\n",
    "    return nbn, boundarynodes\n",
    "\n",
    "nbn, boundarynodes = generate_boundarynodes_1D(Pb_trial)\n",
    "#print (nbn)\n",
    "#print (boundarynodes)\n",
    "\n",
    "def Dirichlet_fun(x):\n",
    "    if (x <= left_boundary+1.e-10):\n",
    "        return 0.\n",
    "    elif (x >= right_boundary - 1.e-10):\n",
    "        return np.cos(1)\n",
    "\n",
    "def treat_Dirichlet_boundary(A, b, Pb, nbn, boundarynodes, Dirichlet_fun):\n",
    "    for k in range(nbn):\n",
    "        if (boundarynodes[0,k] == 0):\n",
    "            i = boundarynodes[1,k]\n",
    "            A[i,:] = 0\n",
    "            A[i,i] = 1\n",
    "            b[i] = Dirichlet_fun(Pb[i])\n",
    "    return A, b\n",
    "\n",
    "def exact_fun(x):\n",
    "    return x*np.cos(x)\n",
    "\n",
    "A, b = treat_Dirichlet_boundary(A, b, Pb_trial, nbn, boundarynodes, Dirichlet_fun)\n",
    "#print (A, b)\n",
    "\n",
    "u = np.linalg.solve(A,b)\n",
    "#print (u)\n",
    "err = np.zeros(np.size(Pb_trial))\n",
    "for i in range (np.size(Pb_trial)):\n",
    "    err[i] = np.abs(u[i] - exact_fun(Pb_trial[i]))\n",
    "print (np.max(err))\n",
    "\n",
    "plt.plot(Pb_trial, u, 'k')\n",
    "plt.plot(Pb_trial, Pb_trial*np.cos(Pb_trial))\n",
    "plt.show()"
   ]
  },
  {
   "cell_type": "code",
   "execution_count": 122,
   "metadata": {},
   "outputs": [
    {
     "name": "stdout",
     "output_type": "stream",
     "text": [
      "4.61e-11\n"
     ]
    }
   ],
   "source": [
    "def Poisson1D_solver(left_boundary, right_boundary, number_of_elements, basis_type,\\\n",
    "                     Gpn, coeff_fun, source_fun, Dirichlet_fun, exact_fun):\n",
    "    # P, T matrice\n",
    "    P, T = generate_PT_1D(left_boundary, right_boundary, number_of_elements)\n",
    "\n",
    "    basis_type_trial = basis_type\n",
    "    basis_type_test  = basis_type\n",
    "\n",
    "    # Nlb, number of local basis\n",
    "    Nlb_trial = generate_Nlb(basis_type_trial)\n",
    "    Nlb_test  = generate_Nlb(basis_type_test)\n",
    "    Nb_trial, Pb_trial, Tb_trial = generate_NbPbTb_1D(P, T, basis_type_trial)\n",
    "    Nb_test,  Pb_test,  Tb_test  = generate_NbPbTb_1D(P, T, basis_type_test)\n",
    "\n",
    "    # Gauss point number\n",
    "    Gauss_points_ref, Gauss_weights_ref = GQ.LegendreQuad(Gpn)\n",
    "    \n",
    "    # Assemble local to global\n",
    "    A = assemble_matrix_1D(coeff_fun, Gauss_points_ref, Gauss_weights_ref, \n",
    "                       P, T, Tb_trial, Tb_test, Nlb_trial, Nlb_test, Nb_trial, Nb_test,\\\n",
    "                       basis_type_trial, 1, basis_type_test, 1)\n",
    "    b = assemble_vector_1D(source_fun, Gauss_points_ref, Gauss_weights_ref, \\\n",
    "                       P, T, Tb_test, Nlb_test, Nb_test, basis_type_test, 0)\n",
    "    \n",
    "    # deal with boundary\n",
    "    nbn, boundarynodes = generate_boundarynodes_1D(Pb_trial)\n",
    "    # Dirichlet boundary\n",
    "    A, b = treat_Dirichlet_boundary(A, b, Pb_trial, nbn, boundarynodes, Dirichlet_fun)\n",
    "    \n",
    "    # solve the solution\n",
    "    u = np.linalg.solve(A,b)\n",
    "    #print (u)\n",
    "    \n",
    "    # maximum error at nodes \n",
    "    err = np.zeros(np.size(Pb_trial))\n",
    "    for i in range (np.size(Pb_trial)):\n",
    "        err[i] = np.abs(u[i] - exact_fun(Pb_trial[i]))\n",
    "    \n",
    "    return np.max(err), Pb_trial, u\n",
    "#\n",
    "err, Pb, u = Poisson1D_solver(left_boundary, right_boundary, number_of_elements, 102,\\\n",
    "                     Gpn, coeff_fun, source_fun, Dirichlet_fun, exact_fun)\n",
    "print (\"%7.2e\" % err)\n",
    "\n",
    "def FE_solution(x, uh_local, vertices, basis_type, Nlb, der_order):\n",
    "    result = 0.\n",
    "    for i in range(Nlb):\n",
    "        result += uh_local[i]*local_basis_1D(x, vertices, basis_type, i, der_order)\n",
    "    return result"
   ]
  },
  {
   "cell_type": "markdown",
   "metadata": {
    "collapsed": true
   },
   "source": [
    "\\begin{example}\\label{example:1}\n",
    "    Use the 1D linear finite element method to solve the following equation:\n",
    "    \\begin{align*}\n",
    "         -\\frac{d}{dx}\\left(e^x\\frac{d u(x)}{dx}\\right) &= -e^x[\\cos(x)-2\\sin(x)-x\\cos(x) - x\\sin(x)],\\,\\, (0 \\leq x \\leq 1), \\\\\n",
    "         u(0) &= 0,\\,\\,u(1) = \\cos(1).\n",
    "    \\end{align*}\n",
    "    \\begin{itemize}\n",
    "        \\item The analytic solution of this problem is $u = x\\cos(x)$, which can be used to compute the error of the numerical solution.\n",
    "        \\item Second order convergence $\\mathcal{O}(h^2)$ since the error is reduced by $1$ when $h$ is reduced by half.\n",
    "        \\item This matches the optimal approximation capability expected from piecewise linear functions.\n",
    "    \\end{itemize}\n",
    "\\end{example}"
   ]
  },
  {
   "cell_type": "code",
   "execution_count": 124,
   "metadata": {},
   "outputs": [
    {
     "name": "stdout",
     "output_type": "stream",
     "text": [
      "h      maximum absolute error    order\n",
      "1/4           2.33e-03            --\n",
      "1/8           5.83e-04           2.00\n",
      "1/16          1.46e-04           1.99\n",
      "1/32          3.67e-05           2.00\n",
      "1/64          9.17e-06           2.00\n",
      "1/128         2.29e-06           2.00\n"
     ]
    },
    {
     "data": {
      "image/png": "[encoded data removed]",
      "text/plain": [
       "<matplotlib.figure.Figure at 0x113e0f588>"
      ]
     },
     "metadata": {},
     "output_type": "display_data"
    }
   ],
   "source": [
    "left_boundary_ex1 = 0\n",
    "right_boundary_ex1 = 1\n",
    "\n",
    "Gpn = 6 \n",
    "\n",
    "def coeff_fun_ex1(x):\n",
    "    return np.exp(x) \n",
    "\n",
    "def source_fun_ex1(x):\n",
    "    return -np.exp(x)*(np.cos(x)-2*np.sin(x)-x*np.cos(x)-x*np.sin(x))\n",
    "\n",
    "def Dirichlet_fun_ex1(x):\n",
    "    tiny = 1.e-12\n",
    "    if (x <= left_boundary_ex1 + tiny):\n",
    "        return 0.\n",
    "    elif (x >= right_boundary_ex1 - tiny):\n",
    "        return np.cos(1)\n",
    "\n",
    "def exact_fun_ex1(x):\n",
    "    return x*np.cos(x)\n",
    "\n",
    "number_coarse = 4\n",
    "basis_type = 101\n",
    "print (\"h      maximum absolute error    order\")\n",
    "err = np.zeros(6)\n",
    "for i in range (6):\n",
    "    number_of_elements = number_coarse*2**i\n",
    "    if (i < 5):\n",
    "        err[i], _, _ = Poisson1D_solver(left_boundary_ex1, right_boundary_ex1, number_of_elements, basis_type,\\\n",
    "                             Gpn, coeff_fun_ex1, source_fun_ex1, Dirichlet_fun_ex1, exact_fun_ex1)\n",
    "    elif (i == 5):\n",
    "        err[i], Pb, u = Poisson1D_solver(left_boundary_ex1, right_boundary_ex1, number_of_elements, basis_type,\\\n",
    "                             Gpn, coeff_fun_ex1, source_fun_ex1, Dirichlet_fun_ex1, exact_fun_ex1)\n",
    "    if (i == 0):\n",
    "        print (\"1/%-3d         %7.2e            --\" % (number_of_elements, err[i]))\n",
    "    else:\n",
    "        print (\"1/%-3d         %7.2e           %4.2f\" % (number_of_elements, err[i], np.log(err[i-1]/err[i])/np.log(2)))\n",
    "\n",
    "plt.plot(Pb, u)\n",
    "plt.title(\"Example 1, Number of Elements = %3d\" % number_of_elements)\n",
    "plt.show()"
   ]
  },
  {
   "cell_type": "markdown",
   "metadata": {
    "collapsed": true
   },
   "source": [
    "\\begin{example}\\label{example:2}\n",
    "    Use the 1D quadratric finite element method to solve the following equation:\n",
    "    \\begin{align*}\n",
    "         -\\frac{d}{dx}\\left(e^x\\frac{d u(x)}{dx}\\right) &= -e^x[\\cos(x)-2\\sin(x)-x\\cos(x) - x\\sin(x)],\\,\\, (0 \\leq x \\leq 1), \\\\\n",
    "         u(0) &= 0,\\,\\,u(1) = \\cos(1).\n",
    "    \\end{align*}\n",
    "    \\begin{itemize}\n",
    "        \\item The analytic solution of this problem is $u = x\\cos(x)$, which can be used to compute the error of the numerical solution.\n",
    "        \\item Second order convergence $\\mathcal{O}(h^3)$ since the error is reduced by $1$ when $h$ is reduced by half.\n",
    "        \\item This matches the optimal approximation capability expected from piecewise quadratric functions.\n",
    "    \\end{itemize}\n",
    "\\end{example}"
   ]
  },
  {
   "cell_type": "code",
   "execution_count": 125,
   "metadata": {},
   "outputs": [
    {
     "name": "stdout",
     "output_type": "stream",
     "text": [
      "h      maximum absolute error    order\n",
      "1/4           4.66e-05            --\n",
      "1/8           2.99e-06           3.96\n",
      "1/16          1.89e-07           3.98\n",
      "1/32          1.19e-08           3.99\n",
      "1/64          7.44e-10           4.00\n",
      "1/128         4.61e-11           4.01\n"
     ]
    },
    {
     "data": {
      "image/png": "[encoded data removed]",
      "text/plain": [
       "<matplotlib.figure.Figure at 0x113e0f4a8>"
      ]
     },
     "metadata": {},
     "output_type": "display_data"
    }
   ],
   "source": [
    "number_coarse = 4\n",
    "basis_type = 102\n",
    "print (\"h      maximum absolute error    order\")\n",
    "err = np.zeros(6)\n",
    "for i in range (6):\n",
    "    number_of_elements = number_coarse*2**i\n",
    "    if (i < 5):\n",
    "        err[i], _, _ = Poisson1D_solver(left_boundary_ex1, right_boundary_ex1, number_of_elements, basis_type,\\\n",
    "                             Gpn, coeff_fun_ex1, source_fun_ex1, Dirichlet_fun_ex1, exact_fun_ex1)\n",
    "    elif (i == 5):\n",
    "        err[i], Pb, u = Poisson1D_solver(left_boundary_ex1, right_boundary_ex1, number_of_elements, basis_type,\\\n",
    "                             Gpn, coeff_fun_ex1, source_fun_ex1, Dirichlet_fun_ex1, exact_fun_ex1)\n",
    "    if (i == 0):\n",
    "        print (\"1/%-3d         %7.2e            --\" % (number_of_elements, err[i]))\n",
    "    else:\n",
    "        print (\"1/%-3d         %7.2e           %4.2f\" % (number_of_elements, err[i], np.log(err[i-1]/err[i])/np.log(2)))\n",
    "\n",
    "plt.plot(Pb, u)\n",
    "plt.title(\"Example 1, Number of Elements = %3d\" % number_of_elements)\n",
    "plt.show()"
   ]
  },
  {
   "cell_type": "code",
   "execution_count": null,
   "metadata": {
    "collapsed": true
   },
   "outputs": [],
   "source": []
  }
 ],
 "metadata": {
  "kernelspec": {
   "display_name": "Python 3",
   "language": "python",
   "name": "python3"
  },
  "language_info": {
   "codemirror_mode": {
    "name": "ipython",
    "version": 3
   },
   "file_extension": ".py",
   "mimetype": "text/x-python",
   "name": "python",
   "nbconvert_exporter": "python",
   "pygments_lexer": "ipython3",
   "version": "3.6.3"
  },
  "latex_envs": {
   "LaTeX_envs_menu_present": true,
   "autocomplete": true,
   "bibliofile": "biblio.bib",
   "cite_by": "apalike",
   "current_citInitial": 1,
   "eqLabelWithNumbers": true,
   "eqNumInitial": 1,
   "hotkeys": {
    "equation": "Ctrl-E",
    "itemize": "Ctrl-I"
   },
   "labels_anchors": false,
   "latex_user_defs": false,
   "report_style_numbering": false,
   "user_envs_cfg": false
  },
  "toc": {
   "nav_menu": {},
   "number_sections": true,
   "sideBar": true,
   "skip_h1_title": false,
   "toc_cell": false,
   "toc_position": {},
   "toc_section_display": "block",
   "toc_window_display": false
  }
 },
 "nbformat": 4,
 "nbformat_minor": 2
}
