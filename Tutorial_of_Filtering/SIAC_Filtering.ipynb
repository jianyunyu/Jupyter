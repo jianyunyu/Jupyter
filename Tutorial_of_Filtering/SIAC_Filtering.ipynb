{
 "cells": [
  {
   "cell_type": "markdown",
   "metadata": {},
   "source": [
    "# Tutorial of SIAC Filtering\n",
    "\n",
    "<a rel=\"license\" href=\"http://creativecommons.org/licenses/by/4.0/\"><img alt=\"Creative Commons License\" style=\"border-width:0\" src=\"https://i.creativecommons.org/l/by/4.0/80x15.png\" /></a><br />This tutorial by Xiaozhou Li is licensed under a <a rel=\"license\" href=\"http://creativecommons.org/licenses/by/4.0/\">Creative Commons Attribution 4.0 International License</a>.  \n",
    "All code examples are also licensed under the [MIT license](http://opensource.org/licenses/MIT)."
   ]
  },
  {
   "cell_type": "markdown",
   "metadata": {},
   "source": [
    "## What is SIAC Filtering\n",
    "A standard definition of SIAC Filtering is a B-spline based convolution processing technique.  The name SIAC means Smoothness-Increasing Accuracy-Conserving.  The formulation can be written as\n",
    "$$ u_h^{\\star}(x, T) = (K_h\\star u_h)(x, T) = \\int_{-\\infty}^{\\infty}K_h(x - \\xi)u_h(\\xi, T) d\\xi, $$\n",
    "where $K_h$ is the so-called SIAC filter."
   ]
  },
  {
   "cell_type": "markdown",
   "metadata": {},
   "source": [
    "## A Review of B-spline\n",
    "First, we recall the definition of B-splines given by de Boor \\cite{Boor:2001}.\n",
    "\n",
    "__B-spline__ \n",
    "\n",
    "Let $\\mathbf{t}:= (t_j)$ be a __nondecreasing sequence__ of real numbers that create a so-called knot sequence. The $j$th B-spline of order $\\ell$ for the knot sequence $\\mathbf{t}$ is denoted by $B_{j,\\ell,\\mathbf{t}}$ and is defined, for $\\ell=1$, by the rule\n",
    "\\begin{equation}\n",
    "    B_{j,1,\\mathbf{t}}(x) =\n",
    "        \\left\\{\\begin{array}{ll}\n",
    "        1, & t_j \\leq x < t_{j+1}; \\\\\n",
    "        0, & \\text{otherwise}.\n",
    "        \\end{array} \\right.\n",
    "\\end{equation}\n",
    "In particular, $t_j = t_{j+1}$ leads to $B_{j,1,\\mathbf{t}} = 0.$ For $\\ell > 1$,\n",
    "\\begin{align*}\n",
    " B_{j,\\ell,\\mathbf{t}}(x)\n",
    "= \\omega_{j,k,\\mathbf{t}}B_{j,\\ell-1,\\mathbf{t}} +\n",
    "(1 - \\omega_{j+1,\\ell,\\mathbf{t}})B_{j+1,\\ell-1,\\mathbf{t}},\n",
    "\\end{align*}\n",
    "with\n",
    "$$ \\omega_{j,\\ell,\\mathbf{t}}(x) = \\frac{x-t_j}{t_{j+\\ell-1}-t_{j}}.$$"
   ]
  },
  {
   "cell_type": "markdown",
   "metadata": {},
   "source": [
    "- The knot sequence $\\mathbf{t}$ also represents the so-called breaks of the B-spline. \n",
    "- The B-spline in the region $[t_i, t_{i+1}),\\, i = 0,\\ldots,\\ell-1$ is a polynomial of degree $\\ell-1$, but in the entire support $[t_0,t_{\\ell}]$, the B-spline is a piecewise polynomial. \n",
    "- When the knots $(t_j)$ are sampled in a symmetric and equidistant fashion, the B-spline is called a central B-spline. \n",
    "\n",
    "__Central B-spline__\n",
    "\n",
    "A central B-spline of order $\\ell$ has a knot sequence that is uniformly spaced and symmetrically distributed \n",
    "$$\\mathbf{t}=-\\frac{\\ell}{2},-\\frac{\\ell-2}{2},\\cdots,\\frac{\\ell-2}{2},\\frac{\\ell}{2}.$$\n",
    "For convenience, we denote $\\psi_{\\mathbf{t}}^{(\\ell)}(x)$ to be the $0^{th}$ B-spline of order $\\ell$ for the knot sequence $\\mathbf{t}$, \n",
    "$$\\psi_{\\mathbf{t}}^{(\\ell)}(x) = B_{0,\\ell,\\mathbf{t}}(x).$$\n",
    "\n"
   ]
  },
  {
   "cell_type": "code",
   "execution_count": 375,
   "metadata": {
    "collapsed": true
   },
   "outputs": [],
   "source": [
    "# environment setting, before any codes\n",
    "import numpy as np\n",
    "import numpy.polynomial.legendre as npleg\n",
    "%matplotlib inline\n",
    "%config InlineBackend.figure_format = 'retina'\n",
    "import matplotlib.pyplot as plt\n",
    "from ipywidgets import interact, interactive, fixed, interact_manual\n",
    "import ipywidgets as widgets\n",
    "from IPython.display import clear_output, display"
   ]
  },
  {
   "cell_type": "markdown",
   "metadata": {},
   "source": [
    "### Implementing of B-splines\n",
    "Here, we adopt de Boor's algorithm B-spline to implement B-spline\n",
    "```python\n",
    "    def bspline(x, order, T)\n",
    "```\n",
    "where\n",
    "- $x$: the evaluation point \n",
    "- $order$: the order of B-spline (polynomial degree $= order-1$)\n",
    "- $T$: $T[0], \\ldots, T[order]$ the nodes b-spline\n",
    "Note:\n",
    "- One has to be careful once the evaluation point $x$ is located at the end nodes of the B-spline. It is the reason to introduce the $tiny$ variable$."
   ]
  },
  {
   "cell_type": "code",
   "execution_count": 376,
   "metadata": {
    "collapsed": true
   },
   "outputs": [],
   "source": [
    "def bspline(x, order, T):\n",
    "    tiny = 1.e-13\n",
    "    if (x < T[0]-tiny or x > T[order]+tiny):\n",
    "        return 0.\n",
    "    else:\n",
    "        if (np.abs(x - T[0])) < tiny:\n",
    "            x = T[0] + 2*tiny\n",
    "        if (np.abs(x - T[order])) < tiny:\n",
    "            x = T[order] - 2*tiny \n",
    "        for i in range(order):\n",
    "            if (x >= T[i]-tiny and x < T[i+1]-tiny):\n",
    "                left = i\n",
    "                break\n",
    "        B1 = np.zeros(order+1)\n",
    "        B1[left] = 1.\n",
    "        for i in range(1,order):\n",
    "            B2 = B1\n",
    "            for j in range(0,order-i):\n",
    "                if (B2[j] < tiny):\n",
    "                    termL = 0.\n",
    "                else:\n",
    "                    termL = (x - T[j])/(T[i+j] - T[j])*B2[j]\n",
    "                if (B2[j+1] < tiny):\n",
    "                    termR = 0.\n",
    "                else:\n",
    "                    termR = (T[i+j+1] - x)/(T[i+j+1] - T[j+1])*B2[j+1]\n",
    "                B1[j] = termL + termR\n",
    "        return B1[0]"
   ]
  },
  {
   "cell_type": "code",
   "execution_count": 377,
   "metadata": {},
   "outputs": [
    {
     "data": {
      "image/png": "[encoded data removed]",
      "text/plain": [
       "<matplotlib.figure.Figure at 0x7f376fc6b3c8>"
      ]
     },
     "metadata": {
      "image/png": {
       "height": 250,
       "width": 373
      }
     },
     "output_type": "display_data"
    }
   ],
   "source": [
    "def plot_bspline(order,T):\n",
    "    samples = 21\n",
    "    tiny = 1.e-13\n",
    "    for i in range(np.size(T)-1):\n",
    "        if (np.abs(T[i] - T[i+1]) > tiny):\n",
    "            x = np.linspace(T[i], T[i+1], samples)\n",
    "            y = np.zeros(samples)\n",
    "            for j in range(samples):\n",
    "                y[j] = bspline(x[j], order, T)\n",
    "            plt.plot(x, y,'-.r',linewidth=2)\n",
    "\n",
    "order = 4\n",
    "T1 = np.array([-2, -1, 0, 1, 2])\n",
    "T2 = np.array([1, 2, 2, 2, 2])\n",
    "plot_bspline(order,T1)\n",
    "plot_bspline(order,T2)\n",
    "plt.show()"
   ]
  },
  {
   "cell_type": "markdown",
   "metadata": {},
   "source": [
    "## Construction of the Simplest SIAC Filter\n",
    "In the early literatures like \\cite{Bramble:1977} and \\cite{Cockburn:2003}, the classic filter is defined as \n",
    "\\begin{equation}\n",
    "    K^{(2k+1,k+1)}(x) = \\sum\\limits_{\\gamma=0}^{2k}c^{(2k+1,k+1)}_{\\gamma}\\psi^{(k+1)}\\left(x - x_\\gamma\\right),\n",
    "\\end{equation}\n",
    "where $x_\\gamma = \\gamma - k$ and $\\psi^{(k+1)}$ is the $(k+1)$th order __central B-spline__.  The scaled filter used for filtering is given by\n",
    "$$ K_h^{(2k+1,k+1)}(x) = \\frac{1}{h}K^{(2k+1,k+1)}\\left(\\frac{x}{h}\\right). $$\n",
    "Here, we follow the extensions in \\cite{Li:2015} for a more general framework\n",
    "\\begin{equation}\n",
    "    K^{(r+1,\\ell)}(x) = \\sum\\limits_{\\gamma=0}^{r}c^{(r+1,\\ell)}_{\\gamma}\\psi^{\\ell}\\left(x - \\eta x_\\gamma\\right),\n",
    "\\end{equation}\n",
    "where $x_\\gamma = \\eta\\left(\\gamma - \\frac{r}{2}\\right)$ and $\\psi^{\\ell}$ is the $\\ell$th order __central B-spline__.  Furthermore, $r+1$ is the number of B-splines and $\\eta$ is the compression factor."
   ]
  },
  {
   "cell_type": "markdown",
   "metadata": {},
   "source": [
    "### The nodes matrix \n",
    "To design a general framework to construct the filter, we introduce the concept of nodes matrix.  \n",
    "\n",
    "__nodes matrix:__\n",
    "\n",
    "A nodes matrix,  $T$, is an $(r+1) \\times (\\ell+1)$ matrix such that the $\\gamma-$th row, $T[\\gamma,:]$, of the matrix $T$ is a nodes sequence with $\\ell+1$ elements that are used to create the B-spline $\\psi_{T[\\gamma,:]}^{\\ell}(x)$.  The number of rows $r+1$ is specified based on the number of B-splines used to construct the filter. \n",
    "\n",
    "As we mensioned before, the $\\ell$th order central B-spline has the nodes sequence \n",
    "$$\\left[-\\frac{\\ell}{2},-\\frac{\\ell-2}{2},\\cdots,\\frac{\\ell-2}{2},\\frac{\\ell}{2}\\right],$$\n",
    "which leads \n",
    "$$T[\\gamma,:] = \\eta x_\\gamma + \\left[-\\frac{\\ell}{2},-\\frac{\\ell-2}{2},\\cdots,\\frac{\\ell-2}{2},\\frac{\\ell}{2}\\right],$$\n",
    "or\n",
    "$$T[j, i] = i - \\frac{\\ell}{2} + \\eta \\left(j - \\frac{r}{2}\\right).$$"
   ]
  },
  {
   "cell_type": "code",
   "execution_count": 378,
   "metadata": {
    "collapsed": true
   },
   "outputs": [],
   "source": [
    "def generate_nodes_T(num, order, compress):\n",
    "    T = np.zeros([num,order+1])\n",
    "    for j in range(num):\n",
    "        for i in range(order+1):\n",
    "            T[j,i] = i - 0.5*order + compress*(j - 0.5*(num-1))\n",
    "    return T\n",
    "##k = 1\n",
    "##print (generate_nodes_T(2*k+1, k+1, 1))"
   ]
  },
  {
   "cell_type": "markdown",
   "metadata": {},
   "source": [
    "### Coefficient\n",
    "After defined the B-splines used to construct the filter, the only thing remains is to decide the coefficient, $\\left\\{c^{(r+1,\\ell)}_\\gamma\\right\\}_{\\gamma=0}^r$.  The coefficients are decided by implementing the property that the filter reproduces polynomials by convolution up to degree $r$, \n",
    "\\begin{equation}\n",
    "    K^{(r+1,\\ell)} \\star p = p, \\quad p = 0, x, ..., x^{r}.\n",
    "\\end{equation}\n",
    "Using the monomials as in the above equation we can obtain the following linear system for the filter coefficients:\n",
    "\\begin{equation}\n",
    "    \\sum\\limits_{\\gamma=0}^{r} c_\\gamma^{(r+1,\\ell)}\\int_{-\\infty}^\\infty \\psi^{(\\ell)}(\\xi - x_\\gamma)(x - \\xi)^m d\\xi = x^m, \\,\\, m = 0, 1,\\ldots,r.\n",
    "\\end{equation}\n",
    "In order to calculate the integration exactly, we use Gaussian quadrature with $\\lceil\\frac{\\ell+m+1}{2}\\rceil$ quadrature points. As an example for $k=1$ ($r = 2k, \\ell=k+1$), we have\n",
    "\\begin{equation}\n",
    "    \\label{eq-Matrix}\n",
    "    \\left[\n",
    "        \\begin{array}{ccc}\n",
    "            1 & 1 & 1\\\\\n",
    "            x-1& x & x+1 \\\\\n",
    "            x^2+2x+\\frac{7}{6} & x^2 + \\frac{1}{6} & x^2-2x+\\frac{7}{6}\n",
    "        \\end{array}\n",
    "    \\right]\n",
    "    \\left[\n",
    "        \\begin{array}{c}\n",
    "            c_0 \\\\\n",
    "            c_1 \\\\\n",
    "            c_2 \\\\\n",
    "        \\end{array}\n",
    "    \\right]\n",
    "    = \n",
    "    \\left[\n",
    "        \\begin{array}{c}\n",
    "            1 \\\\\n",
    "            x \\\\ \n",
    "            x^2 \\\\\n",
    "        \\end{array}\n",
    "    \\right].\n",
    "\\end{equation}\n",
    "Since this linear system holds for all $x$, we can simply set $x=0$ and obtain the coefficients $[c_0, c_1, c_2]^{T} = [ -\\frac{1}{12}, \\frac{7}{6}, -\\frac{1}{12}]^T$.\n"
   ]
  },
  {
   "cell_type": "code",
   "execution_count": 379,
   "metadata": {
    "collapsed": true
   },
   "outputs": [],
   "source": [
    "def generate_coeff(num, order, T):\n",
    "    Gpn = int(np.ceil(0.5*(num+order)))\n",
    "    xg, wg = npleg.leggauss(Gpn)\n",
    "    A = np.zeros([num,num])\n",
    "    b = np.zeros([num])\n",
    "    b[0] = 1.\n",
    "    for i in range(num):\n",
    "        for j in range(num):\n",
    "            for l in range(order):\n",
    "                xm = 0.5*(T[j,l] + T[j,l+1])\n",
    "                xr = 0.5*(T[j,l+1] - T[j,l])\n",
    "                for m in range(Gpn):\n",
    "                    A[i,j] += xr*wg[m]*bspline(xm+xr*xg[m], \\\n",
    "                                               order, T[j,:])* \\\n",
    "                            (-xr*xg[m]-xm)**i\n",
    "    c = np.linalg.solve(A,b)\n",
    "    return c"
   ]
  },
  {
   "cell_type": "code",
   "execution_count": 380,
   "metadata": {
    "collapsed": true
   },
   "outputs": [],
   "source": [
    "def filter(x, num, order, T, c):\n",
    "    sum = 0.\n",
    "    for j in range(num):\n",
    "        sum += c[j]*bspline(x, order, T[j,:])\n",
    "    return sum\n",
    "\n",
    "def plot_filter(num, order, T, c):\n",
    "    samples = 1001\n",
    "    x = np.linspace(T[0,0], T[num-1,order], samples)\n",
    "    y = np.zeros(samples)\n",
    "    for i in range(samples):\n",
    "        y[i] = filter(x[i], num, order, T, c)\n",
    "    plt.plot(x,y,'-k',linewidth=2)"
   ]
  },
  {
   "cell_type": "code",
   "execution_count": 399,
   "metadata": {},
   "outputs": [
    {
     "data": {
      "application/vnd.jupyter.widget-view+json": {
       "model_id": "e50f8dedbaeb428e8c3ffc183822af36",
       "version_major": 2,
       "version_minor": 0
      },
      "text/plain": [
       "A Jupyter Widget"
      ]
     },
     "metadata": {},
     "output_type": "display_data"
    }
   ],
   "source": [
    "def original_filter(degree):\n",
    "    num = 2*degree + 1\n",
    "    order = degree + 1\n",
    "\n",
    "    T = generate_nodes_T(num, order, 1)\n",
    "    c = generate_coeff(num, order, T)\n",
    "    print ('Filter Coefficients:  ', c, '\\n')\n",
    "    #plt.figure(figsize=(10,6))\n",
    "    for i in range(num):\n",
    "        plot_bspline(order, T[i,:])\n",
    "    plot_filter(num, order, T, c)\n",
    "    plt.xlabel('$x$',fontsize=16)\n",
    "    plt.ylabel('$K(x)$',fontsize=16)\n",
    "    plt.xticks(fontsize=12)\n",
    "    plt.yticks(fontsize=12)\n",
    "    plt.title('Original Filter, $k = '+str(degree)+'$',fontsize=18)\n",
    "    plt.show()\n",
    "\n",
    "w = interactive(original_filter, degree=widgets.IntSlider(min=1,max=5,value=1))\n",
    "display(w)"
   ]
  },
  {
   "cell_type": "markdown",
   "metadata": {},
   "source": [
    "## Filtering\n"
   ]
  },
  {
   "cell_type": "markdown",
   "metadata": {},
   "source": [
    "### DG Solution\n",
    "In this tutorial, we do not include the DG codes.  Instead, we will input the DG solution, then apply the filtering.  In the default setting, the DG solution has form\n",
    "\\begin{equation}\n",
    "    u_h(x) = \\sum\\limits_{j=1}^N\\sum\\limits_{l = 0}^k u_{l,j}\\phi_j^l(x),\n",
    "\\end{equation}\n",
    "where $\\left\\{\\phi_j^l\\right\\}_{l=0}^k$ is the standard Legendre polynomial on the element $I_j = [x_{j-\\frac{1}{2}},x_{j+\\frac{1}{2}}]$.  Coefficients $\\left\\{u_{l,j}\\right\\}$ are provided by data file, $DGsolution\\_k?\\_N?.dat$, with column-major order ($l$-major).  This data is computed for the linear equation\n",
    "\\begin{equation*}\n",
    "   u_t + u_x = 0\n",
    "\\end{equation*}\n",
    "on the uniform mesh for domain $[0,1]$ with exact solution \n",
    "$$u(x,T) = \\sin(2\\pi(x-T))$$ \n",
    "at $T = 1$.\n",
    "\n",
    "First of all, we define a function to read the DG data and return the coefficients $u[l,j]$\n",
    "```python\n",
    "    def Input_DG(EleNum, degree)\n",
    "```\n",
    "where\n",
    "- $N$: the number of elements\n",
    "- $k$: the polynomial degree of DG basis"
   ]
  },
  {
   "cell_type": "code",
   "execution_count": 382,
   "metadata": {
    "collapsed": true
   },
   "outputs": [],
   "source": [
    "def Input_DG(EleNum, degree):\n",
    "    u = np.loadtxt(\"DGdata/DGsolution_k\"+str(degree)+\"_N\"+str(EleNum)+\".dat\")\n",
    "    return np.transpose(np.reshape(u,[EleNum,degree+1]))"
   ]
  },
  {
   "cell_type": "markdown",
   "metadata": {},
   "source": [
    "Before we apply the filtering, let us have a look of the error of DG solutions.  To do so, we have to define the Legendre basis function\n",
    "```python\n",
    "    def LegendreBasis(x,degree)\n",
    "```"
   ]
  },
  {
   "cell_type": "code",
   "execution_count": 383,
   "metadata": {
    "collapsed": true
   },
   "outputs": [],
   "source": [
    "def LegendreBasis(x, degree):\n",
    "    coeff = np.zeros(degree+1)\n",
    "    coeff[degree] = 1.\n",
    "    return npleg.legval(x, coeff)"
   ]
  },
  {
   "cell_type": "code",
   "execution_count": 384,
   "metadata": {
    "collapsed": true
   },
   "outputs": [],
   "source": [
    "def print_OrderTable(number_coarse, erri, err2):\n",
    "    print (\"  N  Linf norm order  L2 norm  order\")\n",
    "    for i in range(np.size(erri)):\n",
    "        N = number_coarse*2**i\n",
    "        if (i == 0):\n",
    "            print (\"%3d  %7.2e   --   %7.2e   --\" % \\\n",
    "                   (N, erri[i], err2[i]))\n",
    "        else:\n",
    "            print (\"%3d  %7.2e  %4.2f  %7.2e  %4.2f\" % \\\n",
    "                       (N, \\\n",
    "                        erri[i], np.log(erri[i-1]/erri[i])/np.log(2),\\\n",
    "                        err2[i], np.log(err2[i-1]/err2[i])/np.log(2)))"
   ]
  },
  {
   "cell_type": "code",
   "execution_count": 385,
   "metadata": {},
   "outputs": [
    {
     "data": {
      "application/vnd.jupyter.widget-view+json": {
       "model_id": "44c4177c49d440b98b7a1d0d8955e361",
       "version_major": 2,
       "version_minor": 0
      },
      "text/plain": [
       "A Jupyter Widget"
      ]
     },
     "metadata": {},
     "output_type": "display_data"
    }
   ],
   "source": [
    "def DG_order(number_coarse, degree):\n",
    "    Gpn = 6\n",
    "    xg, wg = npleg.leggauss(Gpn)\n",
    "    err2 = np.zeros(4)\n",
    "    erri = np.zeros(4)\n",
    "    style = ['b.','g-.','r--','c-']\n",
    "    \n",
    "    for i in range(4):\n",
    "        N = number_coarse*2**(i)\n",
    "        u = Input_DG(N, degree)\n",
    "        x = np.linspace(0, 1, N+1)\n",
    "        dx = np.diff(x)\n",
    "        ## plotting\n",
    "        plot_x = np.empty(N*Gpn)\n",
    "        plot_y = np.empty(N*Gpn)\n",
    "        \n",
    "        for j in range(N):\n",
    "            for m in range(Gpn):\n",
    "                uh = 0.\n",
    "                xj = (x[j+1]+x[j])/2 + dx[j]*xg[m]/2\n",
    "                for l in range(degree+1):\n",
    "                    uh += u[l,j]*LegendreBasis(xg[m], l)\n",
    "                err = np.abs(np.sin(2*np.pi*xj)-uh)\n",
    "                err2[i] += 0.5*dx[j]*wg[m]*err**2\n",
    "                erri[i] = max(erri[i], err)\n",
    "                \n",
    "                plot_x[j*Gpn+m] = xj\n",
    "                plot_y[j*Gpn+m] = err\n",
    "        err2[i] = np.sqrt(err2[i]/1.)\n",
    "        plt.plot(plot_x, plot_y, style[i],linewidth=2.0, label=\"N = \" + str(N))\n",
    "    print_OrderTable(number_coarse, erri, err2)\n",
    "    plt.yscale('log')\n",
    "    ax = plt.legend(fontsize=14)\n",
    "    ax.draw_frame(False)\n",
    "    plt.xlim(0, 1)\n",
    "    #plt.ylim(1.e-6,1.e0)\n",
    "    plt.xlabel('x',fontsize=18)\n",
    "    plt.ylabel('|error|',fontsize=18)\n",
    "    plt.show()\n",
    "\n",
    "#DG_order(20, 3)\n",
    "w = interactive(DG_order, number_coarse=fixed(20), degree=widgets.IntSlider(min=1,max=4,value=1))\n",
    "display(w)"
   ]
  },
  {
   "cell_type": "markdown",
   "metadata": {},
   "source": [
    "__Note:__ \n",
    "    \n",
    "Actually, one can use numpy function\n",
    "```python\n",
    "    numpy.polynomial.legendre.legval(x, u[0:degree+1,j])\n",
    "```\n",
    "to evaluate $u_h$ directly.  In fact, as a post-processing technique, there is no need to know the basis functions information of the DG solution.  One only needs to know the evaluation of $u_h(x)$. Of course, in order to calculate the convolution properly, we still need the mesh information of the DG method.    "
   ]
  },
  {
   "cell_type": "code",
   "execution_count": 386,
   "metadata": {
    "collapsed": true
   },
   "outputs": [],
   "source": [
    "def point_location(x, grid):\n",
    "    tiny = 1.e-10\n",
    "    # assume periodic condition\n",
    "    x = np.mod(x, 1)\n",
    "    for n in range(np.size(grid)-1):\n",
    "        if (grid[n] - tiny <= x and x <= grid[n+1] -tiny):\n",
    "            return n\n",
    "    return np.size(grid)-2\n",
    "\n",
    "def u_DG(x, element_index, u):\n",
    "    return npleg.legval(x, u[:,element_index])"
   ]
  },
  {
   "cell_type": "code",
   "execution_count": 387,
   "metadata": {},
   "outputs": [
    {
     "data": {
      "application/vnd.jupyter.widget-view+json": {
       "model_id": "0763f8790a944aab82be7ec3c2d57718",
       "version_major": 2,
       "version_minor": 0
      },
      "text/plain": [
       "A Jupyter Widget"
      ]
     },
     "metadata": {},
     "output_type": "display_data"
    }
   ],
   "source": [
    "def DG_order(number_coarse, degree):\n",
    "    Gpn = 6\n",
    "    xg, wg = npleg.leggauss(Gpn)\n",
    "    err2 = np.zeros(4); erri = np.zeros(4)\n",
    "    style = ['b.','g-.','r--','c-']\n",
    "    \n",
    "    for ii in range(4):\n",
    "        N = number_coarse*2**(ii)\n",
    "        u = Input_DG(N, degree)\n",
    "        x = np.linspace(0, 1, N+1)\n",
    "        dx = np.diff(x)\n",
    "        ## plotting\n",
    "        plot_x = np.empty(N*Gpn); plot_y = np.empty(N*Gpn)\n",
    "        \n",
    "        for j in range(N):\n",
    "            for m in range(Gpn):\n",
    "                xj = (x[j+1]+x[j])/2 + dx[j]*xg[m]/2\n",
    "                #uh = u_DG(xg[m], point_location(xj,x), u)\n",
    "                uh = u_DG(xg[m], j, u)\n",
    "                err = np.abs(np.sin(2*np.pi*xj)-uh)\n",
    "                err2[ii] += 0.5*dx[j]*wg[m]*err**2\n",
    "                erri[ii] = max(erri[ii], err)\n",
    "                \n",
    "                plot_x[j*Gpn+m] = xj; plot_y[j*Gpn+m] = err\n",
    "        err2[ii] = np.sqrt(err2[ii]/1.)\n",
    "        plt.plot(plot_x, plot_y, style[ii],linewidth=2.0, label=\"N = \" + str(N))\n",
    "    print_OrderTable(number_coarse, erri, err2)\n",
    "    \n",
    "    plt.yscale('log')\n",
    "    ax = plt.legend(fontsize=14); ax.draw_frame(False)\n",
    "    plt.xlim(0, 1); #plt.ylim(1.e-6,1.e0)\n",
    "    plt.xlabel('x',fontsize=18); plt.ylabel('|error|',fontsize=18)\n",
    "    plt.show()\n",
    "\n",
    "#DG_order(20, 3)\n",
    "w = interactive(DG_order, number_coarse=fixed(20), degree=widgets.IntSlider(min=1,max=4,value=2))\n",
    "display(w)"
   ]
  },
  {
   "cell_type": "markdown",
   "metadata": {},
   "source": [
    "### Evaluation of the Convolution \n",
    "$$ u_h^{\\star}(x, T) = (K_H\\star u_h)(x, T) = \\int_{-\\infty}^{\\infty}K_H(x - \\xi)u_h(\\xi, T) d\\xi, $$\n",
    "The basic operation used in SIAC filtering is convolution of the DG solution against a B-spline based filter. Here, we explicitly point out the steps to efficient evaluation of the convolution operator.  In the one-dimensional case, denote $\\{I_j\\}_{j=1}^N$ be the mesh of the DG solution.\n",
    "*  To calculate the integration, we first need to specify the support range.  The support size of the filter is decided by its nodes matrix $T$ that $\\text{K(x)} = \\left[\\min{T}, \\max{T}\\right]$.  Therefore, to evaluate the filtered solution at the point $x \\in I_j$, we have \n",
    "\\begin{equation}\n",
    "    \\begin{split}\n",
    "    u_h^\\star(x) & = \\frac{1}{H}\\int_{-\\infty}^\\infty K^{(r,\\ell)}\\left(\\frac{x - \\xi}{H}\\right)u_h(\\xi) d\\xi \\\\\n",
    "               & = \\frac{1}{H}\\int_{x - H\\cdot\\max\\{T\\}}^{x- H\\cdot\\min\\{T\\}}K^{(r,\\ell)}\\left(\\frac{x-\\xi}{H}\\right)u_h(\\xi) d\\xi\n",
    "    \\end{split}\n",
    "\\end{equation}"
   ]
  },
  {
   "cell_type": "markdown",
   "metadata": {},
   "source": [
    "* The above integration is calculated by Gauss quadrature with at least $k+1$ quadrature points.  However, both the DG solution and the filter are piecewise polynomials.  Therefore, we have to divide the integration interval, $\\left[x - H\\cdot\\max\\{T\\}, x- H\\cdot\\min\\{T\\}\\right]$ into many subintervals, such that both the DG solution and the filter are polynomials on each subinterval.  \n",
    "    - First, find the DG elements that involved in the integration, that \n",
    "        $$A(x) = \\left\\{i:\\quad I_i \\cap \\left[x - H\\cdot\\max\\{T\\}, x- H\\cdot\\min\\{T\\}\\right] \\neq \\varnothing \\right\\},$$\n",
    "        then we write the integration as  \n",
    "        $$u_h^\\star(x) = \\frac{1}{H}\\sum\\limits_{i \\in A(x)} \\int_{I_{i}}K^{(r,\\ell)}\\left(\\frac{x-\\xi}{H}\\right)u_h(\\xi) d\\xi. $$\n",
    "    - Then we divide the elements $I_i$ into several subintervals that $I_i = \\bigcup\\limits_{\\alpha=1}^{n_{i}}I_{i}^\\alpha$ according to the breaks of the filter such that on each subinterval $I_{i}^\\alpha$ the filter is a polynomial, it leads\n",
    "\\begin{equation}\n",
    "    \\begin{split}\n",
    "        & \\int_{I_{i}}K^{(r,\\ell)}\\left(\\frac{x-\\xi}{H}\\right)u_h(\\xi) d\\xi \\\\\n",
    "        = &\\, \\sum\\limits_{\\alpha=1}^{n_{i}}\\int_{I_{i}^\\alpha}K^{(r,\\ell)}\\left(\\frac{x-\\xi}{H}\\right)u_h(\\xi) d\\xi.\n",
    "    \\end{split}\n",
    "\\end{equation}\n",
    "    - Finally, we can apply the Gauss quadrature to calculate the integration on subintervals $I_{i}^\\alpha$."
   ]
  },
  {
   "cell_type": "markdown",
   "metadata": {},
   "source": [
    "__Note:__ \n",
    "* For uniform meshes, we usually choose the uniform element size $h$ as the filter scaling, $H = h$.  Therefore, we only need to divide each element $I_{i}$ into two subintervals. \n",
    "* For nonuniform meshes, the scaling and the number of subintervals is dependent on the mesh. To speed up the filtering process, sometimes it is possible to use inexact integration.  However, first step is necessary. \n",
    "* In multi-dimensions, the filter is a tensor product of the one-dimensional filters. The implementation of the multi-dimensional SIAC filter over rectangular meshes is the same. For triangular meshes, the principles are the same and one can find the details in another [notebook]()."
   ]
  },
  {
   "cell_type": "markdown",
   "metadata": {},
   "source": [
    "### Step by Step Python Implementation\n",
    "In previous section, we have discussed the algorithm Now, let us implementing the filtering step by step.\n",
    "\n",
    "* __Filter Nodes__ \n",
    "```python\n",
    "    def generate_filter_nodes(T):\n",
    "            ---\n",
    "        return filter_nodes\n",
    "```\n",
    "the $filter\\_nodes$ stores all the nodes of the filter, which is the union of the nodes of all used B-splines.\n",
    "    - Be aware that the nodes may be float numbers, it is not safe to use np.unique directly."
   ]
  },
  {
   "cell_type": "code",
   "execution_count": 388,
   "metadata": {
    "collapsed": true
   },
   "outputs": [],
   "source": [
    "def generate_filter_nodes(T):\n",
    "    tiny = 1.e-13\n",
    "    filter_nodes = np.array([np.min(T), np.max(T)])\n",
    "    for j in range(np.size(T,axis=0)):\n",
    "        for i in range(np.size(T,axis=1)):\n",
    "            for m in range(np.size(filter_nodes)):\n",
    "                if (np.abs(filter_nodes[m] - T[j,i]) < tiny):\n",
    "                    break\n",
    "                if (filter_nodes[m] - T[j,i] > tiny):\n",
    "                    filter_nodes = np.insert(filter_nodes, m, T[j,i])\n",
    "                    break\n",
    "    return filter_nodes"
   ]
  },
  {
   "cell_type": "markdown",
   "metadata": {},
   "source": [
    "* __Involved DG Elements__\n",
    "```python \n",
    "    def generate_index_Ax(x, grid, T, H):\n",
    "            ---\n",
    "        return Ax\n",
    "```\n",
    "This function will return the index of the elements which are involved for filtering point $x$,\n",
    "$$A(x) = \\left\\{i:\\quad I_i \\cap \\left[x - H\\cdot\\max\\{T\\}, x- H\\cdot\\min\\{T\\}\\right] \\neq \\varnothing \\right\\}.$$\n",
    "    - If $x$ is near the boundary, the above support interval may not totally belong to the DG domain.  In this situation, the index returned will processed by periodic assumption.  "
   ]
  },
  {
   "cell_type": "code",
   "execution_count": 389,
   "metadata": {
    "collapsed": true
   },
   "outputs": [],
   "source": [
    "def generate_index_Ax(x, grid, T, H):\n",
    "    left_index  = point_location(x - H*np.max(T), grid)\n",
    "    right_index = point_location(x - H*np.min(T), grid)\n",
    "    if (left_index <= right_index):\n",
    "        Ax = np.arange(left_index, right_index+1)\n",
    "    else: #near boundary\n",
    "        Ax = np.concatenate([np.arange(left_index, np.size(grid)-1),np.arange(right_index+1)])\n",
    "    return Ax"
   ]
  },
  {
   "cell_type": "markdown",
   "metadata": {},
   "source": [
    "* __Subintervals for Quadrature__\n",
    "```python \n",
    "    def generate_subintervals_local(i, grid, filter_nodes):\n",
    "            ---\n",
    "        return interfaces\n",
    "```\n",
    "With the given DG element index $i$, this function will divide element $I_i$ into subintervals according to the $filter_nodes$.  It returns the interfaces of all the subintervals which are also the subintervals for using Gauss quadrature to compute the integration. "
   ]
  },
  {
   "cell_type": "code",
   "execution_count": 390,
   "metadata": {
    "collapsed": true
   },
   "outputs": [],
   "source": [
    "def generate_subintervals_local(i, grid, filter_nodes):\n",
    "    interfaces = np.array([grid[i],grid[i+1]])\n",
    "    for j in range(np.size(filter_nodes)):\n",
    "        if (grid[i] < filter_nodes[j] and filter_nodes[j] < grid[i+1]):\n",
    "            interfaces = np.insert(interfaces, -1, filter_nodes[j])\n",
    "    return interfaces"
   ]
  },
  {
   "cell_type": "markdown",
   "metadata": {},
   "source": [
    "* __Computing the Convolution__\n",
    "```python \n",
    "    def Gauss_convolution_filter_DG(xj, T, c, filter_nodes, H, grid, u, xg, wg):\n",
    "            ---\n",
    "        return ustar\n",
    "```\n",
    "Now, we have all the ingredients to calculate the convolution of the filter and the DG solution, let us put them together.  \n",
    "    - One important reminder is that the support interval of the convolution operator has been processed periodically, so the evaluation of the filter value need to be processed in the same way too.\n",
    "    - The filter coefficients $c$ and nodes $filter\\_nodes$ can be computed from the node matrix $T$ directly.  However, they are fixed in this tutorial, so one can calculate them before and store the values. \n",
    "    - Also, the gauss quadrature points $xg$ and weight $wg$ can be either provided by outside of the function, or defined inside the function.  Whatever, to calculate the integration exactly, the points number should $\\geq degree+1$."
   ]
  },
  {
   "cell_type": "code",
   "execution_count": 391,
   "metadata": {},
   "outputs": [],
   "source": [
    "def Gauss_convolution_filter_DG(xj, T, c, filter_nodes, H, grid, u, xg, wg):\n",
    "    Ax = generate_index_Ax(xj, grid, T, H)\n",
    "    filter_nodes_local = np.mod(xj - H*filter_nodes,1)\n",
    "    num = np.size(T, axis=0)\n",
    "    order = np.size(T, axis=1)-1\n",
    "    N = np.size(grid)-1\n",
    "    \n",
    "    ustar = 0.\n",
    "    for j in range(np.size(Ax)):\n",
    "        i = Ax[j]\n",
    "        h = grid[i+1] - grid[i]\n",
    "        interfaces = generate_subintervals_local(i, grid, filter_nodes_local)\n",
    "        for alpha in range(np.size(interfaces)-1):\n",
    "            mid   = 0.5*(interfaces[alpha] + interfaces[alpha+1])\n",
    "            scale = 0.5*(interfaces[alpha+1] - interfaces[alpha])\n",
    "            for mm in range(np.size(xg)):\n",
    "                quad_x = mid + scale*xg[mm]\n",
    "                filter_x = (xj - quad_x)/H\n",
    "                if (filter_x < np.min(T)):\n",
    "                    filter_x += N\n",
    "                elif (filter_x > np.max(T)):\n",
    "                    filter_x += -N\n",
    "                ustar += scale*wg[mm]*filter(filter_x, num, order, T, c)*\\\n",
    "                    u_DG((2*quad_x - (grid[i]+grid[i+1]))/h, i, u)\n",
    "    return 1/H*ustar"
   ]
  },
  {
   "cell_type": "code",
   "execution_count": 392,
   "metadata": {
    "collapsed": true
   },
   "outputs": [],
   "source": [
    "def generate_filter(degree):\n",
    "    num = 2*degree+1\n",
    "    order = degree+1\n",
    "    \n",
    "    T = generate_nodes_T(num, order, 1)\n",
    "    c = generate_coeff(num, order, T)\n",
    "    filter_nodes = generate_filter_nodes(T)\n",
    "    \n",
    "    return T, c, filter_nodes"
   ]
  },
  {
   "cell_type": "markdown",
   "metadata": {},
   "source": [
    "### Filtered Solution\n",
    "Now, we have implemented the filtering, let us see the performance.\n",
    "\n",
    "__Note:__ Due to the precision issue, in this tutorial, the filtered results for $N = 160$ with $\\mathbb{P}^3$ polynomials and $N = 80, 160$ with $$\\mathbb{P}^4$ polynomials are contaminated.  Since NumPy does not provide a data type with more precision than C long doubles, we will not addressed this issue in this tutorial.  However, we believe it is already enough for a demonstration purpose. "
   ]
  },
  {
   "cell_type": "code",
   "execution_count": 393,
   "metadata": {},
   "outputs": [
    {
     "data": {
      "application/vnd.jupyter.widget-view+json": {
       "model_id": "114fd8221ee846e88539385d9b9960fc",
       "version_major": 2,
       "version_minor": 0
      },
      "text/plain": [
       "A Jupyter Widget"
      ]
     },
     "metadata": {},
     "output_type": "display_data"
    }
   ],
   "source": [
    "def Filter_order(number_coarse, degree):\n",
    "    # gauss points for plotting, computing norm error \n",
    "    Gpn = 6\n",
    "    xg, wg = npleg.leggauss(Gpn)\n",
    "    # gauss points for computing convolution, the number should >= degree+1\n",
    "    Gpn2 = degree+1\n",
    "    xg2, wg2 = npleg.leggauss(Gpn2)\n",
    "    levels=4; err2 = np.zeros(4); erri = np.zeros(4);\n",
    "    # plotting style\n",
    "    style = ['b.','g-.','r--','c-']\n",
    "    \n",
    "    # generating the filter\n",
    "    T, c, filter_nodes = generate_filter(degree)\n",
    "    \n",
    "    for i in range(levels):\n",
    "        N = number_coarse*2**(i)\n",
    "        u = Input_DG(N, degree)\n",
    "        x = np.linspace(0, 1, N+1)\n",
    "        dx = np.diff(x)\n",
    "        \n",
    "        # plotting\n",
    "        plot_x = np.empty(N*Gpn); plot_y = np.empty(N*Gpn); \n",
    "        \n",
    "        for j in range(N):\n",
    "            H = dx[j]\n",
    "            for m in range(Gpn):\n",
    "                xj = (x[j+1]+x[j])/2 + dx[j]*xg[m]/2\n",
    "                \n",
    "                ustar = Gauss_convolution_filter_DG(xj, T, c, filter_nodes, H, x, u, xg2, wg2)\n",
    "                \n",
    "                err = np.abs(np.sin(2*np.pi*xj)-ustar)\n",
    "                err2[i] += 0.5*dx[j]*wg[m]*err**2\n",
    "                erri[i] = max(erri[i], err)\n",
    "                # plotting\n",
    "                plot_x[j*Gpn+m] = xj; plot_y[j*Gpn+m] = err\n",
    "        err2[i] = np.sqrt(err2[i]/1.)\n",
    "        plt.plot(plot_x, plot_y, style[i],linewidth=2.0, label=\"N = \" + str(N))\n",
    "    print_OrderTable(number_coarse, erri, err2)\n",
    "    \n",
    "    plt.yscale('log')\n",
    "    plt.legend(loc=3,frameon=False, fontsize=14); \n",
    "    plt.xlim(0, 1); #plt.ylim(1.e-6,1.e0)\n",
    "    plt.xlabel('x',fontsize=18); plt.ylabel('|error|',fontsize=18)\n",
    "    plt.show()\n",
    "\n",
    "#Filter_order(20, 2)\n",
    "w = interactive(Filter_order, number_coarse=fixed(20), degree=widgets.IntSlider(min=1,max=4,value=2))\n",
    "display(w)"
   ]
  },
  {
   "cell_type": "markdown",
   "metadata": {},
   "source": [
    "### DG Solution vs. Filtered Solution\n",
    "During previous sections, one can already see the advantages of the filtered solution over the DG solution.  Here, to give a easier view, we put the results together for comparison."
   ]
  },
  {
   "cell_type": "code",
   "execution_count": 394,
   "metadata": {},
   "outputs": [
    {
     "data": {
      "application/vnd.jupyter.widget-view+json": {
       "model_id": "c7128e8535ce4cc38a42b70ca66059cc",
       "version_major": 2,
       "version_minor": 0
      },
      "text/plain": [
       "A Jupyter Widget"
      ]
     },
     "metadata": {},
     "output_type": "display_data"
    }
   ],
   "source": [
    "def DGvsFilter_order(number_coarse, degree):\n",
    "    # gauss points for plotting, computing norm error \n",
    "    Gpn = 6\n",
    "    xg, wg = npleg.leggauss(Gpn)\n",
    "    # gauss points for computing convolution, the number should >= degree+1\n",
    "    Gpn2 = degree+1\n",
    "    xg2, wg2 = npleg.leggauss(Gpn2)\n",
    "    levels=4; err2_dg = np.zeros(4); erri_dg = np.zeros(4); err2_filter = np.zeros(4); erri_filter = np.zeros(4)\n",
    "    \n",
    "    # plotting style\n",
    "    style = ['b.','g-.','r--','c-']\n",
    "    fig = plt.figure(figsize=(10,4))\n",
    "    fig.tight_layout()\n",
    "    ax1 = fig.add_subplot(1,2,1)\n",
    "    ax2 = fig.add_subplot(1,2,2)\n",
    "    \n",
    "    # generating the filter\n",
    "    T, c, filter_nodes = generate_filter(degree)\n",
    "    \n",
    "    for i in range(levels):\n",
    "        N = number_coarse*2**(i)\n",
    "        u = Input_DG(N, degree)\n",
    "        x = np.linspace(0, 1, N+1)\n",
    "        dx = np.diff(x)\n",
    "        \n",
    "        # plotting\n",
    "        plot_x = np.empty(N*Gpn); plot_dg = np.empty(N*Gpn); plot_filtered = np.empty(N*Gpn)\n",
    "        \n",
    "        for j in range(N):\n",
    "            H = dx[j]\n",
    "            for m in range(Gpn):\n",
    "                xj = (x[j+1]+x[j])/2 + dx[j]*xg[m]/2\n",
    "                \n",
    "                uh = u_DG(xg[m], j, u)\n",
    "                ustar = Gauss_convolution_filter_DG(xj, T, c, filter_nodes, H, x, u, xg2, wg2)\n",
    "                \n",
    "                err_dg = np.abs(np.sin(2*np.pi*xj)-uh)\n",
    "                err_filter = np.abs(np.sin(2*np.pi*xj)-ustar)\n",
    "                \n",
    "                err2_dg[i] += 0.5*dx[j]*wg[m]*err_dg**2\n",
    "                erri_dg[i] = max(erri_dg[i], err_dg)\n",
    "                err2_filter[i] += 0.5*dx[j]*wg[m]*err_filter**2\n",
    "                erri_filter[i] = max(erri_filter[i], err_filter)\n",
    "                # plotting\n",
    "                plot_x[j*Gpn+m] = xj; plot_dg[j*Gpn+m] = err_dg; plot_filtered[j*Gpn+m] = err_filter;\n",
    "        err2_dg[i] = np.sqrt(err2_dg[i]/1.)\n",
    "        erri_dg[i] = np.sqrt(erri_dg[i]/1.)\n",
    "        if (i == 0):\n",
    "            y_max = np.max(plot_dg)\n",
    "        if (i == levels-1):\n",
    "            y_min = np.min(plot_filtered)\n",
    "        ax1.plot(plot_x, plot_dg, style[i],linewidth=2.0, label=\"N = \" + str(N))\n",
    "        ax2.plot(plot_x, plot_filtered, style[i],linewidth=2.0, label=\"N = \" + str(N))\n",
    "    print (\"DG error: \")\n",
    "    print_OrderTable(number_coarse, erri_dg, err2_dg)\n",
    "    print (\"\\nFiltered error: \")\n",
    "    print_OrderTable(number_coarse, erri_filter, err2_filter)\n",
    "    \n",
    "    ax1.set_yscale('log')\n",
    "    ax2.set_yscale('log')\n",
    "    ax1.legend(frameon=False,fontsize=12)\n",
    "    ax2.legend(frameon=False,fontsize=12)\n",
    "    ax1.set_xlim(0, 1); ax1.set_ylim(y_min,y_max)\n",
    "    ax2.set_xlim(0, 1); ax2.set_ylim(y_min,y_max)\n",
    "    ax1.set_xlabel('x',fontsize=16); ax1.set_ylabel('|error|',fontsize=16)\n",
    "    ax2.set_xlabel('x',fontsize=16); ax2.set_ylabel('|error|',fontsize=16)\n",
    "    ax1.set_title('DG errors, degree = %1d' % degree, fontsize=16)\n",
    "    ax2.set_title('Filtered errors, degree = %1d' % degree, fontsize=16)\n",
    "    plt.show()\n",
    "\n",
    "#DGvsFilter_order(20, 1)\n",
    "w = interactive(DGvsFilter_order, number_coarse=fixed(20), degree=widgets.IntSlider(min=1,max=4,value=2))\n",
    "display(w)"
   ]
  },
  {
   "cell_type": "markdown",
   "metadata": {},
   "source": [
    "### Efficiency \n",
    "This tutorial is written for demonstration the idea, so the codes are not optimized for computing speed.  However, we note that if one has a look at the main function \n",
    "```python \n",
    "    Gauss_convolution_filter_DG(xj, T, c, filter_nodes, H, grid, u, xg, wg)\n",
    "```\n",
    "Clearly, for computing the filtered solution at different points, it does not need information from the filtered solution.  In other word, if one has an ideal parallel computing resource, the computational time of evaluating massive nodes will equal to evaluating a node, which is negligible. "
   ]
  },
  {
   "cell_type": "markdown",
   "metadata": {},
   "source": [
    "## Features of SIAC Filtering"
   ]
  },
  {
   "cell_type": "markdown",
   "metadata": {},
   "source": [
    "## A Code to Play\n",
    "In the end, we provide a code you can play with your own codes to see how the filtering can improve your results.  It does not matter you are using the DG codes, FEM codes, IGA codes, FVM codes, etc., the code should still work.  However, the performance may be varying according to the methods (the best performance comes from the DG methods).  We will discuss the difference in another [notebook](), but it is interesting to test your code to see what happens. \n",
    "\n",
    "For the following codes, you need provide the data of your numerical solutions, the grid, the number of elements, degree of the basis functions and a nodes sequence that you want to improve.  __Note:__ you may have to change the either the following code or your data structure a little bit. "
   ]
  },
  {
   "cell_type": "code",
   "execution_count": 395,
   "metadata": {},
   "outputs": [],
   "source": [
    "def Filtering(N, degree, nodes):\n",
    "    # gauss points for computing convolution, the number should >= degree+1 \n",
    "    Gpn = degree+1\n",
    "    xg, wg = npleg.leggauss(Gpn)\n",
    "    err_dg = np.zeros(np.size(nodes)); err_filtered = np.zeros(np.size(nodes)); \n",
    "    \n",
    "    # generating the filter\n",
    "    T, c, filter_nodes = generate_filter(degree)\n",
    "    \n",
    "    for i in range(np.size(nodes)):\n",
    "        u = Input_DG(N, degree)\n",
    "        x = np.linspace(0, 1, N+1)\n",
    "        dx = np.diff(x)\n",
    "        \n",
    "        xj = nodes[i]\n",
    "        j = point_location(xj, x)\n",
    "        \n",
    "        # original numerical solution\n",
    "        uh = u_DG((2*xj - (x[j+1]+x[j]))/dx[j], j, u)\n",
    "        err_dg[i] = np.abs(np.sin(2*np.pi*xj)-uh)\n",
    "        \n",
    "        # filtered solution\n",
    "        H = dx[j]\n",
    "        ustar = Gauss_convolution_filter_DG(xj, T, c, filter_nodes, H, x, u, xg, wg)   \n",
    "        err_filtered[i] = np.abs(np.sin(2*np.pi*xj)-ustar)\n",
    "                \n",
    "\n",
    "    plt.plot(nodes, err_dg, 'k-.',linewidth=2.0, label=\"DG error\")\n",
    "    plt.plot(nodes, err_filtered, 'r-.',linewidth=2.0, label=\"Filtered error\")\n",
    "    print (\"The maximum error at the given nodes: \")\n",
    "    print (\"DG error:        %7.2e\" %  np.max(err_dg))\n",
    "    print (\"Filtered error:  %7.2e\" %  np.max(err_filtered))\n",
    "\n",
    "    plt.yscale('log')\n",
    "    plt.xlim(0, 1)\n",
    "    plt.legend(frameon=False,fontsize=12)\n",
    "    plt.xlabel('x',fontsize=16)\n",
    "    plt.ylabel('|error|',fontsize=16)\n",
    "    plt.show()"
   ]
  },
  {
   "cell_type": "markdown",
   "metadata": {},
   "source": [
    "__ A test example:__\n",
    "\n",
    "The following code will generate the nodes sequence by all the Gauss-Legendre points on each elements.  __Note:__ the default dates come with this tutorial only support $N = 20, 40, 80, 160$ and $degree = 1, 2, 3, 4$."
   ]
  },
  {
   "cell_type": "code",
   "execution_count": 396,
   "metadata": {},
   "outputs": [
    {
     "data": {
      "application/vnd.jupyter.widget-view+json": {
       "model_id": "a302c0037c364d63a27c914b9fb49357",
       "version_major": 2,
       "version_minor": 0
      },
      "text/plain": [
       "A Jupyter Widget"
      ]
     },
     "metadata": {},
     "output_type": "display_data"
    }
   ],
   "source": [
    "def Filtering_Gauss(N, degree, Gpn):\n",
    "    xg,_ = npleg.leggauss(Gpn)\n",
    "    nodes = np.zeros(N*Gpn)\n",
    "    grid = np.linspace(0, 1, N+1)\n",
    "    for i in range(N):\n",
    "        nodes[Gpn*i:Gpn*(i+1)] = 0.5*(grid[i+1]+grid[i]) + 0.5*xg*(grid[i+1]-grid[i])\n",
    "    Filtering(N, degree, nodes)\n",
    "\n",
    "w = interactive(Filtering_Gauss, \\\n",
    "                N=widgets.IntText(value=40, description='Number of Elements:', diaabled=False), \\\n",
    "                degree=widgets.IntText(value=2,description='Degree:', disabled=False), \\\n",
    "                Gpn=widgets.IntText(value=6, description='Gauss Points:', disabled=False))\n",
    "display(w)"
   ]
  },
  {
   "cell_type": "markdown",
   "metadata": {},
   "source": [
    "# References\n",
    "\n",
    "(<a id=\"cit-Boor:2001\" href=\"#call-Boor:2001\">de Boor, 2001</a>) Carl de Boor, ``_A practical guide to splines_'',  2001.\n",
    "\n",
    "(<a id=\"cit-Bramble:1977\" href=\"#call-Bramble:1977\">Bramble and Schatz, 1977</a>) Bramble J. H. and Schatz A. H., ``_Higher order local accuracy by averaging in the finite element\n",
    "              method_'', Math. Comp., vol. 31, number 137, pp. 94--111,  1977.\n",
    "\n",
    "(<a id=\"cit-Cockburn:2003\" href=\"#call-Cockburn:2003\">Cockburn, Luskin <em>et al.</em>, 2003</a>) Cockburn Bernardo, Luskin Mitchell and Shu Endre, ``_Enhanced accuracy by post-processing for finite element\n",
    "              methods for hyperbolic equations_'', Math. Comp., vol. 72, number 242, pp. 577--606,  2003.  [online](http://dx.doi.org/10.1090/S0025-5718-02-01464-3)\n",
    "\n",
    "(<a id=\"cit-Li:2015\" href=\"#call-Li:2015\">Li, 2015</a>) Xiaozhou Li, ``_Smoothness-Increasing and Accuracy-Conserving (SIAC) Filters for Discontinuous Galerkin Methods._'',  2015."
   ]
  },
  {
   "cell_type": "code",
   "execution_count": null,
   "metadata": {
    "collapsed": true
   },
   "outputs": [],
   "source": []
  }
 ],
 "metadata": {
  "kernelspec": {
   "display_name": "Python 3",
   "language": "python",
   "name": "python3"
  },
  "language_info": {
   "codemirror_mode": {
    "name": "ipython",
    "version": 3
   },
   "file_extension": ".py",
   "mimetype": "text/x-python",
   "name": "python",
   "nbconvert_exporter": "python",
   "pygments_lexer": "ipython3",
   "version": "3.6.3"
  },
  "latex_envs": {
   "LaTeX_envs_menu_present": true,
   "autocomplete": true,
   "bibliofile": "biblio.bib",
   "cite_by": "apalike",
   "current_citInitial": 1,
   "eqLabelWithNumbers": true,
   "eqNumInitial": 1,
   "hotkeys": {
    "equation": "Ctrl-E",
    "itemize": "Ctrl-I"
   },
   "labels_anchors": false,
   "latex_user_defs": false,
   "report_style_numbering": false,
   "user_envs_cfg": false
  },
  "toc": {
   "nav_menu": {},
   "number_sections": true,
   "sideBar": true,
   "skip_h1_title": false,
   "toc_cell": false,
   "toc_position": {},
   "toc_section_display": "block",
   "toc_window_display": false
  }
 },
 "nbformat": 4,
 "nbformat_minor": 2
}
