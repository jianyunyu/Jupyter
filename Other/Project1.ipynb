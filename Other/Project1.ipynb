{
 "cells": [
  {
   "cell_type": "markdown",
   "metadata": {},
   "source": [
    "# Singular Pertubations Problem"
   ]
  },
  {
   "cell_type": "code",
   "execution_count": 1,
   "metadata": {},
   "outputs": [],
   "source": [
    "#%matplotlib notebook\n",
    "%matplotlib inline\n",
    "\n",
    "# environment setting, before any codes\n",
    "import numpy as np\n",
    "import scipy.linalg as slinalg\n",
    "import matplotlib.pyplot as plt\n",
    "import numpy as np\n",
    "import numpy.polynomial.legendre as npleg\n",
    "from mpl_toolkits import mplot3d\n",
    "from mpl_toolkits.mplot3d import axes3d\n",
    "from ipywidgets import interact, interactive, fixed, interact_manual\n",
    "import ipywidgets as widgets\n",
    "from IPython.display import clear_output, display"
   ]
  },
  {
   "cell_type": "code",
   "execution_count": 2,
   "metadata": {},
   "outputs": [
    {
     "data": {
      "text/plain": [
       "0.01"
      ]
     },
     "execution_count": 2,
     "metadata": {},
     "output_type": "execute_result"
    },
    {
     "data": {
      "image/png": "[encoded data removed]",
      "text/plain": [
       "<matplotlib.figure.Figure at 0x609120c88>"
      ]
     },
     "metadata": {},
     "output_type": "display_data"
    }
   ],
   "source": [
    "#The following functions will give us the exact solution of our boundary value problem\n",
    "\n",
    "def exact_fun(x, alpha, beta, epsilon):\n",
    "    return alpha + x + (beta - alpha - 1)*((np.exp(x/epsilon)-1)/(np.exp(1/epsilon)-1))\n",
    "\n",
    "alpha = 1\n",
    "beta = 3\n",
    "epsilon = 0.01\n",
    "\n",
    "number = 59\n",
    "def draw_fun(number, alpha, beta, epsilon):\n",
    "    x = np.linspace(0, 1, number)\n",
    "    y = exact_fun(x, alpha, beta, epsilon)\n",
    "    plt.plot(x,y,'r',linewidth=2)\n",
    "    return epsilon\n",
    "draw_fun(number, alpha, beta, epsilon)\n"
   ]
  },
  {
   "cell_type": "code",
   "execution_count": 3,
   "metadata": {},
   "outputs": [],
   "source": [
    "#As we have a singular value problem, we must design a fine grid that will fit with our case\n",
    "\n",
    "alpha = 1\n",
    "beta = 3\n",
    "epsilon = 0.01\n",
    "m = 100\n",
    "#We generate the uniform grid on [alpha, beta]\n",
    "\n",
    "def generate_grid_y(left, right, m):\n",
    "    h = (right - left)/(m+1)\n",
    "    y = np.zeros(m+2)\n",
    "    for j in range(m+2):\n",
    "        y[j] = j*h+1\n",
    "    return  y\n",
    "\n",
    "y = generate_grid_y(alpha,beta, m)\n",
    "#print(y)\n",
    "\n",
    "#The method we use to design the grid is the dichotomy\n",
    "\n",
    "def antecedent_k(exact_fun,k,a,b,e, alpha, beta, epsilon):\n",
    "    start = a\n",
    "    end = b\n",
    "    #e stands for the error for the approximation\n",
    "    gap = b-a\n",
    "    while gap>e:\n",
    "        \n",
    "        m = (start+end)/2\n",
    "        if exact_fun(m,alpha,beta,epsilon)>k:\n",
    "            end = m\n",
    "        else:\n",
    "            start = m\n",
    "        gap = end-start\n",
    "    return m\n",
    "\n",
    "#Now we generate the fine grid\n",
    "\n",
    "def generate_grid(antecedent, antecedent_k, exact_fun,a,b,e,alpha,beta,epsilon):\n",
    "    x = np.zeros(len(antecedent))\n",
    "    for i in range (len(antecedent)):\n",
    "        x[i] = antecedent_k(exact_fun,antecedent[i],a,b,e,alpha,beta,epsilon)\n",
    "    return x\n",
    "  \n",
    "x = generate_grid(y, antecedent_k, exact_fun,0,1,10e-10,alpha,beta,epsilon)\n",
    "#print(x)\n",
    "x[0] = 0\n",
    "x[-1] = 1\n",
    "\n",
    "\n",
    "#We construct our matrice A and the vector F\n",
    "\n",
    "def generate_A_interior(epsilon, m, x):\n",
    "    A = np.zeros([m+2, m+2])\n",
    "    for i in range(1,m+1):\n",
    "        ci = 2/((x[i]-x[i-1])*(x[i]-x[i+1]))\n",
    "        ci_left = 2/((x[i-1]-x[i])*(x[i-1]-x[i+1]))\n",
    "        ci_right = 2/((x[i+1]-x[i])*(x[i+1]-x[i-1]))\n",
    "        A[i, i-1] = epsilon*ci_left + 1/(x[i+1]-x[i-1])\n",
    "        A[i, i] = epsilon*ci\n",
    "        A[i, i+1] = epsilon*ci_right - 1/(x[i+1]-x[i-1])\n",
    "    A[0,0] = 1\n",
    "    A[-1,-1] = 1\n",
    "    \n",
    "    return A\n",
    "A = generate_A_interior(epsilon, m, x)\n",
    "\n",
    "def fun(x):\n",
    "    return -1\n",
    "\n",
    "def generate_F_interior(m, x, fun, alpha, beta):\n",
    "    F = np.zeros(m+2)\n",
    "    for i in range(1,m+1):\n",
    "        F[i] = fun(x[i])\n",
    "    F[0] = alpha\n",
    "    F[-1] = beta\n",
    "    return F\n",
    "\n",
    "F = generate_F_interior(m, x, fun, alpha, beta)"
   ]
  },
  {
   "cell_type": "code",
   "execution_count": 4,
   "metadata": {},
   "outputs": [
    {
     "data": {
      "application/vnd.jupyter.widget-view+json": {
       "model_id": "94a194d0240945b6a80a01a7b99ef2b2",
       "version_major": 2,
       "version_minor": 0
      },
      "text/html": [
       "<p>Failed to display Jupyter Widget of type <code>interactive</code>.</p>\n",
       "<p>\n",
       "  If you're reading this message in the Jupyter Notebook or JupyterLab Notebook, it may mean\n",
       "  that the widgets JavaScript is still loading. If this message persists, it\n",
       "  likely means that the widgets JavaScript library is either not installed or\n",
       "  not enabled. See the <a href=\"https://ipywidgets.readthedocs.io/en/stable/user_install.html\">Jupyter\n",
       "  Widgets Documentation</a> for setup instructions.\n",
       "</p>\n",
       "<p>\n",
       "  If you're reading this message in another frontend (for example, a static\n",
       "  rendering on GitHub or <a href=\"https://nbviewer.jupyter.org/\">NBViewer</a>),\n",
       "  it may mean that your frontend doesn't currently support widgets.\n",
       "</p>\n"
      ],
      "text/plain": [
       "interactive(children=(IntSlider(value=1, description='$\\nnumber:$', min=1), Output()), _dom_classes=('widget-interact',))"
      ]
     },
     "metadata": {},
     "output_type": "display_data"
    }
   ],
   "source": [
    "def draw_approximation(m, alpha, beta, epsilon, fun):\n",
    "    y = generate_grid_y(alpha, beta, m)\n",
    "    x = generate_grid(y, antecedent_k, exact_fun,0,1,10e-10,alpha,beta,epsilon)\n",
    "    A = generate_A_interior(epsilon, m, x)\n",
    "    F = generate_F_interior(m, x, fun, alpha, beta)\n",
    "    U = np.linalg.solve(A, F)\n",
    "    u = exact_fun(x, alpha, beta, epsilon)\n",
    "    plt.plot(x,U,'r',linewidth=2)\n",
    "    plt.plot(x,u,'b',linewidth=2)\n",
    "    Emax = np.max(np.abs(U-u))\n",
    "    return Emax\n",
    "#draw_fun(number, alpha, beta, epsilon)\n",
    "w = interactive(draw_approximation, alpha=fixed(alpha), beta=fixed(beta), fun=fixed(fun), epsilon=fixed(epsilon),\\\n",
    "                m=widgets.IntSlider(min=1,max=100,step=1, value=1.00, description='$\\nnumber:$',))\n",
    "display(w)"
   ]
  },
  {
   "cell_type": "code",
   "execution_count": 5,
   "metadata": {},
   "outputs": [
    {
     "name": "stdout",
     "output_type": "stream",
     "text": [
      "0.0006843223880734772 99\n"
     ]
    },
    {
     "data": {
      "image/png": "[encoded data removed]",
      "text/plain": [
       "<matplotlib.figure.Figure at 0x60eb295f8>"
      ]
     },
     "metadata": {},
     "output_type": "display_data"
    }
   ],
   "source": [
    "#Let's find the best value of m\n",
    "\n",
    "Error = np.zeros(100)\n",
    "for i in range(100):\n",
    "    Error[i] = draw_approximation(i, alpha, beta, epsilon, fun)\n",
    "\n",
    "Error = Error[1:len(Error)]\n",
    "bestError, best_m = min(Error), np.argmin(Error)+1\n",
    "print(bestError, best_m)"
   ]
  },
  {
   "cell_type": "markdown",
   "metadata": {},
   "source": [
    "#  Poisson Problem"
   ]
  },
  {
   "cell_type": "markdown",
   "metadata": {},
   "source": [
    "To solve this first question, we use the 5-point Laplacian. We will order unknowns using natural rowwise ordering."
   ]
  },
  {
   "cell_type": "markdown",
   "metadata": {},
   "source": [
    "The matrix A looks like (Plot that matrix in the final document)"
   ]
  },
  {
   "cell_type": "code",
   "execution_count": 14,
   "metadata": {},
   "outputs": [],
   "source": [
    "#Now we compute the matrices T and D\n",
    "\n",
    "def generate_TD(N, dx, dy):\n",
    "    T = np.zeros([N,N])\n",
    "    a = (dy/dx)**2\n",
    "    b = -2*(1 + a)\n",
    "    for i in range(N):\n",
    "        T[i,i] += b\n",
    "        if (i < N-1):\n",
    "            T[i,i+1] += a\n",
    "        if (i > 0):\n",
    "            T[i,i-1] += a\n",
    "    D = np.identity(N)\n",
    "    return T, D\n",
    "\n",
    "#We can have a loook on the matrix A\n",
    "\n",
    "\n",
    "def assemble_matrix_A(dx, dy, N, M):\n",
    "    T, D = generate_TD(N, dx, dy)\n",
    "    A = np.zeros([N*M, N*M])\n",
    "    for j in range(M):\n",
    "        A[j*N:(j+1)*N,j*N:(j+1)*N] += T\n",
    "        if (j < M-1):\n",
    "            A[j*N:(j+1)*N,(j+1)*N:(j+2)*N] += D\n",
    "        if (j > 0):\n",
    "            A[j*N:(j+1)*N,(j-1)*N:j*N] += D\n",
    "    return A\n",
    "\n",
    "N = 3\n",
    "M = 3\n",
    "dx = 1./(N+1)\n",
    "dy = 1./(M+1)\n",
    "T, D = generate_TD(N, dx, dy)\n",
    "#print (T)\n",
    "A = assemble_matrix_A(dx, dy, N, M)\n",
    "#print (A)\n",
    "#plt.spy(A)\n",
    "#plt.show()\n",
    "\n",
    "\n",
    "#We set boundary conditons\n",
    "#We assume x and y are in the range [0,1]\n",
    "\n",
    "def gL(y):\n",
    "    return np.exp(y/2)\n",
    "\n",
    "def gR(y):\n",
    "    return np.exp(1+y/2)\n",
    "\n",
    "def gB(x):\n",
    "    return np.exp(x)\n",
    "\n",
    "def gT(x):\n",
    "    return np.exp(x+1/2)\n",
    "\n",
    "#Right side\n",
    "\n",
    "def f(x,y):\n",
    "    return 1.25*(np.exp(x+y/2))\n",
    "\n",
    "#We define the vector of the right side. We must take into consideration the boundary conditions\n",
    "\n",
    "def assemble_vector_b(x, y, dx, dy, N, M, gL, gR, gB, gT,f):\n",
    "    b = np.zeros(N*M)\n",
    "    # Left BCs\n",
    "    for j in range(M):\n",
    "        b[(j)*N] += -(dy/dx)**2*gL(y[j+1])\n",
    "        \n",
    "    for j in range(M):\n",
    "        b[(j)*N+N-1] += -(dy/dx)**2*gR(y[j+1]) \n",
    "    \n",
    "    # Bottom BCs\n",
    "    for i in range(N):\n",
    "        b[i] += -gB(x[i+1])\n",
    "    \n",
    "    # Top BCs:\n",
    "    for i in range(N):\n",
    "        b[(M-1)*N+i] += -gT(x[i+1])\n",
    "        \n",
    "    for i in range(N):\n",
    "        for j in range(1,M+1):\n",
    "            b[(j-1)*N+i] += dy*dy*f(x[i+1],y[j])\n",
    "            \n",
    "    return b\n",
    "    \n",
    "\n"
   ]
  },
  {
   "cell_type": "code",
   "execution_count": 15,
   "metadata": {},
   "outputs": [],
   "source": [
    "x = np.linspace(0, 1, N+2)\n",
    "y = np.linspace(0, 1, M+2)\n",
    "b = assemble_vector_b(x, y, dx, dy, N, M, gL, gR, gB, gT,f)\n",
    "v = np.linalg.solve(A,b)"
   ]
  },
  {
   "cell_type": "code",
   "execution_count": 16,
   "metadata": {},
   "outputs": [],
   "source": [
    "def exact_solution(x,y):\n",
    "    return np.exp(x+y/2)\n",
    "\n",
    "#We can compute the vector of the exact solution\n",
    "u_exc = np.zeros(N*M)\n",
    "for i in range(N):\n",
    "    for j in range(1,M+1):\n",
    "        u_exc[(j-1)*N+i] += exact_solution(x[i+1],y[j])"
   ]
  },
  {
   "cell_type": "code",
   "execution_count": 17,
   "metadata": {},
   "outputs": [
    {
     "name": "stdout",
     "output_type": "stream",
     "text": [
      "[1.45499141 1.86824596 2.39887529 1.64872127 2.11700002 2.71828183\n",
      " 1.86824596 2.39887529 3.08021685] [1.4554158  1.86886036 2.39942128 1.64930019 2.11783982 2.71902002\n",
      " 1.86872606 2.39956934 3.08084177]\n"
     ]
    }
   ],
   "source": [
    "print(u_exc, v)"
   ]
  },
  {
   "cell_type": "code",
   "execution_count": null,
   "metadata": {},
   "outputs": [],
   "source": []
  },
  {
   "cell_type": "code",
   "execution_count": null,
   "metadata": {},
   "outputs": [],
   "source": []
  }
 ],
 "metadata": {
  "kernelspec": {
   "display_name": "Python 3",
   "language": "python",
   "name": "python3"
  },
  "language_info": {
   "codemirror_mode": {
    "name": "ipython",
    "version": 3
   },
   "file_extension": ".py",
   "mimetype": "text/x-python",
   "name": "python",
   "nbconvert_exporter": "python",
   "pygments_lexer": "ipython3",
   "version": "3.6.8"
  },
  "toc": {
   "base_numbering": 1,
   "nav_menu": {},
   "number_sections": true,
   "sideBar": true,
   "skip_h1_title": false,
   "title_cell": "Table of Contents",
   "title_sidebar": "Contents",
   "toc_cell": false,
   "toc_position": {},
   "toc_section_display": true,
   "toc_window_display": false
  }
 },
 "nbformat": 4,
 "nbformat_minor": 2
}
