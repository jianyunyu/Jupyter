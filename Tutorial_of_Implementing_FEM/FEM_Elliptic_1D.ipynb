{
 "cells": [
  {
   "cell_type": "markdown",
   "metadata": {
    "slideshow": {
     "slide_type": "skip"
    }
   },
   "source": [
    "<a rel=\"license\" href=\"http://creativecommons.org/licenses/by/4.0/\"><img alt=\"Creative Commons License\" style=\"border-width:0\" src=\"https://i.creativecommons.org/l/by/4.0/80x15.png\" /></a><br />This tutorial by Xiaozhou Li is licensed under a <a rel=\"license\" href=\"http://creativecommons.org/licenses/by/4.0/\">Creative Commons Attribution 4.0 International License</a>.  \n",
    "All code examples are also licensed under the [MIT license](http://opensource.org/licenses/MIT)."
   ]
  },
  {
   "cell_type": "markdown",
   "metadata": {
    "slideshow": {
     "slide_type": "slide"
    }
   },
   "source": [
    "# 1D Elliptic Equation\n",
    "The first tast of this tutorial is solving the 1D eplliptic equation with Dirichlet boundary condition:\n",
    "\\begin{align}\n",
    "   -\\frac{d}{dx}\\left(c(x)\\frac{d u(x)}{dx}\\right) & = f(x),\\,\\, a < x < b \\\\\n",
    "   u(a) = g_a,\\,\\,u(b) & = g_b.\n",
    "\\end{align}\n",
    "- The Elliptic equation is a easy example to look at the basic idea of the finite element methods.\n",
    "- Other numerical methods for solving partial differential equations, such as finite difference methods, finite volume methods, discontinuous Galerkin methods, etc., each method has its advantages for particular problems.\n",
    "- For example, the discontinuous Galerkin (DG) methods is the most popular methods used to solve hyperbolic equations, the details can be found in the [DG tutorial](http://)."
   ]
  },
  {
   "cell_type": "markdown",
   "metadata": {
    "slideshow": {
     "slide_type": "slide"
    }
   },
   "source": [
    "## Finte Element Method\n",
    "### Weak Formulation\n",
    "To derive the weak formulation of the finite element methods, we first multiply a function $v(x)$ on both sides of the original equation and take the integration over interval $[a, b]$:\n",
    "\\begin{equation}\n",
    "    \\int_a^b \\left(-\\frac{d}{dx}\\left(c(x)\\frac{d u(x)}{dx}\\right)\\right)  = \\int_a^b f(x)v(x),\n",
    "\\end{equation}\n",
    "where $u(x)$ is called a trail function and $v(x)$ is called a test function.\n",
    "\n",
    "Then, using the integration by parts, we obtain\n",
    "\\begin{equation}\n",
    "    \\int_a^b c(x) u'(x)v'(x) dx + c(b)u'(b)v(b) - c(a)u'(a)v(a) = \\int_a^b f(x)v(x) dx.\n",
    "\\end{equation}\n",
    "Here, since the Dirichlet boundary condtion gives $u(a) = g_a$ and $u(b) = g_b$ at the boundary points $x = a$ and $x = b$, we can choose the test function $v(x)$ such that $v(a) = v(b) = 0$."
   ]
  },
  {
   "cell_type": "markdown",
   "metadata": {
    "slideshow": {
     "slide_type": "slide"
    }
   },
   "source": [
    "Hence, we have \n",
    "\\begin{equation}\n",
    "    \\int_a^b c(x) u'(x)v'(x) dx = \\int_a^b f(x)v(x) dx.\n",
    "\\end{equation}\n",
    "By introducing the concept of Sobolev space, we can define the follows weak formulation.\n",
    "\n",
    "__Weak Formulation:__ \n",
    "\n",
    "Let \n",
    "\\begin{equation}\n",
    "    a(u, v)= \\int_\\Omega c u'v' dx\\,\\,\\text{and }\\, (f, v)=\\int_Omega fv dx, \n",
    "\\end{equation}\n",
    "find $u \\in H^1(\\Omega)$ such that \n",
    "\\begin{equation}\n",
    "    a(u, v) = (f, v)\n",
    "\\end{equation}\n",
    "for any $v \\in H_0^1(\\Omega)$ where $\\Omega = (a, b)$. "
   ]
  },
  {
   "cell_type": "markdown",
   "metadata": {
    "slideshow": {
     "slide_type": "slide"
    }
   },
   "source": [
    "### Weak Galerkin Formulation\n",
    "However, the above Sobolev space $H^1(\\Omega)$ is a __infinite__ dimensional space.  To numerically solve the solution, we usually have to consider a __finite__ dimensional approximation subspace $V_h$ belong to $H^1(\\Omega)$.\n",
    "\n",
    "__Weak Galerkin Formulation:__ \n",
    "\n",
    "Find $u_h \\in V_h$ such that \n",
    "\\begin{equation}\n",
    "    a(u_h, v_h) = (f, v_h)\n",
    "\\end{equation}\n",
    "for any $v_h \\in V_h$ where $\\Omega = (a, b)$. "
   ]
  },
  {
   "cell_type": "markdown",
   "metadata": {
    "slideshow": {
     "slide_type": "slide"
    }
   },
   "source": [
    "### Polynomial Approximation Space\n",
    "A common way to construct the approximation space $V_h$ is considering a partition $\\left\\{x_j\\right\\}_0^N$ of $[a, b]$, such that \n",
    "\\begin{equation}\n",
    "    a = x_0 < x_1 < \\ldots < x_{N-1} < x_N = b,\n",
    "\\end{equation}\n",
    "where $I_j = [x_{j-1}, x_j]$ denotes the $j$th element, $j = 1,\\ldots,N$.\n",
    "\n",
    "Define the polynomial finite element space:\n",
    "\\begin{equation}\n",
    "    V_h = \\left\\{v \\in \\mathcal{C}[a,b]:  v|_{I_j} \\in \\mathbb{P}^k(I_j),\\,\\, j = 1,\\ldots,N\\right\\}\n",
    "\\end{equation}\n",
    "- $V_h$ is actually a piecewise polynomial space based on the generated mesh.\n",
    "- In the practical engineering, the most common way is using the linear function ($k = 1$). "
   ]
  },
  {
   "cell_type": "markdown",
   "metadata": {
    "slideshow": {
     "slide_type": "slide"
    }
   },
   "source": [
    "### More Reference\n",
    "- For the detail of Sobolev space, one can refer to any finite element methods book, such as \n",
    "    - Susanne C. Brenner and L. Ridgway Scott. _The mathematical theory of finite element methods_, volume 15 of Texts in Applied Mathematics. Springer, New York, third edition, 2008. \n",
    "    - Philippe G. Ciarlet. _The finite element method for elliptic problems_, volume 40 of Classics in Applied Mathematics. Society for Industrial and Applied Mathematics (SIAM), Philadelphia, PA, 2002."
   ]
  },
  {
   "cell_type": "markdown",
   "metadata": {
    "slideshow": {
     "slide_type": "slide"
    }
   },
   "source": [
    "## Implementation\n",
    "In general, there are two ways to implement the finite element method:\n",
    "- __Loop of basis functions:__ We write the approximation $u_h$ as \n",
    "\\begin{equation}\n",
    "    u_h(x) = \\sum\\limits_{j = 1}^{N_b}u_j\\phi_j(x)\n",
    "\\end{equation}\n",
    "where $N_b$ is the number of basis functions.  The implementation has main loops like:\n",
    "```python\n",
    "    for j in range(Nb_trial): \n",
    "        for i in range(Nb_test):\n",
    "            # main code (global integration: [a, b])\n",
    "```\n",
    "This approach has the follwing features:\n",
    "    - It is a directly translation from the weak Galerkin formulation.\n",
    "    - Degree of freedom is exactly $N_b$, and the unknown $\\left\\{u_j\\right\\}_{j=1}^{N_b}$ are independent.\n",
    "    - Assembly of matrices (vectors) is straightforward.\n",
    "    - The integrals is on the global interval $[a,b]$, each integration $\\int_a^b c(x)\\phi_j(x)\\phi_i(x)dx$ represents a unique entry of the global matrix.\n",
    "    - May be a little complicated for unstructured meshes in multi-dimensional cases."
   ]
  },
  {
   "cell_type": "markdown",
   "metadata": {
    "slideshow": {
     "slide_type": "slide"
    }
   },
   "source": [
    "- __Loop of elements:__ We write the approximation $u_h$ as \n",
    "\\begin{equation}\n",
    "    u_h(x) = \\sum\\limits_{n = 1}^N\\sum\\limits_{i=1}^{N_{lb}}u_{n,i}\\phi_{n,i}(x)\n",
    "\\end{equation}\n",
    "where $N_{lb}$ is the number of local basis function on each element.  The implementation has main loops like:\n",
    "```python\n",
    "    for n in range(number_of_elements): \n",
    "        for alpha in range(Nlb_trial):\n",
    "            for beta in range(Nlb_test):\n",
    "                # main code (local integration: [x_n, x_n+1])\n",
    "```\n",
    "This approach has the follwing features:\n",
    "    - Degree of freedom is not $N\\times N_{lb}$, and the unknown $\\left\\{u_{i,n}\\right\\}$ are dependent.\n",
    "    - Assembly of matrices (vectors) needs some derivation, there is a local assembly to global assembly process.  \n",
    "    - The integral is on local element $I_n$ instead of the whole domain, each integration $\\int_{I_n} c(x)\\phi_{n,\\alpha(x)}\\phi_{n,\\beta(x)}dx$ needs to add to correspond entry of the global matrix based on certain information.\n",
    "    \n",
    "__Note:__ It is rather a perference between the above two ways.  There is no definite answer which one is better.  Personally, I perfer the first way for  Isogeometric Analysis (IGA) methods, and the second way for DG methods."
   ]
  },
  {
   "cell_type": "code",
   "execution_count": 1,
   "metadata": {
    "slideshow": {
     "slide_type": "skip"
    }
   },
   "outputs": [],
   "source": [
    "# environment setting, before any codes\n",
    "import numpy as np\n",
    "import numpy.polynomial.legendre as npleg\n",
    "%matplotlib inline\n",
    "%config InlineBackend.figure_format = 'retina'\n",
    "import matplotlib.pyplot as plt"
   ]
  },
  {
   "cell_type": "markdown",
   "metadata": {
    "slideshow": {
     "slide_type": "slide"
    }
   },
   "source": [
    "### Mesh information matrices\n",
    "The first step is storing the mesh information for later computing usage.  The mesh information we needed is follows:  \n",
    "- Define global indices for all the mesh elements and mesh nodes. Let $N$ denote the number of mesh elements and $N_m$ denote the number of mesh nodes. Here $N_m = N + 1$.\n",
    "- Define matrix $P$ to be an information matrix consisting of the coordinates of all mesh nodes.  The $j$th column of $P$ is the coordinate of the $j$th finite element node.\n",
    "- Define matrix $T$ to be an information matrix consisting of the global node indices of the mesh nodes of all the mesh elements.  The $n$th column of $T$ stores the global indices of the vertices of the $n$th element. "
   ]
  },
  {
   "cell_type": "markdown",
   "metadata": {
    "slideshow": {
     "slide_type": "slide"
    }
   },
   "source": [
    "Note:\n",
    "- The input information is the left/right boundary and the number of elements\n",
    "```python\n",
    "    def generate_PT_1D(left_boundary, right_boundary, number_of_elements)\n",
    "```\n",
    "- Therefore $P[T[i,j]]$ gives the coordinate of the $i$th vertice on the $j$th element.\n",
    "- This step is independent with the type of numerical methods, and for unstructure meshs in multi-dimensional space, this step is rather complicated.\n",
    "- For one dimensional mesh, this step is very simple:\n",
    "    - $P = [x_0, x_1, \\ldots, x_N]$;\n",
    "    - $T = \\text{index}\\left(\\left[\\begin{array}{cccc}x_0, & x_1, & \\ldots, & x_{N-1}\\\\\n",
    "                               x_1, & x_2, & \\ldots, & x_N\\end{array}\\right]\\right) = \\left[\\begin{array}{cccc}0, & 1, & \\ldots, & N-1\\\\\n",
    "                           1, & 2, & \\ldots, & N\\end{array}\\right]$."
   ]
  },
  {
   "cell_type": "code",
   "execution_count": 2,
   "metadata": {
    "slideshow": {
     "slide_type": "slide"
    }
   },
   "outputs": [],
   "source": [
    "def generate_PT_1D(left_boundary, right_boundary, number_of_elements):\n",
    "    P = np.linspace(left_boundary, right_boundary, number_of_elements+1)\n",
    "    T = np.zeros([2, number_of_elements], dtype=int)\n",
    "    for j in range (number_of_elements):\n",
    "        T[0,j] = j\n",
    "        T[1,j] = j+1\n",
    "    return P, T"
   ]
  },
  {
   "cell_type": "markdown",
   "metadata": {
    "slideshow": {
     "slide_type": "slide"
    }
   },
   "source": [
    "### Finite element information matrices\n",
    "The above mesh information matrices $P$ and $T$ are for the mesh nodes. We also need similar finite element information matrices $P_b$ and $T_b$ for the finite elements nodes, which are the nodes corresponding to the finite element basis functions.\n",
    "- Let $N_b$ denote the total number of the finite element basis functions (= the number of unknowns = the total number of the finite element nodes). Here $N_b = N + 1$.\n",
    "- Define matrix $P_b$ to be an information matrix consisting of the coordinates of all finite element nodes. The $j$th column of $P_b$ is the coordinate of the $j$th finite element node.\n",
    "- Define matrix $T_b$ to be an information matrix consisting of the global node indices of the finite element nodes of all the mesh elements.  The $n$th column of $T$ stores the global indices of the nodes of the $n$th element."
   ]
  },
  {
   "cell_type": "markdown",
   "metadata": {
    "slideshow": {
     "slide_type": "slide"
    }
   },
   "source": [
    "Notes:\n",
    "- The input information is the mesh information matrices $P$ and $T$, and the type of basis functions \n",
    "```python\n",
    "    def generate_NbPbTb_1D(P, T, basis_type)\n",
    "```\n",
    "- Unlike the mesh information matrices $P$ and $T$, the finite element information matrices $P_b$ and $T_b$ are dependent on the type of basis functions.  They can be quite complicated, especially for non-nodal basis functions.\n",
    "- One has to update the code based on the type of basis functions.\n",
    "- For simplicity, in this tutorial, we only consider the linear and quadratic functions.\n",
    "\n",
    "__Linear basis function:__\n",
    "- This is the simplest case (also the most popular one), the $P_b$ and $T_b$ are the same as the mesh information matrices $P$ and $T$."
   ]
  },
  {
   "cell_type": "markdown",
   "metadata": {
    "slideshow": {
     "slide_type": "slide"
    }
   },
   "source": [
    "__Quadratic basis function:__\n",
    "- For using quadratic basis function, on each element, besides two vertices one still needs another node (the middle point of the element).  That is, let $x_{n+\\frac{1}{2}} = \\frac{1}{2}\\left(x_n + x_{n+1}\\right)$, the $P_b$ matrix is given by\n",
    "\\begin{equation} \n",
    "    P_b = [x_0, x_{\\frac{1}{2}}, x_1, \\ldots, x_N],\n",
    "\\end{equation}\n",
    "with $size(P_b) = 2N+1 = 2*size(P)-1$.\n",
    "- For matrix $T_b$, on each element, we sort all the nodes in the order $x_n, x_{n+1}, x_{n+\\frac{1}{2}}$.  Then, we have \n",
    "\\begin{equation}\n",
    "    T_b = \\text{index}\\left(\\left[\\begin{array}{cccc}x_0, & x_1, & \\ldots, & x_{N-1}\\\\\n",
    "                               x_1, & x_2, & \\ldots, & x_N \\\\\n",
    "                               x_{\\frac{1}{2}}, & x_{\\frac{3}{2}}, &\\ldots, & x_{N-\\frac{1}{2}}\\end{array}\\right]\\right) = \\left[\\begin{array}{cccc}0, & 2, & \\ldots, & 2N-2\\\\\n",
    "                           2, & 4, & \\ldots, & 2N \\\\ 1, & 3, &\\ldots, & 2N-1\\end{array}\\right]\n",
    "\\end{equation}"
   ]
  },
  {
   "cell_type": "code",
   "execution_count": 3,
   "metadata": {
    "slideshow": {
     "slide_type": "slide"
    }
   },
   "outputs": [],
   "source": [
    "def generate_NbPbTb_1D(P, T, basis_type):\n",
    "    if (basis_type==101):\n",
    "        Nb = np.size(P)\n",
    "        Pb = np.copy(P)\n",
    "        Tb = np.copy(T)\n",
    "    elif (basis_type==102):\n",
    "        Nb = 2*np.size(P)-1\n",
    "        Pb = np.zeros(Nb)\n",
    "        Pb[0::2] = P\n",
    "        for i in range (np.size(P)-1):\n",
    "            Pb[2*i+1] = 0.5*(Pb[2*i] + Pb[2*i+2])\n",
    "        Tb = np.zeros([3,np.size(P)-1],dtype=int)\n",
    "        Tb[0:2,:] = T*2\n",
    "        Tb[2,:] = Tb[1,:]-1\n",
    "    return Nb, Pb, Tb"
   ]
  },
  {
   "cell_type": "code",
   "execution_count": 4,
   "metadata": {
    "slideshow": {
     "slide_type": "slide"
    }
   },
   "outputs": [],
   "source": [
    "# local debugging cell: generate_PT_1D, generate_NbPbTb_1D\n",
    "left_boundary = 0\n",
    "right_boundary = 1\n",
    "number_of_elements = 10\n",
    "P, T = generate_PT_1D(left_boundary, right_boundary, number_of_elements)\n",
    "\n",
    "basis_type = 102\n",
    "Nb, Pb, Tb = generate_NbPbTb_1D(P, T, basis_type)\n",
    "#print (P); print (T); print (Nb); print (Pb); print (Tb)"
   ]
  },
  {
   "cell_type": "markdown",
   "metadata": {
    "slideshow": {
     "slide_type": "slide"
    }
   },
   "source": [
    "### Local Basis Function\n",
    "- For local basis functions, the first thing needs to know is the number of local basis functions, $N_{lb}$\n",
    "```python\n",
    "    def generate_Nlb(basis_type)\n",
    "```\n",
    "- Then, for each index of the basis, one needs the evaluation function for the value of the basis function and its derivatives.\n",
    "```python\n",
    "    def local_basis_1D(x, vertices, basis_type, basis_index, der_order)\n",
    "```\n",
    "- Aagin, one has to update the code once new basis type is added."
   ]
  },
  {
   "cell_type": "code",
   "execution_count": 5,
   "metadata": {
    "slideshow": {
     "slide_type": "slide"
    }
   },
   "outputs": [],
   "source": [
    "def generate_Nlb(basis_type):\n",
    "    if (basis_type==101):\n",
    "        Nlb = 2\n",
    "    elif (basis_type==102):\n",
    "        Nlb = 3\n",
    "    return Nlb\n",
    "\n",
    "def local_basis_1D(x, vertices, basis_type, basis_index, der_order):\n",
    "    #basis_type==101: 1D linear basis functions\n",
    "    #basis_type==102: 1D quadratic basis functions\n",
    "    \n",
    "    left = vertices[0]\n",
    "    right = vertices[1]\n",
    "    h = right - left\n",
    "    if (basis_type==101):\n",
    "        if (basis_index==0):\n",
    "            if (der_order==0):\n",
    "                r = (right - x)/h\n",
    "            elif (der_order==1):\n",
    "                r = -1/h\n",
    "            elif (der_order>1):\n",
    "                r = 0.\n",
    "            else:\n",
    "                print (\"wrong der order\")\n",
    "        elif (basis_index==1):\n",
    "            if (der_order==0):\n",
    "                r = (x - left)/h\n",
    "            elif (der_order==1):\n",
    "                r = 1/h\n",
    "            elif (der_order>1):\n",
    "                r = 0\n",
    "            else:\n",
    "                print (\"wrong der order\")\n",
    "    elif (basis_type==102):\n",
    "        if (basis_index==0):\n",
    "            if (der_order==0):\n",
    "                r = 2*((x-left)/h)**2 - 3*(x-left)/h + 1\n",
    "            elif (der_order==1):\n",
    "                r = 4*(x-left)/h**2 - 3/h\n",
    "            elif (der_order==2):\n",
    "                r = 4/h**2 \n",
    "            elif (der_order>2):\n",
    "                r = 0\n",
    "            else:\n",
    "                print (\"wrong der order\")\n",
    "        elif (basis_index==1):\n",
    "            if (der_order==0):\n",
    "                r = 2*((x-left)/h)**2 - (x-left)/h\n",
    "            elif (der_order==1):\n",
    "                r = 4*(x-left)/h**2 - 1/h\n",
    "            elif (der_order==2):\n",
    "                r = 4/h**2 \n",
    "            elif (der_order>2):\n",
    "                r = 0\n",
    "            else:\n",
    "                print (\"wrong der order\")\n",
    "        elif (basis_index==2):\n",
    "            if (der_order==0):\n",
    "                r = -4*((x-left)/h)**2 + 4*(x-left)/h\n",
    "            elif (der_order==1):\n",
    "                r = -8*(x-left)/h**2 + 4/h\n",
    "            elif (der_order==2):\n",
    "                r = -8/h**2 \n",
    "            elif (der_order>2):\n",
    "                r = 0\n",
    "            else:\n",
    "                print (\"wrong der order\")\n",
    "    return r"
   ]
  },
  {
   "cell_type": "markdown",
   "metadata": {
    "slideshow": {
     "slide_type": "slide"
    }
   },
   "source": [
    "### Local Assembly\n",
    "- Now, we process the key part of this implemenation, __local assembly__.  Basically, this process takes two steps:\n",
    "    1. Computing the integral $\\int_{I_n} c(x){\\phi'_{n,\\alpha}}(x){\\phi'_{n,\\beta}}(x)dx$\n",
    "    2. Adding the integral value to the correspond entry of the global matrix.\n",
    "- Note, it is simiar to deal with the source term and assemble the global vector."
   ]
  },
  {
   "cell_type": "markdown",
   "metadata": {
    "slideshow": {
     "slide_type": "slide"
    }
   },
   "source": [
    "#### Gauss Quadrature\n",
    "- However, to compute the integration in general, one needs use numerical quadrature methods.  Here, we choose the popular Gauss quadrature:\n",
    "    - For each element, we need the corresponding Gauss points and weights based on the element vertices.\n",
    "    ```python \n",
    "        def generate_Gauss1D(vertices, Gauss_points_ref, Gauss_weights_ref)\n",
    "    ```\n",
    "    - One has to provide the number of Gauss quadrature points, $Gpn$, and the correspond Gauss points and weights on the reference interval $[-1,1]$.\n",
    "    - In python, the Gauss-Legendre quadrature can be easily generated by\n",
    "    ```python\n",
    "        Gauss_points_ref, Gauss_weights_ref = npleg.leggauss(Gpn)\n",
    "    ```"
   ]
  },
  {
   "cell_type": "code",
   "execution_count": 6,
   "metadata": {
    "slideshow": {
     "slide_type": "slide"
    }
   },
   "outputs": [],
   "source": [
    "def generate_Gauss1D(vertices, Gauss_points_ref, Gauss_weights_ref):\n",
    "    mid  = 0.5*(vertices[0] + vertices[1])\n",
    "    scale = 0.5*(vertices[1] - vertices[0])\n",
    "    return mid + scale*Gauss_points_ref, scale*Gauss_weights_ref"
   ]
  },
  {
   "cell_type": "code",
   "execution_count": 7,
   "metadata": {
    "slideshow": {
     "slide_type": "slide"
    }
   },
   "outputs": [],
   "source": [
    "# local debugging cell: global testing part 1\n",
    "# left, right boundary\n",
    "left_boundary = 0\n",
    "right_boundary = 1\n",
    "\n",
    "# number of elements, also size(T[0])\n",
    "number_of_elements = 4\n",
    "\n",
    "# P, T matrice\n",
    "P, T = generate_PT_1D(left_boundary, right_boundary, number_of_elements)\n",
    "\n",
    "basis_type_trial = 102\n",
    "basis_type_test = 102\n",
    "\n",
    "# Nlb, number of local basis\n",
    "Nlb_trial = generate_Nlb(basis_type_trial)\n",
    "Nlb_test  = generate_Nlb(basis_type_test)\n",
    "Nb_trial, Pb_trial, Tb_trial = generate_NbPbTb_1D(P, T, basis_type_trial)\n",
    "Nb_test,  Pb_test,  Tb_test  = generate_NbPbTb_1D(P, T, basis_type_test)\n",
    "\n",
    "# Gauss point number\n",
    "Gpn = 6\n",
    "Gauss_points_ref, Gauss_weights_ref = npleg.leggauss(Gpn)\n",
    "#Gauss_points, Gauss_weights = generate_Gauss1D([0,1], Gauss_points_ref, Gauss_weights_ref)"
   ]
  },
  {
   "cell_type": "markdown",
   "metadata": {
    "slideshow": {
     "slide_type": "slide"
    }
   },
   "source": [
    "#### Assemble Matrix (diffusion term)\n",
    "One needs:\n",
    "- Define the coefficient function $c(x)$\n",
    "```python\n",
    "def coeff_fun(x)\n",
    "```\n",
    "- Computing the integral $\\int_{I_n} c(x){\\phi'_{n,\\alpha}}(x){\\phi'_{n,\\beta}}(x)dx$\n",
    "```python\n",
    "def Gauss_int_1D_trial_test(Gpn, Gauss_points, Gauss_weights, \\\n",
    "                coeff_fun, vertices, \\\n",
    "                der_order_trial, basis_type_trial, basis_index_trial,\\\n",
    "                der_order_test,  basis_type_test,  basis_index_test)\n",
    "```\n",
    "    - Here, in the above implementation, we allow the trial and test functions can come from different approximation space.\n",
    "- Assemble the global matrix\n",
    "```python \n",
    "def assemble_matrix_1D(coeff_fun, Gauss_points_ref, Gauss_weights_ref, \\\n",
    "           P, T, Tb_trial, Tb_test, Nlb_trial, Nlb_test, Nb_trial, Nb_test,\\\n",
    "           basis_type_trial, der_order_trial, \\\n",
    "           basis_type_test, der_order_test)\n",
    "```                       \n",
    "    - The correspond global index is provided by the $T_b$ matrix.\n",
    "    - __Important__: the __trial__ function contributes to the __column__ entry and the __test__ function contributes to the __row__ entry of the global matrix.\n",
    "    - Here, the derivative order is $1$."
   ]
  },
  {
   "cell_type": "code",
   "execution_count": 8,
   "metadata": {
    "slideshow": {
     "slide_type": "slide"
    }
   },
   "outputs": [],
   "source": [
    "def coeff_fun(x):\n",
    "    return np.exp(x) \n",
    "\n",
    "def Gauss_int_1D_trial_test(Gpn, Gauss_points, Gauss_weights, coeff_fun, vertices, \\\n",
    "                            der_order_trial, basis_type_trial, basis_index_trial, \\\n",
    "                            der_order_test,  basis_type_test,  basis_index_test):\n",
    "    int_value = 0.\n",
    "    for k in range (Gpn):\n",
    "        int_value += Gauss_weights[k]*coeff_fun(Gauss_points[k])*\\\n",
    "                        local_basis_1D(Gauss_points[k],vertices, basis_type_trial, basis_index_trial, der_order_trial)*\\\n",
    "                        local_basis_1D(Gauss_points[k],vertices, basis_type_test, basis_index_test, der_order_test)\n",
    "    return int_value"
   ]
  },
  {
   "cell_type": "code",
   "execution_count": 9,
   "metadata": {
    "slideshow": {
     "slide_type": "slide"
    }
   },
   "outputs": [],
   "source": [
    "def assemble_matrix_1D(coeff_fun, Gauss_points_ref, Gauss_weights_ref, P, T,\\\n",
    "                       Tb_trial, Tb_test, Nlb_trial, Nlb_test, Nb_trial, Nb_test,\\\n",
    "                       basis_type_trial, der_order_trial, basis_type_test, der_order_test):\n",
    "    A = np.zeros([Nb_test, Nb_trial])\n",
    "    for n in range(number_of_elements):\n",
    "        vertices = P[T[0,n]:T[1,n]+1]\n",
    "        Gauss_points, Gauss_weights=generate_Gauss1D(vertices, Gauss_points_ref, Gauss_weights_ref)\n",
    "        for alpha in range(Nlb_trial):\n",
    "            for beta in range(Nlb_test):\n",
    "                int_value=Gauss_int_1D_trial_test(Gpn, Gauss_points, Gauss_weights, coeff_fun, vertices, \\\n",
    "                                                    der_order_trial, basis_type_trial, alpha, \\\n",
    "                                                    der_order_test,  basis_type_test,  beta)\n",
    "                A[Tb_test[beta,n],Tb_trial[alpha,n]] += int_value\n",
    "    return A          "
   ]
  },
  {
   "cell_type": "markdown",
   "metadata": {
    "slideshow": {
     "slide_type": "slide"
    }
   },
   "source": [
    "#### Assemble Vector (source term)\n",
    "One needs:\n",
    "- Define the source function $f(x)$\n",
    "```python\n",
    "def source_fun(x)\n",
    "```\n",
    "- Computing the integral $\\int_{I_n} f(x){\\phi_{n,\\beta}}(x)dx$\n",
    "```python\n",
    "def Gauss_int_1D_source_test(Gpn, Gauss_points, Gauss_weights, \\\n",
    "                     source_fun, vertices, \\\n",
    "                     der_order_test,  basis_type_test,  basis_index_test)\n",
    "```\n",
    "- Assemble the global vector\n",
    "```python \n",
    "def assemble_vector_1D(source_fun, Gauss_points_ref, Gauss_weights_ref, \\\n",
    "                       P, T, Tb_test, Nlb_test, Nb_test, \\\n",
    "                       basis_type_test, der_order_test)\n",
    "```                       \n",
    "Note: it is a rather a simple version of asseble matrix process."
   ]
  },
  {
   "cell_type": "code",
   "execution_count": 10,
   "metadata": {
    "slideshow": {
     "slide_type": "slide"
    }
   },
   "outputs": [],
   "source": [
    "def source_fun(x):\n",
    "    #return 0.\n",
    "    return -np.exp(x)*(np.cos(x)-2*np.sin(x)-x*np.cos(x)-x*np.sin(x))\n",
    "\n",
    "def Gauss_int_1D_source_test(Gpn, Gauss_points, Gauss_weights, source_fun, vertices, \\\n",
    "                            der_order_test,  basis_type_test,  basis_index_test):\n",
    "    int_value = 0.\n",
    "    for k in range (Gpn):\n",
    "        int_value += Gauss_weights[k]*source_fun(Gauss_points[k])*\\\n",
    "                        local_basis_1D(Gauss_points[k], vertices, basis_type_test, basis_index_test, der_order_test)\n",
    "    return int_value\n",
    "\n",
    "def assemble_vector_1D(source_fun, Gauss_points_ref, Gauss_weights_ref, \\\n",
    "                       P, T, Tb_test, Nlb_test, Nb_test, basis_type_test, der_order_test):\n",
    "    b = np.zeros(Nb_test)\n",
    "    for n in range(number_of_elements):\n",
    "        vertices = P[T[0,n]:T[1,n]+1]\n",
    "        Gauss_points, Gauss_weights=generate_Gauss1D(vertices, Gauss_points_ref, Gauss_weights_ref)\n",
    "        for beta in range(Nlb_test):\n",
    "            int_value=Gauss_int_1D_source_test(Gpn, Gauss_points, Gauss_weights, source_fun, vertices, \\\n",
    "                                                der_order_test,  basis_type_test,  beta)\n",
    "            b[Tb_test[beta,n]] += int_value\n",
    "    return b"
   ]
  },
  {
   "cell_type": "code",
   "execution_count": 11,
   "metadata": {
    "slideshow": {
     "slide_type": "slide"
    }
   },
   "outputs": [],
   "source": [
    "# local debugging cell: assemble_matrix_1D, assemble_vector_1D, global testing part 2\n",
    "#print (Nb_trial, Nb_test, np.shape(Tb_trial), np.shape(Tb_test))\n",
    "A = assemble_matrix_1D(coeff_fun, Gauss_points_ref, Gauss_weights_ref, \n",
    "                       P, T, Tb_trial, Tb_test, Nlb_trial, Nlb_test, Nb_trial, Nb_test,\\\n",
    "                       basis_type_trial, 1, basis_type_test, 1)\n",
    "b = assemble_vector_1D(source_fun, Gauss_points_ref, Gauss_weights_ref, \\\n",
    "                       P, T, Tb_test, Nlb_test, Nb_test, basis_type_test, 0)\n",
    "#print (A)\n",
    "#print (b)"
   ]
  },
  {
   "cell_type": "markdown",
   "metadata": {
    "slideshow": {
     "slide_type": "slide"
    }
   },
   "source": [
    "### Treat Boundary Conditions\n",
    "#### Boundary information matrix\n",
    "To deal with the boundary conditions in a general struture, one needs store the boundary information matrix $boundarynodes$: \n",
    "- $boundarynodes[0,k]$ is the type of the $k$th boundary finite element node: Dirichlet, Neumann, Robin, etc.\n",
    "- $boundarynodes[1,k]$ is the global node index of the kth boundary finite element node.\n",
    "- Let $nbn$ denote the number of boundary finite element nodes.\n",
    "- For more complicated methods, one may need to store more boundary information than the above.\n",
    "```python\n",
    "    def generate_boundarynodes_1D(Pb)\n",
    "```"
   ]
  },
  {
   "cell_type": "markdown",
   "metadata": {
    "slideshow": {
     "slide_type": "slide"
    }
   },
   "source": [
    "#### Dirichlet boundary conditions\n",
    "- Define $g(x)$ to be the Dirichlet boundary function which satisfies $g(a)=g_a$ and $g(b)=g_b$.\n",
    "- The Dirichlet boundary condition leads to the following equation:\n",
    "\\begin{align}\n",
    "    u_h(a) & = \\sum\\limits_{n = 1}^N\\sum\\limits_{i=1}^{N_{lb}}u_{n,i}\\phi_{n,i}(a) = g(a)\\\\\n",
    "    u_h(b) & = \\sum\\limits_{n = 1}^N\\sum\\limits_{i=1}^{N_{lb}}u_{n,i}\\phi_{n,i}(b) = g(b)\n",
    "\\end{align}\n",
    "- However, only the coefficient of the Dirichlet boundary nodes have contribution to the final results:\n",
    "    - Let $i = boundary[1,k]$, then $u_i = g(P_b[i])$, where $u_i$ is the $i$th unknown (global index)."
   ]
  },
  {
   "cell_type": "code",
   "execution_count": 12,
   "metadata": {
    "slideshow": {
     "slide_type": "slide"
    }
   },
   "outputs": [],
   "source": [
    "def generate_boundarynodes_1D(Pb):\n",
    "    nbn = 2\n",
    "    boundarynodes = np.zeros([2,nbn],dtype=int)\n",
    "    # boundarynodes[0,i] = 0, Dirichlet\n",
    "    boundarynodes[1,0] = 0\n",
    "    boundarynodes[1,1] = np.size(Pb)-1\n",
    "    return nbn, boundarynodes\n",
    "\n",
    "def Dirichlet_fun(x):\n",
    "    if (x <= left_boundary+1.e-10):\n",
    "        return 0.\n",
    "    elif (x >= right_boundary - 1.e-10):\n",
    "        return np.cos(1)\n",
    "\n",
    "def treat_Dirichlet_boundary(A, b, Pb, nbn, boundarynodes, Dirichlet_fun):\n",
    "    for k in range(nbn):\n",
    "        if (boundarynodes[0,k] == 0):\n",
    "            i = boundarynodes[1,k]\n",
    "            A[i,:] = 0\n",
    "            A[i,i] = 1\n",
    "            b[i] = Dirichlet_fun(Pb[i])\n",
    "    return A, b"
   ]
  },
  {
   "cell_type": "code",
   "execution_count": 13,
   "metadata": {
    "slideshow": {
     "slide_type": "slide"
    }
   },
   "outputs": [
    {
     "name": "stdout",
     "output_type": "stream",
     "text": [
      "4.6596689514802336e-05\n"
     ]
    },
    {
     "data": {
      "image/png": "[encoded data removed]",
      "text/plain": [
       "<matplotlib.figure.Figure at 0x10658e6a0>"
      ]
     },
     "metadata": {
      "image/png": {
       "height": 250,
       "width": 373
      }
     },
     "output_type": "display_data"
    }
   ],
   "source": [
    "# local debugging cell: global testing part3\n",
    "nbn, boundarynodes = generate_boundarynodes_1D(Pb_trial)\n",
    "#print (nbn)\n",
    "#print (boundarynodes)\n",
    "\n",
    "def exact_fun(x):\n",
    "    return x*np.cos(x)\n",
    "\n",
    "A, b = treat_Dirichlet_boundary(A, b, Pb_trial, nbn, boundarynodes, Dirichlet_fun)\n",
    "#print (A, b)\n",
    "\n",
    "u = np.linalg.solve(A,b)\n",
    "#print (u)\n",
    "err = np.zeros(np.size(Pb_trial))\n",
    "for i in range (np.size(Pb_trial)):\n",
    "    err[i] = np.abs(u[i] - exact_fun(Pb_trial[i]))\n",
    "print (np.max(err))\n",
    "\n",
    "plt.plot(Pb_trial, u, 'k')\n",
    "plt.plot(Pb_trial, Pb_trial*np.cos(Pb_trial))\n",
    "plt.show()"
   ]
  },
  {
   "cell_type": "markdown",
   "metadata": {
    "slideshow": {
     "slide_type": "slide"
    }
   },
   "source": [
    "### Summary (Framework)\n",
    "Now, we can put everthing together into the following framework:\n",
    "```python\n",
    "def Poisson1D_solver(left_boundary, right_boundary, number_of_elements, \\\n",
    "        basis_type, Gpn, coeff_fun, source_fun, Dirichlet_fun, exact_fun)\n",
    "```\n",
    "- Generate the mesh information matrices: $P, T, E$;\n",
    "- Generate the finite element information matrices: $P_b, T_b, E_b$;\n",
    "- Assembel the matrices and vectors: local assembly based on $P, T, E$ only, local to global needs $P_b, T_b, E_b$;\n",
    "- Deal with the boundary conditions: boundary information matrix and local assembly;\n",
    "- Solve linear systems: numerical linear algebra."
   ]
  },
  {
   "cell_type": "code",
   "execution_count": 14,
   "metadata": {
    "slideshow": {
     "slide_type": "slide"
    }
   },
   "outputs": [
    {
     "name": "stdout",
     "output_type": "stream",
     "text": [
      "maximum error:  4.66e-05\n"
     ]
    }
   ],
   "source": [
    "def Poisson1D_solver(left_boundary, right_boundary, number_of_elements, \\\n",
    "                     generate_boundarynodes_1D, basis_type,\\\n",
    "                     Gpn, coeff_fun, source_fun, Dirichlet_fun, exact_fun):\n",
    "    # P, T matrice\n",
    "    P, T = generate_PT_1D(left_boundary, right_boundary, number_of_elements)\n",
    "\n",
    "    basis_type_trial = basis_type\n",
    "    basis_type_test  = basis_type\n",
    "\n",
    "    # Nlb, number of local basis\n",
    "    Nlb_trial = generate_Nlb(basis_type_trial)\n",
    "    Nlb_test  = generate_Nlb(basis_type_test)\n",
    "    Nb_trial, Pb_trial, Tb_trial = generate_NbPbTb_1D(P, T, basis_type_trial)\n",
    "    Nb_test,  Pb_test,  Tb_test  = generate_NbPbTb_1D(P, T, basis_type_test)\n",
    "\n",
    "    # Gauss point number\n",
    "    Gauss_points_ref, Gauss_weights_ref = npleg.leggauss(Gpn)\n",
    "    \n",
    "    # Assemble local to global\n",
    "    A = assemble_matrix_1D(coeff_fun, Gauss_points_ref, Gauss_weights_ref, \n",
    "                       P, T, Tb_trial, Tb_test, Nlb_trial, Nlb_test, Nb_trial, Nb_test,\\\n",
    "                       basis_type_trial, 1, basis_type_test, 1)\n",
    "    b = assemble_vector_1D(source_fun, Gauss_points_ref, Gauss_weights_ref, \\\n",
    "                       P, T, Tb_test, Nlb_test, Nb_test, basis_type_test, 0)\n",
    "    \n",
    "    # deal with boundary\n",
    "    nbn, boundarynodes = generate_boundarynodes_1D(Pb_trial)\n",
    "    # Dirichlet boundary\n",
    "    A, b = treat_Dirichlet_boundary(A, b, Pb_trial, nbn, boundarynodes, Dirichlet_fun)\n",
    "    \n",
    "    # solve the solution\n",
    "    u = np.linalg.solve(A,b)\n",
    "    #print (u)\n",
    "    \n",
    "    # maximum error at nodes \n",
    "    err = np.zeros(np.size(Pb_trial))\n",
    "    for i in range (np.size(Pb_trial)):\n",
    "        err[i] = np.abs(u[i] - exact_fun(Pb_trial[i]))\n",
    "    \n",
    "    return np.max(err), Pb_trial, u\n",
    "#\n",
    "err, Pb, u = Poisson1D_solver(left_boundary, right_boundary, number_of_elements, \n",
    "                     generate_boundarynodes_1D, 102,\\\n",
    "                     Gpn, coeff_fun, source_fun, Dirichlet_fun, exact_fun)\n",
    "print (\"maximum error:  %7.2e\" % err)"
   ]
  },
  {
   "cell_type": "markdown",
   "metadata": {
    "slideshow": {
     "slide_type": "slide"
    }
   },
   "source": [
    "__Example 1__ \n",
    "\n",
    "Use the 1D linear finite element method to solve the following equation:\n",
    "\\begin{align*}\n",
    "     -\\frac{d}{dx}\\left(e^x\\frac{d u(x)}{dx}\\right) &= -e^x[\\cos(x)-2\\sin(x)-x\\cos(x) - x\\sin(x)],\\,\\, (0 \\leq x \\leq 1), \\\\\n",
    "     u(0) &= 0,\\,\\,u(1) = \\cos(1).\n",
    "\\end{align*}\n",
    "- The analytic solution of this problem is $u = x\\cos(x)$, which can be used to compute the error of the numerical solution.\n",
    "- Second order convergence $\\mathcal{O}(h^2)$ since the error is reduced by $1$ when $h$ is reduced by half.\n",
    "- This matches the optimal approximation capability expected from piecewise linear functions."
   ]
  },
  {
   "cell_type": "code",
   "execution_count": 15,
   "metadata": {
    "slideshow": {
     "slide_type": "slide"
    }
   },
   "outputs": [],
   "source": [
    "# function to output formatted order table\n",
    "def print_OrderTable(number_coarse, err):\n",
    "    print (\"h      maximum error    order\")\n",
    "    for i in range(np.size(err)):\n",
    "        number_of_elements = number_coarse*2**i\n",
    "        if (i == 0):\n",
    "            print (\"1/%-3d    %7.2e        --\" % (number_of_elements, err[i]))\n",
    "        else:\n",
    "            print (\"1/%-3d    %7.2e       %4.2f\" % (number_of_elements, err[i], np.log(err[i-1]/err[i])/np.log(2)))"
   ]
  },
  {
   "cell_type": "code",
   "execution_count": 16,
   "metadata": {
    "slideshow": {
     "slide_type": "slide"
    }
   },
   "outputs": [
    {
     "name": "stdout",
     "output_type": "stream",
     "text": [
      "h      maximum error    order\n",
      "1/4      2.33e-03        --\n",
      "1/8      5.83e-04       2.00\n",
      "1/16     1.46e-04       1.99\n",
      "1/32     3.67e-05       2.00\n",
      "1/64     9.17e-06       2.00\n",
      "1/128    2.29e-06       2.00\n"
     ]
    },
    {
     "data": {
      "image/png": "[encoded data removed]",
      "text/plain": [
       "<matplotlib.figure.Figure at 0x106becc88>"
      ]
     },
     "metadata": {
      "image/png": {
       "height": 263,
       "width": 373
      }
     },
     "output_type": "display_data"
    }
   ],
   "source": [
    "left_boundary_ex1 = 0\n",
    "right_boundary_ex1 = 1\n",
    "\n",
    "Gpn = 6 \n",
    "\n",
    "def coeff_fun_ex1(x):\n",
    "    return np.exp(x) \n",
    "\n",
    "def source_fun_ex1(x):\n",
    "    return -np.exp(x)*(np.cos(x)-2*np.sin(x)-x*np.cos(x)-x*np.sin(x))\n",
    "\n",
    "def generate_boundarynodes_1D_ex1(Pb):\n",
    "    nbn = 2\n",
    "    boundarynodes = np.zeros([2,nbn],dtype=int)\n",
    "    # boundarynodes[0,i] = 0, Dirichlet\n",
    "    boundarynodes[1,0] = 0\n",
    "    boundarynodes[1,1] = np.size(Pb)-1\n",
    "    return nbn, boundarynodes\n",
    "\n",
    "def Dirichlet_fun_ex1(x):\n",
    "    tiny = 1.e-12\n",
    "    if (x <= left_boundary_ex1 + tiny):\n",
    "        return 0.\n",
    "    elif (x >= right_boundary_ex1 - tiny):\n",
    "        return np.cos(1)\n",
    "\n",
    "def exact_fun_ex1(x):\n",
    "    return x*np.cos(x)\n",
    "\n",
    "number_coarse = 4\n",
    "basis_type = 101\n",
    "\n",
    "err = np.zeros(6)\n",
    "for i in range (6):\n",
    "    number_of_elements = number_coarse*2**i\n",
    "    err[i], Pb, u = Poisson1D_solver(left_boundary_ex1, right_boundary_ex1, number_of_elements, \\\n",
    "                                     generate_boundarynodes_1D_ex1, basis_type,\\\n",
    "                                     Gpn, coeff_fun_ex1, source_fun_ex1, Dirichlet_fun_ex1, exact_fun_ex1)    \n",
    "print_OrderTable(number_coarse, err)\n",
    "plt.plot(Pb, u)\n",
    "plt.title(\"Example 1, Linear FEM, N = %3d\" % number_of_elements)\n",
    "plt.show()"
   ]
  },
  {
   "cell_type": "markdown",
   "metadata": {
    "slideshow": {
     "slide_type": "slide"
    }
   },
   "source": [
    "__Example 2__\n",
    "\n",
    "Use the 1D quadratric finite element method to solve the following equation:\n",
    "\\begin{align*}\n",
    "    -\\frac{d}{dx}\\left(e^x\\frac{d u(x)}{dx}\\right) &= -e^x[\\cos(x)-2\\sin(x)-x\\cos(x) - x\\sin(x)],\\,\\, (0 \\leq x \\leq 1), \\\\\n",
    "    u(0) &= 0,\\,\\,u(1) = \\cos(1).\n",
    "\\end{align*}\n",
    "- The analytic solution of this problem is $u = x\\cos(x)$, which can be used to compute the error of the numerical solution.\n",
    "- Third order convergence $\\mathcal{O}(h^3)$ since the error is reduced by $1$ when $h$ is reduced by half.\n",
    "- This matches the optimal approximation capability expected from piecewise quadratric functions.\n",
    "- In fact, we observe superconvergence since the convergence order is almost $\\mathcal{O}(h^4)$"
   ]
  },
  {
   "cell_type": "code",
   "execution_count": 17,
   "metadata": {
    "slideshow": {
     "slide_type": "slide"
    }
   },
   "outputs": [
    {
     "name": "stdout",
     "output_type": "stream",
     "text": [
      "h      maximum error    order\n",
      "1/4      4.66e-05        --\n",
      "1/8      2.99e-06       3.96\n",
      "1/16     1.89e-07       3.98\n",
      "1/32     1.19e-08       3.99\n",
      "1/64     7.44e-10       4.00\n",
      "1/128    4.61e-11       4.01\n"
     ]
    },
    {
     "data": {
      "image/png": "[encoded data removed]",
      "text/plain": [
       "<matplotlib.figure.Figure at 0x1065a3e10>"
      ]
     },
     "metadata": {
      "image/png": {
       "height": 263,
       "width": 373
      }
     },
     "output_type": "display_data"
    }
   ],
   "source": [
    "number_coarse = 4\n",
    "basis_type = 102\n",
    "\n",
    "err = np.zeros(6)\n",
    "for i in range (6):\n",
    "    number_of_elements = number_coarse*2**i\n",
    "    err[i], Pb, u = Poisson1D_solver(left_boundary_ex1, right_boundary_ex1, number_of_elements, \\\n",
    "                                    generate_boundarynodes_1D_ex1, basis_type,\\\n",
    "                                    Gpn, coeff_fun_ex1, source_fun_ex1, Dirichlet_fun_ex1, exact_fun_ex1)\n",
    "print_OrderTable(number_coarse, err)\n",
    "plt.plot(Pb, u)\n",
    "plt.title(\"Example 2, Quadratic FEM, N = %3d\" % number_of_elements)\n",
    "plt.show()"
   ]
  },
  {
   "cell_type": "markdown",
   "metadata": {
    "slideshow": {
     "slide_type": "slide"
    }
   },
   "source": [
    "### Extensions\n",
    "#### Neumann boundary conditions\n",
    "Consider 1D elliptic problem with Neumann boundary conditions:\n",
    "\\begin{align}\n",
    "   -\\frac{d}{dx}\\left(c(x)\\frac{d u(x)}{dx}\\right) & = f(x),\\,\\, a < x < b \\\\\n",
    "   u(a) = g_a,\\,\\,u'(b) & = r_b;\\quad\\text{or}\\quad u'(a) = r_a,\\,\\,u(b) = g_b.\n",
    "\\end{align}\n",
    "- Recall the weak formulation, we have:\n",
    "\\begin{equation}\n",
    "    c(a)u'(a)v(a) - c(b)u'(b)v(b) + \\int_a^b cu'v'dx = \\int_a^b fv dx.\n",
    "\\end{equation}\n",
    "- If $x = a$ is the Neumann boundary:\n",
    "\\begin{equation}\n",
    "     \\int_a^b cu'v'dx = \\int_a^b fv dx - r_a*c(a)v(a).\n",
    "\\end{equation}\n",
    "- If $x = b$ is the Neumann boundary:\n",
    "\\begin{equation}\n",
    "     \\int_a^b cu'v'dx = \\int_a^b fv dx + r_b*c(b)v(b).\n",
    "\\end{equation}\n",
    "- If both $x = a$ and $x = b$ are the Neumann boundary, what is __wrong__?\n",
    "- Therefore, for Neumann boundary conditions, one only needs to change the assembly vector.  \n",
    "```python\n",
    "    def Neumann_fun(x)\n",
    "    def treat_Neumann_boundary(b, Pb, nbn, boundarynodes, \\\n",
    "                                coeff_fun, Neumann_fun)\n",
    "```\n",
    "Since the left and right boundaries are slightly different , $boundarynodes[2,:]$ needs to store the correspond information. "
   ]
  },
  {
   "cell_type": "code",
   "execution_count": 18,
   "metadata": {
    "slideshow": {
     "slide_type": "slide"
    }
   },
   "outputs": [],
   "source": [
    "def generate_boundarynodes_1D_ex3(Pb):\n",
    "    nbn = 2\n",
    "    boundarynodes = np.zeros([3,nbn],dtype=int)\n",
    "    # boundarynodes[0,i] = 0, Dirichlet; boundarynodes[1,i] = 1, Neumann\n",
    "    boundarynodes[1,0] = 0\n",
    "    # assume right boundary is Neumann\n",
    "    # add the third row to boundarynodes: 0, left; 1 right.\n",
    "    boundarynodes[0,1] = 1\n",
    "    boundarynodes[1,1] = np.size(Pb)-1\n",
    "    boundarynodes[2,1] = 1\n",
    "    return nbn, boundarynodes\n",
    "\n",
    "nbn, boundarynodes = generate_boundarynodes_1D(Pb_trial)\n",
    "\n",
    "def Dirichlet_fun(x):\n",
    "    if (x <= left_boundary+1.e-10):\n",
    "        return 0.\n",
    "\n",
    "def Neumann_fun(x):\n",
    "    if (x >= right_boundary-1.e-10):\n",
    "        return np.cos(1) - np.sin(1)\n",
    "    \n",
    "def treat_Neumann_boundary(b, Pb, nbn, boundarynodes, coeff_fun, Neumann_fun):\n",
    "    for k in range(nbn):\n",
    "        if (boundarynodes[0,k] == 1):\n",
    "            i = boundarynodes[1,k]\n",
    "            if (boundarynodes[2,k] == 1):\n",
    "                b[i] += coeff_fun(Pb[i])*Neumann_fun(Pb[i])\n",
    "            elif (boundarynodes[2,k] == 0):\n",
    "                b[i] += -coeff_fun(Pb[i])*Neumann_fun(Pb[i])\n",
    "    return b"
   ]
  },
  {
   "cell_type": "code",
   "execution_count": 19,
   "metadata": {
    "slideshow": {
     "slide_type": "slide"
    }
   },
   "outputs": [
    {
     "name": "stdout",
     "output_type": "stream",
     "text": [
      "maximum error: 4.66e-11\n"
     ]
    }
   ],
   "source": [
    "def Poisson1D_solver(left_boundary, right_boundary, number_of_elements, \\\n",
    "                     generate_boundarynodes_1D, basis_type,\\\n",
    "                     Gpn, coeff_fun, source_fun, Dirichlet_fun, Neumann_fun, exact_fun):\n",
    "    # P, T matrice\n",
    "    P, T = generate_PT_1D(left_boundary, right_boundary, number_of_elements)\n",
    "\n",
    "    basis_type_trial = basis_type\n",
    "    basis_type_test  = basis_type\n",
    "\n",
    "    # Nlb, number of local basis\n",
    "    Nlb_trial = generate_Nlb(basis_type_trial)\n",
    "    Nlb_test  = generate_Nlb(basis_type_test)\n",
    "    Nb_trial, Pb_trial, Tb_trial = generate_NbPbTb_1D(P, T, basis_type_trial)\n",
    "    Nb_test,  Pb_test,  Tb_test  = generate_NbPbTb_1D(P, T, basis_type_test)\n",
    "\n",
    "    # Gauss point number\n",
    "    Gauss_points_ref, Gauss_weights_ref = npleg.leggauss(Gpn)\n",
    "    \n",
    "    # Assemble local to global\n",
    "    A = assemble_matrix_1D(coeff_fun, Gauss_points_ref, Gauss_weights_ref, \n",
    "                       P, T, Tb_trial, Tb_test, Nlb_trial, Nlb_test, Nb_trial, Nb_test,\\\n",
    "                       basis_type_trial, 1, basis_type_test, 1)\n",
    "    b = assemble_vector_1D(source_fun, Gauss_points_ref, Gauss_weights_ref, \\\n",
    "                       P, T, Tb_test, Nlb_test, Nb_test, basis_type_test, 0)\n",
    "    \n",
    "    # deal with boundary\n",
    "    nbn, boundarynodes = generate_boundarynodes_1D(Pb_trial)\n",
    "    # Dirichlet boundary\n",
    "    A, b = treat_Dirichlet_boundary(A, b, Pb_trial, nbn, boundarynodes, Dirichlet_fun)\n",
    "    # Neumann boundary\n",
    "    b = treat_Neumann_boundary(b, Pb_trial, nbn, boundarynodes, coeff_fun, Neumann_fun)\n",
    "    \n",
    "    # solve the solution\n",
    "    u = np.linalg.solve(A,b)\n",
    "    #print (u)\n",
    "    \n",
    "    # maximum error at nodes \n",
    "    err = np.zeros(np.size(Pb_trial))\n",
    "    for i in range (np.size(Pb_trial)):\n",
    "        err[i] = np.abs(u[i] - exact_fun(Pb_trial[i]))\n",
    "    \n",
    "    return np.max(err), Pb_trial, u\n",
    "#\n",
    "err, Pb, u = Poisson1D_solver(left_boundary, right_boundary, number_of_elements, \\\n",
    "                     generate_boundarynodes_1D_ex3, 102,\\\n",
    "                     Gpn, coeff_fun, source_fun, Dirichlet_fun, Neumann_fun, exact_fun)\n",
    "print (\"maximum error: %7.2e\" % err)"
   ]
  },
  {
   "cell_type": "markdown",
   "metadata": {
    "slideshow": {
     "slide_type": "slide"
    }
   },
   "source": [
    "__Example 3__\n",
    "    \n",
    "Use the 1D linear and quadratric finite element method to solve the following equation:\n",
    "\\begin{align*}\n",
    "     -\\frac{d}{dx}\\left(e^x\\frac{d u(x)}{dx}\\right) &= -e^x[\\cos(x)-2\\sin(x)-x\\cos(x) - x\\sin(x)],\\,\\, (0 \\leq x \\leq 1), \\\\\n",
    "     u(0) &= 0,\\,\\,u'(1) = \\cos(1) - \\sin(1).\n",
    "\\end{align*}\n",
    "- The analytic solution of this problem is $u = x\\cos(x)$, which can be used to compute the error of the numerical solution."
   ]
  },
  {
   "cell_type": "code",
   "execution_count": 20,
   "metadata": {
    "slideshow": {
     "slide_type": "slide"
    }
   },
   "outputs": [
    {
     "name": "stdout",
     "output_type": "stream",
     "text": [
      "Linear Finite Element: \n",
      "h      maximum error    order\n",
      "1/4      6.79e-03        --\n",
      "1/8      1.70e-03       2.00\n",
      "1/16     4.24e-04       2.00\n",
      "1/32     1.06e-04       2.00\n",
      "1/64     2.65e-05       2.00\n",
      "1/128    6.62e-06       2.00\n",
      "Quadratic Finite Element: \n",
      "h      maximum error    order\n",
      "1/4      4.88e-05        --\n",
      "1/8      3.06e-06       3.99\n",
      "1/16     1.92e-07       4.00\n",
      "1/32     1.20e-08       4.00\n",
      "1/64     7.49e-10       4.00\n",
      "1/128    4.66e-11       4.00\n"
     ]
    },
    {
     "data": {
      "image/png": "[encoded data removed]",
      "text/plain": [
       "<matplotlib.figure.Figure at 0x11248bc50>"
      ]
     },
     "metadata": {
      "image/png": {
       "height": 263,
       "width": 597
      }
     },
     "output_type": "display_data"
    }
   ],
   "source": [
    "def Dirichlet_fun_ex3(x):\n",
    "    tiny = 1.e-12\n",
    "    if (x <= left_boundary_ex1 + tiny):\n",
    "        return 0.\n",
    "    \n",
    "def Neumann_fun_ex3(x):\n",
    "    tiny = 1.e-12\n",
    "    if (x >= right_boundary - tiny):\n",
    "        return np.cos(1) - np.sin(1)\n",
    "    \n",
    "number_coarse = 4\n",
    "basis_type = 101\n",
    "print (\"Linear Finite Element: \")\n",
    "err = np.zeros(6)\n",
    "for i in range (6):\n",
    "    number_of_elements = number_coarse*2**i\n",
    "    err[i], Pb, u = Poisson1D_solver(left_boundary_ex1, right_boundary_ex1, number_of_elements, \\\n",
    "                        generate_boundarynodes_1D_ex3, basis_type,\\\n",
    "                        Gpn, coeff_fun_ex1, source_fun_ex1, Dirichlet_fun_ex3, Neumann_fun_ex3, exact_fun_ex1)\n",
    "print_OrderTable(number_coarse, err)    \n",
    "fig = plt.figure(figsize=(10,4))\n",
    "ax1 = fig.add_subplot(1,2,1)\n",
    "ax1.plot(Pb, u)\n",
    "ax1.set_title(\"Example 3, Linear FEM, N = %3d\" % number_of_elements)\n",
    "\n",
    "basis_type = 102\n",
    "print (\"Quadratic Finite Element: \")\n",
    "err = np.zeros(6)\n",
    "for i in range (6):\n",
    "    number_of_elements = number_coarse*2**i\n",
    "    err[i], Pb, u = Poisson1D_solver(left_boundary_ex1, right_boundary_ex1, number_of_elements, \\\n",
    "                        generate_boundarynodes_1D_ex3, basis_type,\\\n",
    "                        Gpn, coeff_fun_ex1, source_fun_ex1, Dirichlet_fun_ex3, Neumann_fun_ex3, exact_fun_ex1)\n",
    "print_OrderTable(number_coarse, err)    \n",
    "ax2 = fig.add_subplot(1,2,2)\n",
    "ax2.plot(Pb, u)\n",
    "ax2.set_title(\"Example 3, Quadratic FEM, N = %3d\" % number_of_elements)\n",
    "plt.show()"
   ]
  },
  {
   "cell_type": "markdown",
   "metadata": {
    "slideshow": {
     "slide_type": "slide"
    }
   },
   "source": [
    "#### Robin boundary conditions\n",
    "Consider 1D elliptic problem with Robin boundary conditions:\n",
    "\\begin{align}\n",
    "   -\\frac{d}{dx}\\left(c(x)\\frac{d u(x)}{dx}\\right) & = f(x),\\,\\, a < x < b \\\\\n",
    "   u'(a) + q_a u(a) = p_a,\\,\\,u(b) & = g_b;\\quad\\text{or}\\quad u(a) = g_a,\\,\\,u'(b) + q_b u(b) = p_b.\n",
    "\\end{align}\n",
    "- Recall the weak formulation, we have:\n",
    "\\begin{equation}\n",
    "    c(a)u'(a)v(a) - c(b)u'(b)v(b) + \\int_a^b cu'v'dx = \\int_a^b fv dx.\n",
    "\\end{equation}\n",
    "- If $x = a$ is the Robin boundary:\n",
    "\\begin{equation}\n",
    "     \\int_a^b cu'v'dx - q_a c(a)u(a)= \\int_a^b fv dx - p_ac(a)v(a).\n",
    "\\end{equation}\n",
    "- If $x = b$ is the Robin boundary:\n",
    "\\begin{equation}\n",
    "     \\int_a^b cu'v'dx + q_b c(b)u(b)= \\int_a^b fv dx + p_bc(b)v(b).\n",
    "\\end{equation}\n",
    "- Therefore, for Robin boundary conditions, one only needs to change the both assembly matrix and vector.  \n",
    "```python\n",
    "    def Robin_fun(x)\n",
    "    def Robin_coeff(x)\n",
    "    def treat_Robin_boundary(A, b, Pb, nbn, boundarynodes, coeff_fun, \\\n",
    "                            Robin_fun, Robin_coeff)\n",
    "```"
   ]
  },
  {
   "cell_type": "code",
   "execution_count": 21,
   "metadata": {
    "slideshow": {
     "slide_type": "slide"
    }
   },
   "outputs": [],
   "source": [
    "def generate_boundarynodes_1D_ex4(Pb):\n",
    "    nbn = 2\n",
    "    boundarynodes = np.zeros([3,nbn],dtype=int)\n",
    "    # boundarynodes[0,i] = 0, Dirichlet; 1, Neumann; 2, Robin\n",
    "    # assume left boundary: Robin, right boundary: Dirichlet\n",
    "    # add the third row to boundarynodes: 0, left; 1 right.\n",
    "    boundarynodes[0,0] = 2\n",
    "    boundarynodes[2,0] = 0\n",
    "    boundarynodes[1,0] = 0\n",
    "    boundarynodes[1,1] = np.size(Pb)-1\n",
    "    return nbn, boundarynodes\n",
    "\n",
    "nbn, boundarynodes = generate_boundarynodes_1D(Pb_trial)\n",
    "\n",
    "def Dirichlet_fun(x):\n",
    "    if (x >= right_boundary-1.e-10):\n",
    "        return np.cos(1)\n",
    "\n",
    "def Robin_fun(x):\n",
    "    if (x <= left_boundary+1.e-10):\n",
    "        return 1.\n",
    "\n",
    "def Robin_coeff(x): \n",
    "    if (x <= left_boundary+1.e-10):\n",
    "        return 1.\n",
    "\n",
    "def treat_Robin_boundary(A, b, Pb, nbn, boundarynodes, coeff_fun, Robin_fun, Robin_coeff):\n",
    "    for k in range(nbn):\n",
    "        if (boundarynodes[0,k] == 2):\n",
    "            i = boundarynodes[1,k]\n",
    "            if (boundarynodes[2,k] == 0):\n",
    "                A[i,i] += -Robin_coeff(Pb[i])*coeff_fun(Pb[i])\n",
    "                b[i] += -coeff_fun(Pb[i])*Robin_fun(Pb[i])\n",
    "            elif (boundarynodes[2,k] == 1):\n",
    "                A[i,i] += Robin_coeff(Pb[i])*coeff_fun(Pb[i])\n",
    "                b[i] += coeff_fun(Pb[i])*Robin_fun(Pb[i])\n",
    "    return A, b"
   ]
  },
  {
   "cell_type": "code",
   "execution_count": 22,
   "metadata": {
    "slideshow": {
     "slide_type": "slide"
    }
   },
   "outputs": [
    {
     "name": "stdout",
     "output_type": "stream",
     "text": [
      "maximum error: 3.08e-11\n"
     ]
    }
   ],
   "source": [
    "def Poisson1D_solver(left_boundary, right_boundary, number_of_elements, \\\n",
    "                     generate_boundarynodes_1D, basis_type,\\\n",
    "                     Gpn, coeff_fun, source_fun, Dirichlet_fun, Neumann_fun, Robin_fun, Robin_coeff, exact_fun):\n",
    "    # P, T matrice\n",
    "    #print (number_of_elements)\n",
    "    P, T = generate_PT_1D(left_boundary, right_boundary, number_of_elements)\n",
    "\n",
    "    basis_type_trial = basis_type\n",
    "    basis_type_test  = basis_type\n",
    "\n",
    "    # Nlb, number of local basis\n",
    "    Nlb_trial = generate_Nlb(basis_type_trial)\n",
    "    Nlb_test  = generate_Nlb(basis_type_test)\n",
    "    Nb_trial, Pb_trial, Tb_trial = generate_NbPbTb_1D(P, T, basis_type_trial)\n",
    "    Nb_test,  Pb_test,  Tb_test  = generate_NbPbTb_1D(P, T, basis_type_test)\n",
    "\n",
    "    # Gauss point number\n",
    "    Gauss_points_ref, Gauss_weights_ref = npleg.leggauss(Gpn)\n",
    "    \n",
    "    # Assemble local to global\n",
    "    A = assemble_matrix_1D(coeff_fun, Gauss_points_ref, Gauss_weights_ref, \n",
    "                       P, T, Tb_trial, Tb_test, Nlb_trial, Nlb_test, Nb_trial, Nb_test,\\\n",
    "                       basis_type_trial, 1, basis_type_test, 1)\n",
    "    b = assemble_vector_1D(source_fun, Gauss_points_ref, Gauss_weights_ref, \\\n",
    "                       P, T, Tb_test, Nlb_test, Nb_test, basis_type_test, 0)\n",
    "    \n",
    "    # deal with boundary\n",
    "    nbn, boundarynodes = generate_boundarynodes_1D(Pb_trial)\n",
    "    # Dirichlet boundary\n",
    "    A, b = treat_Dirichlet_boundary(A, b, Pb_trial, nbn, boundarynodes, Dirichlet_fun)\n",
    "    # Neumann boundary\n",
    "    b = treat_Neumann_boundary(b, Pb_trial, nbn, boundarynodes, coeff_fun, Neumann_fun)\n",
    "    # Robin boundary\n",
    "    A, b = treat_Robin_boundary(A, b, Pb_trial, nbn, boundarynodes, coeff_fun, Robin_fun, Robin_coeff)\n",
    "    \n",
    "    # solve the solution\n",
    "    u = np.linalg.solve(A,b)\n",
    "    #print (u)\n",
    "    \n",
    "    # maximum error at nodes \n",
    "    err = np.zeros(np.size(Pb_trial))\n",
    "    for i in range (np.size(Pb_trial)):\n",
    "        err[i] = np.abs(u[i] - exact_fun(Pb_trial[i]))\n",
    "    \n",
    "    return np.max(err), Pb_trial, u\n",
    "#\n",
    "err, Pb, u = Poisson1D_solver(left_boundary, right_boundary, number_of_elements, \\\n",
    "                    generate_boundarynodes_1D_ex4, 102,\\\n",
    "                    Gpn, coeff_fun, source_fun, Dirichlet_fun, Neumann_fun, Robin_fun, Robin_coeff, exact_fun)\n",
    "print (\"maximum error: %7.2e\" % err)"
   ]
  },
  {
   "cell_type": "markdown",
   "metadata": {
    "slideshow": {
     "slide_type": "slide"
    }
   },
   "source": [
    "__Example 4__\n",
    "\n",
    "Use the 1D linear and quadratric finite element method to solve the following equation:\n",
    "\\begin{align*}\n",
    "     -\\frac{d}{dx}\\left(e^x\\frac{d u(x)}{dx}\\right) &= -e^x[\\cos(x)-2\\sin(x)-x\\cos(x) - x\\sin(x)],\\,\\, (0 \\leq x \\leq 1), \\\\\n",
    "     u'(0) + u(0) &= 1,\\,\\,u(1) = \\cos(1).\n",
    "\\end{align*}\n",
    "- The analytic solution of this problem is $u = x\\cos(x)$, which can be used to compute the error of the numerical solution."
   ]
  },
  {
   "cell_type": "code",
   "execution_count": 23,
   "metadata": {
    "slideshow": {
     "slide_type": "slide"
    }
   },
   "outputs": [
    {
     "name": "stdout",
     "output_type": "stream",
     "text": [
      "Linear Finite Element: \n",
      "h      maximum error    order\n",
      "1/4      1.83e-02        --\n",
      "1/8      4.60e-03       1.99\n",
      "1/16     1.15e-03       2.00\n",
      "1/32     2.88e-04       2.00\n",
      "1/64     7.20e-05       2.00\n",
      "1/128    1.80e-05       2.00\n",
      "Quadratic Finite Element: \n",
      "h      maximum error    order\n",
      "1/4      3.28e-05        --\n",
      "1/8      2.05e-06       4.00\n",
      "1/16     1.28e-07       4.00\n",
      "1/32     8.01e-09       4.00\n",
      "1/64     5.00e-10       4.00\n",
      "1/128    3.08e-11       4.02\n"
     ]
    },
    {
     "data": {
      "image/png": "[encoded data removed]",
      "text/plain": [
       "<matplotlib.figure.Figure at 0x106e36470>"
      ]
     },
     "metadata": {
      "image/png": {
       "height": 263,
       "width": 597
      }
     },
     "output_type": "display_data"
    }
   ],
   "source": [
    "def Dirichlet_fun_ex4(x):\n",
    "    tiny = 1.e-12\n",
    "    if (x >= right_boundary_ex1 - tiny):\n",
    "        return np.cos(1)\n",
    "    \n",
    "def Robin_fun_ex4(x):\n",
    "    tiny = 1.e-12\n",
    "    if (x <= left_boundary + tiny):\n",
    "        return 1\n",
    "\n",
    "def Robin_coeff_ex4(x):\n",
    "    tiny = 1.e-12\n",
    "    if (x <= left_boundary + tiny):\n",
    "        return 1\n",
    "\n",
    "number_coarse = 4\n",
    "basis_type = 101\n",
    "print (\"Linear Finite Element: \")\n",
    "err = np.zeros(6)\n",
    "for i in range (6):\n",
    "    number_of_elements = number_coarse*2**i\n",
    "    err[i], Pb, u = Poisson1D_solver(left_boundary_ex1, right_boundary_ex1, number_of_elements, \\\n",
    "                        generate_boundarynodes_1D_ex4, basis_type,\\\n",
    "                        Gpn, coeff_fun_ex1, source_fun_ex1, Dirichlet_fun_ex4, Neumann_fun_ex3, \\\n",
    "                        Robin_fun_ex4, Robin_coeff_ex4, exact_fun_ex1)\n",
    "print_OrderTable(number_coarse, err)\n",
    "fig = plt.figure(figsize=(10,4))\n",
    "ax1 = fig.add_subplot(1,2,1)\n",
    "ax1.plot(Pb, u)\n",
    "ax1.set_title(\"Example 4, Linear FEM, N = %3d\" % number_of_elements)\n",
    "\n",
    "basis_type = 102\n",
    "print (\"Quadratic Finite Element: \")\n",
    "err = np.zeros(6)\n",
    "for i in range (6):\n",
    "    number_of_elements = number_coarse*2**i\n",
    "    err[i], Pb, u = Poisson1D_solver(left_boundary_ex1, right_boundary_ex1, number_of_elements, \\\n",
    "                            generate_boundarynodes_1D_ex4, basis_type,\\\n",
    "                            Gpn, coeff_fun_ex1, source_fun_ex1, Dirichlet_fun_ex4, Neumann_fun_ex3, \\\n",
    "                            Robin_fun_ex4, Robin_coeff_ex4, exact_fun_ex1)\n",
    "print_OrderTable(number_coarse, err)    \n",
    "ax2 = fig.add_subplot(1,2,2)\n",
    "ax2.plot(Pb, u)\n",
    "ax2.set_title(\"Example 4, Quadratic FEM, N = %3d\" % number_of_elements)\n",
    "plt.show()"
   ]
  },
  {
   "cell_type": "markdown",
   "metadata": {
    "slideshow": {
     "slide_type": "slide"
    }
   },
   "source": [
    "#### Measurements for Errors\n",
    "In above examples, we have considered the maximum error of the approximation on the finite element __nodes__.  However, we should point out it is not a proper measurement for errors.  It is the reason that the quadratic basis funcions lead to convergence rate of $\\mathcal{O}(h^4)$, the so-called superconvergence (sort of cheating).  The common measurements (norms) for errors are the following: \n",
    "- $L^\\infty$ norm error:\n",
    "$$ \\|u - u_h\\|_{\\infty} =\\sup\\limits_{x\\in \\Omega}|u(x)- u_h(x)|. $$\n",
    "- $L^2$ norm error:\n",
    "$$ \\|u - u_h\\|_{0} = \\left(\\int_{\\Omega}|u - u_h|^2 dx\\right)^{\\frac{1}{2}}.$$\n",
    "- $H^1$ semi-norm error:\n",
    "$$ |u - u_h|_{1} = \\left(\\int_{\\Omega}|u' - u'_h|^2 dx\\right)^{\\frac{1}{2}}.$$\n",
    "- $H^1$ norm error:\n",
    "$$ |u - u_h|_{1} = \\left(\\int_{\\Omega}|u - u_h|^2 dx + \\int_{\\Omega}|u' - u'_h|^2 dx\\right)^{\\frac{1}{2}}.$$"
   ]
  },
  {
   "cell_type": "markdown",
   "metadata": {
    "slideshow": {
     "slide_type": "slide"
    }
   },
   "source": [
    "#### Evaluation of Finite Element Solution\n",
    "By solving the final linear system, we obtain the unknonw coefficients for the basis form of the approximation $u_h$,\n",
    "\\begin{equation}\n",
    "    u_h(x) = \\sum\\limits_{j = 1}^{N_b}u_j\\phi_j(x),\n",
    "\\end{equation}\n",
    "however, the local basis functions we defined are for the local basis form of $u_h$ \n",
    "\\begin{equation}\n",
    "    u_h(x) = \\sum\\limits_{n = 1}^N\\sum\\limits_{i=1}^{N_{lb}}u_{n,i}\\phi_{n,i}(x).\n",
    "\\end{equation}\n",
    "Then, the question is how should we translate $\\left\\{u_j\\right\\}$ to $\\left\\{u_{n,i}\\right\\}$. \n",
    "- Based on the information matrix $T_b$, we have the following relation:\n",
    "    $$ u_{n,i} = u_{T_b[i,n]}.$$\n",
    "- For $x \\in I_n$, we have \n",
    "    $$ u_h(x) = \\sum\\limits_{i=1}^{N_{lb}} u_{T_b[i,n]}\\phi_{n,i}(x).$$"
   ]
  },
  {
   "cell_type": "code",
   "execution_count": 24,
   "metadata": {
    "slideshow": {
     "slide_type": "slide"
    }
   },
   "outputs": [],
   "source": [
    "def point_location(x, P):\n",
    "    tiny = 1.e-10\n",
    "    for n in range(np.size(P)-1):\n",
    "        if (P[n] - tiny <= x and x <= P[n+1] -tiny):\n",
    "            return n\n",
    "    return np.size(P)-2\n",
    "\n",
    "def FE_solution(x, u, P, T, Tb, basis_type, Nlb, der_order):\n",
    "    result = 0.\n",
    "    n = point_location(x, P)\n",
    "    vertices = P[T[0,n]:T[1,n]+1]\n",
    "    for i in range(Nlb):\n",
    "        result += u[Tb[i,n]]*local_basis_1D(x, vertices, basis_type, i, der_order)\n",
    "    return result"
   ]
  },
  {
   "cell_type": "code",
   "execution_count": 25,
   "metadata": {
    "slideshow": {
     "slide_type": "slide"
    }
   },
   "outputs": [],
   "source": [
    "def exact_fun_ex1(x, der_order):\n",
    "    if (der_order == 0):\n",
    "        return x*np.cos(x)\n",
    "    elif (der_order == 1):\n",
    "        return np.cos(x) - x*np.sin(x)"
   ]
  },
  {
   "cell_type": "code",
   "execution_count": 26,
   "metadata": {
    "slideshow": {
     "slide_type": "slide"
    }
   },
   "outputs": [],
   "source": [
    "def norm(u, P, T, Tb, basis_type, Nlb, exact_fun, Gpn, norm_type = 'L2'):\n",
    "    Gauss_points_ref, Gauss_weights_ref = npleg.leggauss(Gpn)\n",
    "    err = 0.\n",
    "    for n in range(np.size(P)-1):\n",
    "        vertices = P[T[0,n]:T[1,n]+1]\n",
    "        Gauss_points, Gauss_weights=generate_Gauss1D(vertices, Gauss_points_ref, Gauss_weights_ref)\n",
    "        if (norm_type == 'L2'):\n",
    "            for k in range (Gpn):\n",
    "                 err += Gauss_weights[k]*(exact_fun(Gauss_points[k],0) - \\\n",
    "                        FE_solution(Gauss_points[k], u, P, T, Tb, basis_type, Nlb, 0))**2\n",
    "        elif (norm_type == 'H1'):  \n",
    "            for k in range (Gpn):\n",
    "                 err += Gauss_weights[k]*(exact_fun(Gauss_points[k],1) - \\\n",
    "                        FE_solution(Gauss_points[k], u, P, T, Tb, basis_type, Nlb, 1))**2\n",
    "        elif (norm_type == 'Linf'):\n",
    "            for k in range (Gpn):\n",
    "                err = max(err, np.abs(exact_fun(Gauss_points[k],0) - \\\n",
    "                        FE_solution(Gauss_points[k], u, P, T, Tb, basis_type, Nlb, 0)))\n",
    "    if (norm_type == 'L2' or norm_type == 'H1'):\n",
    "        return np.sqrt(err)\n",
    "    elif (norm_type == 'Linf'):\n",
    "        return err"
   ]
  },
  {
   "cell_type": "code",
   "execution_count": 27,
   "metadata": {
    "slideshow": {
     "slide_type": "slide"
    }
   },
   "outputs": [
    {
     "name": "stdout",
     "output_type": "stream",
     "text": [
      "1.1115981131230857e-08\n"
     ]
    }
   ],
   "source": [
    "def Poisson1D_solver(left_boundary, right_boundary, number_of_elements, \\\n",
    "                     generate_boundarynodes_1D, basis_type,\\\n",
    "                     Gpn, coeff_fun, source_fun, Dirichlet_fun, Neumann_fun, Robin_fun, Robin_coeff):\n",
    "    # P, T matrice\n",
    "    #print (number_of_elements)\n",
    "    P, T = generate_PT_1D(left_boundary, right_boundary, number_of_elements)\n",
    "\n",
    "    basis_type_trial = basis_type\n",
    "    basis_type_test  = basis_type\n",
    "\n",
    "    # Nlb, number of local basis\n",
    "    Nlb_trial = generate_Nlb(basis_type_trial)\n",
    "    Nlb_test  = generate_Nlb(basis_type_test)\n",
    "    Nb_trial, Pb_trial, Tb_trial = generate_NbPbTb_1D(P, T, basis_type_trial)\n",
    "    Nb_test,  Pb_test,  Tb_test  = generate_NbPbTb_1D(P, T, basis_type_test)\n",
    "\n",
    "    # Gauss point number\n",
    "    Gauss_points_ref, Gauss_weights_ref = npleg.leggauss(Gpn)\n",
    "    \n",
    "    # Assemble local to global\n",
    "    A = assemble_matrix_1D(coeff_fun, Gauss_points_ref, Gauss_weights_ref, \n",
    "                       P, T, Tb_trial, Tb_test, Nlb_trial, Nlb_test, Nb_trial, Nb_test,\\\n",
    "                       basis_type_trial, 1, basis_type_test, 1)\n",
    "    b = assemble_vector_1D(source_fun, Gauss_points_ref, Gauss_weights_ref, \\\n",
    "                       P, T, Tb_test, Nlb_test, Nb_test, basis_type_test, 0)\n",
    "    \n",
    "    # deal with boundary\n",
    "    nbn, boundarynodes = generate_boundarynodes_1D(Pb_trial)\n",
    "    # Dirichlet boundary\n",
    "    A, b = treat_Dirichlet_boundary(A, b, Pb_trial, nbn, boundarynodes, Dirichlet_fun)\n",
    "    # Neumann boundary\n",
    "    b = treat_Neumann_boundary(b, Pb_trial, nbn, boundarynodes, coeff_fun, Neumann_fun)\n",
    "    # Robin boundary\n",
    "    A, b = treat_Robin_boundary(A, b, Pb_trial, nbn, boundarynodes, coeff_fun, Robin_fun, Robin_coeff)\n",
    "    \n",
    "    # solve the solution\n",
    "    u = np.linalg.solve(A,b)\n",
    "    #print (u)\n",
    "    \n",
    "    return u, P, T, Pb_trial, Tb_trial\n",
    "#\n",
    "u, P, T, Pb, Tb = Poisson1D_solver(left_boundary_ex1, right_boundary_ex1, number_of_elements, \\\n",
    "                    generate_boundarynodes_1D_ex1, 102,\\\n",
    "                    Gpn, coeff_fun_ex1, source_fun_ex1, Dirichlet_fun_ex1, Neumann_fun_ex3, Robin_fun_ex4, Robin_coeff_ex4)\n",
    "#for i in range (np.size(Pb)):\n",
    "#    print (u[i] - FE_solution(Pb[i], u, P, T, Tb, 102, 3, 0))\n",
    "print (norm(u, P, T, Tb, 102, 3, exact_fun_ex1, Gpn, norm_type = 'Linf'))"
   ]
  },
  {
   "cell_type": "code",
   "execution_count": 28,
   "metadata": {
    "slideshow": {
     "slide_type": "slide"
    }
   },
   "outputs": [],
   "source": [
    "# function to output formatted order table\n",
    "def print_OrderTable3(number_coarse, erri, err2, err1):\n",
    "    print (\" h    Linf norm  order  L2 norm  order  H1 semi  order\")\n",
    "    for i in range(np.size(erri)):\n",
    "        number_of_elements = number_coarse*2**i\n",
    "        if (i == 0):\n",
    "            print (\"1/%-3d  %7.2e   --   %7.2e   --   %7.2e   --\" % \\\n",
    "                   (number_of_elements, erri[i], err2[i], err1[i]))\n",
    "        else:\n",
    "            print (\"1/%-3d  %7.2e  %4.2f  %7.2e  %4.2f  %7.2e  %4.2f\" % \\\n",
    "                       (number_of_elements, \\\n",
    "                        erri[i], np.log(erri[i-1]/erri[i])/np.log(2),\\\n",
    "                        err2[i], np.log(err2[i-1]/err2[i])/np.log(2),\\\n",
    "                        err1[i], np.log(err1[i-1]/err1[i])/np.log(2)))"
   ]
  },
  {
   "cell_type": "markdown",
   "metadata": {
    "slideshow": {
     "slide_type": "slide"
    }
   },
   "source": [
    "__Example 1 in Different Measurements__"
   ]
  },
  {
   "cell_type": "code",
   "execution_count": 29,
   "metadata": {
    "slideshow": {
     "slide_type": "slide"
    }
   },
   "outputs": [
    {
     "name": "stdout",
     "output_type": "stream",
     "text": [
      " h    Linf norm  order  L2 norm  order  H1 semi  order\n",
      "1/4    1.49e-02   --   7.20e-03   --   1.05e-01   --\n",
      "1/8    3.91e-03  1.93  1.80e-03  2.00  5.27e-02  1.00\n",
      "1/16   1.00e-03  1.97  4.49e-04  2.00  2.64e-02  1.00\n",
      "1/32   2.53e-04  1.98  1.12e-04  2.00  1.32e-02  1.00\n",
      "1/64   6.36e-05  1.99  2.80e-05  2.00  6.59e-03  1.00\n",
      "1/128  1.60e-05  2.00  7.01e-06  2.00  3.30e-03  1.00\n"
     ]
    }
   ],
   "source": [
    "number_coarse = 4\n",
    "basis_type = 101\n",
    "\n",
    "err1 = np.zeros(6)\n",
    "err2 = np.zeros(6)\n",
    "erri = np.zeros(6)\n",
    "for i in range (6):\n",
    "    number_of_elements = number_coarse*2**i\n",
    "    u, P, T, Pb, Tb = Poisson1D_solver(left_boundary_ex1, right_boundary_ex1, number_of_elements, \\\n",
    "                                     generate_boundarynodes_1D_ex1, basis_type,\\\n",
    "                                     Gpn, coeff_fun_ex1, source_fun_ex1, Dirichlet_fun_ex1, Neumann_fun_ex3, Robin_fun_ex4, Robin_coeff_ex4)\n",
    "    err1[i] = norm(u, P, T, Tb, basis_type, 2, exact_fun_ex1, Gpn, norm_type = 'H1')\n",
    "    err2[i] = norm(u, P, T, Tb, basis_type, 2, exact_fun_ex1, Gpn, norm_type = 'L2')\n",
    "    erri[i] = norm(u, P, T, Tb, basis_type, 2, exact_fun_ex1, Gpn, norm_type = 'Linf')\n",
    "print_OrderTable3(number_coarse, erri, err2, err1)"
   ]
  },
  {
   "cell_type": "markdown",
   "metadata": {
    "slideshow": {
     "slide_type": "slide"
    }
   },
   "source": [
    "__Example 2 in Different Measurements__"
   ]
  },
  {
   "cell_type": "code",
   "execution_count": 30,
   "metadata": {
    "slideshow": {
     "slide_type": "slide"
    }
   },
   "outputs": [
    {
     "name": "stdout",
     "output_type": "stream",
     "text": [
      " h    Linf norm  order  L2 norm  order  H1 semi  order\n",
      "1/4    3.86e-04   --   2.10e-04   --   5.42e-03   --\n",
      "1/8    4.70e-05  3.04  2.61e-05  3.01  1.35e-03  2.00\n",
      "1/16   5.78e-06  3.02  3.26e-06  3.00  3.38e-04  2.00\n",
      "1/32   7.16e-07  3.01  4.08e-07  3.00  8.45e-05  2.00\n",
      "1/64   8.91e-08  3.01  5.10e-08  3.00  2.11e-05  2.00\n",
      "1/128  1.11e-08  3.00  6.37e-09  3.00  5.28e-06  2.00\n"
     ]
    }
   ],
   "source": [
    "number_coarse = 4\n",
    "basis_type = 102\n",
    "\n",
    "err1 = np.zeros(6)\n",
    "err2 = np.zeros(6)\n",
    "erri = np.zeros(6)\n",
    "for i in range (6):\n",
    "    number_of_elements = number_coarse*2**i\n",
    "    u, P, T, Pb, Tb = Poisson1D_solver(left_boundary_ex1, right_boundary_ex1, number_of_elements, \\\n",
    "                                     generate_boundarynodes_1D_ex1, basis_type,\\\n",
    "                                     Gpn, coeff_fun_ex1, source_fun_ex1, Dirichlet_fun_ex1, Neumann_fun_ex3, Robin_fun_ex4, Robin_coeff_ex4)\n",
    "    err1[i] = norm(u, P, T, Tb, basis_type, 3, exact_fun_ex1, Gpn, norm_type = 'H1')\n",
    "    err2[i] = norm(u, P, T, Tb, basis_type, 3, exact_fun_ex1, Gpn, norm_type = 'L2')\n",
    "    erri[i] = norm(u, P, T, Tb, basis_type, 3, exact_fun_ex1, Gpn, norm_type = 'Linf')\n",
    "print_OrderTable3(number_coarse, erri, err2, err1)"
   ]
  },
  {
   "cell_type": "markdown",
   "metadata": {
    "slideshow": {
     "slide_type": "slide"
    }
   },
   "source": [
    "__Conclusion:__\n",
    "\n",
    "For using polynomial basis functions of degree $k$, $\\mathbb{P}^k$:\n",
    "- The $L^2$ norm and $L^\\infty$ norm errors have convergence rate of $\\mathcal{O}(h^{k+1})$\n",
    "- The $H^1$ norm and $H^1$ semi-norm errors have convergence rate of $\\mathcal{O}(h^{k})$\n",
    "- The superconvergence of node errors normally can not be seen in general measurements, for superconvergence extracing one can see [tutorial](http:\\\\)"
   ]
  }
 ],
 "metadata": {
  "celltoolbar": "Slideshow",
  "kernelspec": {
   "display_name": "Python 3",
   "language": "python",
   "name": "python3"
  },
  "language_info": {
   "codemirror_mode": {
    "name": "ipython",
    "version": 3
   },
   "file_extension": ".py",
   "mimetype": "text/x-python",
   "name": "python",
   "nbconvert_exporter": "python",
   "pygments_lexer": "ipython3",
   "version": "3.6.4"
  },
  "latex_envs": {
   "LaTeX_envs_menu_present": true,
   "autocomplete": true,
   "bibliofile": "biblio.bib",
   "cite_by": "apalike",
   "current_citInitial": 1,
   "eqLabelWithNumbers": true,
   "eqNumInitial": 1,
   "hotkeys": {
    "equation": "Ctrl-E",
    "itemize": "Ctrl-I"
   },
   "labels_anchors": false,
   "latex_user_defs": false,
   "report_style_numbering": false,
   "user_envs_cfg": false
  },
  "toc": {
   "nav_menu": {},
   "number_sections": true,
   "sideBar": true,
   "skip_h1_title": false,
   "toc_cell": false,
   "toc_position": {},
   "toc_section_display": "block",
   "toc_window_display": false
  }
 },
 "nbformat": 4,
 "nbformat_minor": 2
}
