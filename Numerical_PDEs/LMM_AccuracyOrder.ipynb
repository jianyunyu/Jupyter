{
 "cells": [
  {
   "cell_type": "markdown",
   "metadata": {
    "slideshow": {
     "slide_type": "slide"
    }
   },
   "source": [
    "# Linear Multistep Methods \n",
    "Considering the initial value problem (IVP):\n",
    "\\begin{align}\n",
    "    u'(t) & = f(u(t), t), \\quad \\\\\n",
    "       u(t_0) & = \\eta.\n",
    "\\end{align}\n",
    "A linear $k$-step method can be defined as \n",
    "\\begin{equation}\n",
    "    \\label{eq:LMMs}\n",
    "    \\tag{LMMs}\n",
    "    \\sum\\limits_{j=0}^k \\alpha_j u_{n+j} = h \\sum\\limits_{j=0}^k \\beta_j f_{n+j}, \n",
    "\\end{equation}\n",
    "where $\\alpha_k \\neq 0$ and $\\alpha_0\\beta_0 \\neq 0$.  Usually the coefficient are normalized such that $\\alpha_k = 1$ for uniqueness. "
   ]
  },
  {
   "cell_type": "markdown",
   "metadata": {
    "slideshow": {
     "slide_type": "slide"
    }
   },
   "source": [
    "## Order of Accuracy\n",
    "### Definition \n",
    "First, we define the local truncation error (LTE) of a linear multistep method at time $t_{n+k}$ by substituting the exact solution $u(t)$ of the IVP problem into (LMMs) and divided by $h$, \n",
    "\\begin{equation}\n",
    "    \\label{eq:let}\n",
    "    \\tag{LTE}\n",
    "    \\tau_{n+k} := \\frac{1}{h}\\left(\\sum\\limits_{j=0}^k \\alpha_j u(t_{n+j}) - h \\sum\\limits_{j=0}^k \\beta_j u'(t_{n+j})\\right).\n",
    "\\end{equation}\n",
    "A linear multistep method has order of acccuracy $p$ iff $\\tau_{n+k} = \\mathcal{O}(h^{p})$.  A linear multistep method is consist iff $p > 0$. "
   ]
  },
  {
   "cell_type": "markdown",
   "metadata": {
    "slideshow": {
     "slide_type": "slide"
    }
   },
   "source": [
    "### Order Condition \n",
    "To derive the order condition of a linear multistep method, we consider the Taylor expansion of $u(t_{n+j})$ and $u'(t_{n+j})$ at time $t_n$:\n",
    "\\begin{equation}\n",
    "    u(t_{n+j}) = \\sum\\limits_{m = 0} \\frac{j^m}{m!}u^{(m)}(t_n) h^m, \\quad\\text{and} u'(t_{n+j}) = \\sum\\limits_{m = 0} \\frac{j^m}{m!}u^{(m+1)}(t_n) h^m.\n",
    "\\end{equation}\n",
    "Then by the definition, we substitute these Taylor series into (LTE),\n",
    "\\begin{align}\n",
    "    \\tau_{n+k} & = \\frac{1}{h}\\left(\\sum\\limits_{j=0}^k \\alpha_j \\sum\\limits_{m = 0} \\frac{j^m}{m!}u^{(m)}(t_n) h^m - h \\sum\\limits_{j=0}^k \\beta_j \\sum\\limits_{m = 0} \\frac{j^m}{m!}u^{(m+1)}(t_n) h^m\\right) \\\\\n",
    "        & = \\frac{1}{h}\\sum\\limits_{j=0}^k\\alpha_j u(t_n) + \\sum\\limits_{m=1}\\frac{h^{m-1}}{m!}u^{(m)}(t_n)\\left(\\sum\\limits_{j=0}^k\\alpha_j j^m - m\\sum\\limits\\beta_j j^{m-1}\\right).\n",
    "\\end{align}\n"
   ]
  },
  {
   "cell_type": "markdown",
   "metadata": {
    "slideshow": {
     "slide_type": "slide"
    }
   },
   "source": [
    "Therefor,  \n",
    "* For consistency only, $\\sum\\limits_{j=0}^k \\alpha_j = 0$ and $\\sum\\limits_{j=0}^k j\\alpha_j = \\sum\\limits_{j=0}^k \\beta_j$.\n",
    "* For accuracy order of $p$: $\\sum\\limits_{j=0}^k \\alpha_j = 0$, $\\sum\\limits_{j=0}^k\\alpha_j j^m - m\\sum\\limits\\beta_j j^{m-1} = 0$ (for $m = 1,\\ldots,p)$, and $\\sum\\limits_{j=0}^k\\alpha_j j^{p+1} - (p+1)\\sum\\limits_{j=0}^k\\beta_j j^{p} \\neq 0$."
   ]
  },
  {
   "cell_type": "markdown",
   "metadata": {
    "slideshow": {
     "slide_type": "slide"
    }
   },
   "source": [
    "### Characteristic Polynomials\n",
    "It is convenient at this point to introduce the so-called characteristic polynomials 􏰑$\\rho(\\zeta)$ and $\\sigma(\\zeta)$􏰒 for the LMM:\n",
    "\\begin{equation}\n",
    "    \\rho(\\zeta) = \\sum\\limits_{j=0}^k \\alpha_j \\zeta^j\\qquad \\text{and}\\qquad \\sigma(\\zeta) = \\sum\\limits_{j=0}^k \\beta_j \\zeta^j.\n",
    "\\end{equation}\n",
    "\n",
    "If we express above order conditions with the notation of characteristic polynomials, then we have \n",
    "* For consistency:\n",
    "\\begin{equation}\n",
    "    \\rho(1) = 0\\qquad \\text{and}\\qquad \\rho'(1) = \\sigma(1).\n",
    "\\end{equation}\n",
    "* For accuracy order of p:\n",
    "\\begin{equation}\n",
    "    \\rho(e^z) - z\\sigma(e^z) = \\mathcal{O}(z^{p+1}).\n",
    "\\end{equation}"
   ]
  },
  {
   "cell_type": "markdown",
   "metadata": {
    "slideshow": {
     "slide_type": "slide"
    }
   },
   "source": [
    "So, we have the following theorem:\n",
    "#### Theorem\n",
    "The multistep method is of order $p \\geq 1$ if and only if there exists $c \\neq 0$ such that\n",
    "$$ \\rho(r) - \\sigma(r)\\ln r = c(r-1)^{p+1} + \\mathcal{O}\\left(|r - 1|^{p+2}\\right), \\qquad r \\to 1.$$\n",
    "It is convenient to express the formula in the variable $\\xi := r-1$, then the above formula becomes\n",
    "$$ \\rho(\\xi+1) - \\sigma(\\xi+1)\\ln (\\xi+1) = c(\\xi)^{p+1} + \\mathcal{O}\\left(\\xi^{p+2}\\right), \\qquad \\xi \\to 0.$$"
   ]
  },
  {
   "cell_type": "markdown",
   "metadata": {
    "slideshow": {
     "slide_type": "slide"
    }
   },
   "source": [
    "### Examples"
   ]
  },
  {
   "cell_type": "code",
   "execution_count": 21,
   "metadata": {
    "slideshow": {
     "slide_type": "subslide"
    }
   },
   "outputs": [],
   "source": [
    "from sympy import *\n",
    "init_printing()\n",
    "\n",
    "z = symbols('z')"
   ]
  },
  {
   "cell_type": "markdown",
   "metadata": {
    "collapsed": true,
    "slideshow": {
     "slide_type": "slide"
    }
   },
   "source": [
    "---\n",
    "#### Example 1\n",
    "The three step Adams-Bashforth method is given by \n",
    "$$ y_{n+3} = y_{n+2} + h\\left(\\frac{23}{12}f_{n+2} - \\frac{4}{3}f_{n+1} + \\frac{5}{12}f_n\\right), $$\n",
    "which has characteristic polynomials\n",
    "$$ \\rho(r) = r^3 - r^2 \\qquad and \\qquad \\sigma(r) = \\frac{1}{12}(23 r^2- 16 r + 5).$$\n",
    "Then we have \n",
    "    $$ \\rho(z+1) - \\sigma(z+1)\\ln(z+1) = $$"
   ]
  },
  {
   "cell_type": "code",
   "execution_count": 22,
   "metadata": {
    "slideshow": {
     "slide_type": "subslide"
    }
   },
   "outputs": [
    {
     "data": {
      "image/png": "[encoded data removed]",
      "text/latex": [
       "$$\\frac{3 z^{4}}{8} + \\mathcal{O}\\left(z^{5}\\right)$$"
      ],
      "text/plain": [
       "   4        \n",
       "3⋅z     ⎛ 5⎞\n",
       "──── + O⎝z ⎠\n",
       " 8          "
      ]
     },
     "execution_count": 22,
     "metadata": {},
     "output_type": "execute_result"
    }
   ],
   "source": [
    "rho = (1+z)**3 - (1+z)**2\n",
    "sigma = (23*(1+z)**2 - 16*(1+z) + 5)/12\n",
    "expr = ln(1+z)\n",
    "\n",
    "expand(rho - sigma*expr.series(z,0,5))"
   ]
  },
  {
   "cell_type": "markdown",
   "metadata": {
    "slideshow": {
     "slide_type": "slide"
    }
   },
   "source": [
    "---\n",
    "#### Example 2\n",
    "The three step Adams-Moulton method is given by \n",
    "$$ y_{n+3} = y_{n+2} + h\\left(\\frac{3}{8}f_{n+3} + \\frac{19}{24}f_{n+2} - \\frac{5}{24}f_{n+1} + \\frac{1}{24}f_n \\right), $$\n",
    "which has characteristic polynomials\n",
    "$$ \\rho(r) = r^3 - r^2 \\qquad and \\qquad \\sigma(r) = \\frac{1}{24}(9 r^3 + 19 r^2 - 5 r + 1).$$\n",
    "Then we have \n",
    "    $$ \\rho(z+1) - \\sigma(z+1)\\ln(z+1) = $$"
   ]
  },
  {
   "cell_type": "code",
   "execution_count": 23,
   "metadata": {
    "slideshow": {
     "slide_type": "subslide"
    }
   },
   "outputs": [
    {
     "data": {
      "image/png": "[encoded data removed]",
      "text/latex": [
       "$$- \\frac{19 z^{5}}{720} + \\mathcal{O}\\left(z^{6}\\right)$$"
      ],
      "text/plain": [
       "      5        \n",
       "  19⋅z     ⎛ 6⎞\n",
       "- ───── + O⎝z ⎠\n",
       "   720         "
      ]
     },
     "execution_count": 23,
     "metadata": {},
     "output_type": "execute_result"
    }
   ],
   "source": [
    "rho = (1+z)**3 - (1+z)**2\n",
    "sigma = (9*(1+z)**3 + 19*(1+z)**2 - 5*(1+z) + 1)/24\n",
    "expr = ln(1+z)\n",
    "\n",
    "expand(rho - sigma*expr.series(z,0,6))"
   ]
  },
  {
   "cell_type": "markdown",
   "metadata": {
    "slideshow": {
     "slide_type": "slide"
    }
   },
   "source": [
    "---\n",
    "#### Example 3\n",
    "The three step backward differentiation formula (BDF) is given by \n",
    "$$ y_{n+3} - \\frac{18}{11}y_{n+2} + \\frac{9}{11}y_{n+1} - \\frac{2}{11}y_n = \\frac{6}{11}h f_{n+3}, $$\n",
    "which has characteristic polynomials\n",
    "$$ \\rho(r) = \\frac{1}{11}(r^3 - 18 r^2 + 9 r - 2) \\qquad and \\qquad \\sigma(r) = \\frac{6}{11}r^3.$$\n",
    "Then we have \n",
    "    $$ \\rho(z+1) - \\sigma(z+1)\\ln(z+1) = $$"
   ]
  },
  {
   "cell_type": "code",
   "execution_count": 24,
   "metadata": {
    "slideshow": {
     "slide_type": "subslide"
    }
   },
   "outputs": [
    {
     "data": {
      "image/png": "[encoded data removed]",
      "text/latex": [
       "$$- \\frac{3 z^{4}}{22} + \\mathcal{O}\\left(z^{5}\\right)$$"
      ],
      "text/plain": [
       "     4        \n",
       "  3⋅z     ⎛ 5⎞\n",
       "- ──── + O⎝z ⎠\n",
       "   22         "
      ]
     },
     "execution_count": 24,
     "metadata": {},
     "output_type": "execute_result"
    }
   ],
   "source": [
    "rho = (11*(1+z)**3 - 18*(1+z)**2 + 9*(1+z) -2)/11\n",
    "sigma = 6*(1+z)**3/11\n",
    "expr = ln(1+z)\n",
    "\n",
    "expand(rho - sigma*expr.series(z,0,5))"
   ]
  },
  {
   "cell_type": "markdown",
   "metadata": {
    "slideshow": {
     "slide_type": "slide"
    }
   },
   "source": [
    "---\n",
    "#### Example 4\n",
    "A three-step method (the three eighths scheme) is given by \n",
    "$$ u_{n+3} - u_n = \\frac{3h}{8}\\left(f_{n+3} + 3f_{n+2} + 3f_{n+1} + f_n\\right), $$\n",
    "which has characteristic polynomials\n",
    "$$ \\rho(r) = r^3 - 1 \\qquad and \\qquad \\sigma(r) = \\frac{3}{8}(r+1)^3.$$\n",
    "Then we have \n",
    "    $$ \\rho(z+1) - \\sigma(z+1)\\ln(z+1) = $$"
   ]
  },
  {
   "cell_type": "code",
   "execution_count": 25,
   "metadata": {
    "slideshow": {
     "slide_type": "subslide"
    }
   },
   "outputs": [
    {
     "data": {
      "image/png": "[encoded data removed]",
      "text/latex": [
       "$$- \\frac{3 z^{5}}{80} + \\mathcal{O}\\left(z^{6}\\right)$$"
      ],
      "text/plain": [
       "     5        \n",
       "  3⋅z     ⎛ 6⎞\n",
       "- ──── + O⎝z ⎠\n",
       "   80         "
      ]
     },
     "execution_count": 25,
     "metadata": {},
     "output_type": "execute_result"
    }
   ],
   "source": [
    "rho = (1+z)**3 - 1\n",
    "sigma = 3*(2+z)**3/8\n",
    "expr = ln(1+z)\n",
    "\n",
    "expand(rho - sigma*expr.series(z,0,6))"
   ]
  }
 ],
 "metadata": {
  "celltoolbar": "Slideshow",
  "kernelspec": {
   "display_name": "Python 3",
   "language": "python",
   "name": "python3"
  },
  "language_info": {
   "codemirror_mode": {
    "name": "ipython",
    "version": 3
   },
   "file_extension": ".py",
   "mimetype": "text/x-python",
   "name": "python",
   "nbconvert_exporter": "python",
   "pygments_lexer": "ipython3",
   "version": "3.6.8"
  },
  "toc": {
   "base_numbering": 1,
   "nav_menu": {},
   "number_sections": true,
   "sideBar": true,
   "skip_h1_title": false,
   "title_cell": "Table of Contents",
   "title_sidebar": "Contents",
   "toc_cell": false,
   "toc_position": {},
   "toc_section_display": true,
   "toc_window_display": false
  }
 },
 "nbformat": 4,
 "nbformat_minor": 1
}
