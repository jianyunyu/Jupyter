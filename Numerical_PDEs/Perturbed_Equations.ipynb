{
 "cells": [
  {
   "cell_type": "markdown",
   "metadata": {},
   "source": [
    "# Singularly Perturbed Equations"
   ]
  },
  {
   "cell_type": "markdown",
   "metadata": {},
   "source": [
    "## Boundary layers\n",
    "Consider the linear 2-point boundary value problem\n",
    "$$ \\begin{array}{c}a u'(x) = \\kappa u''(x) + \\psi(x), \\\\\n",
    " u(0) = \\alpha, \\quad u(1) = \\beta. \\end{array}$$\n",
    "    If $a$ is small relative to $\\kappa$􏰭, then this problem is easy to solve.  Now, suppose $a$ is large relative to $\\kappa$.  Here, we introduce a parameter $\\epsilon = \\frac{\\kappa}{a}$, and rewrite the above equation in the form\n",
    "$$ \\epsilon u''(x) - u'(x) = f(x).$$\n",
    "Then taking $a$ large relative to $\\kappa$ corresponds to the case $\\epsilon \\ll 􏰱1$.􏰭 \n",
    "\n",
    "__Example__:\n",
    "Considering\n",
    "$$ \\begin{array}{c}\\epsilon u''(x) - u'(x) = f(x), \\\\\n",
    " u(0) = \\alpha, \\quad u(1) = \\beta. \\end{array}$$\n",
    "Here, $\\alpha = 1$, $\\beta=3$, and $f(x) = -1$.  In this case the exact solution (why?) is\n",
    "$$ u(x) = \\alpha + x + \\beta + (\\beta - \\alpha -1)\\left(\\frac{e^{x/\\epsilon} -1}{e^{1/\\epsilon}-1}\\right) $$\n"
   ]
  },
  {
   "cell_type": "code",
   "execution_count": 1,
   "metadata": {},
   "outputs": [],
   "source": [
    "#%matplotlib notebook\n",
    "%matplotlib inline\n",
    "\n",
    "# environment setting, before any codes\n",
    "import numpy as np\n",
    "import scipy.linalg as slinalg\n",
    "\n",
    "import matplotlib.pyplot as plt\n",
    "\n",
    "from ipywidgets import interact, interactive, fixed, interact_manual\n",
    "import ipywidgets as widgets\n",
    "from IPython.display import clear_output, display"
   ]
  },
  {
   "cell_type": "code",
   "execution_count": 55,
   "metadata": {},
   "outputs": [
    {
     "data": {
      "application/vnd.jupyter.widget-view+json": {
       "model_id": "c3d0b8ed62d647679af668ad6184d126",
       "version_major": 2,
       "version_minor": 0
      },
      "text/html": [
       "<p>Failed to display Jupyter Widget of type <code>interactive</code>.</p>\n",
       "<p>\n",
       "  If you're reading this message in the Jupyter Notebook or JupyterLab Notebook, it may mean\n",
       "  that the widgets JavaScript is still loading. If this message persists, it\n",
       "  likely means that the widgets JavaScript library is either not installed or\n",
       "  not enabled. See the <a href=\"https://ipywidgets.readthedocs.io/en/stable/user_install.html\">Jupyter\n",
       "  Widgets Documentation</a> for setup instructions.\n",
       "</p>\n",
       "<p>\n",
       "  If you're reading this message in another frontend (for example, a static\n",
       "  rendering on GitHub or <a href=\"https://nbviewer.jupyter.org/\">NBViewer</a>),\n",
       "  it may mean that your frontend doesn't currently support widgets.\n",
       "</p>\n"
      ],
      "text/plain": [
       "interactive(children=(FloatSlider(value=1.0, description='$\\\\epsilon:$', max=1.0, min=0.01, step=0.01), Output()), _dom_classes=('widget-interact',))"
      ]
     },
     "metadata": {},
     "output_type": "display_data"
    }
   ],
   "source": [
    "def exact_fun(x, alpha, beta, epsilon):\n",
    "    return alpha + x + (beta - alpha - 1)*((np.exp(x/epsilon)-1)/(np.exp(1/epsilon)-1))\n",
    "\n",
    "alpha = 1\n",
    "beta = 3\n",
    "epsilon = 0.002\n",
    "\n",
    "number = 101\n",
    "def draw_fun(number, alpha, beta, epsilon):\n",
    "    x = np.linspace(0, 1, number)\n",
    "    y = exact_fun(x, alpha, beta, epsilon)\n",
    "    plt.plot(x,y,'r',linewidth=2)\n",
    "    return epsilon\n",
    "#draw_fun(number, alpha, beta, epsilon)\n",
    "w = interactive(draw_fun, number=fixed(number), alpha=fixed(alpha), beta=fixed(beta),\\\n",
    "                epsilon=widgets.FloatSlider(min=0.01,max=1.00,step=0.01, value=1.00, description='$\\epsilon:$',))\n",
    "display(w)"
   ]
  },
  {
   "cell_type": "markdown",
   "metadata": {},
   "source": [
    "Note that as $\\epsilon \\rightarrow 0$􏰫 the solution tends toward a discontinuous function that jumps to the value $\\beta$ at the last possible moment.  This region of rapid transition is called the _boundary layer_ and it can be shown that for this problem the width of this layer is $\\mathcal{O}(\\epsilon)$ as $\\epsilon \\rightarrow 0$.\n",
    "\n",
    "The above equation with $0 < \\epsilon \\ll 1$ is called a _singularly perturbed equation_. It is a small perturbation of equation $-u'(x) = f(x)$, but this small perturbation completely changes the character of the equation (from a first order to a second order equation). Typically any differential equation having a small parameter multiplying the highest order derivative will give a singular perturbation problem."
   ]
  },
  {
   "cell_type": "markdown",
   "metadata": {},
   "source": [
    "### Finite Difference Methods\n",
    "This _singularly perturbed equation_ can be discretized to second order by\n",
    "$$ \\epsilon\\left(\\frac{U_{i+1} - 2U_i + U_{i-1}}{h^2}\\right) - \\left(\\frac{U_{i+1} - U_{i-1}}{2h}\\right) = f_i, \\qquad i = 1,\\ldots, m,$$\n",
    "with $U_0 = \\alpha$ and $U_{m+1} = \\beta$.  This gives the linear system $AU = F$, where $U$ is the vector of unknowns $U = [U_0, U_1, \\ldots, U_m, U_{m+1}]^T$, $A$ is the tridiagonal matrix\n",
    "$$\n",
    "    A = \\frac{1}{h^2}\\left[\\begin{array}{cccccccc}\n",
    "    h^2  &  0 &   &    &   &    & & \\\\\n",
    "    \\epsilon + h/2  & -2\\epsilon &  \\epsilon - h/2 &    &   &    & &\\\\\n",
    "       &  \\epsilon + h/2  & -2\\epsilon &  \\epsilon - h/2 &   &    & &\\\\ \n",
    "       &    &  \\epsilon + h/2  & -2\\epsilon &  \\epsilon - h/2 &    & &\\\\\n",
    "       &    & & \\ddots & \\ddots &\\ddots & &\\\\\n",
    "       &    &    &    & \\epsilon + h/2  & -2\\epsilon &  \\epsilon - h/2  &\\\\\n",
    "       &    &    &    &   &  \\epsilon + h/2  & -2\\epsilon &  \\epsilon - h/2 \\\\\n",
    "       &    &    &    &   &   &  0 & h^2\\end{array}\\right],\n",
    "           \\quad\n",
    "   \\text{and}\\quad F = \\left[\\begin{array}{c} \\alpha \\\\ f_1\\\\ f_2 \\\\ f_3 \\\\ \\vdots \\\\ f_{m-1} \\\\ f_m \\\\ \\beta\\end{array}\\right]. \n",
    "$$"
   ]
  },
  {
   "cell_type": "code",
   "execution_count": 65,
   "metadata": {},
   "outputs": [],
   "source": [
    "def generate_grid(left, right, m):\n",
    "    h = (right - left)/(m+1)\n",
    "    x = np.zeros(m+2)\n",
    "    for j in range(m+2):\n",
    "        x[j] = j*h\n",
    "    return  x, h\n",
    "\n",
    "def generate_A_interior(epsilon, h, m):\n",
    "    A = np.zeros([m+2, m+2])\n",
    "    for i in range(1,m+1):\n",
    "        A[i, i-1] = epsilon + h/2.\n",
    "        A[i, i] = -2*epsilon\n",
    "        A[i, i+1] = epsilon - h/2\n",
    "    #A[1:m+1,1:m+1] = - 2*np.eye(m, m) \n",
    "    #A[ += np.eye(m+2, m+2, -1) + np.eye(m+2, m+2, 1)\n",
    "    return A/h**2\n",
    "\n",
    "def generate_F_interior(h, m, x, fun):\n",
    "    F = np.zeros(m+2)\n",
    "    for i in range(1,m+1):\n",
    "        F[i] = fun(x[i])\n",
    "    return F\n",
    "\n",
    "def Dirichlet_bc(A, F, alpha, beta, h, fun):\n",
    "    A[0,0] = 1\n",
    "    A[-1,-1] = 1\n",
    "    F[0] = alpha\n",
    "    F[-1] = beta\n",
    "    return A, F\n",
    "\n",
    "def fun(x):\n",
    "    return -1\n",
    "\n",
    "def FDM_BVP(m, left, right, alpha, beta, epsilon, bc, fun, exact_fun):\n",
    "    # generate the grid\n",
    "    x, h = generate_grid(left, right, m)\n",
    "    #\n",
    "    U = np.zeros(m+2)\n",
    "    # \n",
    "    A = generate_A_interior(epsilon, h, m)\n",
    "    #print (A)\n",
    "    F = generate_F_interior(h, m, x, fun)\n",
    "    #print (F)\n",
    "    # bc\n",
    "    A, F = bc(A, F, alpha, beta, h, fun)\n",
    "    #print (A)\n",
    "    #print (F)\n",
    "    U = np.linalg.solve(A, F)\n",
    "    \n",
    "    u = exact_fun(x, alpha, beta, epsilon)\n",
    "    return np.max(np.abs(U-u)), x, U, u"
   ]
  },
  {
   "cell_type": "code",
   "execution_count": 66,
   "metadata": {},
   "outputs": [
    {
     "name": "stdout",
     "output_type": "stream",
     "text": [
      "max norm error: 6.96e-01\n"
     ]
    },
    {
     "data": {
      "text/plain": [
       "0.01"
      ]
     },
     "execution_count": 66,
     "metadata": {},
     "output_type": "execute_result"
    },
    {
     "data": {
      "image/png": "[encoded data removed]",
      "text/plain": [
       "<matplotlib.figure.Figure at 0x61c148898>"
      ]
     },
     "metadata": {},
     "output_type": "display_data"
    }
   ],
   "source": [
    "alpha = 1\n",
    "beta = 3\n",
    "epsilon = 0.01\n",
    "error, x, U, u = FDM_BVP(9, 0, 1, alpha, beta, epsilon, Dirichlet_bc, fun, exact_fun)\n",
    "\n",
    "print (\"max norm error: %7.2e\" % error )\n",
    "# let us plot the approximation solution in blue, and the exact solution in red\n",
    "#plt.plot(x, u, 'ro-')\n",
    "plt.plot(x, U, 'bo-')\n",
    "number = 101\n",
    "draw_fun(number, alpha, beta, epsilon)"
   ]
  },
  {
   "cell_type": "code",
   "execution_count": 71,
   "metadata": {},
   "outputs": [
    {
     "data": {
      "application/vnd.jupyter.widget-view+json": {
       "model_id": "869e658b9ea047d698c35c05c7354cc2",
       "version_major": 2,
       "version_minor": 0
      },
      "text/html": [
       "<p>Failed to display Jupyter Widget of type <code>interactive</code>.</p>\n",
       "<p>\n",
       "  If you're reading this message in the Jupyter Notebook or JupyterLab Notebook, it may mean\n",
       "  that the widgets JavaScript is still loading. If this message persists, it\n",
       "  likely means that the widgets JavaScript library is either not installed or\n",
       "  not enabled. See the <a href=\"https://ipywidgets.readthedocs.io/en/stable/user_install.html\">Jupyter\n",
       "  Widgets Documentation</a> for setup instructions.\n",
       "</p>\n",
       "<p>\n",
       "  If you're reading this message in another frontend (for example, a static\n",
       "  rendering on GitHub or <a href=\"https://nbviewer.jupyter.org/\">NBViewer</a>),\n",
       "  it may mean that your frontend doesn't currently support widgets.\n",
       "</p>\n"
      ],
      "text/plain": [
       "interactive(children=(IntSlider(value=9, description='$m:$', max=2000, min=9, step=10), FloatSlider(value=1.0, description='$\\\\epsilon:$', max=1.0, min=0.01, step=0.01), Output()), _dom_classes=('widget-interact',))"
      ]
     },
     "metadata": {},
     "output_type": "display_data"
    }
   ],
   "source": [
    "def draw_appximation(m, epsilon):\n",
    "    error, x, U, u = FDM_BVP(m, 0, 1, alpha, beta, epsilon, Dirichlet_bc, fun, exact_fun)\n",
    "    print (\"max norm error: %7.2e\" % error )\n",
    "    # let us plot the approximation solution in blue, and the exact solution in red\n",
    "    #plt.plot(x, u, 'ro-')\n",
    "    plt.plot(x, U, 'bo-')\n",
    "    number = 101\n",
    "    draw_fun(number, alpha, beta, epsilon)\n",
    "    \n",
    "#draw_appximation(9, 0.01)\n",
    "w = interactive(draw_appximation, m=widgets.IntSlider(min=9,max=2000,step=10, value=9, description='$m:$',),\\\n",
    "                epsilon=widgets.FloatSlider(min=0.01,max=1.00,step=0.01, value=1.00, description='$\\epsilon:$',))\n",
    "display(w)"
   ]
  },
  {
   "cell_type": "code",
   "execution_count": 68,
   "metadata": {},
   "outputs": [
    {
     "name": "stdout",
     "output_type": "stream",
     "text": [
      "   h      max error   order  \n",
      "1.00e-01  6.96e-01\n",
      "5.00e-02  4.35e-01    0.68\n",
      "2.50e-02  1.93e-01    1.17\n",
      "1.25e-02  5.57e-02    1.79\n",
      "6.25e-03  1.21e-02    2.20\n",
      "3.13e-03  3.02e-03    2.01\n",
      "1.56e-03  7.49e-04    2.01\n",
      "7.81e-04  1.87e-04    2.00\n"
     ]
    }
   ],
   "source": [
    "levels = 8\n",
    "m = np.array([9, 19, 39, 79, 159, 319, 639, 1279], int)\n",
    "err_max = np.zeros(levels)\n",
    "print ('   h      max error   order  ')\n",
    "for i in range (levels):\n",
    "    err_max[i],_,_,_ = FDM_BVP(m[i], 0, 1, alpha, beta, epsilon, Dirichlet_bc, fun, exact_fun)\n",
    "    if (i == 0):\n",
    "        print ('%7.2e  %7.2e' % (1/(m[i]+1), err_max[i]))\n",
    "    else:\n",
    "        print ('%7.2e  %7.2e    %4.2f' % (1/(m[i]+1), err_max[i], \\\n",
    "                                        np.log(err_max[i-1]/err_max[i])/np.log((m[i]+1)/(m[i-1]+1))))"
   ]
  },
  {
   "cell_type": "markdown",
   "metadata": {},
   "source": [
    "## Interior layers"
   ]
  },
  {
   "cell_type": "code",
   "execution_count": null,
   "metadata": {},
   "outputs": [],
   "source": []
  }
 ],
 "metadata": {
  "kernelspec": {
   "display_name": "Python 3",
   "language": "python",
   "name": "python3"
  },
  "language_info": {
   "codemirror_mode": {
    "name": "ipython",
    "version": 3
   },
   "file_extension": ".py",
   "mimetype": "text/x-python",
   "name": "python",
   "nbconvert_exporter": "python",
   "pygments_lexer": "ipython3",
   "version": "3.6.8"
  },
  "toc": {
   "base_numbering": 1,
   "nav_menu": {},
   "number_sections": true,
   "sideBar": true,
   "skip_h1_title": false,
   "title_cell": "Table of Contents",
   "title_sidebar": "Contents",
   "toc_cell": false,
   "toc_position": {},
   "toc_section_display": true,
   "toc_window_display": false
  }
 },
 "nbformat": 4,
 "nbformat_minor": 2
}
