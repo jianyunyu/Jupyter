{
 "cells": [
  {
   "cell_type": "markdown",
   "metadata": {},
   "source": [
    "# Singularly Perturbed Equations"
   ]
  },
  {
   "cell_type": "markdown",
   "metadata": {},
   "source": [
    "## Boundary layers\n",
    "Consider the linear 2-point boundary value problem\n",
    "$$ \\begin{array}{c}a u'(x) = \\kappa u''(x) + \\psi(x), \\\\\n",
    " u(0) = \\alpha, \\quad u(1) = \\beta. \\end{array}$$\n",
    "    If $a$ is small relative to $\\kappa$􏰭, then this problem is easy to solve.  Now, suppose $a$ is large relative to $\\kappa$.  Here, we introduce a parameter $\\epsilon = \\frac{\\kappa}{a}$, and rewrite the above equation in the form\n",
    "$$ \\epsilon u''(x) - u'(x) = f(x).$$\n",
    "Then taking $a$ large relative to $\\kappa$ corresponds to the case $\\epsilon \\ll 􏰱1$.􏰭 \n",
    "\n",
    "__Example__:\n",
    "Considering\n",
    "$$ \\begin{array}{c}\\epsilon u''(x) - u'(x) = f(x), \\\\\n",
    " u(0) = \\alpha, \\quad u(1) = \\beta. \\end{array}$$\n",
    "Here, $\\alpha = 1$, $\\beta=3$, and $f(x) = -1$.  In this case the exact solution (why?) is\n",
    "$$ u(x) = \\alpha + x + \\beta + (\\beta - \\alpha -1)\\left(\\frac{e^{x/\\epsilon} -1}{e^{1/\\epsilon}-1}\\right) $$\n"
   ]
  },
  {
   "cell_type": "code",
   "execution_count": 361,
   "metadata": {},
   "outputs": [],
   "source": [
    "#%matplotlib notebook\n",
    "%matplotlib inline\n",
    "\n",
    "# environment setting, before any codes\n",
    "import numpy as np\n",
    "import scipy.linalg as slinalg\n",
    "\n",
    "import matplotlib.pyplot as plt\n",
    "\n",
    "from ipywidgets import interact, interactive, fixed, interact_manual\n",
    "import ipywidgets as widgets\n",
    "from IPython.display import clear_output, display"
   ]
  },
  {
   "cell_type": "code",
   "execution_count": 362,
   "metadata": {},
   "outputs": [
    {
     "data": {
      "application/vnd.jupyter.widget-view+json": {
       "model_id": "ba906e2f1fb34095938a3fe672f9279d",
       "version_major": 2,
       "version_minor": 0
      },
      "text/html": [
       "<p>Failed to display Jupyter Widget of type <code>interactive</code>.</p>\n",
       "<p>\n",
       "  If you're reading this message in the Jupyter Notebook or JupyterLab Notebook, it may mean\n",
       "  that the widgets JavaScript is still loading. If this message persists, it\n",
       "  likely means that the widgets JavaScript library is either not installed or\n",
       "  not enabled. See the <a href=\"https://ipywidgets.readthedocs.io/en/stable/user_install.html\">Jupyter\n",
       "  Widgets Documentation</a> for setup instructions.\n",
       "</p>\n",
       "<p>\n",
       "  If you're reading this message in another frontend (for example, a static\n",
       "  rendering on GitHub or <a href=\"https://nbviewer.jupyter.org/\">NBViewer</a>),\n",
       "  it may mean that your frontend doesn't currently support widgets.\n",
       "</p>\n"
      ],
      "text/plain": [
       "interactive(children=(FloatSlider(value=1.0, description='$\\\\epsilon:$', max=1.0, min=0.01, step=0.01), Output()), _dom_classes=('widget-interact',))"
      ]
     },
     "metadata": {},
     "output_type": "display_data"
    }
   ],
   "source": [
    "def exact_fun(x, alpha, beta, epsilon):\n",
    "    return alpha + x + (beta - alpha - 1)*((np.exp(x/epsilon)-1)/(np.exp(1/epsilon)-1))\n",
    "\n",
    "alpha = 1\n",
    "beta = 3\n",
    "epsilon = 0.002\n",
    "\n",
    "number = 101\n",
    "def draw_fun(number, alpha, beta, epsilon):\n",
    "    x = np.linspace(0, 1, number)\n",
    "    y = exact_fun(x, alpha, beta, epsilon)\n",
    "    plt.plot(x,y,'r',linewidth=2)\n",
    "    return epsilon\n",
    "#draw_fun(number, alpha, beta, epsilon)\n",
    "w = interactive(draw_fun, number=fixed(number), alpha=fixed(alpha), beta=fixed(beta),\\\n",
    "                epsilon=widgets.FloatSlider(min=0.01,max=1.00,step=0.01, value=1.00, description='$\\epsilon:$',))\n",
    "display(w)"
   ]
  },
  {
   "cell_type": "markdown",
   "metadata": {},
   "source": [
    "Note that as $\\epsilon \\rightarrow 0$􏰫 the solution tends toward a discontinuous function that jumps to the value $\\beta$ at the last possible moment.  This region of rapid transition is called the _boundary layer_ and it can be shown that for this problem the width of this layer is $\\mathcal{O}(\\epsilon)$ as $\\epsilon \\rightarrow 0$.\n",
    "\n",
    "The above equation with $0 < \\epsilon \\ll 1$ is called a _singularly perturbed equation_. It is a small perturbation of equation $-u'(x) = f(x)$, but this small perturbation completely changes the character of the equation (from a first order to a second order equation). Typically any differential equation having a small parameter multiplying the highest order derivative will give a singular perturbation problem."
   ]
  },
  {
   "cell_type": "markdown",
   "metadata": {},
   "source": [
    "### Finite Difference Methods\n",
    "This _singularly perturbed equation_ can be discretized to second order by\n",
    "$$ \\epsilon\\left(\\frac{U_{i+1} - 2U_i + U_{i-1}}{h^2}\\right) - \\left(\\frac{U_{i+1} - U_{i-1}}{2h}\\right) = f_i, \\qquad i = 1,\\ldots, m,$$\n",
    "with $U_0 = \\alpha$ and $U_{m+1} = \\beta$.  This gives the linear system $AU = F$, where $U$ is the vector of unknowns $U = [U_0, U_1, \\ldots, U_m, U_{m+1}]^T$, $A$ is the tridiagonal matrix\n",
    "$$\n",
    "    A = \\frac{1}{h^2}\\left[\\begin{array}{cccccccc}\n",
    "    h^2  &  0 &   &    &   &    & & \\\\\n",
    "    \\epsilon + h/2  & -2\\epsilon &  \\epsilon - h/2 &    &   &    & &\\\\\n",
    "       &  \\epsilon + h/2  & -2\\epsilon &  \\epsilon - h/2 &   &    & &\\\\ \n",
    "       &    &  \\epsilon + h/2  & -2\\epsilon &  \\epsilon - h/2 &    & &\\\\\n",
    "       &    & & \\ddots & \\ddots &\\ddots & &\\\\\n",
    "       &    &    &    & \\epsilon + h/2  & -2\\epsilon &  \\epsilon - h/2  &\\\\\n",
    "       &    &    &    &   &  \\epsilon + h/2  & -2\\epsilon &  \\epsilon - h/2 \\\\\n",
    "       &    &    &    &   &   &  0 & h^2\\end{array}\\right],\n",
    "           \\quad\n",
    "   \\text{and}\\quad F = \\left[\\begin{array}{c} \\alpha \\\\ f_1\\\\ f_2 \\\\ f_3 \\\\ \\vdots \\\\ f_{m-1} \\\\ f_m \\\\ \\beta\\end{array}\\right]. \n",
    "$$"
   ]
  },
  {
   "cell_type": "code",
   "execution_count": 363,
   "metadata": {},
   "outputs": [],
   "source": [
    "def generate_grid(left, right, m):\n",
    "    h = (right - left)/(m+1)\n",
    "    x = np.zeros(m+2)\n",
    "    for j in range(m+2):\n",
    "        x[j] = j*h\n",
    "    return  x, h\n",
    "\n",
    "def generate_A_interior(epsilon, h, m):\n",
    "    A = np.zeros([m+2, m+2])\n",
    "    for i in range(1,m+1):\n",
    "        A[i, i-1] = epsilon + h/2.\n",
    "        A[i, i] = -2*epsilon\n",
    "        A[i, i+1] = epsilon - h/2\n",
    "    #A[1:m+1,1:m+1] = - 2*np.eye(m, m) \n",
    "    #A[ += np.eye(m+2, m+2, -1) + np.eye(m+2, m+2, 1)\n",
    "    return A/h**2\n",
    "\n",
    "def generate_F_interior(m, x, fun):\n",
    "    F = np.zeros(m+2)\n",
    "    for i in range(1,m+1):\n",
    "        F[i] = fun(x[i])\n",
    "    return F\n",
    "\n",
    "def Dirichlet_bc(A, F, alpha, beta, fun):\n",
    "    A[0,0] = 1\n",
    "    A[-1,-1] = 1\n",
    "    F[0] = alpha\n",
    "    F[-1] = beta\n",
    "    return A, F\n",
    "\n",
    "def fun(x):\n",
    "    return -1\n",
    "\n",
    "def FDM_BVP(m, left, right, alpha, beta, epsilon, bc, fun, exact_fun):\n",
    "    # generate the grid\n",
    "    x, h = generate_grid(left, right, m)\n",
    "    #\n",
    "    U = np.zeros(m+2)\n",
    "    # \n",
    "    A = generate_A_interior(epsilon, h, m)\n",
    "    #print (A)\n",
    "    F = generate_F_interior(m, x, fun)\n",
    "    #print (F)\n",
    "    # bc\n",
    "    A, F = bc(A, F, alpha, beta, fun)\n",
    "    #print (A)\n",
    "    #print (F)\n",
    "    U = np.linalg.solve(A, F)\n",
    "    \n",
    "    u = exact_fun(x, alpha, beta, epsilon)\n",
    "    return np.max(np.abs(U-u)), x, U, u"
   ]
  },
  {
   "cell_type": "code",
   "execution_count": 364,
   "metadata": {},
   "outputs": [
    {
     "name": "stdout",
     "output_type": "stream",
     "text": [
      "max norm error: 6.96e-01\n"
     ]
    },
    {
     "data": {
      "text/plain": [
       "0.01"
      ]
     },
     "execution_count": 364,
     "metadata": {},
     "output_type": "execute_result"
    },
    {
     "data": {
      "image/png": "[encoded data removed]",
      "text/plain": [
       "<matplotlib.figure.Figure at 0x6189fd550>"
      ]
     },
     "metadata": {},
     "output_type": "display_data"
    }
   ],
   "source": [
    "alpha = 1\n",
    "beta = 3\n",
    "epsilon = 0.01\n",
    "error, x, U, u = FDM_BVP(9, 0, 1, alpha, beta, epsilon, Dirichlet_bc, fun, exact_fun)\n",
    "\n",
    "print (\"max norm error: %7.2e\" % error )\n",
    "# let us plot the approximation solution in blue, and the exact solution in red\n",
    "#plt.plot(x, u, 'ro-')\n",
    "plt.plot(x, U, 'bo-')\n",
    "number = 101\n",
    "draw_fun(number, alpha, beta, epsilon)"
   ]
  },
  {
   "cell_type": "code",
   "execution_count": 365,
   "metadata": {
    "scrolled": true
   },
   "outputs": [
    {
     "data": {
      "application/vnd.jupyter.widget-view+json": {
       "model_id": "8391c5b4b9054985984eb8ad4532d61f",
       "version_major": 2,
       "version_minor": 0
      },
      "text/html": [
       "<p>Failed to display Jupyter Widget of type <code>interactive</code>.</p>\n",
       "<p>\n",
       "  If you're reading this message in the Jupyter Notebook or JupyterLab Notebook, it may mean\n",
       "  that the widgets JavaScript is still loading. If this message persists, it\n",
       "  likely means that the widgets JavaScript library is either not installed or\n",
       "  not enabled. See the <a href=\"https://ipywidgets.readthedocs.io/en/stable/user_install.html\">Jupyter\n",
       "  Widgets Documentation</a> for setup instructions.\n",
       "</p>\n",
       "<p>\n",
       "  If you're reading this message in another frontend (for example, a static\n",
       "  rendering on GitHub or <a href=\"https://nbviewer.jupyter.org/\">NBViewer</a>),\n",
       "  it may mean that your frontend doesn't currently support widgets.\n",
       "</p>\n"
      ],
      "text/plain": [
       "interactive(children=(IntSlider(value=9, description='$m:$', max=2000, min=9, step=10), FloatSlider(value=1.0, description='$\\\\epsilon:$', max=1.0, min=0.01, step=0.01), Output()), _dom_classes=('widget-interact',))"
      ]
     },
     "metadata": {},
     "output_type": "display_data"
    }
   ],
   "source": [
    "def draw_appximation(m, epsilon):\n",
    "    error, x, U, u = FDM_BVP(m, 0, 1, alpha, beta, epsilon, Dirichlet_bc, fun, exact_fun)\n",
    "    print (\"max norm error: %7.2e\" % error )\n",
    "    # let us plot the approximation solution in blue, and the exact solution in red\n",
    "    #plt.plot(x, u, 'ro-')\n",
    "    plt.plot(x, U, 'bo-')\n",
    "    number = 101\n",
    "    draw_fun(number, alpha, beta, epsilon)\n",
    "    \n",
    "#draw_appximation(9, 0.01)\n",
    "w = interactive(draw_appximation, m=widgets.IntSlider(min=9,max=2000,step=10, value=9, description='$m:$',),\\\n",
    "                epsilon=widgets.FloatSlider(min=0.01,max=1.00,step=0.01, value=1.00, description='$\\epsilon:$',))\n",
    "display(w)"
   ]
  },
  {
   "cell_type": "code",
   "execution_count": 366,
   "metadata": {},
   "outputs": [
    {
     "name": "stdout",
     "output_type": "stream",
     "text": [
      "   h      max error   order  \n",
      "1.00e-01  6.96e-01\n",
      "5.00e-02  4.35e-01    0.68\n",
      "2.50e-02  1.93e-01    1.17\n",
      "1.25e-02  5.57e-02    1.79\n",
      "6.25e-03  1.21e-02    2.20\n",
      "yes\n",
      "3.13e-03  3.02e-03    2.01\n",
      "yes\n",
      "1.56e-03  7.49e-04    2.01\n",
      "yes\n",
      "7.81e-04  1.87e-04    2.00\n",
      "yes\n",
      "5.62e-03  9.93e-03    2.01\n"
     ]
    }
   ],
   "source": [
    "levels = 9\n",
    "m = np.array([9, 19, 39, 79, 159, 319, 639, 1279, 177], int)\n",
    "err_max = np.zeros(levels)\n",
    "print ('   h      max error   order  ')\n",
    "for i in range (levels):\n",
    "    err_max[i],_,_,_ = FDM_BVP(m[i], 0, 1, alpha, beta, epsilon, Dirichlet_bc, fun, exact_fun)\n",
    "    if (err_max[i] < 0.01):\n",
    "        print (\"yes\")\n",
    "    if (i == 0):\n",
    "        print ('%7.2e  %7.2e' % (1/(m[i]+1), err_max[i]))\n",
    "    else:\n",
    "        print ('%7.2e  %7.2e    %4.2f' % (1/(m[i]+1), err_max[i], \\\n",
    "                                        np.log(err_max[i-1]/err_max[i])/np.log((m[i]+1)/(m[i-1]+1))))"
   ]
  },
  {
   "cell_type": "markdown",
   "metadata": {},
   "source": [
    "## Nonuniform Mesh "
   ]
  },
  {
   "cell_type": "markdown",
   "metadata": {},
   "source": [
    "### A general approach to deriving the coefficients\n",
    "For computing the finite difference coefficients for computing an approximation to $u^{(k)}(\\bar{x})$, the $k$th derivative of $u(x)$ evaluated at $\\bar{x}$, based on an arbitrary stencil of $n \\geq 􏰇k+1$ points $x_1, \\ldots, x_n$. We assume $u(x)$ is sufficiently smooth, so that the Taylor series expansions of $u$ at each point $x_i$ in the stencil about $u(\\bar{x})$ yield\n",
    "$$u\\left(x_{i}\\right)=u(\\bar{x})+\\left(x_{i}-\\bar{x}\\right) u^{\\prime}(\\overline{x})+\\cdots+\\frac{1}{k !}\\left(x_{i}-\\bar{x}\\right)^{k} u^{(k)}(\\bar{x})+\\cdots$$\n",
    "for $i = 1,\\ldots, n$.  We want to find a linear combination of these values that agrees with $u^{(k)}(\\bar{x})$ as well as possible. So we want\n",
    "$$ c_{1} u\\left(x_{1}\\right)+c_{2} u\\left(x_{2}\\right)+\\cdots+c_{n} u\\left(x_{n}\\right)=u^{(k)}(\\bar{x})+O\\left(h^{p}\\right) $$\n",
    "where $p$ is as large as possible. (Here $h$ is some measure of the width of the stencil)"
   ]
  },
  {
   "cell_type": "code",
   "execution_count": 367,
   "metadata": {},
   "outputs": [],
   "source": [
    "from math import factorial\n",
    "def fdcoeff(k, xbar, x):\n",
    "    n = np.size(x)\n",
    "    if (n < k+1): \n",
    "        print (\"Try again!\")\n",
    "        exit\n",
    "    A = np.ones([n,n])\n",
    "    xrow = x - xbar\n",
    "    for i in range(1,n):\n",
    "        A[i,:] = xrow**(i)/factorial(i)\n",
    "    b = np.zeros(n)\n",
    "    b[k] = 1\n",
    "    c = np.linalg.solve(A,b)\n",
    "    return c   "
   ]
  },
  {
   "cell_type": "code",
   "execution_count": 368,
   "metadata": {},
   "outputs": [
    {
     "name": "stdout",
     "output_type": "stream",
     "text": [
      "[-0.5  0.   0.5]\n"
     ]
    }
   ],
   "source": [
    "c = fdcoeff(1, 0, np.array([-1,0,1]))\n",
    "print (c)"
   ]
  },
  {
   "cell_type": "code",
   "execution_count": 369,
   "metadata": {},
   "outputs": [],
   "source": [
    "def generate_A_interior_nonuni(epsilon, m, x):\n",
    "    A = np.zeros([m+2, m+2])\n",
    "    for i in range(1,m+1):\n",
    "        c = fdcoeff(2, x[i], x[i-1:i+2])\n",
    "        b = fdcoeff(1, x[i], x[i-1:i+2])\n",
    "        A[i, i-1:i+2] = epsilon*c - b \n",
    "    #A[1:m+1,1:m+1] = - 2*np.eye(m, m) \n",
    "    #A[ += np.eye(m+2, m+2, -1) + np.eye(m+2, m+2, 1)\n",
    "    return A\n",
    "\n",
    "def FDM_BVP(m, left, right, alpha, beta, epsilon, bc, fun, exact_fun):\n",
    "    # generate the grid\n",
    "    x, h = generate_grid(left, right, m)\n",
    "    #\n",
    "    U = np.zeros(m+2)\n",
    "    # \n",
    "    A = generate_A_interior_nonuni(epsilon, m, x)\n",
    "    #print (A)\n",
    "    F = generate_F_interior(m, x, fun)\n",
    "    #print (F)\n",
    "    # bc\n",
    "    A, F = bc(A, F, alpha, beta, fun)\n",
    "    #print (A)\n",
    "    #print (F)\n",
    "    U = np.linalg.solve(A, F)\n",
    "    \n",
    "    u = exact_fun(x, alpha, beta, epsilon)\n",
    "    return np.max(np.abs(U-u)), x, U, u"
   ]
  },
  {
   "cell_type": "code",
   "execution_count": 370,
   "metadata": {},
   "outputs": [
    {
     "name": "stdout",
     "output_type": "stream",
     "text": [
      "max norm error: 3.45e-02\n"
     ]
    },
    {
     "data": {
      "text/plain": [
       "0.01"
      ]
     },
     "execution_count": 370,
     "metadata": {},
     "output_type": "execute_result"
    },
    {
     "data": {
      "image/png": "[encoded data removed]",
      "text/plain": [
       "<matplotlib.figure.Figure at 0x61923f6d8>"
      ]
     },
     "metadata": {},
     "output_type": "display_data"
    }
   ],
   "source": [
    "alpha = 1\n",
    "beta = 3\n",
    "epsilon = 0.01\n",
    "error, x, U, u = FDM_BVP(99, 0, 1, alpha, beta, epsilon, Dirichlet_bc, fun, exact_fun)\n",
    "\n",
    "print (\"max norm error: %7.2e\" % error )\n",
    "# let us plot the approximation solution in blue, and the exact solution in red\n",
    "#plt.plot(x, u, 'ro-')\n",
    "plt.plot(x, U, 'bo-')\n",
    "number = 101\n",
    "draw_fun(number, alpha, beta, epsilon)"
   ]
  },
  {
   "cell_type": "code",
   "execution_count": 379,
   "metadata": {},
   "outputs": [],
   "source": [
    "def generate_grid_nonuni(left, right, mid, m):\n",
    "    x = np.zeros(m+2)\n",
    "    left_points = 10\n",
    "    x[:left_points] = np.linspace(left, mid, left_points, endpoint=False)\n",
    "    x[left_points:] = np.linspace(mid, right, m+2-left_points)\n",
    "    return  x"
   ]
  },
  {
   "cell_type": "code",
   "execution_count": 380,
   "metadata": {},
   "outputs": [
    {
     "name": "stdout",
     "output_type": "stream",
     "text": [
      "[0.   0.09 0.18 0.27 0.36 0.45 0.54 0.63 0.72 0.81 0.9  0.91 0.92 0.93\n",
      " 0.94 0.95 0.96 0.97 0.98 0.99 1.  ]\n"
     ]
    }
   ],
   "source": [
    "x = generate_grid_nonuni(0., 1., 0.9, 19)\n",
    "print (x)"
   ]
  },
  {
   "cell_type": "code",
   "execution_count": 381,
   "metadata": {},
   "outputs": [],
   "source": [
    "def FDM_BVP(m, left, right, alpha, beta, epsilon, bc, fun, exact_fun):\n",
    "    # generate the grid\n",
    "    x = generate_grid_nonuni(left, right, 0.90, m)\n",
    "    #\n",
    "    U = np.zeros(m+2)\n",
    "    # \n",
    "    A = generate_A_interior_nonuni(epsilon, m, x)\n",
    "    #print (A)\n",
    "    F = generate_F_interior(m, x, fun)\n",
    "    #print (F)\n",
    "    # bc\n",
    "    A, F = bc(A, F, alpha, beta, fun)\n",
    "    #print (A)\n",
    "    #print (F)\n",
    "    U = np.linalg.solve(A, F)\n",
    "    \n",
    "    u = exact_fun(x, alpha, beta, epsilon)\n",
    "    return np.max(np.abs(U-u)), x, U, u"
   ]
  },
  {
   "cell_type": "code",
   "execution_count": 383,
   "metadata": {},
   "outputs": [
    {
     "name": "stdout",
     "output_type": "stream",
     "text": [
      "0 0.0 1.9206858326015208e-14\n",
      "1 0.09 2.3989994322626274e-05\n",
      "2 0.18 1.3708568214365613e-05\n",
      "3 0.27 4.553203005808193e-05\n",
      "4 0.36 4.756033865538356e-05\n",
      "5 0.44999999999999996 9.872766932339516e-05\n",
      "6 0.54 0.00013115348607217747\n",
      "7 0.63 0.00023008832954940495\n",
      "8 0.72 0.00033757738140427485\n",
      "9 0.8099999999999999 0.000554463132617089\n",
      "10 0.9 0.0008927179482620673\n",
      "11 0.9018867924528302 0.0008929568397648691\n",
      "12 0.9037735849056604 0.000893239091512843\n",
      "13 0.9056603773584906 0.0008935724060765704\n",
      "14 0.9075471698113208 0.0008939658143813922\n",
      "15 0.909433962264151 0.0008944298950617213\n",
      "16 0.9113207547169812 0.0008949770276014402\n",
      "17 0.9132075471698113 0.0008956216838174047\n",
      "18 0.9150943396226415 0.000896380762694271\n",
      "19 0.9169811320754717 0.0008972739739856461\n",
      "20 0.9188679245283019 0.0008983242763864752\n",
      "21 0.9207547169811321 0.0008995583763848902\n",
      "22 0.9226415094339623 0.0009010072940756064\n",
      "23 0.9245283018867925 0.0009027070022089578\n",
      "24 0.9264150943396227 0.0009046991444656705\n",
      "25 0.9283018867924528 0.0009070318382675691\n",
      "26 0.930188679245283 0.0009097605662145014\n",
      "27 0.9320754716981132 0.0009129491582868798\n",
      "28 0.9339622641509434 0.0009166708640051535\n",
      "29 0.9358490566037736 0.000921009509475823\n",
      "30 0.9377358490566038 0.0009260607282544076\n",
      "31 0.939622641509434 0.0009319332466748431\n",
      "32 0.9415094339622642 0.0009387501930551156\n",
      "33 0.9433962264150944 0.0009466503851072172\n",
      "34 0.9452830188679245 0.0009557895298464292\n",
      "35 0.9471698113207547 0.0009663412439058217\n",
      "36 0.9490566037735849 0.0009784977676348117\n",
      "37 0.9509433962264151 0.0009924702014676434\n",
      "38 0.9528301886792453 0.0010084880349312542\n",
      "39 0.9547169811320755 0.0010267976638183018\n",
      "40 0.9566037735849057 0.0010476594949879736\n",
      "41 0.9584905660377359 0.001071343115423229\n",
      "42 0.960377358490566 0.0010981198455388697\n",
      "43 0.9622641509433962 0.0011282517976245465\n",
      "44 0.9641509433962264 0.0011619763077495016\n",
      "45 0.9660377358490566 0.0011994842899016867\n",
      "46 0.9679245283018868 0.001240890657582927\n",
      "47 0.969811320754717 0.0012861944494413358\n",
      "48 0.9716981132075472 0.0013352256555680952\n",
      "49 0.9735849056603774 0.0013875749371021762\n",
      "50 0.9754716981132076 0.0014425014233641065\n",
      "51 0.9773584905660377 0.0014988125074335557\n",
      "52 0.9792452830188679 0.0015547079807394226\n",
      "53 0.9811320754716981 0.0016075788722904605\n",
      "54 0.9830188679245283 0.0016537488932457656\n",
      "55 0.9849056603773585 0.0016881433137827528\n",
      "56 0.9867924528301887 0.0017038662705330943\n",
      "57 0.9886792452830189 0.0016916627375813675\n",
      "58 0.9905660377358491 0.001639235468865241\n",
      "59 0.9924528301886792 0.0015303798576056238\n",
      "60 0.9943396226415094 0.0013438905186453631\n",
      "61 0.9962264150943396 0.0010521820602837906\n",
      "62 0.9981132075471698 0.0006195524547267794\n",
      "63 1.0 0.0\n",
      "max norm error: 1.70e-03\n"
     ]
    },
    {
     "data": {
      "text/plain": [
       "0.01"
      ]
     },
     "execution_count": 383,
     "metadata": {},
     "output_type": "execute_result"
    },
    {
     "data": {
      "image/png": "[encoded data removed]",
      "text/plain": [
       "<matplotlib.figure.Figure at 0x10b1bd6d8>"
      ]
     },
     "metadata": {},
     "output_type": "display_data"
    }
   ],
   "source": [
    "alpha = 1\n",
    "beta = 3\n",
    "epsilon = 0.01\n",
    "error, x, U, u = FDM_BVP(62, 0, 1, alpha, beta, epsilon, Dirichlet_bc, fun, exact_fun)\n",
    "\n",
    "for i in range(np.size(x)):\n",
    "    print (i, x[i], np.abs(U[i]-u[i]))\n",
    "print (\"max norm error: %7.2e\" % error )\n",
    "# let us plot the approximation solution in blue, and the exact solution in red\n",
    "#plt.plot(x, u, 'ro-')\n",
    "plt.plot(x, U, 'bo-')\n",
    "number = 101\n",
    "draw_fun(number, alpha, beta, epsilon)"
   ]
  },
  {
   "cell_type": "code",
   "execution_count": 327,
   "metadata": {},
   "outputs": [
    {
     "name": "stdout",
     "output_type": "stream",
     "text": [
      "[9.51625820e-02 8.61066650e-02 7.79125324e-02 7.04981746e-02\n",
      " 6.37893863e-02 5.77190236e-02 5.22263323e-02 4.72563397e-02\n",
      " 4.27593044e-02 3.86902186e-02 3.50083575e-02 3.16768718e-02\n",
      " 2.86624189e-02 2.59348291e-02 2.34668038e-02 2.12336422e-02\n",
      " 1.92129939e-02 1.73846358e-02 1.57302690e-02 1.42333360e-02\n",
      " 1.28788550e-02 1.16532699e-02 1.05443146e-02 9.54089043e-03\n",
      " 8.63295467e-03 7.81142041e-03 7.06806547e-03 6.39545011e-03\n",
      " 5.78684257e-03 5.23615169e-03 4.73786597e-03 4.28699842e-03\n",
      " 3.87903658e-03 3.50989744e-03 3.17588654e-03 2.87366098e-03\n",
      " 2.60019598e-03 2.35275461e-03 2.12886041e-03 1.92627256e-03\n",
      " 1.74296349e-03 1.57709858e-03 1.42701781e-03 1.29121911e-03\n",
      " 1.16834336e-03 1.05716079e-03 9.56558643e-04 8.65530053e-04\n",
      " 7.83163978e-04 7.08636072e-04 6.41200434e-04 5.80182145e-04\n",
      " 5.24970514e-04 4.75012964e-04 4.29809504e-04 3.88907722e-04\n",
      " 3.51898259e-04 3.18410712e-04 2.88109927e-04 2.60692642e-04\n",
      " 2.35884457e-04 2.13437083e-04 1.93125859e-04 1.74747504e-04\n",
      " 1.58118080e-04 1.43071155e-04 1.29456135e-04 1.17136755e-04\n",
      " 1.05989719e-04 9.59034635e-05 8.67770423e-05 7.85191149e-05\n",
      " 7.10470332e-05 6.42860141e-05 5.81683910e-05 5.26329367e-05\n",
      " 4.76242506e-05 4.30922039e-05 3.89914385e-05 3.52809126e-05\n",
      " 3.19234898e-05 2.88855681e-05 2.61367429e-05 2.36495029e-05\n",
      " 2.13989552e-05 1.93625753e-05 1.75199827e-05 1.58527359e-05\n",
      " 1.43441486e-05 1.29791224e-05 1.17439956e-05 1.06264067e-05\n",
      " 9.61517036e-06 8.70016592e-06 7.87223567e-06 7.12309340e-06\n",
      " 6.44524144e-06 5.83189562e-06 5.27691738e-06 5.01746821e-05]\n"
     ]
    }
   ],
   "source": [
    "m = 100\n",
    "sigma = 0.1\n",
    "x = np.zeros(m+1)\n",
    "for i in range(m):\n",
    "    x[i+1] = np.exp(sigma*(i+1 - m))\n",
    "x = (1 - x)\n",
    "x = x[::-1]\n",
    "#print(x)\n",
    "\n",
    "def generate_geometric_grad_grid(left, right, sigma, m): \n",
    "    x = np.zeros(m+1)\n",
    "    for i in range(m):\n",
    "        x[i+1] = np.exp(sigma*(i+1 - m))\n",
    "    x = (1 - x)\n",
    "    x = x[::-1]\n",
    "    return x\n",
    "\n",
    "x = generate_geometric_grad_grid(0, 1, 0.1, 100)\n",
    "print (np.diff(x))"
   ]
  },
  {
   "cell_type": "code",
   "execution_count": 392,
   "metadata": {},
   "outputs": [],
   "source": [
    "def FDM_BVP(m, left, right, alpha, beta, epsilon, bc, fun, exact_fun):\n",
    "    # generate the grid\n",
    "    x = generate_geometric_grad_grid(left, right, 0.1, m+1)\n",
    "    #\n",
    "    U = np.zeros(m+2)\n",
    "    # \n",
    "    A = generate_A_interior_nonuni(epsilon, m, x)\n",
    "    #print (A)\n",
    "    F = generate_F_interior(m, x, fun)\n",
    "    #print (F)\n",
    "    # bc\n",
    "    A, F = bc(A, F, alpha, beta, fun)\n",
    "    #print (A)\n",
    "    #print (F)\n",
    "    U = np.linalg.solve(A, F)\n",
    "    \n",
    "    u = exact_fun(x, alpha, beta, epsilon)\n",
    "    return np.max(np.abs(U-u)), x, U, u"
   ]
  },
  {
   "cell_type": "code",
   "execution_count": 397,
   "metadata": {},
   "outputs": [
    {
     "name": "stdout",
     "output_type": "stream",
     "text": [
      "0 0.0 1.1102230246251565e-16\n",
      "1 0.09516258196404048 0.004707989274533642\n",
      "2 0.18126924692201818 0.0013057831671288156\n",
      "3 0.2591817793182821 0.006753762822495402\n",
      "4 1.0 0.0\n",
      "max norm error: 6.75e-03\n",
      "3\n"
     ]
    },
    {
     "data": {
      "text/plain": [
       "0.01"
      ]
     },
     "execution_count": 397,
     "metadata": {},
     "output_type": "execute_result"
    },
    {
     "data": {
      "image/png": "[encoded data removed]",
      "text/plain": [
       "<matplotlib.figure.Figure at 0x6189a7208>"
      ]
     },
     "metadata": {},
     "output_type": "display_data"
    }
   ],
   "source": [
    "alpha = 1\n",
    "beta = 3\n",
    "epsilon = 0.01\n",
    "error, x, U, u = FDM_BVP(3, 0, 1, alpha, beta, epsilon, Dirichlet_bc, fun, exact_fun)\n",
    "\n",
    "for i in range(np.size(x)):\n",
    "    print (i, x[i], np.abs(U[i]-u[i]))\n",
    "print (\"max norm error: %7.2e\" % error )\n",
    "print (np.argmax(np.abs(U - u)))\n",
    "# let us plot the approximation solution in blue, and the exact solution in red\n",
    "#plt.plot(x, u, 'ro-')\n",
    "plt.plot(x, U, 'bo-')\n",
    "number = 101\n",
    "draw_fun(number, alpha, beta, epsilon)"
   ]
  },
  {
   "cell_type": "code",
   "execution_count": 386,
   "metadata": {},
   "outputs": [],
   "source": [
    "def FDM_BVP_adaptive(coarse_m, refine_number, left, right, alpha, beta, epsilon, bc, fun, exact_fun):\n",
    "    # generate the coarse grid\n",
    "    x = np.linspace(left, right, coarse_m+2)\n",
    "    #x = generate_geometric_grad_grid(0, 1, 0.16, coarse_m+1)\n",
    "    for i in range(refine_number):\n",
    "        m = np.size(x)-2\n",
    "        #\n",
    "        U = np.zeros(m+2)\n",
    "        # \n",
    "        A = generate_A_interior_nonuni(epsilon, m, x)\n",
    "        #print (A)\n",
    "        F = generate_F_interior(m, x, fun)\n",
    "        #print (F)\n",
    "        # bc\n",
    "        A, F = bc(A, F, alpha, beta, fun)\n",
    "        #print (A)\n",
    "        #print (F)\n",
    "        U = np.linalg.solve(A, F)\n",
    "        u = exact_fun(x, alpha, beta, epsilon)\n",
    "        if (np.max(np.abs(U-u)) < 1.e-3):\n",
    "            #print (i)\n",
    "            return np.max(np.abs(U-u)), x, U, u\n",
    "        else:\n",
    "            #print (i, np.max(np.abs(U-u)))\n",
    "            j = np.argmax(np.abs(U - u))\n",
    "            #print (x)\n",
    "            #print (j)\n",
    "            x = np.insert(x, j, 0.5*(x[j-1]+x[j]))\n",
    "            x = np.insert(x, j+2, 0.5*(x[j+1]+x[j+2]))\n",
    "        #print (x)\n",
    "    return np.max(np.abs(U-u)), x, U, u"
   ]
  },
  {
   "cell_type": "code",
   "execution_count": 360,
   "metadata": {},
   "outputs": [
    {
     "name": "stdout",
     "output_type": "stream",
     "text": [
      "1 103 0.0010542091903531503\n",
      "2 104 0.0010044392566708193\n",
      "3 105 0.0021133198873846126\n",
      "4 106 0.0009234143022163188\n",
      "5 107 0.0005845763354541678\n",
      "6 108 0.0008889070879130045\n",
      "7 109 0.0014326908962170037\n",
      "8 110 0.0007295012856149974\n",
      "9 111 0.0006598734717664367\n",
      "10 112 0.0007790040178712321\n",
      "11 113 0.0007886169082309546\n",
      "12 114 0.0005695772796450171\n",
      "13 115 0.0005690760452945476\n",
      "14 116 0.0008782284171711119\n",
      "15 117 0.0013096355992310293\n",
      "16 118 0.0007323588557570648\n",
      "17 119 0.0005563603741820522\n",
      "18 120 0.000634627953122413\n",
      "19 121 0.0005673091082609716\n",
      "20 122 0.0006398958352451523\n",
      "21 123 0.0005147314075031328\n",
      "22 124 0.0005643408376165837\n",
      "23 125 0.0005675552295463238\n",
      "24 126 0.0006391093243762747\n",
      "25 127 0.00072089589434432\n",
      "26 128 0.0005211349905187568\n",
      "27 129 0.0005567466582290237\n",
      "28 130 0.0005674394601409283\n",
      "29 131 0.0007943461078956382\n",
      "30 132 0.0005156665292844753\n",
      "31 133 0.0005576906012347838\n",
      "32 134 0.0005663554924983938\n",
      "33 135 0.0006373683350338055\n",
      "34 136 0.0006561683217358727\n",
      "35 137 0.0005576846293582349\n",
      "36 138 0.0005654772821022114\n",
      "37 139 0.0006378895828067499\n",
      "38 140 0.0006621908039012858\n",
      "39 141 0.0005664084432368544\n",
      "40 142 0.0006357153570581975\n",
      "41 143 0.0010330508269615901\n",
      "42 144 0.0010401620046809334\n",
      "43 145 0.0010412013640663798\n",
      "44 146 0.0010421396430058127\n",
      "45 147 0.0010499414396332174\n",
      "46 148 0.0010500511820443759\n",
      "47 149 0.0010501197832228915\n",
      "48 150 0.0010501626029963962\n",
      "49 151 0.0010501892957754944\n",
      "50 152 0.0010502059175172551\n"
     ]
    }
   ],
   "source": [
    "alpha = 1\n",
    "beta = 3\n",
    "epsilon = 0.01\n",
    "\n",
    "minimum_m = np.zeros(50)\n",
    "for m in range(1, 51):\n",
    "    error, x, U, u = FDM_BVP_adaptive(m, 50, 0, 1, alpha, beta, epsilon, Dirichlet_bc, fun, exact_fun)\n",
    "    print (m, np.size(x), error)\n",
    "    minimum_m[m-1] = np.size(x)"
   ]
  },
  {
   "cell_type": "code",
   "execution_count": 347,
   "metadata": {},
   "outputs": [
    {
     "name": "stdout",
     "output_type": "stream",
     "text": [
      "[ 95.  60.  81.   8. 123.  86.  99.  94.  75.  98. 163. 126.  89. 106.\n",
      "  95.  18.  19. 134. 139.  98. 107. 108.  99. 118. 101.  84.  95.  90.\n",
      "  91.  68.  69.  68.  77.  82.  85.  88.  67.  72.  77.  82.  85.  62.\n",
      "  67.  70.  77.  78.  85.  86.  91.  92.]\n",
      "8.0 3\n"
     ]
    }
   ],
   "source": [
    "print(minimum_m)\n",
    "print(np.min(minimum_m), np.argmin(minimum_m))"
   ]
  },
  {
   "cell_type": "code",
   "execution_count": 388,
   "metadata": {},
   "outputs": [
    {
     "name": "stdout",
     "output_type": "stream",
     "text": [
      "64\n",
      "0.0009436696081630558\n",
      "22\n"
     ]
    },
    {
     "data": {
      "text/plain": [
       "0.01"
      ]
     },
     "execution_count": 388,
     "metadata": {},
     "output_type": "execute_result"
    },
    {
     "data": {
      "image/png": "[encoded data removed]",
      "text/plain": [
       "<matplotlib.figure.Figure at 0x6190ed2b0>"
      ]
     },
     "metadata": {},
     "output_type": "display_data"
    }
   ],
   "source": [
    "alpha = 1\n",
    "beta = 3\n",
    "epsilon = 0.01\n",
    "\n",
    "error, x, U, u = FDM_BVP_adaptive(18, 100, 0, 1, alpha, beta, epsilon, Dirichlet_bc, fun, exact_fun)\n",
    "\n",
    "print (np.size(x))\n",
    "print (error)\n",
    "#for i in range(np.size(x)):\n",
    "#    print (i, x[i], np.abs(U[i]-u[i]))\n",
    "#print (\"max norm error: %7.2e\" % error )\n",
    "print (np.argmax(np.abs(U - u)))\n",
    "# let us plot the approximation solution in blue, and the exact solution in red\n",
    "plt.plot(x, u, 'ro-')\n",
    "plt.plot(x, U, 'bo-')\n",
    "number = 101\n",
    "draw_fun(number, alpha, beta, epsilon)"
   ]
  },
  {
   "cell_type": "code",
   "execution_count": 324,
   "metadata": {},
   "outputs": [
    {
     "data": {
      "text/plain": [
       "array([0.        , 0.05      , 0.1       , ..., 0.99921875, 0.99960938,\n",
       "       1.        ])"
      ]
     },
     "execution_count": 324,
     "metadata": {},
     "output_type": "execute_result"
    }
   ],
   "source": [
    "x"
   ]
  },
  {
   "cell_type": "code",
   "execution_count": 325,
   "metadata": {},
   "outputs": [],
   "source": [
    "np.savetxt(\"1e-5.txt\", x)"
   ]
  },
  {
   "cell_type": "code",
   "execution_count": null,
   "metadata": {},
   "outputs": [],
   "source": []
  }
 ],
 "metadata": {
  "kernelspec": {
   "display_name": "Python 3",
   "language": "python",
   "name": "python3"
  },
  "language_info": {
   "codemirror_mode": {
    "name": "ipython",
    "version": 3
   },
   "file_extension": ".py",
   "mimetype": "text/x-python",
   "name": "python",
   "nbconvert_exporter": "python",
   "pygments_lexer": "ipython3",
   "version": "3.6.8"
  },
  "toc": {
   "base_numbering": 1,
   "nav_menu": {},
   "number_sections": true,
   "sideBar": true,
   "skip_h1_title": false,
   "title_cell": "Table of Contents",
   "title_sidebar": "Contents",
   "toc_cell": false,
   "toc_position": {},
   "toc_section_display": true,
   "toc_window_display": false
  }
 },
 "nbformat": 4,
 "nbformat_minor": 2
}
