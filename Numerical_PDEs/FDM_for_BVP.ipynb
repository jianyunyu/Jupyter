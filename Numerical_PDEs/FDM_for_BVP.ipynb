{
 "cells": [
  {
   "cell_type": "markdown",
   "metadata": {},
   "source": [
    "# Finite Difference Methods for Steady States and Boundary Value Problems"
   ]
  },
  {
   "cell_type": "markdown",
   "metadata": {},
   "source": [
    "## A simple finite difference method\n",
    "As a first example of a finite difference method for solving a differential equation, consider the 2-point boundary value problem (BVP),\n",
    "$$ u''(x) = f(x), \\,\\,\\text{for}\\,\\, 0 < x < 1, $$\n",
    "with some given boundary conditions\n",
    "$$ u(0) = \\alpha, \\,\\, u(1) = \\beta.$$\n",
    "The function $f(x)$ is specified and we wish to determine $u(x)$ in the interval $0 < x < 1$."
   ]
  },
  {
   "cell_type": "code",
   "execution_count": 47,
   "metadata": {},
   "outputs": [],
   "source": [
    "#%matplotlib notebook\n",
    "%matplotlib inline\n",
    "\n",
    "# environment setting, before any codes\n",
    "import numpy as np\n",
    "import scipy.linalg as slinalg\n",
    "\n",
    "import matplotlib.pyplot as plt\n",
    "\n",
    "from ipywidgets import interact, interactive, fixed, interact_manual\n",
    "import ipywidgets as widgets\n",
    "from IPython.display import clear_output, display"
   ]
  },
  {
   "cell_type": "markdown",
   "metadata": {},
   "source": [
    "### The very first step\n",
    "The goal is to determine the function $u(x)$ by using the computer.  Therefore, the first question one has to ask is that __how is a function described in the computer__? \n",
    "* Gennerally, in computing science, a function is normally described as a discrete function (or say a grid function).\n",
    "\n",
    "For one dimensional case, the task is rather simple.  We can compute the function only on certian discrete/grid points $x_0, x_1, \\ldots, x_m, x_{m+1}$, where $x_j = jh$ and $h = 1/(m+1)$ is the _mesh width_.  For convenience, we denote $U_j$ is our approximation to the solution $u(x_j)$.\n",
    "\n",
    "For example, considering $f(x) = \\sin(\\pi x)$ with $0 < x < 1$"
   ]
  },
  {
   "cell_type": "code",
   "execution_count": 48,
   "metadata": {},
   "outputs": [
    {
     "name": "stdout",
     "output_type": "stream",
     "text": [
      "[0.   0.01 0.02 0.03 0.04 0.05 0.06 0.07 0.08 0.09 0.1  0.11 0.12 0.13\n",
      " 0.14 0.15 0.16 0.17 0.18 0.19 0.2  0.21 0.22 0.23 0.24 0.25 0.26 0.27\n",
      " 0.28 0.29 0.3  0.31 0.32 0.33 0.34 0.35 0.36 0.37 0.38 0.39 0.4  0.41\n",
      " 0.42 0.43 0.44 0.45 0.46 0.47 0.48 0.49 0.5  0.51 0.52 0.53 0.54 0.55\n",
      " 0.56 0.57 0.58 0.59 0.6  0.61 0.62 0.63 0.64 0.65 0.66 0.67 0.68 0.69\n",
      " 0.7  0.71 0.72 0.73 0.74 0.75 0.76 0.77 0.78 0.79 0.8  0.81 0.82 0.83\n",
      " 0.84 0.85 0.86 0.87 0.88 0.89 0.9  0.91 0.92 0.93 0.94 0.95 0.96 0.97\n",
      " 0.98 0.99 1.  ]\n",
      "0.01\n"
     ]
    }
   ],
   "source": [
    "m = 99\n",
    "x = np.linspace(0, 1, m+2)\n",
    "def generate_grid(left, right, m):\n",
    "    h = (right - left)/(m+1)\n",
    "    x = np.zeros(m+2)\n",
    "    for j in range(m+2):\n",
    "        x[j] = j*h\n",
    "    return  x, h\n",
    "x, h = generate_grid(0, 1, m)\n",
    "print (x)\n",
    "print (h)"
   ]
  },
  {
   "cell_type": "code",
   "execution_count": 49,
   "metadata": {
    "scrolled": true
   },
   "outputs": [
    {
     "data": {
      "text/plain": [
       "[<matplotlib.lines.Line2D at 0x11c4d6748>]"
      ]
     },
     "execution_count": 49,
     "metadata": {},
     "output_type": "execute_result"
    },
    {
     "data": {
      "image/png": "[encoded data removed]",
      "text/plain": [
       "<matplotlib.figure.Figure at 0x11d6a5f28>"
      ]
     },
     "metadata": {},
     "output_type": "display_data"
    }
   ],
   "source": [
    "f = np.sin(np.pi*x)\n",
    "#print (f)\n",
    "\n",
    "plt.plot(x, f, 'o-')"
   ]
  },
  {
   "cell_type": "markdown",
   "metadata": {},
   "source": [
    "### Boundary conditions\n",
    "How to properly address the boundary conditions is normally a different problem for numerically solving PDEs.  However, for Dirichlet boundary conditions in one dimension that\n",
    "$$ u(0) = \\alpha, \\,\\, u(1) = \\beta,$$ \n",
    "it is straightforward to address this issue.  Since we have $x_0 = 0$ and $x_{m+1} = 1$, we know that\n",
    "$$ U_0 = \\alpha, \\,\\, U_{m+1} = \\beta.$$\n"
   ]
  },
  {
   "cell_type": "markdown",
   "metadata": {},
   "source": [
    "### Finite difference method\n",
    "Therefore, we have $m$ unknown values $U_1,\\ldots, U_m$ to compute.  The idea of finite difference methods is replace the derivatives ($u''(x)$) in the BVP with finite difference approximation.  Here, we simply replace $u''(x)$ in the BVP by the centered difference approximation \n",
    "$$ D^2 U_j = \\frac{1}{h}\\left(U_{j-1} - 2 U_j + U_{j+1}\\right),$$\n",
    "then we obtain a set of linear equations \n",
    "$$ \\frac{1}{h}\\left(U_{j-1} - 2 U_j + U_{j+1}\\right) = f(x_j) = f_j \\quad\\text{for}\\,\\, j = 1,\\ldots, m.$$\n",
    "Moving the known values ($U_0$ and $U_{m+1}$) to the right-hand side, we rewrite the algebraic system in the form\n",
    "$$ AU = F,$$\n",
    "where $U$ is the vector of unknowns $U = [U_1, U_2, \\ldots, U_m]^T$ and \n",
    "$$\n",
    "    A = \\frac{1}{h^2}\\left[\\begin{array}{cccccc}\n",
    "        -2 &  1 &    &   &    & \\\\\n",
    "         1 & -2 &  1 &   &    & \\\\ \n",
    "           &  1 & -2 & 1 &    & \\\\\n",
    "           & & \\ddots & \\ddots &\\ddots &\\\\\n",
    "           &    &    & 1 & -2 & 1 \\\\\n",
    "           &    &    &   &  1 & -2 \\end{array}\\right],\n",
    "           \\quad\n",
    "   F = \\left[\\begin{array}{c} f_1 - \\frac{\\alpha}{h^2} \\\\ f_2 \\\\ f_3 \\\\ \\vdots \\\\ f_{m-1} \\\\ f_m - \\frac{\\beta}{h^2}\\end{array}\\right]. \n",
    "$$"
   ]
  },
  {
   "cell_type": "code",
   "execution_count": 50,
   "metadata": {},
   "outputs": [
    {
     "name": "stdout",
     "output_type": "stream",
     "text": [
      "[[-2.  1.  0.  0.  0.  0.]\n",
      " [ 1. -2.  1.  0.  0.  0.]\n",
      " [ 0.  1. -2.  1.  0.  0.]\n",
      " [ 0.  0.  1. -2.  1.  0.]\n",
      " [ 0.  0.  0.  1. -2.  1.]\n",
      " [ 0.  0.  0.  0.  1. -2.]]\n"
     ]
    }
   ],
   "source": [
    "def generate_A(h, m):\n",
    "    A = np.eye(m, m, -1) - 2*np.eye(m, m) + np.eye(m, m, 1)\n",
    "    return A/h**2\n",
    "\n",
    "A = generate_A(1, 6)\n",
    "print (A)\n",
    "P, L, U = slinalg.lu(A)"
   ]
  },
  {
   "cell_type": "code",
   "execution_count": 51,
   "metadata": {},
   "outputs": [],
   "source": [
    "def generate_F(h, m, x, alpha, beta, fun):\n",
    "    F = np.zeros(m)\n",
    "    for i in range(m):\n",
    "        if (i == 0):\n",
    "            F[i] = fun(x[i]) - alpha/h**2\n",
    "        elif (i == np.size(x)):\n",
    "            F[i] = fun(x[i]) - beta/h**2\n",
    "        else:\n",
    "            F[i] = fun(x[i])\n",
    "    return F"
   ]
  },
  {
   "cell_type": "code",
   "execution_count": 52,
   "metadata": {},
   "outputs": [
    {
     "name": "stdout",
     "output_type": "stream",
     "text": [
      "[0.  0.1 0.2 0.3 0.4 0.5 0.6 0.7 0.8 0.9 1. ] 0.1\n",
      "[[-200.  100.    0.    0.    0.    0.    0.    0.    0.]\n",
      " [ 100. -200.  100.    0.    0.    0.    0.    0.    0.]\n",
      " [   0.  100. -200.  100.    0.    0.    0.    0.    0.]\n",
      " [   0.    0.  100. -200.  100.    0.    0.    0.    0.]\n",
      " [   0.    0.    0.  100. -200.  100.    0.    0.    0.]\n",
      " [   0.    0.    0.    0.  100. -200.  100.    0.    0.]\n",
      " [   0.    0.    0.    0.    0.  100. -200.  100.    0.]\n",
      " [   0.    0.    0.    0.    0.    0.  100. -200.  100.]\n",
      " [   0.    0.    0.    0.    0.    0.    0.  100. -200.]]\n",
      "[0.30901699 0.58778525 0.80901699 0.95105652 1.         0.95105652\n",
      " 0.80901699 0.58778525 0.30901699]\n",
      "solution:  [ 0.         -0.03156876 -0.06004735 -0.08264808 -0.09715865 -0.10215865\n",
      " -0.09715865 -0.08264808 -0.06004735 -0.03156876  0.        ]\n"
     ]
    },
    {
     "data": {
      "image/png": "[encoded data removed]",
      "text/plain": [
       "<matplotlib.figure.Figure at 0x11d7182e8>"
      ]
     },
     "metadata": {},
     "output_type": "display_data"
    }
   ],
   "source": [
    "def fun(x):\n",
    "    return np.sin(np.pi*x)\n",
    "\n",
    "m = 9\n",
    "x, h = generate_grid(0, 1, m)\n",
    "print (x, h)\n",
    "A = generate_A(h, m)\n",
    "print (A)\n",
    "F = generate_F(h, 9, x[1:m+1], 0, 0, fun)\n",
    "print (F)\n",
    "U = np.zeros(m+2)\n",
    "U[0] = 0; U[m+1] = 0\n",
    "U[1:m+1] = np.linalg.solve(A, F)\n",
    "print (\"solution: \", U)\n",
    "\n",
    "plt.plot(x, U)\n",
    "plt.show()"
   ]
  },
  {
   "cell_type": "code",
   "execution_count": 53,
   "metadata": {},
   "outputs": [
    {
     "name": "stdout",
     "output_type": "stream",
     "text": [
      "exact:  [-0.00000000e+00 -3.13099676e-02 -5.95550975e-02 -8.19705595e-02\n",
      " -9.63621719e-02 -1.01321184e-01 -9.63621719e-02 -8.19705595e-02\n",
      " -5.95550975e-02 -3.13099676e-02 -1.24082663e-17]\n"
     ]
    }
   ],
   "source": [
    "def exact_fun(x):\n",
    "    return -1/np.pi**2*np.sin(np.pi*x)\n",
    "\n",
    "def exact_U(x, exact_fun):\n",
    "    exact_U = np.zeros(np.size(x))\n",
    "    for i in range(np.size(x)):\n",
    "        exact_U[i] = exact_fun(x[i])\n",
    "    return exact_U\n",
    "\n",
    "u = exact_U(x, exact_fun)\n",
    "print (\"exact: \", u)"
   ]
  },
  {
   "cell_type": "code",
   "execution_count": 54,
   "metadata": {},
   "outputs": [
    {
     "name": "stdout",
     "output_type": "stream",
     "text": [
      "[ 0.00000000e+00 -2.58789938e-04 -4.92247713e-04 -6.77520853e-04\n",
      " -7.96473531e-04 -8.37461830e-04 -7.96473531e-04 -6.77520853e-04\n",
      " -4.92247713e-04 -2.58789938e-04  1.24082663e-17]\n",
      "Max Norm:  0.0008374618303157583\n"
     ]
    }
   ],
   "source": [
    "error = U - u\n",
    "print (error)\n",
    "print (\"Max Norm: \", np.max(np.abs(error)))"
   ]
  },
  {
   "cell_type": "markdown",
   "metadata": {},
   "source": [
    "### Finally, let us put everything together\n",
    "Now, we put all steps together to create a function that solves the linear BVP, and return the max norm of the error.  "
   ]
  },
  {
   "cell_type": "code",
   "execution_count": 55,
   "metadata": {},
   "outputs": [
    {
     "name": "stdout",
     "output_type": "stream",
     "text": [
      "max norm error: 8.37e-04\n"
     ]
    },
    {
     "data": {
      "text/plain": [
       "[<matplotlib.lines.Line2D at 0x61eb91208>]"
      ]
     },
     "execution_count": 55,
     "metadata": {},
     "output_type": "execute_result"
    },
    {
     "data": {
      "image/png": "[encoded data removed]",
      "text/plain": [
       "<matplotlib.figure.Figure at 0x11c5dbdd8>"
      ]
     },
     "metadata": {},
     "output_type": "display_data"
    }
   ],
   "source": [
    "def FDM_BVP(m, left, right, alpha, beta, fun, exact_fun):\n",
    "    # generate the grid\n",
    "    x, h = generate_grid(left, right, m)\n",
    "    #\n",
    "    U = np.zeros(m+2)\n",
    "    U[0] = alpha; U[m+1] = beta\n",
    "    # \n",
    "    A = generate_A(h, m)\n",
    "    F = generate_F(h, m, x[1:m+1], alpha, beta, fun)\n",
    "\n",
    "    U[1:m+1] = np.linalg.solve(A, F)\n",
    "    \n",
    "    u = exact_U(x, exact_fun)\n",
    "    return np.max(np.abs(U-u)), x, U, u\n",
    "\n",
    "error, x, U, u = FDM_BVP(9, 0, 1, 0, 0, fun, exact_fun)\n",
    "\n",
    "print (\"max norm error: %7.2e\" % error )\n",
    "# let us plot the approximation solution in blue, and the exact solution in red\n",
    "plt.plot(x, u, 'ro-')\n",
    "plt.plot(x, U, 'bo-')"
   ]
  },
  {
   "cell_type": "markdown",
   "metadata": {},
   "source": [
    "### Exercise\n",
    "Considering the 2-point boundary value problem (BVP),\n",
    "$$ u''(x) = \\sin(\\pi x), \\,\\,\\text{for}\\,\\, 0 < x < 1, $$\n",
    "with some given boundary conditions\n",
    "$$ u(0) = 0, \\,\\, u(1) = 0.$$\n",
    "The exact solution for this BVP is $u(x) = -\\frac{1}{\\pi^2}\\sin(\\pi x)$.\n",
    "- Using the finite difference method to solve this problem with $h = 0.1, 0.05, 0.025, 0.0125$ (that is $m = 9, 19, 39, 79$)\n",
    "- Computing the max norm errors, and how does the error change respect to $h$.\n",
    "- Computing the $1$-norm error and the $2$-norm error."
   ]
  },
  {
   "cell_type": "markdown",
   "metadata": {},
   "source": [
    "## Neumann boundary conditions\n",
    "Previously, we considered the Dirchlet boundary conditions, in that case, $U_0$ and $U_{m+1}$ is already known.  Now suppose that we have one or more Neumann boundary conditions instead of Dirichlet boundary conditions, meaning that a boundary condition on the derivative $u'$ is given rather than a condition on the value of $u$ itself. \n",
    "\n",
    "In this section, we consider the second order differential equation\n",
    "$$ u''(x) = \\sin(\\pi x),\\quad\\text{for}\\, 0 < x < 1, $$\n",
    "with one Neumann condition,\n",
    "$$ u'(0) = \\sigma,\\quad u(1) = \\beta. $$"
   ]
  },
  {
   "cell_type": "markdown",
   "metadata": {},
   "source": [
    "### Extend the matrix \n",
    "Before moving to Neumann boundary conditions, let us first extend the finite difference matrix for Drichlet boundary conditions to a more general form. Here, we consider $U_0$ and $U_{m+1}$ are also unknowns, and extend the matrix $A$ from size $m\\times m$ to $(m+2)\\times (m+2)$.  That is, for the interior part, \n",
    "$$\n",
    "    A = \\frac{1}{h^2}\\left[\\begin{array}{cccccccc}\n",
    "    0  &  0 &   &    &   &    & & \\\\\n",
    "    1  & -2 &  1 &    &   &    & &\\\\\n",
    "       &  1 & -2 &  1 &   &    & &\\\\ \n",
    "       &    &  1 & -2 & 1 &    & &\\\\\n",
    "       &    & & \\ddots & \\ddots &\\ddots & &\\\\\n",
    "       &    &    &    & 1 & -2 & 1  &\\\\\n",
    "       &    &    &    &   &  1 & -2 & 1 \\\\\n",
    "       &    &    &    &   &   &  0 & 0\\end{array}\\right],\n",
    "           \\quad\n",
    "   F = \\left[\\begin{array}{c} 0 \\\\ f_1\\\\ f_2 \\\\ f_3 \\\\ \\vdots \\\\ f_{m-1} \\\\ f_m \\\\0\\end{array}\\right]. \n",
    "$$\n",
    "For Dirichlet boundary conditions, we fill the first row with $U_0 = \\alpha$ and the last row with $U_{m+1} = \\beta$, then \n",
    "$$\n",
    "    A = \\frac{1}{h^2}\\left[\\begin{array}{cccccccc}\n",
    "    h^2  &  0 &   &    &   &    & & \\\\\n",
    "    1  & -2 &  1 &    &   &    & &\\\\\n",
    "       &  1 & -2 &  1 &   &    & &\\\\ \n",
    "       &    &  1 & -2 & 1 &    & &\\\\\n",
    "       &    & & \\ddots & \\ddots &\\ddots & &\\\\\n",
    "       &    &    &    & 1 & -2 & 1  &\\\\\n",
    "       &    &    &    &   &  1 & -2 & 1 \\\\\n",
    "       &    &    &    &   &   &  0 & h^2\\end{array}\\right],\n",
    "           \\quad\n",
    "   F = \\left[\\begin{array}{c} \\alpha \\\\ f_1\\\\ f_2 \\\\ f_3 \\\\ \\vdots \\\\ f_{m-1} \\\\ f_m \\\\ \\beta\\end{array}\\right]. \n",
    "$$\n",
    "Let us change the codes according to this extension:"
   ]
  },
  {
   "cell_type": "code",
   "execution_count": 65,
   "metadata": {},
   "outputs": [
    {
     "name": "stdout",
     "output_type": "stream",
     "text": [
      "max norm error: 7.18e-01\n"
     ]
    },
    {
     "data": {
      "text/plain": [
       "[<matplotlib.lines.Line2D at 0x61f0a81d0>]"
      ]
     },
     "execution_count": 65,
     "metadata": {},
     "output_type": "execute_result"
    },
    {
     "data": {
      "image/png": "[encoded data removed]",
      "text/plain": [
       "<matplotlib.figure.Figure at 0x61f0a85f8>"
      ]
     },
     "metadata": {},
     "output_type": "display_data"
    }
   ],
   "source": [
    "def generate_A_interior(h, m):\n",
    "    A = np.zeros([m+2, m+2])\n",
    "    for i in range(1,m+1):\n",
    "        A[i, i-1] = 1\n",
    "        A[i, i] = -2\n",
    "        A[i, i+1] = 1\n",
    "    #A[1:m+1,1:m+1] = - 2*np.eye(m, m) \n",
    "    #A[ += np.eye(m+2, m+2, -1) + np.eye(m+2, m+2, 1)\n",
    "    return A/h**2\n",
    "\n",
    "def generate_F_interior(h, m, x, fun):\n",
    "    F = np.zeros(m+2)\n",
    "    for i in range(1,m+1):\n",
    "        F[i] = fun(x[i])\n",
    "    return F\n",
    "\n",
    "def Dirichlet_bc(A, F, alpha, beta, h):\n",
    "    A[0,0] = 1\n",
    "    A[-1,-1] = 1\n",
    "    F[0] = alpha\n",
    "    F[-1] = beta\n",
    "    return A, F\n",
    "\n",
    "def FDM_BVP2(m, left, right, alpha, beta, bc, fun, exact_fun):\n",
    "    # generate the grid\n",
    "    x, h = generate_grid(left, right, m)\n",
    "    #\n",
    "    U = np.zeros(m+2)\n",
    "    # \n",
    "    A = generate_A_interior(h, m)\n",
    "    #print (A)\n",
    "    F = generate_F_interior(h, m, x, fun)\n",
    "    #print (F)\n",
    "    # bc\n",
    "    A, F = bc(A, F, alpha, beta, h)\n",
    "    #print (A)\n",
    "    #print (F)\n",
    "    U = np.linalg.solve(A, F)\n",
    "    \n",
    "    u = exact_U(x, exact_fun)\n",
    "    return np.max(np.abs(U-u)), x, U, u\n",
    "\n",
    "error, x, U, u = FDM_BVP2(9, 0, 1, 0, 0, Dirichlet_bc, fun, exact_fun)\n",
    "\n",
    "print (\"max norm error: %7.2e\" % error )\n",
    "# let us plot the approximation solution in blue, and the exact solution in red\n",
    "plt.plot(x, u, 'ro-')\n",
    "plt.plot(x, U, 'bo-')"
   ]
  },
  {
   "cell_type": "code",
   "execution_count": 66,
   "metadata": {},
   "outputs": [
    {
     "name": "stdout",
     "output_type": "stream",
     "text": [
      "   h      max error   order  \n",
      "1.00e-01  7.18e-01\n",
      "5.00e-02  7.18e-01    -0.00\n",
      "2.50e-02  7.18e-01    -0.00\n",
      "1.25e-02  7.18e-01    -0.00\n"
     ]
    }
   ],
   "source": [
    "# numerically verify the accuracy order\n",
    "levels = 4\n",
    "m = np.array([9, 19, 39, 79], int)\n",
    "err_max = np.zeros(levels)\n",
    "print ('   h      max error   order  ')\n",
    "for i in range (levels):\n",
    "    err_max[i],_,_,_ = FDM_BVP2(m[i], 0, 1, 0, 0, Dirichlet_bc, fun, exact_fun)\n",
    "    if (i == 0):\n",
    "        print ('%7.2e  %7.2e' % (1/(m[i]+1), err_max[i]))\n",
    "    else:\n",
    "        print ('%7.2e  %7.2e    %4.2f' % (1/(m[i]+1), err_max[i], \\\n",
    "                                        np.log(err_max[i-1]/err_max[i])/np.log((m[i]+1)/(m[i-1]+1))))"
   ]
  },
  {
   "cell_type": "markdown",
   "metadata": {},
   "source": [
    "### Neumann boundary conditions "
   ]
  },
  {
   "cell_type": "code",
   "execution_count": 67,
   "metadata": {},
   "outputs": [],
   "source": [
    "def Neumann_bc1(A, F, alpha, beta, h):\n",
    "    A[0,0] = -1/h\n",
    "    A[0,1] = 1/h\n",
    "    A[-1,-1] = 1\n",
    "    F[0] = alpha\n",
    "    F[-1] = beta\n",
    "    return A, F\n",
    "\n",
    "def Neumann_bc2(A, F, alpha, beta, h):\n",
    "    #A[0,0] = \n",
    "    #A[0,1] = \n",
    "    A[-1,-1] = h**2\n",
    "    #F[0] = \n",
    "    F[-1] = beta\n",
    "    return A, F\n",
    "\n",
    "def Neumann_bc3(A, F, alpha, beta, h):\n",
    "    #A[0,0] = \n",
    "    #A[0,1] = \n",
    "    A[-1,-1] = h**2\n",
    "    #F[0] = \n",
    "    F[-1] = beta\n",
    "    return A, F"
   ]
  },
  {
   "cell_type": "markdown",
   "metadata": {},
   "source": [
    "Considering the ODE,\n",
    "$$ u''(x) = e^x, \\,\\,\\text{for}\\,\\, 0 < x < 1, $$\n",
    "with some given boundary conditions\n",
    "$$ u'(0) = 0, \\,\\, u(1) = 0.$$\n",
    "The exact solution for this problem is $u(x) = ?$.\n",
    "- Using the finite difference method to solve this problem with $h = 0.1, 0.05, 0.025, 0.0125$ (that is $m = 9, 19, 39, 79$) with different approachs for the Neumann boundary conditions\n",
    "- Computing the max norm errors, and how does the error change respect to $h$.\n",
    "- Computing the $1$-norm error and the $2$-norm error."
   ]
  },
  {
   "cell_type": "code",
   "execution_count": 68,
   "metadata": {},
   "outputs": [
    {
     "name": "stdout",
     "output_type": "stream",
     "text": [
      "max norm error: 5.23e-02\n"
     ]
    },
    {
     "data": {
      "text/plain": [
       "[<matplotlib.lines.Line2D at 0x61f0c8cc0>]"
      ]
     },
     "execution_count": 68,
     "metadata": {},
     "output_type": "execute_result"
    },
    {
     "data": {
      "image/png": "[encoded data removed]",
      "text/plain": [
       "<matplotlib.figure.Figure at 0x61f0c85f8>"
      ]
     },
     "metadata": {},
     "output_type": "display_data"
    }
   ],
   "source": [
    "def fun(x):\n",
    "    return np.exp(x)\n",
    "\n",
    "def exact_fun(x):\n",
    "    return np.exp(x) - x + 1 - np.e\n",
    "\n",
    "error, x, U, u = FDM_BVP2(9, 0, 1, 0, 0, Neumann_bc1, fun, exact_fun)\n",
    "\n",
    "print (\"max norm error: %7.2e\" % error )\n",
    "# let us plot the approximation solution in blue, and the exact solution in red\n",
    "plt.plot(x, u, 'ro-')\n",
    "plt.plot(x, U, 'bo-')"
   ]
  },
  {
   "cell_type": "code",
   "execution_count": 69,
   "metadata": {},
   "outputs": [
    {
     "name": "stdout",
     "output_type": "stream",
     "text": [
      "   h      max error   order  \n",
      "1.00e-01  5.23e-02\n",
      "5.00e-02  2.56e-02    1.03\n",
      "2.50e-02  1.26e-02    1.02\n",
      "1.25e-02  6.29e-03    1.01\n"
     ]
    }
   ],
   "source": [
    "levels = 4\n",
    "m = np.array([9, 19, 39, 79], int)\n",
    "err_max = np.zeros(levels)\n",
    "print ('   h      max error   order  ')\n",
    "for i in range (levels):\n",
    "    err_max[i],_,_,_ = FDM_BVP2(m[i], 0, 1, 0, 0, Neumann_bc1, fun, exact_fun)\n",
    "    if (i == 0):\n",
    "        print ('%7.2e  %7.2e' % (1/(m[i]+1), err_max[i]))\n",
    "    else:\n",
    "        print ('%7.2e  %7.2e    %4.2f' % (1/(m[i]+1), err_max[i], \\\n",
    "                                        np.log(err_max[i-1]/err_max[i])/np.log((m[i]+1)/(m[i-1]+1))))"
   ]
  },
  {
   "cell_type": "code",
   "execution_count": null,
   "metadata": {},
   "outputs": [],
   "source": []
  }
 ],
 "metadata": {
  "kernelspec": {
   "display_name": "Python 3",
   "language": "python",
   "name": "python3"
  },
  "language_info": {
   "codemirror_mode": {
    "name": "ipython",
    "version": 3
   },
   "file_extension": ".py",
   "mimetype": "text/x-python",
   "name": "python",
   "nbconvert_exporter": "python",
   "pygments_lexer": "ipython3",
   "version": "3.6.4"
  },
  "toc": {
   "base_numbering": 1,
   "nav_menu": {},
   "number_sections": true,
   "sideBar": true,
   "skip_h1_title": false,
   "title_cell": "Table of Contents",
   "title_sidebar": "Contents",
   "toc_cell": false,
   "toc_position": {},
   "toc_section_display": true,
   "toc_window_display": false
  }
 },
 "nbformat": 4,
 "nbformat_minor": 2
}
