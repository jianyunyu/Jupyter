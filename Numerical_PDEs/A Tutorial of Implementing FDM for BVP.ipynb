{
 "cells": [
  {
   "cell_type": "markdown",
   "metadata": {},
   "source": [
    "# A Tutorial of Implementing FDM for BVP\n",
    "\n",
    "## The Boundary Value Problem\n",
    "As a first example, we consider the following 2-point boundary value problem (BVP)\n",
    "$$ u''(x) = f(x), \\,\\,\\text{for}\\,\\, 0 < x < 1, $$\n",
    "with the given boundary conditions:\n",
    "$$ u(0) = \\alpha,\\,\\, u(1) = \\beta.$$"
   ]
  },
  {
   "cell_type": "markdown",
   "metadata": {},
   "source": [
    "### The very first step\n",
    "\n",
    "The goal is to compute the function $u(x)$ by computer.  Generally, in computing science, a function is described as a grid function.\n",
    "\n",
    "For 1D, we need compute the function on grid points $x_0, x_1, \\ldots, x_m, x_{m+1}$, where $x_j = jh$ and $h = 1/(m+1)$ is the _mesh size_.  For convenice, we denote $U_j$ is the numerical approximation to the solution $u(x_j)$.\n",
    "\n",
    "* a function to generate the grid"
   ]
  },
  {
   "cell_type": "code",
   "execution_count": 1,
   "metadata": {},
   "outputs": [],
   "source": [
    "%matplotlib inline\n",
    "\n",
    "import numpy as np\n",
    "import scipy.linalg as slinalg\n",
    "\n",
    "import matplotlib.pyplot as plt"
   ]
  },
  {
   "cell_type": "code",
   "execution_count": 6,
   "metadata": {},
   "outputs": [
    {
     "name": "stdout",
     "output_type": "stream",
     "text": [
      "[0.  0.1 0.2 0.3 0.4 0.5 0.6 0.7 0.8 0.9 1. ]\n",
      "0.1\n"
     ]
    }
   ],
   "source": [
    "m = 19\n",
    "x = np.linspace(0, 1, m+2)\n",
    "def generate_grid(left, right, m):\n",
    "    h = (right - left)/(m+1)\n",
    "    x = np.empty(m+2)\n",
    "    for j in range(m+2):\n",
    "        x[j] = j*h\n",
    "    return x, h\n",
    "\n",
    "x, h = generate_grid(0, 1, 9)\n",
    "print (x)\n",
    "print (h)"
   ]
  },
  {
   "cell_type": "markdown",
   "metadata": {},
   "source": [
    "* plot a function $f(x) = \\sin(2\\pi x)$ with $0 \\leq x \\leq 1$"
   ]
  },
  {
   "cell_type": "code",
   "execution_count": 10,
   "metadata": {},
   "outputs": [
    {
     "data": {
      "text/plain": [
       "[<matplotlib.lines.Line2D at 0x11e351400>]"
      ]
     },
     "execution_count": 10,
     "metadata": {},
     "output_type": "execute_result"
    },
    {
     "data": {
      "image/png": "[encoded data removed]",
      "text/plain": [
       "<Figure size 432x288 with 1 Axes>"
      ]
     },
     "metadata": {
      "needs_background": "light"
     },
     "output_type": "display_data"
    }
   ],
   "source": [
    "m = 19\n",
    "x, h = generate_grid(0, 1, m)\n",
    "#print (x)\n",
    "f = np.sin(2*np.pi*x)\n",
    "#print (f)\n",
    "\n",
    "plt.plot(x, f, 'o-')"
   ]
  },
  {
   "cell_type": "markdown",
   "metadata": {},
   "source": [
    "## A simple finite difference method\n",
    "\n",
    "### Boundary conditions \n",
    "The boundary conditions are \n",
    "$$ u(0) = \\alpha,\\,\\, u(1) = \\beta,$$\n",
    "therefore, we know that \n",
    "$$U_0 = \\alpha, \\,\\, U_{m+1} = \\beta.$$"
   ]
  },
  {
   "cell_type": "markdown",
   "metadata": {},
   "source": [
    "### Finite difference scheme\n",
    "We need to replace $u''(x)$ in the BVP by the centered difference approximation\n",
    "$$ D^2 U_j = \\frac{1}{h^2}\\left(U_{j-1} - 2U_j + U_{j+1}\\right).$$\n",
    "Then, we obtain a system of linear equations \n",
    "$$ \\frac{1}{h^2}\\left(U_{j-1} - 2U_j + U_{j+1}\\right) = f(x_j) = f_j \\quad\\text{for}\\,\\, j = 1, \\ldots, m.$$"
   ]
  },
  {
   "cell_type": "markdown",
   "metadata": {},
   "source": [
    "WE can rewrite it in the matrix form \n",
    "$$AU = F,$$\n",
    "where $U$ is the vector of unknowns $U = [U_1, U_2, \\ldots, U_m]^T$ and \n",
    "$$\n",
    "A  = \\frac{1}{h^2}\\left[\\begin{array}{cccccc}\n",
    "        -2 & 1 & & & & \\\\\n",
    "        1 & -2 & 1 &&&\\\\\n",
    "        & 1 & -2 & 1 && \\\\\n",
    "        & & \\ddots & \\ddots & \\ddots & \\\\\n",
    "        & & & 1 & -2 & 1 \\\\\n",
    "        & & & & 1 & -2 \\end{array}\\right],\n",
    "        \\quad\n",
    "F  = \\left[\\begin{array}{c} f_1 - \\frac{\\alpha}{h^2} \\\\ f_2 \\\\ f_3 \\\\ \\vdots \\\\ f_{m-1} \\\\ f_m - \\frac{\\beta}{h^2}\\end{array}\\right].\n",
    "$$"
   ]
  },
  {
   "cell_type": "markdown",
   "metadata": {},
   "source": [
    "* generate the matrix $A$"
   ]
  },
  {
   "cell_type": "code",
   "execution_count": 21,
   "metadata": {},
   "outputs": [],
   "source": [
    "def generate_A(h, m):\n",
    "    #A = -2*np.eye(m, m) + np.eye(m, m, -1) + np.eye(m, m, 1)\n",
    "    A = np.zeros([m,m])\n",
    "    for i in range(m):\n",
    "        if (i == 0):\n",
    "            A[i,i] = -2\n",
    "            A[i,i+1] = 1\n",
    "        elif (i == m-1):\n",
    "            A[i,i-1] = 1\n",
    "            A[i,i] = -2\n",
    "        else:\n",
    "            A[i,i-1] =1\n",
    "            A[i,i] = -2\n",
    "            A[i,i+1] = 1\n",
    "    return A/h**2\n"
   ]
  },
  {
   "cell_type": "markdown",
   "metadata": {},
   "source": [
    "* The right-hand side vector $F$"
   ]
  },
  {
   "cell_type": "code",
   "execution_count": 15,
   "metadata": {},
   "outputs": [
    {
     "name": "stdout",
     "output_type": "stream",
     "text": [
      "[0.  0.1 0.2 0.3 0.4 0.5 0.6 0.7 0.8 0.9 1. ] 0.1\n",
      "[-99.9   0.2   0.3   0.4   0.5   0.6   0.7   0.8 -99.1]\n"
     ]
    }
   ],
   "source": [
    "def generate_F(h, m, x, alpha, beta, fun):\n",
    "    F = np.empty(m)\n",
    "    for i in range(m):\n",
    "        if (i == 0):\n",
    "            F[i] = fun(x[i]) - alpha/h**2\n",
    "        elif (i == m-1):\n",
    "            F[i] = fun(x[i]) - beta/h**2\n",
    "        else:\n",
    "            F[i] = fun(x[i])\n",
    "    return F\n",
    "\n",
    "def fun0(x):\n",
    "    return x\n",
    "\n",
    "m = 9\n",
    "x, h = generate_grid(0, 1, m)\n",
    "print (x, h)\n",
    "\n",
    "F = generate_F(h, m, x[1:m+1], 1, 1, fun0)\n",
    "print (F)"
   ]
  },
  {
   "cell_type": "markdown",
   "metadata": {},
   "source": [
    "* put every thing together to solve an example problem with: \n",
    "$$ f(x) = \\sin(\\pi x),\\,\\, \\alpha = 0,\\,\\, \\beta = 0.$$\n"
   ]
  },
  {
   "cell_type": "code",
   "execution_count": 26,
   "metadata": {},
   "outputs": [
    {
     "name": "stdout",
     "output_type": "stream",
     "text": [
      "[0.  0.1 0.2 0.3 0.4 0.5 0.6 0.7 0.8 0.9 1. ]\n",
      "[[-200.  100.    0.    0.    0.    0.    0.    0.    0.]\n",
      " [ 100. -200.  100.    0.    0.    0.    0.    0.    0.]\n",
      " [   0.  100. -200.  100.    0.    0.    0.    0.    0.]\n",
      " [   0.    0.  100. -200.  100.    0.    0.    0.    0.]\n",
      " [   0.    0.    0.  100. -200.  100.    0.    0.    0.]\n",
      " [   0.    0.    0.    0.  100. -200.  100.    0.    0.]\n",
      " [   0.    0.    0.    0.    0.  100. -200.  100.    0.]\n",
      " [   0.    0.    0.    0.    0.    0.  100. -200.  100.]\n",
      " [   0.    0.    0.    0.    0.    0.    0.  100. -200.]]\n",
      "[0.30901699 0.58778525 0.80901699 0.95105652 1.         0.95105652\n",
      " 0.80901699 0.58778525 0.30901699]\n",
      "solution:  [ 0.         -0.03156876 -0.06004735 -0.08264808 -0.09715865 -0.10215865\n",
      " -0.09715865 -0.08264808 -0.06004735 -0.03156876  0.        ]\n"
     ]
    },
    {
     "data": {
      "text/plain": [
       "[<matplotlib.lines.Line2D at 0x11e5d95f8>]"
      ]
     },
     "execution_count": 26,
     "metadata": {},
     "output_type": "execute_result"
    },
    {
     "data": {
      "image/png": "[encoded data removed]",
      "text/plain": [
       "<Figure size 432x288 with 1 Axes>"
      ]
     },
     "metadata": {
      "needs_background": "light"
     },
     "output_type": "display_data"
    }
   ],
   "source": [
    "def fun(x):\n",
    "    return np.sin(np.pi*x)\n",
    "\n",
    "m = 9\n",
    "x, h = generate_grid(0, 1, m)\n",
    "print (x)\n",
    "A = generate_A(h, m)\n",
    "print (A)\n",
    "F = generate_F(h, 9, x[1:m+1], 0, 0, fun)\n",
    "print (F)\n",
    "U = np.empty(np.size(x))\n",
    "U[0] = 0; U[m+1] = 0\n",
    "U[1:m+1] = np.linalg.solve(A, F)\n",
    "print (\"solution: \", U)\n",
    "\n",
    "plt.plot(x, U, 'o-')"
   ]
  },
  {
   "cell_type": "code",
   "execution_count": 27,
   "metadata": {},
   "outputs": [
    {
     "name": "stdout",
     "output_type": "stream",
     "text": [
      "exact:  [-0.00000000e+00 -3.13099676e-02 -5.95550975e-02 -8.19705595e-02\n",
      " -9.63621719e-02 -1.01321184e-01 -9.63621719e-02 -8.19705595e-02\n",
      " -5.95550975e-02 -3.13099676e-02 -1.24082663e-17]\n"
     ]
    },
    {
     "data": {
      "text/plain": [
       "[<matplotlib.lines.Line2D at 0x11e638160>]"
      ]
     },
     "execution_count": 27,
     "metadata": {},
     "output_type": "execute_result"
    },
    {
     "data": {
      "image/png": "[encoded data removed]",
      "text/plain": [
       "<Figure size 432x288 with 1 Axes>"
      ]
     },
     "metadata": {
      "needs_background": "light"
     },
     "output_type": "display_data"
    }
   ],
   "source": [
    "def exact_fun(x):\n",
    "    return -1/np.pi**2*np.sin(np.pi*x)\n",
    "\n",
    "def exact_U(x, exact_fun):\n",
    "    exact_U = np.empty(np.size(x))\n",
    "    for i in range(np.size(x)):\n",
    "        exact_U[i] = exact_fun(x[i])\n",
    "    return exact_U\n",
    "\n",
    "U_hat = exact_U(x, exact_fun)\n",
    "print (\"exact: \", U_hat)\n",
    "\n",
    "plt.plot(x, U_hat, 'ro-')"
   ]
  },
  {
   "cell_type": "code",
   "execution_count": 28,
   "metadata": {},
   "outputs": [
    {
     "name": "stdout",
     "output_type": "stream",
     "text": [
      "[ 0.00000000e+00 -2.58789938e-04 -4.92247713e-04 -6.77520853e-04\n",
      " -7.96473531e-04 -8.37461830e-04 -7.96473531e-04 -6.77520853e-04\n",
      " -4.92247713e-04 -2.58789938e-04  1.24082663e-17]\n",
      "Max norm:  0.0008374618303157583\n"
     ]
    }
   ],
   "source": [
    "error = U - U_hat\n",
    "print (error)\n",
    "print (\"Max norm: \", np.max(np.abs(error)))"
   ]
  },
  {
   "cell_type": "code",
   "execution_count": 29,
   "metadata": {},
   "outputs": [
    {
     "data": {
      "text/plain": [
       "[<matplotlib.lines.Line2D at 0x11e6caf60>]"
      ]
     },
     "execution_count": 29,
     "metadata": {},
     "output_type": "execute_result"
    },
    {
     "data": {
      "image/png": "[encoded data removed]",
      "text/plain": [
       "<Figure size 432x288 with 1 Axes>"
      ]
     },
     "metadata": {
      "needs_background": "light"
     },
     "output_type": "display_data"
    }
   ],
   "source": [
    "plt.plot(x, U_hat, 'ro-')\n",
    "plt.plot(x, U, 'bo-')"
   ]
  },
  {
   "cell_type": "markdown",
   "metadata": {},
   "source": [
    "* Rewrite the process as a FDM solver"
   ]
  },
  {
   "cell_type": "code",
   "execution_count": 31,
   "metadata": {},
   "outputs": [
    {
     "name": "stdout",
     "output_type": "stream",
     "text": [
      "max norm error: 8.37e-04\n"
     ]
    },
    {
     "data": {
      "text/plain": [
       "[<matplotlib.lines.Line2D at 0x11e795780>]"
      ]
     },
     "execution_count": 31,
     "metadata": {},
     "output_type": "execute_result"
    },
    {
     "data": {
      "image/png": "[encoded data removed]",
      "text/plain": [
       "<Figure size 432x288 with 1 Axes>"
      ]
     },
     "metadata": {
      "needs_background": "light"
     },
     "output_type": "display_data"
    }
   ],
   "source": [
    "def FDM_BVP(m, left, right, alpha, beta , fun, exact_fun):\n",
    "    # generate the grid\n",
    "    x, h = generate_grid(0, 1, m)\n",
    "\n",
    "    #\n",
    "    U = np.empty(np.size(x))\n",
    "    U[0] = 0; U[m+1] = 0\n",
    "    \n",
    "    #\n",
    "    A = generate_A(h, m)\n",
    "    F = generate_F(h, 9, x[1:m+1], 0, 0, fun)\n",
    "\n",
    "    U[1:m+1] = np.linalg.solve(A, F)\n",
    "    \n",
    "    U_hat = exact_U(x, exact_fun)\n",
    "    error = U - U_hat\n",
    "    return np.max(np.abs(error)), x, U, U_hat \n",
    "\n",
    "erri, x, U, U_hat = FDM_BVP(9, 0, 1, 0, 0, fun, exact_fun)\n",
    "\n",
    "print (\"max norm error: %7.2e\" % erri)\n",
    "\n",
    "plt.plot(x, U_hat, 'ro-')\n",
    "plt.plot(x, U, 'bo-')"
   ]
  },
  {
   "cell_type": "code",
   "execution_count": null,
   "metadata": {},
   "outputs": [],
   "source": []
  }
 ],
 "metadata": {
  "kernelspec": {
   "display_name": "Python 3",
   "language": "python",
   "name": "python3"
  },
  "language_info": {
   "codemirror_mode": {
    "name": "ipython",
    "version": 3
   },
   "file_extension": ".py",
   "mimetype": "text/x-python",
   "name": "python",
   "nbconvert_exporter": "python",
   "pygments_lexer": "ipython3",
   "version": "3.7.3"
  }
 },
 "nbformat": 4,
 "nbformat_minor": 2
}
