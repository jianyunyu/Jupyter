{
 "cells": [
  {
   "cell_type": "markdown",
   "metadata": {},
   "source": [
    "# Finite Difference Approximation"
   ]
  },
  {
   "cell_type": "code",
   "execution_count": 140,
   "metadata": {},
   "outputs": [],
   "source": [
    "from sympy import *\n",
    "init_printing()"
   ]
  },
  {
   "cell_type": "code",
   "execution_count": 141,
   "metadata": {},
   "outputs": [
    {
     "data": {
      "image/png": "[encoded data removed]",
      "text/latex": [
       "$$\\sin{\\left (y \\right )} + \\left(x - y\\right) \\cos{\\left (y \\right )} - \\frac{1}{2} \\left(x - y\\right)^{2} \\sin{\\left (y \\right )} - \\frac{1}{6} \\left(x - y\\right)^{3} \\cos{\\left (y \\right )} + \\frac{1}{24} \\left(x - y\\right)^{4} \\sin{\\left (y \\right )} + \\frac{1}{120} \\left(x - y\\right)^{5} \\cos{\\left (y \\right )} - \\frac{1}{720} \\left(x - y\\right)^{6} \\sin{\\left (y \\right )} - \\frac{1}{5040} \\left(x - y\\right)^{7} \\cos{\\left (y \\right )} + \\mathcal{O}\\left(\\left(x - y\\right)^{8}; x\\rightarrow y\\right)$$"
      ],
      "text/plain": [
       "                                 2                 3                 4        \n",
       "                          (x - y) ⋅sin(y)   (x - y) ⋅cos(y)   (x - y) ⋅sin(y) \n",
       "sin(y) + (x - y)⋅cos(y) - ─────────────── - ─────────────── + ─────────────── \n",
       "                                 2                 6                 24       \n",
       "\n",
       "         5                 6                 7                            \n",
       "  (x - y) ⋅cos(y)   (x - y) ⋅sin(y)   (x - y) ⋅cos(y)    ⎛       8       ⎞\n",
       "+ ─────────────── - ─────────────── - ─────────────── + O⎝(x - y) ; x → y⎠\n",
       "        120               720               5040                          "
      ]
     },
     "execution_count": 141,
     "metadata": {},
     "output_type": "execute_result"
    }
   ],
   "source": [
    "x, y = symbols('x, y')\n",
    "sin(x).series(x,y,8)"
   ]
  },
  {
   "cell_type": "code",
   "execution_count": 142,
   "metadata": {},
   "outputs": [],
   "source": [
    "x = symbols('x_0:10')"
   ]
  },
  {
   "cell_type": "code",
   "execution_count": 143,
   "metadata": {},
   "outputs": [
    {
     "data": {
      "image/png": "[encoded data removed]",
      "text/latex": [
       "$$\\sin{\\left (x_{0} \\right )} + \\left(- x_{0} + x_{1}\\right) \\cos{\\left (x_{0} \\right )} - \\frac{1}{2} \\left(- x_{0} + x_{1}\\right)^{2} \\sin{\\left (x_{0} \\right )} - \\frac{1}{6} \\left(- x_{0} + x_{1}\\right)^{3} \\cos{\\left (x_{0} \\right )} + \\frac{1}{24} \\left(- x_{0} + x_{1}\\right)^{4} \\sin{\\left (x_{0} \\right )} + \\frac{1}{120} \\left(- x_{0} + x_{1}\\right)^{5} \\cos{\\left (x_{0} \\right )} - \\frac{1}{720} \\left(- x_{0} + x_{1}\\right)^{6} \\sin{\\left (x_{0} \\right )} - \\frac{1}{5040} \\left(- x_{0} + x_{1}\\right)^{7} \\cos{\\left (x_{0} \\right )} + \\mathcal{O}\\left(\\left(- x_{0} + x_{1}\\right)^{8}; x_{1}\\rightarrow x_{0}\\right)$$"
      ],
      "text/plain": [
       "                                         2                     3              \n",
       "                               (-x₀ + x₁) ⋅sin(x₀)   (-x₀ + x₁) ⋅cos(x₀)   (-x\n",
       "sin(x₀) + (-x₀ + x₁)⋅cos(x₀) - ─────────────────── - ─────────────────── + ───\n",
       "                                        2                     6               \n",
       "\n",
       "       4                     5                     6                     7    \n",
       "₀ + x₁) ⋅sin(x₀)   (-x₀ + x₁) ⋅cos(x₀)   (-x₀ + x₁) ⋅sin(x₀)   (-x₀ + x₁) ⋅cos\n",
       "──────────────── + ─────────────────── - ─────────────────── - ───────────────\n",
       "      24                   120                   720                   5040   \n",
       "\n",
       "                              \n",
       "(x₀)    ⎛          8         ⎞\n",
       "──── + O⎝(-x₀ + x₁) ; x₁ → x₀⎠\n",
       "                              "
      ]
     },
     "execution_count": 143,
     "metadata": {},
     "output_type": "execute_result"
    }
   ],
   "source": [
    "sin(x[1]).series(x[1], x[0], 8)"
   ]
  },
  {
   "cell_type": "code",
   "execution_count": 144,
   "metadata": {},
   "outputs": [],
   "source": [
    "f = Function(\"f\")"
   ]
  },
  {
   "cell_type": "code",
   "execution_count": 145,
   "metadata": {},
   "outputs": [
    {
     "data": {
      "image/png": "[encoded data removed]",
      "text/latex": [
       "$$f{\\left (x_{0} \\right )} + \\left(- x_{0} + x_{1}\\right) \\left. \\frac{d}{d \\xi_{1}} f{\\left (\\xi_{1} \\right )} \\right|_{\\substack{ \\xi_{1}=x_{0} }} + \\frac{1}{2} \\left(- x_{0} + x_{1}\\right)^{2} \\left. \\frac{d^{2}}{d \\xi_{1}^{2}}  f{\\left (\\xi_{1} \\right )} \\right|_{\\substack{ \\xi_{1}=x_{0} }} + \\frac{1}{6} \\left(- x_{0} + x_{1}\\right)^{3} \\left. \\frac{d^{3}}{d \\xi_{1}^{3}}  f{\\left (\\xi_{1} \\right )} \\right|_{\\substack{ \\xi_{1}=x_{0} }} + \\frac{1}{24} \\left(- x_{0} + x_{1}\\right)^{4} \\left. \\frac{d^{4}}{d \\xi_{1}^{4}}  f{\\left (\\xi_{1} \\right )} \\right|_{\\substack{ \\xi_{1}=x_{0} }} + \\frac{1}{120} \\left(- x_{0} + x_{1}\\right)^{5} \\left. \\frac{d^{5}}{d \\xi_{1}^{5}}  f{\\left (\\xi_{1} \\right )} \\right|_{\\substack{ \\xi_{1}=x_{0} }} + \\frac{1}{720} \\left(- x_{0} + x_{1}\\right)^{6} \\left. \\frac{d^{6}}{d \\xi_{1}^{6}}  f{\\left (\\xi_{1} \\right )} \\right|_{\\substack{ \\xi_{1}=x_{0} }} + \\frac{1}{5040} \\left(- x_{0} + x_{1}\\right)^{7} \\left. \\frac{d^{7}}{d \\xi_{1}^{7}}  f{\\left (\\xi_{1} \\right )} \\right|_{\\substack{ \\xi_{1}=x_{0} }} + \\mathcal{O}\\left(\\left(- x_{0} + x_{1}\\right)^{8}; x_{1}\\rightarrow x_{0}\\right)$$"
      ],
      "text/plain": [
       "                                                    ⎛  2        ⎞│            \n",
       "                                                  2 ⎜ d         ⎟│            \n",
       "                                        (-x₀ + x₁) ⋅⎜────(f(ξ₁))⎟│        (-x₀\n",
       "                                                    ⎜   2       ⎟│            \n",
       "                   ⎛ d        ⎞│                    ⎝dξ₁        ⎠│ξ₁=x₀       \n",
       "f(x₀) + (-x₀ + x₁)⋅⎜───(f(ξ₁))⎟│      + ─────────────────────────────── + ────\n",
       "                   ⎝dξ₁       ⎠│ξ₁=x₀                  2                      \n",
       "\n",
       "        ⎛  3        ⎞│                    ⎛  4        ⎞│                    ⎛ \n",
       "      3 ⎜ d         ⎟│                  4 ⎜ d         ⎟│                  5 ⎜ \n",
       " + x₁) ⋅⎜────(f(ξ₁))⎟│        (-x₀ + x₁) ⋅⎜────(f(ξ₁))⎟│        (-x₀ + x₁) ⋅⎜─\n",
       "        ⎜   3       ⎟│                    ⎜   4       ⎟│                    ⎜ \n",
       "        ⎝dξ₁        ⎠│ξ₁=x₀               ⎝dξ₁        ⎠│ξ₁=x₀               ⎝d\n",
       "─────────────────────────── + ─────────────────────────────── + ──────────────\n",
       "           6                                 24                               \n",
       "\n",
       " 5        ⎞│                    ⎛  6        ⎞│                    ⎛  7        \n",
       "d         ⎟│                  6 ⎜ d         ⎟│                  7 ⎜ d         \n",
       "───(f(ξ₁))⎟│        (-x₀ + x₁) ⋅⎜────(f(ξ₁))⎟│        (-x₀ + x₁) ⋅⎜────(f(ξ₁))\n",
       "  5       ⎟│                    ⎜   6       ⎟│                    ⎜   7       \n",
       "ξ₁        ⎠│ξ₁=x₀               ⎝dξ₁        ⎠│ξ₁=x₀               ⎝dξ₁        \n",
       "───────────────── + ─────────────────────────────── + ────────────────────────\n",
       "120                               720                               5040      \n",
       "\n",
       "⎞│                               \n",
       "⎟│                               \n",
       "⎟│                               \n",
       "⎟│                               \n",
       "⎠│ξ₁=x₀    ⎛          8         ⎞\n",
       "─────── + O⎝(-x₀ + x₁) ; x₁ → x₀⎠\n",
       "                                 "
      ]
     },
     "execution_count": 145,
     "metadata": {},
     "output_type": "execute_result"
    }
   ],
   "source": [
    "f(x[1]).series(x[1], x[0], 8)"
   ]
  },
  {
   "cell_type": "code",
   "execution_count": 146,
   "metadata": {},
   "outputs": [],
   "source": [
    "x_star = symbols('x_*')"
   ]
  },
  {
   "cell_type": "code",
   "execution_count": 147,
   "metadata": {},
   "outputs": [
    {
     "data": {
      "image/png": "[encoded data removed]",
      "text/latex": [
       "$$x_{*}$$"
      ],
      "text/plain": [
       "x_*"
      ]
     },
     "execution_count": 147,
     "metadata": {},
     "output_type": "execute_result"
    }
   ],
   "source": [
    "x_star"
   ]
  },
  {
   "cell_type": "code",
   "execution_count": 148,
   "metadata": {},
   "outputs": [],
   "source": [
    "M = zeros(2, 3)"
   ]
  },
  {
   "cell_type": "code",
   "execution_count": 149,
   "metadata": {},
   "outputs": [
    {
     "data": {
      "image/png": "[encoded data removed]",
      "text/latex": [
       "$$0$$"
      ],
      "text/plain": [
       "0"
      ]
     },
     "execution_count": 149,
     "metadata": {},
     "output_type": "execute_result"
    }
   ],
   "source": [
    "M[0,1]"
   ]
  },
  {
   "cell_type": "code",
   "execution_count": 150,
   "metadata": {},
   "outputs": [],
   "source": [
    "for i in range(3):\n",
    "    M[0,i] = (x[1] - x[0])**i"
   ]
  },
  {
   "cell_type": "code",
   "execution_count": 151,
   "metadata": {},
   "outputs": [
    {
     "data": {
      "image/png": "[encoded data removed]",
      "text/latex": [
       "$$\\left[\\begin{matrix}1 & - x_{0} + x_{1} & \\left(- x_{0} + x_{1}\\right)^{2}\\\\0 & 0 & 0\\end{matrix}\\right]$$"
      ],
      "text/plain": [
       "⎡                       2⎤\n",
       "⎢1  -x₀ + x₁  (-x₀ + x₁) ⎥\n",
       "⎢                        ⎥\n",
       "⎣0     0           0     ⎦"
      ]
     },
     "execution_count": 151,
     "metadata": {},
     "output_type": "execute_result"
    }
   ],
   "source": [
    "M"
   ]
  },
  {
   "cell_type": "code",
   "execution_count": 152,
   "metadata": {},
   "outputs": [],
   "source": [
    "m = 5"
   ]
  },
  {
   "cell_type": "code",
   "execution_count": 153,
   "metadata": {},
   "outputs": [],
   "source": [
    "m = symbols('m')"
   ]
  },
  {
   "cell_type": "code",
   "execution_count": 154,
   "metadata": {},
   "outputs": [],
   "source": [
    "x = symbols('x_0:8.')"
   ]
  },
  {
   "cell_type": "code",
   "execution_count": 155,
   "metadata": {},
   "outputs": [
    {
     "data": {
      "image/png": "[encoded data removed]",
      "text/latex": [
       "$$\\left ( x_{0.}, \\quad x_{1.}, \\quad x_{2.}, \\quad x_{3.}, \\quad x_{4.}, \\quad x_{5.}, \\quad x_{6.}, \\quad x_{7.}\\right )$$"
      ],
      "text/plain": [
       "(x_0., x_1., x_2., x_3., x_4., x_5., x_6., x_7.)"
      ]
     },
     "execution_count": 155,
     "metadata": {},
     "output_type": "execute_result"
    }
   ],
   "source": [
    "x"
   ]
  },
  {
   "cell_type": "code",
   "execution_count": 156,
   "metadata": {},
   "outputs": [],
   "source": [
    "a = 5"
   ]
  },
  {
   "cell_type": "code",
   "execution_count": 157,
   "metadata": {},
   "outputs": [],
   "source": [
    "x = symbols('x_0:a')"
   ]
  },
  {
   "cell_type": "code",
   "execution_count": 158,
   "metadata": {},
   "outputs": [
    {
     "data": {
      "image/png": "[encoded data removed]",
      "text/latex": [
       "$$\\left ( x_{0a}\\right )$$"
      ],
      "text/plain": [
       "(x₀ₐ,)"
      ]
     },
     "execution_count": 158,
     "metadata": {},
     "output_type": "execute_result"
    }
   ],
   "source": [
    "x"
   ]
  },
  {
   "cell_type": "code",
   "execution_count": 159,
   "metadata": {},
   "outputs": [
    {
     "name": "stdout",
     "output_type": "stream",
     "text": [
      "5\n"
     ]
    }
   ],
   "source": [
    "print (a)"
   ]
  },
  {
   "cell_type": "code",
   "execution_count": 160,
   "metadata": {},
   "outputs": [],
   "source": [
    "def m():\n",
    "    return m"
   ]
  },
  {
   "cell_type": "code",
   "execution_count": 161,
   "metadata": {},
   "outputs": [
    {
     "data": {
      "text/plain": [
       "<function __main__.m>"
      ]
     },
     "execution_count": 161,
     "metadata": {},
     "output_type": "execute_result"
    }
   ],
   "source": [
    "m"
   ]
  },
  {
   "cell_type": "code",
   "execution_count": 162,
   "metadata": {},
   "outputs": [],
   "source": [
    "def value(m):\n",
    "    return m"
   ]
  },
  {
   "cell_type": "code",
   "execution_count": 163,
   "metadata": {},
   "outputs": [
    {
     "data": {
      "image/png": "[encoded data removed]",
      "text/latex": [
       "$$5$$"
      ],
      "text/plain": [
       "5"
      ]
     },
     "execution_count": 163,
     "metadata": {},
     "output_type": "execute_result"
    }
   ],
   "source": [
    "a"
   ]
  },
  {
   "cell_type": "code",
   "execution_count": 164,
   "metadata": {},
   "outputs": [
    {
     "data": {
      "image/png": "[encoded data removed]",
      "text/latex": [
       "$$5$$"
      ],
      "text/plain": [
       "5"
      ]
     },
     "execution_count": 164,
     "metadata": {},
     "output_type": "execute_result"
    }
   ],
   "source": [
    "value(a)"
   ]
  },
  {
   "cell_type": "code",
   "execution_count": 165,
   "metadata": {},
   "outputs": [],
   "source": [
    "x = symbols('x_0:a')"
   ]
  },
  {
   "cell_type": "code",
   "execution_count": 166,
   "metadata": {},
   "outputs": [
    {
     "data": {
      "image/png": "[encoded data removed]",
      "text/latex": [
       "$$\\left ( x_{0a}\\right )$$"
      ],
      "text/plain": [
       "(x₀ₐ,)"
      ]
     },
     "execution_count": 166,
     "metadata": {},
     "output_type": "execute_result"
    }
   ],
   "source": [
    "x"
   ]
  },
  {
   "cell_type": "code",
   "execution_count": 167,
   "metadata": {},
   "outputs": [],
   "source": [
    "x = symbols('x_0:value(a)')"
   ]
  },
  {
   "cell_type": "code",
   "execution_count": 168,
   "metadata": {},
   "outputs": [
    {
     "data": {
      "image/png": "[encoded data removed]",
      "text/latex": [
       "$$\\left ( x_{0aalue(a)}, \\quad x_{0balue(a)}, \\quad x_{0calue(a)}, \\quad x_{0dalue(a)}, \\quad x_{0ealue(a)}, \\quad x_{0falue(a)}, \\quad x_{0galue(a)}, \\quad x_{0halue(a)}, \\quad x_{0ialue(a)}, \\quad x_{0jalue(a)}, \\quad x_{0kalue(a)}, \\quad x_{0lalue(a)}, \\quad x_{0malue(a)}, \\quad x_{0nalue(a)}, \\quad x_{0oalue(a)}, \\quad x_{0palue(a)}, \\quad x_{0qalue(a)}, \\quad x_{0ralue(a)}, \\quad x_{0salue(a)}, \\quad x_{0talue(a)}, \\quad x_{0ualue(a)}, \\quad x_{0value(a)}\\right )$$"
      ],
      "text/plain": [
       "(x₀ₐₐₗᵤₑ₍ₐ₎, x_0balue(a), x_0calue(a), x_0dalue(a), x₀ₑₐₗᵤₑ₍ₐ₎, x_0falue(a), x\n",
       "_0galue(a), x₀ₕₐₗᵤₑ₍ₐ₎, x₀ᵢₐₗᵤₑ₍ₐ₎, x_0jalue(a), x₀ₖₐₗᵤₑ₍ₐ₎, x₀ₗₐₗᵤₑ₍ₐ₎, x₀ₘₐₗ\n",
       "ᵤₑ₍ₐ₎, x₀ₙₐₗᵤₑ₍ₐ₎, x₀ₒₐₗᵤₑ₍ₐ₎, x₀ₚₐₗᵤₑ₍ₐ₎, x_0qalue(a), x₀ᵣₐₗᵤₑ₍ₐ₎, x₀ₛₐₗᵤₑ₍ₐ₎\n",
       ", x₀ₜₐₗᵤₑ₍ₐ₎, x₀ᵤₐₗᵤₑ₍ₐ₎, x₀ᵥₐₗᵤₑ₍ₐ₎)"
      ]
     },
     "execution_count": 168,
     "metadata": {},
     "output_type": "execute_result"
    }
   ],
   "source": [
    "x"
   ]
  },
  {
   "cell_type": "code",
   "execution_count": 169,
   "metadata": {},
   "outputs": [],
   "source": [
    "x = symbols('x_0:10')"
   ]
  },
  {
   "cell_type": "code",
   "execution_count": 170,
   "metadata": {},
   "outputs": [
    {
     "data": {
      "image/png": "[encoded data removed]",
      "text/latex": [
       "$$\\left ( x_{0}, \\quad x_{1}, \\quad x_{2}, \\quad x_{3}, \\quad x_{4}, \\quad x_{5}, \\quad x_{6}, \\quad x_{7}, \\quad x_{8}, \\quad x_{9}\\right )$$"
      ],
      "text/plain": [
       "(x₀, x₁, x₂, x₃, x₄, x₅, x₆, x₇, x₈, x₉)"
      ]
     },
     "execution_count": 170,
     "metadata": {},
     "output_type": "execute_result"
    }
   ],
   "source": [
    "x"
   ]
  },
  {
   "cell_type": "code",
   "execution_count": 171,
   "metadata": {},
   "outputs": [],
   "source": [
    "x = symbols('x0:%d'%a)"
   ]
  },
  {
   "cell_type": "code",
   "execution_count": 172,
   "metadata": {},
   "outputs": [
    {
     "data": {
      "image/png": "[encoded data removed]",
      "text/latex": [
       "$$\\left ( x_{0}, \\quad x_{1}, \\quad x_{2}, \\quad x_{3}, \\quad x_{4}\\right )$$"
      ],
      "text/plain": [
       "(x₀, x₁, x₂, x₃, x₄)"
      ]
     },
     "execution_count": 172,
     "metadata": {},
     "output_type": "execute_result"
    }
   ],
   "source": [
    "x"
   ]
  },
  {
   "cell_type": "code",
   "execution_count": 173,
   "metadata": {},
   "outputs": [
    {
     "data": {
      "image/png": "[encoded data removed]",
      "text/latex": [
       "$$120$$"
      ],
      "text/plain": [
       "120"
      ]
     },
     "execution_count": 173,
     "metadata": {},
     "output_type": "execute_result"
    }
   ],
   "source": [
    "M = zeros(5,5)\n",
    "factorial(a)"
   ]
  },
  {
   "cell_type": "code",
   "execution_count": 174,
   "metadata": {},
   "outputs": [
    {
     "data": {
      "image/png": "[encoded data removed]",
      "text/latex": [
       "$$\\frac{1}{2}$$"
      ],
      "text/plain": [
       "1/2"
      ]
     },
     "execution_count": 174,
     "metadata": {},
     "output_type": "execute_result"
    }
   ],
   "source": [
    "M = zeros(int('%d'%(a+1)), int('%d'%(a+1)))\n",
    "M[5,5]"
   ]
  },
  {
   "cell_type": "code",
   "execution_count": 177,
   "metadata": {},
   "outputs": [
    {
     "data": {
      "image/png": "[encoded data removed]",
      "text/latex": [
       "$$\\left ( x_{0}, \\quad x_{1}, \\quad x_{2}, \\quad x_{3}, \\quad x_{4}, \\quad x_{5}\\right )$$"
      ],
      "text/plain": [
       "(x₀, x₁, x₂, x₃, x₄, x₅)"
      ]
     },
     "execution_count": 177,
     "metadata": {},
     "output_type": "execute_result"
    }
   ],
   "source": [
    "x = symbols('x_0:%d'%(a+1))\n",
    "x"
   ]
  },
  {
   "cell_type": "code",
   "execution_count": 181,
   "metadata": {},
   "outputs": [
    {
     "data": {
      "image/png": "[encoded data removed]",
      "text/latex": [
       "$$\\left[\\begin{matrix}1 & 0 & 0 & 0 & 0 & 0\\\\1 & - x_{0} + x_{1} & \\frac{1}{2} \\left(- x_{0} + x_{1}\\right)^{2} & \\frac{1}{6} \\left(- x_{0} + x_{1}\\right)^{3} & \\frac{1}{24} \\left(- x_{0} + x_{1}\\right)^{4} & \\frac{1}{120} \\left(- x_{0} + x_{1}\\right)^{5}\\\\1 & - x_{0} + x_{2} & \\frac{1}{2} \\left(- x_{0} + x_{2}\\right)^{2} & \\frac{1}{6} \\left(- x_{0} + x_{2}\\right)^{3} & \\frac{1}{24} \\left(- x_{0} + x_{2}\\right)^{4} & \\frac{1}{120} \\left(- x_{0} + x_{2}\\right)^{5}\\\\1 & - x_{0} + x_{3} & \\frac{1}{2} \\left(- x_{0} + x_{3}\\right)^{2} & \\frac{1}{6} \\left(- x_{0} + x_{3}\\right)^{3} & \\frac{1}{24} \\left(- x_{0} + x_{3}\\right)^{4} & \\frac{1}{120} \\left(- x_{0} + x_{3}\\right)^{5}\\\\1 & - x_{0} + x_{4} & \\frac{1}{2} \\left(- x_{0} + x_{4}\\right)^{2} & \\frac{1}{6} \\left(- x_{0} + x_{4}\\right)^{3} & \\frac{1}{24} \\left(- x_{0} + x_{4}\\right)^{4} & \\frac{1}{120} \\left(- x_{0} + x_{4}\\right)^{5}\\\\1 & - x_{0} + x_{5} & \\frac{1}{2} \\left(- x_{0} + x_{5}\\right)^{2} & \\frac{1}{6} \\left(- x_{0} + x_{5}\\right)^{3} & \\frac{1}{24} \\left(- x_{0} + x_{5}\\right)^{4} & \\frac{1}{120} \\left(- x_{0} + x_{5}\\right)^{5}\\end{matrix}\\right]$$"
      ],
      "text/plain": [
       "⎡1     0           0            0            0            0     ⎤\n",
       "⎢                                                               ⎥\n",
       "⎢                       2            3            4            5⎥\n",
       "⎢             (-x₀ + x₁)   (-x₀ + x₁)   (-x₀ + x₁)   (-x₀ + x₁) ⎥\n",
       "⎢1  -x₀ + x₁  ───────────  ───────────  ───────────  ───────────⎥\n",
       "⎢                  2            6            24          120    ⎥\n",
       "⎢                                                               ⎥\n",
       "⎢                       2            3            4            5⎥\n",
       "⎢             (-x₀ + x₂)   (-x₀ + x₂)   (-x₀ + x₂)   (-x₀ + x₂) ⎥\n",
       "⎢1  -x₀ + x₂  ───────────  ───────────  ───────────  ───────────⎥\n",
       "⎢                  2            6            24          120    ⎥\n",
       "⎢                                                               ⎥\n",
       "⎢                       2            3            4            5⎥\n",
       "⎢             (-x₀ + x₃)   (-x₀ + x₃)   (-x₀ + x₃)   (-x₀ + x₃) ⎥\n",
       "⎢1  -x₀ + x₃  ───────────  ───────────  ───────────  ───────────⎥\n",
       "⎢                  2            6            24          120    ⎥\n",
       "⎢                                                               ⎥\n",
       "⎢                       2            3            4            5⎥\n",
       "⎢             (-x₀ + x₄)   (-x₀ + x₄)   (-x₀ + x₄)   (-x₀ + x₄) ⎥\n",
       "⎢1  -x₀ + x₄  ───────────  ───────────  ───────────  ───────────⎥\n",
       "⎢                  2            6            24          120    ⎥\n",
       "⎢                                                               ⎥\n",
       "⎢                       2            3            4            5⎥\n",
       "⎢             (-x₀ + x₅)   (-x₀ + x₅)   (-x₀ + x₅)   (-x₀ + x₅) ⎥\n",
       "⎢1  -x₀ + x₅  ───────────  ───────────  ───────────  ───────────⎥\n",
       "⎣                  2            6            24          120    ⎦"
      ]
     },
     "metadata": {},
     "output_type": "display_data"
    }
   ],
   "source": [
    "for i in range(int('%d'%(a+1))):\n",
    "    for j in range(int('%d'%(a+1))):\n",
    "        M[i,j] = Rational(1,factorial(j))*(x[i] - x[0])**j\n",
    "display(M)"
   ]
  },
  {
   "cell_type": "code",
   "execution_count": null,
   "metadata": {},
   "outputs": [],
   "source": [
    "b = zeros(int('%d'%(a+1)),1)\n",
    "b[1] = 1\n",
    "#M.inv()"
   ]
  },
  {
   "cell_type": "code",
   "execution_count": 182,
   "metadata": {},
   "outputs": [],
   "source": [
    "def FDA_coeff_incl(number, derivative):\n",
    "    x = symbols('x_0:%d'%(number))\n",
    "    M = zeros(int('%d'%(number)), int('%d'%(number)))\n",
    "    b = zeros(int('%d'%(number)))"
   ]
  },
  {
   "cell_type": "code",
   "execution_count": null,
   "metadata": {},
   "outputs": [],
   "source": []
  }
 ],
 "metadata": {
  "kernelspec": {
   "display_name": "Python 3",
   "language": "python",
   "name": "python3"
  },
  "language_info": {
   "codemirror_mode": {
    "name": "ipython",
    "version": 3
   },
   "file_extension": ".py",
   "mimetype": "text/x-python",
   "name": "python",
   "nbconvert_exporter": "python",
   "pygments_lexer": "ipython3",
   "version": "3.6.8"
  },
  "toc": {
   "base_numbering": 1,
   "nav_menu": {},
   "number_sections": true,
   "sideBar": true,
   "skip_h1_title": false,
   "title_cell": "Table of Contents",
   "title_sidebar": "Contents",
   "toc_cell": false,
   "toc_position": {},
   "toc_section_display": true,
   "toc_window_display": false
  }
 },
 "nbformat": 4,
 "nbformat_minor": 2
}
