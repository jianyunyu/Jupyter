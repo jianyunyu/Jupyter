{
 "cells": [
  {
   "cell_type": "markdown",
   "metadata": {},
   "source": [
    "# Euler Equation\n",
    "\n",
    "## Conservation Form\n",
    "The one dimensional version of the Euler equation for gas dynamics:\n",
    "\\begin{equation}\n",
    "  \\mathbf{u}_t + \\mathbf{f}(\\mathbf{u})_x = 0,\\,\\, t \\geq 0, x \\in \\mathbb{R},\n",
    "\\end{equation}\n",
    "where\n",
    "\\begin{equation}\n",
    "  \\mathbf{u} = \\left(\\begin{array}{c}\\rho\\\\m\\\\E\\end{array}\\right),\\,\\, \\mathbf{f}(\\mathbf{u}) = \\left(\\begin{array}{c}m\\\\\\rho v^2 + p\\\\(E+p)v\\end{array}\\right),\n",
    "\\end{equation}\n",
    "with\n",
    "\\begin{equation*}\n",
    "  m = \\rho v, \\,\\, E = \\frac{1}{2}\\rho v^2 + \\rho e,\n",
    "\\end{equation*}\n",
    "where $\\rho$ is the density, $v$ is the velocity, $m$ is the momentum, $E$ is the total energy, $e$ is the internal, and the pressure $p$ can be obtained from the equation of state.  For instance, for the perfect gas,\n",
    "\\begin{equation*}\n",
    "  p(\\mathbf{u}) = (\\gamma -1)\\rho e = (\\gamma-1)\\left(E - \\frac{1}{2}\\frac{m^2}{\\rho}\\right)\n",
    "\\end{equation*}\n",
    "It is easy to calculate that\n",
    "\\begin{equation*}\n",
    "    \\frac{\\partial p}{\\partial \\rho} = \\frac{1}{2}(\\gamma-1)v^2,\\,\\, \\frac{\\partial p}{\\partial m} = -(\\gamma-1)v,\\,\\, \\frac{\\partial p}{\\partial E} = \\gamma - 1,\n",
    "\\end{equation*}\n",
    "and the Jacobian of $\\mathbf{f}(\\mathbf{u})$ is given by\n",
    "\\begin{equation*}\n",
    "    \\mathbf{f}'(\\mathbf{u}) = \\left(\\begin{array}{ccc}0 & 1 & 0 \\\\ \\frac{1}{2}(\\gamma-3)v^2 & (3-\\gamma)v & \\gamma-1 \\\\ \\frac{1}{2}(\\gamma-1)v^3-v(E+p)/\\rho & (E+p)/\\rho - (\\gamma-1)v^2 & \\gamma v\\end{array}\\right)\n",
    "\\end{equation*}\n",
    "To get the eignvalue of $\\mathbf{f}'(\\mathbf{u})$, we have \n",
    "\\begin{equation*}\n",
    "    \\det(\\lambda I - \\mathbf{f}') = \\lambda^3 -3v\\lambda^2 + (3v^2-c^2)\\lambda + v(v^2 - c^2)= (\\lambda - v)(\\lambda - v-c)(\\lambda-v+c),\n",
    "\\end{equation*}\n",
    "where $c = \\sqrt{\\frac{\\gamma p}{\\rho}}$."
   ]
  },
  {
   "cell_type": "code",
   "execution_count": null,
   "metadata": {
    "collapsed": true
   },
   "outputs": [],
   "source": []
  }
 ],
 "metadata": {
  "kernelspec": {
   "display_name": "Python 3",
   "language": "python",
   "name": "python3"
  },
  "language_info": {
   "codemirror_mode": {
    "name": "ipython",
    "version": 3
   },
   "file_extension": ".py",
   "mimetype": "text/x-python",
   "name": "python",
   "nbconvert_exporter": "python",
   "pygments_lexer": "ipython3",
   "version": "3.6.4"
  },
  "latex_envs": {
   "LaTeX_envs_menu_present": true,
   "autocomplete": true,
   "bibliofile": "biblio.bib",
   "cite_by": "apalike",
   "current_citInitial": 1,
   "eqLabelWithNumbers": true,
   "eqNumInitial": 1,
   "hotkeys": {
    "equation": "Ctrl-E",
    "itemize": "Ctrl-I"
   },
   "labels_anchors": false,
   "latex_user_defs": false,
   "report_style_numbering": false,
   "user_envs_cfg": false
  },
  "toc": {
   "nav_menu": {},
   "number_sections": true,
   "sideBar": true,
   "skip_h1_title": true,
   "toc_cell": false,
   "toc_position": {},
   "toc_section_display": "block",
   "toc_window_display": false
  }
 },
 "nbformat": 4,
 "nbformat_minor": 2
}
