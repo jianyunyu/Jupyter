{
 "cells": [
  {
   "cell_type": "markdown",
   "metadata": {},
   "source": [
    "# A Simple Tutorial of Parareal Algorithm\n",
    "<div style=\"text-align: right\"> *--- Demonstration with Jupyter notebook* </div> \n",
    "<div style=\"text-align: center\"> __Xiaozhou Li (University of Electronic Science and Technology of China)__ </div>\n",
    "## History\n",
    "The parareal algorithm was first presented by Lions, Maday, Turinici in 2001, but unfortunately, the paper was written in French.  The term \"parareal\" comes from words \"parallel\" and \"real\" (real time problem).   \n",
    "\n",
    "## Problem\n",
    "### The Initial Value Problem\n",
    "Consider the initial value problem:\n",
    "\\begin{align}\n",
    "    u'(t) & = f(t,u(t)),\\qquad t \\in [0, T], \\\\\n",
    "    u(0) & = u_0.\n",
    "\\end{align}\n",
    "- It is clear that the solution $u$ later in time is affected (determined in this IVP).\n",
    "- It is actual a serial problem.\n",
    "- The purpose of parallel in time algorithms is to obtain the solution faster than sequential, but not necessarily scalability or efficiency. \n",
    "\n",
    "### Notations\n",
    "To describe numerical approximations of the IVP, in general, we divide the time interval \n",
    "$[0,T]$ into $N$ subintervals such that \n",
    "$$\n",
    "    0 = t_0 < t_1 < \\cdots < t_N = T,\n",
    "$$\n",
    "and $\\Delta t_n = t_{n+1} - t_n = T/N$.\n",
    "\n",
    "To describe the parareal algorithm, we denote the two numerical approximation methods by $\\mathcal{G}$ (coarse) propagator and $\\mathcal{F}$ (fine propagator).  Both $\\mathcal{G}$ and $\\mathcal{F}$ propagate an initial value $u_n$ to $u_{n+1}$ by approximating the solution of the IVP from $t_n$ to $t_{n+1}$.  That is \n",
    "$$\n",
    "    u_{n+1} = \\mathcal{G}(t_n, t_{n+1}, u_n)\\qquad or \\qquad u_{n+1} = \\mathcal{F}(t_n, t_{n+1}, u_n),\n",
    "$$\n",
    "by solving \n",
    "\\begin{align}\n",
    "    u'(t) & = f(t,u(t)),\\qquad t \\in [t_n, t_{n+1}], \\\\\n",
    "    u(t_n) & = u_n,\n",
    "\\end{align}\n",
    "with propagator $\\mathcal{G}$ or $\\mathcal{F}$. \n",
    "\n",
    "The propagators need satisfy the basic rules:\n",
    "- coarse propagator $\\mathcal{G}$: inaccurate, computationally very cheap.\n",
    "- fine propagator $\\mathcal{F}$: very accurate, but computationally very expensive.\n",
    "- of course, propagator $\\mathcal{G}$ and $\\mathcal{F}$ have to satisfy certain relations for stability purpose.\n"
   ]
  },
  {
   "cell_type": "markdown",
   "metadata": {},
   "source": [
    "#### Example 1\n",
    "Considering a simple IVP problem that \n",
    "\\begin{align}\n",
    "        u'(t) & = (1 - 2t) u(t),\\qquad 0 \\leq t \\leq 3,\\\\\n",
    "        u(0) & = 1.\n",
    "\\end{align}\n",
    "The exact solution is $u(t) = e^{t - t^2}$.  \n",
    "\n",
    "- First, we divide interval $[0, 3]$ into $5$ equal subinterval $0 = t_0 < \\cdots < t_5 = 3$, $t_n = n$ for $n = 0,\\ldots,5$.  \n",
    "- Then, from $t_n$ to $t_{n+1}$ we can choose \n",
    "    - $1$ step Euler method as the coarse propagator $\\mathcal{G}$\n",
    "    - $20$ steps Euler method as the fine propagator $\\mathcal{F}$.  \n",
    "- Clearly, the fine propagator $\\mathcal{F}$ is $20$ times more expensive than the coarse propagator $\\mathcal{G}$, but much more accurate. "
   ]
  },
  {
   "cell_type": "code",
   "execution_count": 1,
   "metadata": {},
   "outputs": [],
   "source": [
    "%matplotlib inline\n",
    "import numpy as np\n",
    "import matplotlib.pyplot as plt\n",
    "from ipywidgets import interact, interactive, fixed, interact_manual\n",
    "import ipywidgets as widgets\n",
    "from IPython.display import clear_output, display"
   ]
  },
  {
   "cell_type": "code",
   "execution_count": 2,
   "metadata": {},
   "outputs": [
    {
     "data": {
      "application/vnd.jupyter.widget-view+json": {
       "model_id": "b115cb26d4914000ac7ec4e70df9c609",
       "version_major": 2,
       "version_minor": 0
      },
      "text/html": [
       "<p>Failed to display Jupyter Widget of type <code>interactive</code>.</p>\n",
       "<p>\n",
       "  If you're reading this message in the Jupyter Notebook or JupyterLab Notebook, it may mean\n",
       "  that the widgets JavaScript is still loading. If this message persists, it\n",
       "  likely means that the widgets JavaScript library is either not installed or\n",
       "  not enabled. See the <a href=\"https://ipywidgets.readthedocs.io/en/stable/user_install.html\">Jupyter\n",
       "  Widgets Documentation</a> for setup instructions.\n",
       "</p>\n",
       "<p>\n",
       "  If you're reading this message in another frontend (for example, a static\n",
       "  rendering on GitHub or <a href=\"https://nbviewer.jupyter.org/\">NBViewer</a>),\n",
       "  it may mean that your frontend doesn't currently support widgets.\n",
       "</p>\n"
      ],
      "text/plain": [
       "interactive(children=(IntSlider(value=1, description='n_coarse', max=5, min=1), IntSlider(value=20, description='n_fine', min=5, step=5), Output()), _dom_classes=('widget-interact',))"
      ]
     },
     "metadata": {},
     "output_type": "display_data"
    }
   ],
   "source": [
    "def fun(t, u):\n",
    "    return (1 - 2*t)*u\n",
    "\n",
    "def u_ex(t):\n",
    "    return np.exp(t - t**2)\n",
    "\n",
    "def ExEuler(u0, t0, tn, n, RHS):\n",
    "    # Explicit Euler methods from t0 to tn with initial value u0, number of steps = n, RHS(t,u) = fun(t,u)\n",
    "    dt = (tn - t0)/n\n",
    "    t = np.linspace(t0, tn, n+1)\n",
    "    u = np.zeros(n+1) + u0\n",
    "    for j in range(n):\n",
    "        u[j+1] = u[j] + dt*RHS(t[j], u[j])\n",
    "    return u[n]\n",
    "\n",
    "def ImEuler(u0, t0, tn, n, RHS):\n",
    "    dt = (tn - t0)/n\n",
    "    t = np.linspace(t0, tn, n+1)\n",
    "    u = np.zeros(n+1) + u0\n",
    "    for j in range(n):\n",
    "        u[j+1] = u[j]/(1 - dt*(1 - 2*t[j]))\n",
    "    return u[n]\n",
    "    \n",
    "def draw_fun(t0, tn, N, fun):\n",
    "    t = np.linspace(t0,tn,N+1)\n",
    "    u = np.zeros(N+1)\n",
    "    for i in range(N+1):\n",
    "        u[i] = fun(t[i])\n",
    "    plt.plot(t, u, 'k-', linewidth=2, label='exact')\n",
    "\n",
    "\n",
    "u0 = 1.    \n",
    "t0 = 0.\n",
    "tN = 3.\n",
    "N = 5\n",
    "\n",
    "t = np.linspace(t0, tN, N+1)\n",
    "u = np.zeros(N+1) + u0\n",
    "\n",
    "def draw_propagators(n_coarse, n_fine, RHS):\n",
    "    fig=plt.figure(figsize=(12,9))\n",
    "    plt.ylim(-0.2, 1.8)\n",
    "    draw_fun(t0, tN, 100, u_ex)\n",
    "    \n",
    "    err = np.zeros(N+1) \n",
    "    for j in range (N):\n",
    "        u[j+1] = ExEuler(u[j], t[j], t[j+1], n_coarse, fun)\n",
    "        #u[j+1] = ImEuler(u[j],t[j],t[j+1],n_coarse,fun)\n",
    "        err[j+1] = np.abs(u_ex(t[j+1]) - u[j+1])\n",
    "    plt.plot(t,u,'*',linewidth=2,label='coarse')\n",
    "    print ('coarse propagator error: ', np.max(err))\n",
    "    \n",
    "    for j in range(N):\n",
    "        u[j+1] = ExEuler(u[j],t[j],t[j+1],n_fine,fun)\n",
    "        #u[j+1] = ImEuler(u[j],t[j],t[j+1],n_fine,fun)\n",
    "        err[j+1] = np.abs(u_ex(t[j+1]) - u[j+1])\n",
    "    plt.plot(t,u,'o',linewidth=2,label='fine')\n",
    "    print ('fine propagator error:   ', np.max(err))\n",
    "    plt.legend(fontsize=15)\n",
    "    plt.show()\n",
    "\n",
    "# interact or interactive with display\n",
    "#interact(draw_propagators, n_coarse=(1,5), n_fine=(5,40))\n",
    "w = interactive(draw_propagators, n_coarse=widgets.IntSlider(min=1,max=5,value=1), \\\n",
    "                n_fine=widgets.IntSlider(min=5,max=100,step=5,value=20), RHS=fixed(fun))\n",
    "display(w)"
   ]
  },
  {
   "cell_type": "markdown",
   "metadata": {},
   "source": [
    "## The Parareal Algorithm \n",
    "### The Basic Idea \n",
    "The basic idea of many parallel in time algorithms, since Nievergelt (1964), is \n",
    "- prediction\n",
    "- correction \n",
    "and so does the parareal algorithem. \n",
    "\n",
    "### Parareal Algorithm\n",
    "1. __(SERIAL)__ Initialize the perdiction $u^0_n$ by computing an approximation in serial with the coarse propagator $\\mathcal{G}$,\n",
    "$$\n",
    "    u^0_{n+1} = \\mathcal{G}(t_n, t_{n+1}, u_n^0),\n",
    "$$\n",
    "from $n = 0,\\ldots,N-1$ with $u_0^0 = u_0$ __(SERIAL)__.\n",
    "2. <font color=red>__(Parallel)__</font> Computing the correction term by using the fine propagator $\\mathcal{F}$ with the initial values given by previous iteration: \n",
    "$$\n",
    "    \\mathcal{F}(t_n, t_{n+1}, u^k_n)\n",
    "$$\n",
    "in parallel with $N$ cores. <font color=red>__(Parallel)__</font>\n",
    "3. __(SERIAL)__ Computing the new value with the correction term, \n",
    "$$\n",
    "    u^{k+1}_{n+1} = \\mathcal{G}(t_n, t_{n+1}, u_n^{k+1}) + \\mathcal{F}(t_n, t_{n+1}, u^k_n) - \\mathcal{G}(t_n, t_{n+1}, u^k_n)\n",
    "$$\n",
    "in serial. __(SERIAL)__\n",
    "4. Repeating step 2 and 3 for $k = 0,\\ldots$ until the desired accuracy is achieved.\n",
    "\n"
   ]
  },
  {
   "cell_type": "markdown",
   "metadata": {},
   "source": [
    "### A Stey by Stey Demonstration\n",
    "Considering the previous Example 1, but now using the parareal algorithm.\n",
    "\n",
    "#### Step 1: Perdiction (in serial)\n",
    "- For each subinterval $[t_n, t_{n+1}]$ for $n = 0,\\ldots,4$, using $M_c$ steps explicit Euler Method as the coarse propagator, that is, start with the initial value, $u_0^0 = u_0$. \n",
    "- For $n = 0,\\ldots, N-1$:\n",
    "    - $u_{n,0} = u_n^0$;\n",
    "    - For $m = 0, \\ldots, M_c-1$:\n",
    "        - $t_{n,m} = t_n + \\frac{m\\Delta t_n}{M_c}$,\n",
    "        - $u_{n,m+1} = u_{n,m} + \\frac{\\Delta t_n}{M_c}f(t_{n,m},u_{n,m+1}).$\n",
    "    - $u_{n+1}^0 = u_{n,M}$."
   ]
  },
  {
   "cell_type": "code",
   "execution_count": 3,
   "metadata": {},
   "outputs": [
    {
     "data": {
      "application/vnd.jupyter.widget-view+json": {
       "model_id": "9c3132311214420e8abe695fd179e27c",
       "version_major": 2,
       "version_minor": 0
      },
      "text/html": [
       "<p>Failed to display Jupyter Widget of type <code>interactive</code>.</p>\n",
       "<p>\n",
       "  If you're reading this message in the Jupyter Notebook or JupyterLab Notebook, it may mean\n",
       "  that the widgets JavaScript is still loading. If this message persists, it\n",
       "  likely means that the widgets JavaScript library is either not installed or\n",
       "  not enabled. See the <a href=\"https://ipywidgets.readthedocs.io/en/stable/user_install.html\">Jupyter\n",
       "  Widgets Documentation</a> for setup instructions.\n",
       "</p>\n",
       "<p>\n",
       "  If you're reading this message in another frontend (for example, a static\n",
       "  rendering on GitHub or <a href=\"https://nbviewer.jupyter.org/\">NBViewer</a>),\n",
       "  it may mean that your frontend doesn't currently support widgets.\n",
       "</p>\n"
      ],
      "text/plain": [
       "interactive(children=(IntSlider(value=1, description='Mc', max=5, min=1), Output()), _dom_classes=('widget-interact',))"
      ]
     },
     "metadata": {},
     "output_type": "display_data"
    },
    {
     "name": "stdout",
     "output_type": "stream",
     "text": [
      "Now we have the prediction values can be used as initial values for the parallel computing!\n",
      "[ 1.         1.6        1.408      0.22528   -0.1261568  0.1614807]\n"
     ]
    }
   ],
   "source": [
    "n_coarse = 0\n",
    "def draw_propagator_prediction(Mc, RHS):\n",
    "    fig=plt.figure(figsize=(12,9))\n",
    "    plt.ylim(-0.2, 1.8)\n",
    "    draw_fun(t0, tN, 100, u_ex)\n",
    "    \n",
    "    err = np.zeros(N+1) \n",
    "    for j in range (N):\n",
    "        u[j+1] = ExEuler(u[j], t[j], t[j+1], Mc, fun)\n",
    "        #u[j+1] = ImEuler(u[j],t[j],t[j+1],n,fun)\n",
    "        err[j+1] = np.abs(u_ex(t[j+1]) - u[j+1])\n",
    "    plt.plot(t,u,'b*',linewidth=2)\n",
    "    print ('prediction error: ', np.max(err))\n",
    "    plt.show()\n",
    "    return Mc\n",
    "    \n",
    "w = interactive(draw_propagator_prediction, Mc=widgets.IntSlider(min=1,max=5,value=1), RHS=fixed(fun))\n",
    "display(w)\n",
    "Mc = w.result\n",
    "\n",
    "print (\"Now we have the prediction values can be used as initial values for the parallel computing!\")\n",
    "print (u)"
   ]
  },
  {
   "cell_type": "markdown",
   "metadata": {},
   "source": [
    "#### Step 2: Computing the Fine Propagator  (in parallel)\n",
    "- Distribute the prediction values $u_n^k$ ($n = 0,\\ldots, N-1$) to $N$ different cores.  \n",
    "- Each core only needs to compute the fine propagator $\\mathcal{F}$ for subinterval $[t_n, t_{n+1}]$ with inital value $u_{n,0} = u_n^k$. \n",
    "- Here, for the fine propagator $\\mathcal{F}$, we use $M_f$ (of course, $M_f > M_c$, or better $M_f >> M_c$) steps explicit Euler Method.  \n",
    "- Then, computing $\\mathcal{F}(t_n, t_{n+1}, u^k_n)$ in parallel.  That is \n",
    "    - For $m = 0, \\ldots, M_f-1$:\n",
    "         - $t_{n,m} = t_n + \\frac{m\\Delta t_n}{M_f}$,\n",
    "         - $u_{n,m+1} = u_{n,m} + \\frac{\\Delta t_n}{M_f}f(t_{n,m},u_{n,m+1}).$\n",
    "    - $\\mathcal{F}(t_n, t_{n+1}, u^k_n) = u_{n,M}$.\n",
    "- __Note: __ In this step, we can actually compute $\\mathcal{G}(t_n, t_{n+1}, u^k_n)$ in parallel too, but the difference is quite slight."
   ]
  },
  {
   "cell_type": "code",
   "execution_count": 4,
   "metadata": {},
   "outputs": [
    {
     "data": {
      "application/vnd.jupyter.widget-view+json": {
       "model_id": "cb3c865385204e0a84f31f7cc99724c4",
       "version_major": 2,
       "version_minor": 0
      },
      "text/html": [
       "<p>Failed to display Jupyter Widget of type <code>interactive</code>.</p>\n",
       "<p>\n",
       "  If you're reading this message in the Jupyter Notebook or JupyterLab Notebook, it may mean\n",
       "  that the widgets JavaScript is still loading. If this message persists, it\n",
       "  likely means that the widgets JavaScript library is either not installed or\n",
       "  not enabled. See the <a href=\"https://ipywidgets.readthedocs.io/en/stable/user_install.html\">Jupyter\n",
       "  Widgets Documentation</a> for setup instructions.\n",
       "</p>\n",
       "<p>\n",
       "  If you're reading this message in another frontend (for example, a static\n",
       "  rendering on GitHub or <a href=\"https://nbviewer.jupyter.org/\">NBViewer</a>),\n",
       "  it may mean that your frontend doesn't currently support widgets.\n",
       "</p>\n"
      ],
      "text/plain": [
       "interactive(children=(FloatSlider(value=1.0, description='process', max=1.0, step=0.2), IntSlider(value=20, description='Mf', min=5, step=5), Output()), _dom_classes=('widget-interact',))"
      ]
     },
     "metadata": {},
     "output_type": "display_data"
    }
   ],
   "source": [
    "u_fine = np.zeros([N+1,6])\n",
    "def draw_propagator_parallel(process, Mf, RHS):\n",
    "    # parameter i, [0%, 20%, 40%, 60%, 80%, 100%], describes the process\n",
    "    # It is only for demonstration purpose, no needs for real implementation.\n",
    "    fig=plt.figure(figsize=(12,9))\n",
    "    plt.ylim(-0.2, 1.8)\n",
    "    draw_fun(t0, tN, 100, u_ex)\n",
    "    plt.plot(t,u,'b*',linewidth=2)\n",
    "    i = round(process*5)\n",
    "    u_old = np.copy(u)\n",
    "    for j in range (N):\n",
    "        u_fine[j,0] = u_old[j]\n",
    "        tm = np.linspace(t[j], t[j+1], 6)\n",
    "        for m in range (i):\n",
    "            u_fine[j,m+1] = ExEuler(u_fine[j,m], tm[m], tm[m+1], round(Mf*0.2), fun)\n",
    "            #u_fine[j,m+1] = ImEuler(u_fine[j,m], tm[m], tm[m+1], round(n*process), fun)\n",
    "        if (i > 0): plt.plot(tm[1:i+1], u_fine[j,1:i+1], 'ro', linewidth=2)\n",
    "    #if (i == 5)\n",
    "        #print ('prediction error: ', np.max(err))\n",
    "    plt.show()\n",
    "    return Mf\n",
    "    \n",
    "w = interactive(draw_propagator_parallel, process=widgets.FloatSlider(min=0,max=1,step=0.2, value=1),\\\n",
    "                Mf=widgets.IntSlider(min=5,max=100,step=5, value=20), RHS=fixed(fun))\n",
    "display(w)\n",
    "Mf = w.result"
   ]
  },
  {
   "cell_type": "markdown",
   "metadata": {},
   "source": [
    "#### Step 3: Computing the Correction  (in serial)\n",
    "- Computing the new value by adding the correction between the coarse propagator $\\mathcal{G}$ and the fine propagator $\\mathcal{F}$:\n",
    "$$\n",
    "    u^{k+1}_{n+1} = \\mathcal{G}(t_n, t_{n+1}, u_n^{k+1}) + \\mathcal{F}(t_n, t_{n+1}, u^k_n) - \\mathcal{G}(t_n, t_{n+1}, u^k_n)\n",
    "$$"
   ]
  },
  {
   "cell_type": "code",
   "execution_count": 5,
   "metadata": {},
   "outputs": [
    {
     "name": "stdout",
     "output_type": "stream",
     "text": [
      "corrected error:  0.1517891805059007\n"
     ]
    },
    {
     "data": {
      "image/png": "[encoded data removed]",
      "text/plain": [
       "<matplotlib.figure.Figure at 0x11217ebe0>"
      ]
     },
     "metadata": {},
     "output_type": "display_data"
    }
   ],
   "source": [
    "def draw_propagator_correction():\n",
    "    fig=plt.figure(figsize=(12,9))\n",
    "    plt.ylim(-0.2, 1.8)\n",
    "    draw_fun(t0, tN, 100, u_ex)\n",
    "    plt.plot(t,u,'b*',linewidth=2)\n",
    "    u_old = np.copy(u)\n",
    "    err = np.zeros(N+1)\n",
    "    for j in range (N):\n",
    "        tm = np.linspace(t[j], t[j+1], 6)\n",
    "        u[j+1] = ExEuler(u[j], t[j], t[j+1], Mc, fun) + u_fine[j,5] - ExEuler(u_old[j], t[j], t[j+1], Mc, fun)\n",
    "        plt.plot(tm[1:], u_fine[j,1:], 'ro', linewidth=2)\n",
    "        err[j+1] = np.abs(u_ex(t[j+1]) - u[j+1])\n",
    "    print ('corrected error: ', np.max(err))\n",
    "    plt.plot(t,u,'k*',linewidth=2)\n",
    "    plt.show()\n",
    "    \n",
    "draw_propagator_correction()"
   ]
  },
  {
   "cell_type": "markdown",
   "metadata": {},
   "source": [
    "#### Step 4: Repeating Step 2 and Step 3.\n",
    "- Repeating step 2 and step 3 for $k = 1, \\ldots,$ until the desired accuracy is obtained.\n",
    "- Note: the final accuracy is bounded by the accuracy of the fine propagator."
   ]
  },
  {
   "cell_type": "code",
   "execution_count": 6,
   "metadata": {},
   "outputs": [
    {
     "data": {
      "application/vnd.jupyter.widget-view+json": {
       "model_id": "66b26f5bee2743a39ee5a1010ab90a3b",
       "version_major": 2,
       "version_minor": 0
      },
      "text/html": [
       "<p>Failed to display Jupyter Widget of type <code>interactive</code>.</p>\n",
       "<p>\n",
       "  If you're reading this message in the Jupyter Notebook or JupyterLab Notebook, it may mean\n",
       "  that the widgets JavaScript is still loading. If this message persists, it\n",
       "  likely means that the widgets JavaScript library is either not installed or\n",
       "  not enabled. See the <a href=\"https://ipywidgets.readthedocs.io/en/stable/user_install.html\">Jupyter\n",
       "  Widgets Documentation</a> for setup instructions.\n",
       "</p>\n",
       "<p>\n",
       "  If you're reading this message in another frontend (for example, a static\n",
       "  rendering on GitHub or <a href=\"https://nbviewer.jupyter.org/\">NBViewer</a>),\n",
       "  it may mean that your frontend doesn't currently support widgets.\n",
       "</p>\n"
      ],
      "text/plain": [
       "interactive(children=(IntSlider(value=1, description='iters', max=10, min=1), Output()), _dom_classes=('widget-interact',))"
      ]
     },
     "metadata": {},
     "output_type": "display_data"
    }
   ],
   "source": [
    "def draw_parareal_iteration(iters):\n",
    "    fig=plt.figure(figsize=(12,9))\n",
    "    plt.ylim(-0.2, 1.8)\n",
    "    draw_fun(t0, tN, 100, u_ex)\n",
    "    err = np.zeros(N+1)\n",
    "    if (iters == 1): \n",
    "        plt.plot(t,u_fine[:,0],'b*',linewidth=2)\n",
    "        for j in range (N):\n",
    "            tm = np.linspace(t[j], t[j+1], 6)\n",
    "            plt.plot(tm[1:], u_fine[j,1:], 'ro', linewidth=2)\n",
    "            err[j+1] = np.abs(u_ex(t[j+1]) - u[j+1])\n",
    "    else:\n",
    "        plt.plot(t,u,'b*',linewidth=2)\n",
    "        u_old = np.copy(u)\n",
    "        \n",
    "        # computing the fine approximation in parallel\n",
    "        for j in range (N):\n",
    "            u_fine[j,0] = u_old[j]\n",
    "            tm = np.linspace(t[j], t[j+1], 6)\n",
    "            for m in range (5):\n",
    "                u_fine[j,m+1] = ExEuler(u_fine[j,m], tm[m], tm[m+1], round(Mf*0.2), fun)\n",
    "            plt.plot(tm[1:], u_fine[j,1:], 'ro', linewidth=2)\n",
    "        \n",
    "        # correction in serial\n",
    "        for j in range (N):\n",
    "            u[j+1] = ExEuler(u[j], t[j], t[j+1], Mc, fun) + u_fine[j,5] - ExEuler(u_old[j], t[j], t[j+1], Mc, fun)\n",
    "            err[j+1] = np.abs(u_ex(t[j+1]) - u[j+1])\n",
    "    print ('corrected error: ', np.max(err))\n",
    "    plt.plot(t,u,'k*',linewidth=2)\n",
    "    plt.show()\n",
    "    \n",
    "w = interactive(draw_parareal_iteration, iters=widgets.IntSlider(min=1,max=10,step=1, value=1))\n",
    "display(w)"
   ]
  },
  {
   "cell_type": "markdown",
   "metadata": {},
   "source": [
    "### A Clear Code"
   ]
  },
  {
   "cell_type": "code",
   "execution_count": 7,
   "metadata": {},
   "outputs": [
    {
     "data": {
      "application/vnd.jupyter.widget-view+json": {
       "model_id": "fb90630f353a40c3b4eb910c92fd7148",
       "version_major": 2,
       "version_minor": 0
      },
      "text/html": [
       "<p>Failed to display Jupyter Widget of type <code>interactive</code>.</p>\n",
       "<p>\n",
       "  If you're reading this message in the Jupyter Notebook or JupyterLab Notebook, it may mean\n",
       "  that the widgets JavaScript is still loading. If this message persists, it\n",
       "  likely means that the widgets JavaScript library is either not installed or\n",
       "  not enabled. See the <a href=\"https://ipywidgets.readthedocs.io/en/stable/user_install.html\">Jupyter\n",
       "  Widgets Documentation</a> for setup instructions.\n",
       "</p>\n",
       "<p>\n",
       "  If you're reading this message in another frontend (for example, a static\n",
       "  rendering on GitHub or <a href=\"https://nbviewer.jupyter.org/\">NBViewer</a>),\n",
       "  it may mean that your frontend doesn't currently support widgets.\n",
       "</p>\n"
      ],
      "text/plain": [
       "interactive(children=(IntSlider(value=5, description='N', min=5, step=5), IntSlider(value=1, description='Mc', max=5, min=1), IntSlider(value=20, description='Mf', min=5, step=5), IntSlider(value=0, description='iters', max=10), Output()), _dom_classes=('widget-interact',))"
      ]
     },
     "metadata": {},
     "output_type": "display_data"
    }
   ],
   "source": [
    "def parareal(N, Mc, Mf, iters):\n",
    "    fig=plt.figure(figsize=(4,3))\n",
    "    plt.ylim(-0.2, 1.8)\n",
    "    draw_fun(t0, tN, 100, u_ex)\n",
    "    \n",
    "    u = np.zeros(N+1) + u0\n",
    "    t = np.linspace(t0, tN, N+1)\n",
    "    u_fine = np.zeros([N+1,6])\n",
    "    err = np.zeros(N+1)\n",
    "    # fine propagator\n",
    "    for j in range(N):\n",
    "        u[j+1] = ExEuler(u[j],t[j],t[j+1],Mf,fun)\n",
    "        #u[j+1] = ImEuler(u[j],t[j],t[j+1],n_fine,fun)\n",
    "        err[j+1] = np.abs(u_ex(t[j+1]) - u[j+1])\n",
    "    plt.plot(t,u,'o',linewidth=2,label='fine')\n",
    "    print ('fine propagator error:   ', np.max(err))\n",
    "    \n",
    "    # prediction\n",
    "    for j in range (N):\n",
    "        u[j+1] = ExEuler(u[j], t[j], t[j+1], Mc, fun)\n",
    "        #u[j+1] = ImEuler(u[j],t[j],t[j+1],n,fun)\n",
    "        err[j+1] = np.abs(u_ex(t[j+1]) - u[j+1])\n",
    "    plt.plot(t,u,'b*',linewidth=2, label='prediction')\n",
    "    print ('prediction error: ', np.max(err))\n",
    "    \n",
    "    for i in range (iters):\n",
    "        u_old = np.copy(u)\n",
    "        \n",
    "        # computing the fine approximation in parallel\n",
    "        for j in range (N):\n",
    "            u_fine[j,0] = u_old[j]\n",
    "            tm = np.linspace(t[j], t[j+1], 6)\n",
    "            for m in range (5):\n",
    "                u_fine[j,m+1] = ExEuler(u_fine[j,m], tm[m], tm[m+1], round(Mf*0.2), fun)\n",
    "            #plt.plot(tm[1:], u_fine[j,1:], 'ro', linewidth=2)\n",
    "        \n",
    "        # correction in serial\n",
    "        for j in range (N):\n",
    "            u[j+1] = ExEuler(u[j], t[j], t[j+1], Mc, fun) + u_fine[j,5] - ExEuler(u_old[j], t[j], t[j+1], Mc, fun)\n",
    "            err[j+1] = np.abs(u_ex(t[j+1]) - u[j+1])\n",
    "    plt.plot(t,u,'*',linewidth=2, label='parareal')\n",
    "    print ('parareal error: ', np.max(err))\n",
    "    plt.legend()\n",
    "    plt.show()\n",
    "    \n",
    "    \n",
    "w = interactive(parareal, N=widgets.IntSlider(min=5,max=100,step=5,value=5), \\\n",
    "                Mc=widgets.IntSlider(min=1,max=5,value=1), \\\n",
    "                Mf=widgets.IntSlider(min=5,max=100,step=5,value=20),\\\n",
    "                iters=widgets.IntSlider(min=0,max=10,value=0))\n",
    "display(w)"
   ]
  },
  {
   "cell_type": "markdown",
   "metadata": {},
   "source": [
    "### Features\n",
    "- Arbitrary order of accuracy, depends on the total number of iterations and the accuracy order of the coarse propagator G.\n",
    "- It is a predictor corrector parallel algorithm.\n",
    "- It can be combined with other iterative process, such as domain decomposition, multigrid, etc.\n",
    "- Ideally, the algorithm needs for one processor for each subinterval.\n",
    "- Stability issue becomes more complicated, the stability of the coarse and fine propagators need satisfy some restrictions.M\n",
    "\n"
   ]
  },
  {
   "cell_type": "code",
   "execution_count": null,
   "metadata": {},
   "outputs": [],
   "source": []
  }
 ],
 "metadata": {
  "kernelspec": {
   "display_name": "Python 3",
   "language": "python",
   "name": "python3"
  },
  "language_info": {
   "codemirror_mode": {
    "name": "ipython",
    "version": 3
   },
   "file_extension": ".py",
   "mimetype": "text/x-python",
   "name": "python",
   "nbconvert_exporter": "python",
   "pygments_lexer": "ipython3",
   "version": "3.7.3"
  },
  "latex_envs": {
   "LaTeX_envs_menu_present": true,
   "autocomplete": true,
   "bibliofile": "biblio.bib",
   "cite_by": "apalike",
   "current_citInitial": 1,
   "eqLabelWithNumbers": true,
   "eqNumInitial": 1,
   "hotkeys": {
    "equation": "Ctrl-E",
    "itemize": "Ctrl-I"
   },
   "labels_anchors": false,
   "latex_user_defs": false,
   "report_style_numbering": false,
   "user_envs_cfg": false
  },
  "toc": {
   "base_numbering": 1,
   "nav_menu": {},
   "number_sections": true,
   "sideBar": true,
   "skip_h1_title": true,
   "title_cell": "Table of Contents",
   "title_sidebar": "Contents",
   "toc_cell": false,
   "toc_position": {},
   "toc_section_display": "block",
   "toc_window_display": false
  }
 },
 "nbformat": 4,
 "nbformat_minor": 2
}
