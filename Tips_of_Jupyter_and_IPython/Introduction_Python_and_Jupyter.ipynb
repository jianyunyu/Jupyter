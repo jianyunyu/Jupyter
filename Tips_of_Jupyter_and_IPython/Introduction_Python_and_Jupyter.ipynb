{
 "cells": [
  {
   "cell_type": "markdown",
   "metadata": {},
   "source": [
    "# A Breif Introduction of Python, IPython and Jupyter Notebook"
   ]
  },
  {
   "cell_type": "markdown",
   "metadata": {},
   "source": [
    "## Install\n",
    "- Compared to Matlab (authorized version), python is more complicated to install and maintain.\n",
    "- [Anaconda](https://www.anaconda.com/download) is a good choice for locally installing python, ipython and jupyter notebook.\n",
    "- Used in Cloud: [CoCalc](https://cocalc.com), [Microsoft Azure Notebooks](https://notebooks.azure.com)"
   ]
  },
  {
   "cell_type": "markdown",
   "metadata": {},
   "source": [
    "## Python, IPython and Jupyter Notebook\n",
    "Python is a programming language designed to promote code that is easy to read and write. Python has become one of the most important languages in scientific computing. It is high-level like MATLAB, but unlike MATLAB it is free and is intended as a general-purpose language.\n",
    "\n",
    "IPython is a collection of tools for interactive programming in Python. Most importantly for us, IPython includes an interactive shell and a browser-based notebook. The notebook (known as the jupyter notebook now) allows you to run Python code in your web browser; just click on a cell with code and hit shift+enter."
   ]
  },
  {
   "cell_type": "markdown",
   "metadata": {},
   "source": [
    "## Why use Python?\n",
    "<!---Hopefully this brief adventure has convinced you that Python is a worthwhile programming language. Some of the reasons I chose Python as the language for this course (and other courses I teach) are: --->\n",
    "\n",
    "- Compared to lower-level languages like C, C++, and Fortran, Python code is easier to write and read (meaning fewer bugs!)\n",
    "- A huge number of available libraries means it is easy to get things done in Python without writing a lot of code yourself\n",
    "- Python is a general-purpose programming language, with features (like optional arguments with defaults) that lead to more elegant, maintainable code than what you can write with specialized languages like MATLAB.\n",
    "- Python is free and comes installed on most systems. You can run this whole course with only a web browser and access to the internet.\n",
    "- It's easy to incorporate code written in other languages into your Python programs.\n",
    "- It's often easy to parallelize existing scientific codes using Python.\n",
    "For a longer discussion with links to some scientific studies of the value of Python, see [this blog post by Lorena Barba](http://lorenabarba.com/blog/why-i-push-for-python/)"
   ]
  },
  {
   "cell_type": "markdown",
   "metadata": {},
   "source": [
    "[A gallery of interesting Jupyter Notebooks](https://github.com/jupyter/jupyter/wiki/A-gallery-of-interesting-Jupyter-Notebooks#general-topics-in-scientific-computing)"
   ]
  },
  {
   "cell_type": "markdown",
   "metadata": {},
   "source": [
    "# Scientic Computing\n",
    "[mpmath](http://mpmath.org)"
   ]
  },
  {
   "cell_type": "code",
   "execution_count": null,
   "metadata": {},
   "outputs": [],
   "source": []
  }
 ],
 "metadata": {
  "kernelspec": {
   "display_name": "Python 3",
   "language": "python",
   "name": "python3"
  },
  "language_info": {
   "codemirror_mode": {
    "name": "ipython",
    "version": 3
   },
   "file_extension": ".py",
   "mimetype": "text/x-python",
   "name": "python",
   "nbconvert_exporter": "python",
   "pygments_lexer": "ipython3",
   "version": "3.7.5"
  }
 },
 "nbformat": 4,
 "nbformat_minor": 2
}
