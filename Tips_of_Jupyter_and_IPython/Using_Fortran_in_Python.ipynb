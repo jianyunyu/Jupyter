{
 "cells": [
  {
   "cell_type": "markdown",
   "metadata": {},
   "source": [
    "# Using Fortran for Jupyter Notebook\n"
   ]
  },
  {
   "cell_type": "markdown",
   "metadata": {},
   "source": [
    "Numpy is a great tool, however sometimes the speed of numpy is not enough for writing some fast scientific computing code.  For example,\n",
    "- The speed of vector operations and element-wise operations has significant difference. \n",
    "    - Thinking of Jacobi and Gauss-Seidel methods, the later one has to be implementing in an element-wise way.\n",
    "\n",
    "Of course, you can compile function in the dynamic library and write python wrappers, but there is a much convenient way.  You can write functions in fortran and use those directly from python code.\n",
    "\n",
    "First you'll need to install:\n",
    "- pip install fortran-magic"
   ]
  },
  {
   "cell_type": "code",
   "execution_count": 1,
   "metadata": {
    "collapsed": true
   },
   "outputs": [],
   "source": [
    "import numpy as np\n",
    "x = np.random.normal(size=1000)\n",
    "y = np.random.normal(size=1000)\n",
    "\n",
    "def py_add(x, y):\n",
    "    z = np.empty(np.size(x))\n",
    "    for i in range(np.size(x)):\n",
    "        z[i] = x[i] + y[i]\n",
    "    return z"
   ]
  },
  {
   "cell_type": "markdown",
   "metadata": {},
   "source": [
    "## Numpy\n",
    "### vertor add operation"
   ]
  },
  {
   "cell_type": "code",
   "execution_count": 2,
   "metadata": {},
   "outputs": [
    {
     "name": "stdout",
     "output_type": "stream",
     "text": [
      "1.19 µs ± 19 ns per loop (mean ± std. dev. of 7 runs, 1000000 loops each)\n"
     ]
    }
   ],
   "source": [
    "%%timeit\n",
    "z = x+y"
   ]
  },
  {
   "cell_type": "markdown",
   "metadata": {},
   "source": [
    "### element-wise add operation"
   ]
  },
  {
   "cell_type": "code",
   "execution_count": 3,
   "metadata": {},
   "outputs": [
    {
     "name": "stdout",
     "output_type": "stream",
     "text": [
      "389 µs ± 5.73 µs per loop (mean ± std. dev. of 7 runs, 1000 loops each)\n"
     ]
    }
   ],
   "source": [
    "%%timeit\n",
    "z = py_add(x, y)"
   ]
  },
  {
   "cell_type": "markdown",
   "metadata": {},
   "source": [
    "- One can see that in numpy, the vector operation is much faster than the element-wise operation"
   ]
  },
  {
   "cell_type": "markdown",
   "metadata": {},
   "source": [
    "## Fortran \n",
    "### vertor add operation"
   ]
  },
  {
   "cell_type": "code",
   "execution_count": 4,
   "metadata": {},
   "outputs": [
    {
     "name": "stderr",
     "output_type": "stream",
     "text": [
      "/Users/xiaozhouli/anaconda/lib/python3.6/site-packages/fortranmagic.py:147: UserWarning: get_ipython_cache_dir has moved to the IPython.paths module since IPython 4.0.\n",
      "  self._lib_dir = os.path.join(get_ipython_cache_dir(), 'fortran')\n"
     ]
    },
    {
     "data": {
      "application/javascript": [
       "$.getScript(\"https://raw.github.com/marijnh/CodeMirror/master/mode/fortran/fortran.js\", function () {\n",
       "IPython.config.cell_magic_highlight['magic_fortran'] = {'reg':[/^%%fortran/]};});\n"
      ]
     },
     "metadata": {},
     "output_type": "display_data"
    }
   ],
   "source": [
    "# this need to be run in a separate cell before defining a fortran function.\n",
    "%load_ext fortranmagic"
   ]
  },
  {
   "cell_type": "code",
   "execution_count": 6,
   "metadata": {},
   "outputs": [],
   "source": [
    "%%fortran\n",
    "# also the fortran function need to be defined and run in a separate cell before using\n",
    "subroutine add_function(x, y, z)\n",
    "    real, intent(in) :: x(:), y(:)\n",
    "    real, intent(out) :: z(size(x))\n",
    "    z = x + y\n",
    "end subroutine add_function"
   ]
  },
  {
   "cell_type": "code",
   "execution_count": 10,
   "metadata": {},
   "outputs": [
    {
     "name": "stdout",
     "output_type": "stream",
     "text": [
      "3.6 µs ± 114 ns per loop (mean ± std. dev. of 7 runs, 100000 loops each)\n"
     ]
    }
   ],
   "source": [
    "%%timeit\n",
    "z = add_function(x, y)"
   ]
  },
  {
   "cell_type": "markdown",
   "metadata": {},
   "source": [
    "### element-wise add operation"
   ]
  },
  {
   "cell_type": "code",
   "execution_count": 7,
   "metadata": {},
   "outputs": [],
   "source": [
    "%%fortran\n",
    "subroutine add_function2(x, y, z)\n",
    "    real, intent(in) :: x(:), y(:)\n",
    "    real, intent(out) :: z(size(x))\n",
    "    integer :: i\n",
    "    do i = 1, size(x)\n",
    "        z(i) = x(i) + y(i)\n",
    "    end do\n",
    "end subroutine add_function2"
   ]
  },
  {
   "cell_type": "code",
   "execution_count": 11,
   "metadata": {},
   "outputs": [
    {
     "name": "stdout",
     "output_type": "stream",
     "text": [
      "3.63 µs ± 272 ns per loop (mean ± std. dev. of 7 runs, 100000 loops each)\n"
     ]
    }
   ],
   "source": [
    "%%timeit\n",
    "z = add_function2(x, y)"
   ]
  },
  {
   "cell_type": "markdown",
   "metadata": {},
   "source": [
    "- One can see that in Fortran, the vector operation has almost the same speed as the element-wise operation \n",
    "- Clearly, the element-wise operation in Fortran is much more faster than in numpy\n",
    "- However, why the vector operation in Fortran is slower than in numpy?\n",
    "    - well, at this moment, I do not know what is really going on, interesting!\n",
    "    - openmp and O3 optimization seem not the problem "
   ]
  },
  {
   "cell_type": "markdown",
   "metadata": {},
   "source": [
    "### More about Using Fortran in Python\n",
    "- The -vvv option, this will print all compiler warnings and output\n",
    "- The --opt='-O3' for O3 optimization level\n",
    "- If you want to use openmp with fortran in python, the following is how you can do it with gfortan:"
   ]
  },
  {
   "cell_type": "code",
   "execution_count": 12,
   "metadata": {},
   "outputs": [
    {
     "name": "stdout",
     "output_type": "stream",
     "text": [
      "Running...\n",
      "   /Users/xiaozhouli/anaconda/bin/python -m numpy.f2py --f90flags='-fopenmp' -lgomp -m _fortran_magic_6defa99ba4d8df3103ce6b9c126d9153 -c /Users/xiaozhouli/.ipython/fortran/_fortran_magic_6defa99ba4d8df3103ce6b9c126d9153.f90\n",
      "running build\n",
      "running config_cc\n",
      "unifing config_cc, config, build_clib, build_ext, build commands --compiler options\n",
      "running config_fc\n",
      "unifing config_fc, config, build_clib, build_ext, build commands --fcompiler options\n",
      "running build_src\n",
      "build_src\n",
      "building extension \"_fortran_magic_6defa99ba4d8df3103ce6b9c126d9153\" sources\n",
      "f2py options: []\n",
      "f2py:> /var/folders/y8/ym0vp3qj65x661bsr96p3_600000gn/T/tmpc1zeo96z/src.macosx-10.7-x86_64-3.6/_fortran_magic_6defa99ba4d8df3103ce6b9c126d9153module.c\n",
      "creating /var/folders/y8/ym0vp3qj65x661bsr96p3_600000gn/T/tmpc1zeo96z/src.macosx-10.7-x86_64-3.6\n",
      "Reading fortran codes...\n",
      "\tReading file '/Users/xiaozhouli/.ipython/fortran/_fortran_magic_6defa99ba4d8df3103ce6b9c126d9153.f90' (format:free)\n",
      "Post-processing...\n",
      "\tBlock: _fortran_magic_6defa99ba4d8df3103ce6b9c126d9153\n",
      "\t\t\tBlock: add_function3\n",
      "In: :_fortran_magic_6defa99ba4d8df3103ce6b9c126d9153:/Users/xiaozhouli/.ipython/fortran/_fortran_magic_6defa99ba4d8df3103ce6b9c126d9153.f90:add_function3\n",
      "get_useparameters: no module omp_lib info used by add_function3\n",
      "Post-processing (stage 2)...\n",
      "Building modules...\n",
      "\tBuilding module \"_fortran_magic_6defa99ba4d8df3103ce6b9c126d9153\"...\n",
      "\t\tCreating wrapper for Fortran subroutine \"add_function3\"(\"add_function3\")...\n",
      "\t\tConstructing wrapper function \"add_function3\"...\n",
      "\t\t  z = add_function3(x,y)\n",
      "\tWrote C/API module \"_fortran_magic_6defa99ba4d8df3103ce6b9c126d9153\" to file \"/var/folders/y8/ym0vp3qj65x661bsr96p3_600000gn/T/tmpc1zeo96z/src.macosx-10.7-x86_64-3.6/_fortran_magic_6defa99ba4d8df3103ce6b9c126d9153module.c\"\n",
      "\tFortran 77 wrappers are saved to \"/var/folders/y8/ym0vp3qj65x661bsr96p3_600000gn/T/tmpc1zeo96z/src.macosx-10.7-x86_64-3.6/_fortran_magic_6defa99ba4d8df3103ce6b9c126d9153-f2pywrappers.f\"\n",
      "  adding '/var/folders/y8/ym0vp3qj65x661bsr96p3_600000gn/T/tmpc1zeo96z/src.macosx-10.7-x86_64-3.6/fortranobject.c' to sources.\n",
      "  adding '/var/folders/y8/ym0vp3qj65x661bsr96p3_600000gn/T/tmpc1zeo96z/src.macosx-10.7-x86_64-3.6' to include_dirs.\n",
      "copying /Users/xiaozhouli/anaconda/lib/python3.6/site-packages/numpy/f2py/src/fortranobject.c -> /var/folders/y8/ym0vp3qj65x661bsr96p3_600000gn/T/tmpc1zeo96z/src.macosx-10.7-x86_64-3.6\n",
      "copying /Users/xiaozhouli/anaconda/lib/python3.6/site-packages/numpy/f2py/src/fortranobject.h -> /var/folders/y8/ym0vp3qj65x661bsr96p3_600000gn/T/tmpc1zeo96z/src.macosx-10.7-x86_64-3.6\n",
      "  adding '/var/folders/y8/ym0vp3qj65x661bsr96p3_600000gn/T/tmpc1zeo96z/src.macosx-10.7-x86_64-3.6/_fortran_magic_6defa99ba4d8df3103ce6b9c126d9153-f2pywrappers.f' to sources.\n",
      "build_src: building npy-pkg config files\n",
      "running build_ext\n",
      "customize UnixCCompiler\n",
      "customize UnixCCompiler using build_ext\n",
      "get_default_fcompiler: matching types: '['gnu95', 'nag', 'absoft', 'ibm', 'intel', 'gnu', 'g95', 'pg']'\n",
      "customize Gnu95FCompiler\n",
      "Found executable /opt/local/bin/gfortran\n",
      "customize Gnu95FCompiler\n",
      "customize Gnu95FCompiler using build_ext\n",
      "building '_fortran_magic_6defa99ba4d8df3103ce6b9c126d9153' extension\n",
      "compiling C sources\n",
      "C compiler: gcc -Wno-unused-result -Wsign-compare -Wunreachable-code -DNDEBUG -g -fwrapv -O3 -Wall -Wstrict-prototypes -I/Users/xiaozhouli/anaconda/include -arch x86_64 -I/Users/xiaozhouli/anaconda/include -arch x86_64\n",
      "\n",
      "creating /var/folders/y8/ym0vp3qj65x661bsr96p3_600000gn/T/tmpc1zeo96z/var\n",
      "creating /var/folders/y8/ym0vp3qj65x661bsr96p3_600000gn/T/tmpc1zeo96z/var/folders\n",
      "creating /var/folders/y8/ym0vp3qj65x661bsr96p3_600000gn/T/tmpc1zeo96z/var/folders/y8\n",
      "creating /var/folders/y8/ym0vp3qj65x661bsr96p3_600000gn/T/tmpc1zeo96z/var/folders/y8/ym0vp3qj65x661bsr96p3_600000gn\n",
      "creating /var/folders/y8/ym0vp3qj65x661bsr96p3_600000gn/T/tmpc1zeo96z/var/folders/y8/ym0vp3qj65x661bsr96p3_600000gn/T\n",
      "creating /var/folders/y8/ym0vp3qj65x661bsr96p3_600000gn/T/tmpc1zeo96z/var/folders/y8/ym0vp3qj65x661bsr96p3_600000gn/T/tmpc1zeo96z\n",
      "creating /var/folders/y8/ym0vp3qj65x661bsr96p3_600000gn/T/tmpc1zeo96z/var/folders/y8/ym0vp3qj65x661bsr96p3_600000gn/T/tmpc1zeo96z/src.macosx-10.7-x86_64-3.6\n",
      "compile options: '-I/var/folders/y8/ym0vp3qj65x661bsr96p3_600000gn/T/tmpc1zeo96z/src.macosx-10.7-x86_64-3.6 -I/Users/xiaozhouli/anaconda/lib/python3.6/site-packages/numpy/core/include -I/Users/xiaozhouli/anaconda/include/python3.6m -c'\n",
      "gcc: /var/folders/y8/ym0vp3qj65x661bsr96p3_600000gn/T/tmpc1zeo96z/src.macosx-10.7-x86_64-3.6/_fortran_magic_6defa99ba4d8df3103ce6b9c126d9153module.c\n",
      "In file included from /Users/xiaozhouli/anaconda/lib/python3.6/site-packages/numpy/core/include/numpy/ndarraytypes.h:1816:0,\n",
      "                 from /Users/xiaozhouli/anaconda/lib/python3.6/site-packages/numpy/core/include/numpy/ndarrayobject.h:18,\n",
      "                 from /Users/xiaozhouli/anaconda/lib/python3.6/site-packages/numpy/core/include/numpy/arrayobject.h:4,\n",
      "                 from /var/folders/y8/ym0vp3qj65x661bsr96p3_600000gn/T/tmpc1zeo96z/src.macosx-10.7-x86_64-3.6/fortranobject.h:13,\n",
      "                 from /var/folders/y8/ym0vp3qj65x661bsr96p3_600000gn/T/tmpc1zeo96z/src.macosx-10.7-x86_64-3.6/_fortran_magic_6defa99ba4d8df3103ce6b9c126d9153module.c:16:\n",
      "/Users/xiaozhouli/anaconda/lib/python3.6/site-packages/numpy/core/include/numpy/npy_1_7_deprecated_api.h:15:2: warning: #warning \"Using deprecated NumPy API, disable it by \" \"#defining NPY_NO_DEPRECATED_API NPY_1_7_API_VERSION\" [-Wcpp]\n",
      " #warning \"Using deprecated NumPy API, disable it by \" \\\n",
      "  ^~~~~~~\n",
      "/var/folders/y8/ym0vp3qj65x661bsr96p3_600000gn/T/tmpc1zeo96z/src.macosx-10.7-x86_64-3.6/_fortran_magic_6defa99ba4d8df3103ce6b9c126d9153module.c: In function 'PyInit__fortran_magic_6defa99ba4d8df3103ce6b9c126d9153':\n",
      "/var/folders/y8/ym0vp3qj65x661bsr96p3_600000gn/T/tmpc1zeo96z/src.macosx-10.7-x86_64-3.6/_fortran_magic_6defa99ba4d8df3103ce6b9c126d9153module.c:379:3: warning: this 'for' clause does not guard... [-Wmisleading-indentation]\n",
      "   for(i=0;f2py_routine_defs[i].name!=NULL;i++)\n",
      "   ^~~\n",
      "/var/folders/y8/ym0vp3qj65x661bsr96p3_600000gn/T/tmpc1zeo96z/src.macosx-10.7-x86_64-3.6/_fortran_magic_6defa99ba4d8df3103ce6b9c126d9153module.c:382:5: note: ...this statement, but the latter is misleadingly indented as if it is guarded by the 'for'\n",
      "     {\n",
      "     ^\n",
      "gcc: /var/folders/y8/ym0vp3qj65x661bsr96p3_600000gn/T/tmpc1zeo96z/src.macosx-10.7-x86_64-3.6/fortranobject.c\n",
      "In file included from /Users/xiaozhouli/anaconda/lib/python3.6/site-packages/numpy/core/include/numpy/ndarraytypes.h:1816:0,\n",
      "                 from /Users/xiaozhouli/anaconda/lib/python3.6/site-packages/numpy/core/include/numpy/ndarrayobject.h:18,\n",
      "                 from /Users/xiaozhouli/anaconda/lib/python3.6/site-packages/numpy/core/include/numpy/arrayobject.h:4,\n",
      "                 from /var/folders/y8/ym0vp3qj65x661bsr96p3_600000gn/T/tmpc1zeo96z/src.macosx-10.7-x86_64-3.6/fortranobject.h:13,\n",
      "                 from /var/folders/y8/ym0vp3qj65x661bsr96p3_600000gn/T/tmpc1zeo96z/src.macosx-10.7-x86_64-3.6/fortranobject.c:2:\n",
      "/Users/xiaozhouli/anaconda/lib/python3.6/site-packages/numpy/core/include/numpy/npy_1_7_deprecated_api.h:15:2: warning: #warning \"Using deprecated NumPy API, disable it by \" \"#defining NPY_NO_DEPRECATED_API NPY_1_7_API_VERSION\" [-Wcpp]\n",
      " #warning \"Using deprecated NumPy API, disable it by \" \\\n",
      "  ^~~~~~~\n",
      "/var/folders/y8/ym0vp3qj65x661bsr96p3_600000gn/T/tmpc1zeo96z/src.macosx-10.7-x86_64-3.6/fortranobject.c: In function 'format_def':\n",
      "/var/folders/y8/ym0vp3qj65x661bsr96p3_600000gn/T/tmpc1zeo96z/src.macosx-10.7-x86_64-3.6/fortranobject.c:138:18: warning: comparison between signed and unsigned integer expressions [-Wsign-compare]\n",
      "         if (size < sizeof(notalloc)) {\n",
      "                  ^\n",
      "compiling Fortran sources\n",
      "Fortran f77 compiler: /opt/local/bin/gfortran -Wall -g -ffixed-form -fno-second-underscore -arch x86_64 -fPIC -O3 -funroll-loops\n",
      "Fortran f90 compiler: /opt/local/bin/gfortran -fopenmp -arch x86_64 -fPIC -O3 -funroll-loops\n",
      "Fortran fix compiler: /opt/local/bin/gfortran -Wall -g -ffixed-form -fno-second-underscore -fopenmp -arch x86_64 -fPIC -O3 -funroll-loops\n",
      "creating /var/folders/y8/ym0vp3qj65x661bsr96p3_600000gn/T/tmpc1zeo96z/Users\n",
      "creating /var/folders/y8/ym0vp3qj65x661bsr96p3_600000gn/T/tmpc1zeo96z/Users/xiaozhouli\n",
      "creating /var/folders/y8/ym0vp3qj65x661bsr96p3_600000gn/T/tmpc1zeo96z/Users/xiaozhouli/.ipython\n",
      "creating /var/folders/y8/ym0vp3qj65x661bsr96p3_600000gn/T/tmpc1zeo96z/Users/xiaozhouli/.ipython/fortran\n",
      "compile options: '-I/var/folders/y8/ym0vp3qj65x661bsr96p3_600000gn/T/tmpc1zeo96z/src.macosx-10.7-x86_64-3.6 -I/Users/xiaozhouli/anaconda/lib/python3.6/site-packages/numpy/core/include -I/Users/xiaozhouli/anaconda/include/python3.6m -c'\n",
      "gfortran:f90: /Users/xiaozhouli/.ipython/fortran/_fortran_magic_6defa99ba4d8df3103ce6b9c126d9153.f90\n",
      "gfortran:f77: /var/folders/y8/ym0vp3qj65x661bsr96p3_600000gn/T/tmpc1zeo96z/src.macosx-10.7-x86_64-3.6/_fortran_magic_6defa99ba4d8df3103ce6b9c126d9153-f2pywrappers.f\n",
      "/opt/local/bin/gfortran -Wall -g -arch x86_64 -Wall -g -undefined dynamic_lookup -bundle /var/folders/y8/ym0vp3qj65x661bsr96p3_600000gn/T/tmpc1zeo96z/var/folders/y8/ym0vp3qj65x661bsr96p3_600000gn/T/tmpc1zeo96z/src.macosx-10.7-x86_64-3.6/_fortran_magic_6defa99ba4d8df3103ce6b9c126d9153module.o /var/folders/y8/ym0vp3qj65x661bsr96p3_600000gn/T/tmpc1zeo96z/var/folders/y8/ym0vp3qj65x661bsr96p3_600000gn/T/tmpc1zeo96z/src.macosx-10.7-x86_64-3.6/fortranobject.o /var/folders/y8/ym0vp3qj65x661bsr96p3_600000gn/T/tmpc1zeo96z/Users/xiaozhouli/.ipython/fortran/_fortran_magic_6defa99ba4d8df3103ce6b9c126d9153.o /var/folders/y8/ym0vp3qj65x661bsr96p3_600000gn/T/tmpc1zeo96z/var/folders/y8/ym0vp3qj65x661bsr96p3_600000gn/T/tmpc1zeo96z/src.macosx-10.7-x86_64-3.6/_fortran_magic_6defa99ba4d8df3103ce6b9c126d9153-f2pywrappers.o -L/opt/local/lib/gcc6/gcc/x86_64-apple-darwin16/6.3.0 -L/Users/xiaozhouli/anaconda/lib -lgomp -lgfortran -o ./_fortran_magic_6defa99ba4d8df3103ce6b9c126d9153.cpython-36m-darwin.so\n",
      "Removing build directory /var/folders/y8/ym0vp3qj65x661bsr96p3_600000gn/T/tmpc1zeo96z\n"
     ]
    },
    {
     "name": "stdout",
     "output_type": "stream",
     "text": [
      "\n",
      "Ok. The following fortran objects are ready to use: add_function3\n"
     ]
    }
   ],
   "source": [
    "%%fortran -vvv --f90flags='-fopenmp' --extra='-lgomp'\n",
    "subroutine add_function3(x, y, z)\n",
    "    use omp_lib\n",
    "    real, intent(in) :: x(:), y(:)\n",
    "    real, intent(out) :: z(size(x))\n",
    "    z = x + y\n",
    "end subroutine add_function3"
   ]
  },
  {
   "cell_type": "code",
   "execution_count": 13,
   "metadata": {},
   "outputs": [
    {
     "name": "stdout",
     "output_type": "stream",
     "text": [
      "3.54 µs ± 153 ns per loop (mean ± std. dev. of 7 runs, 100000 loops each)\n"
     ]
    }
   ],
   "source": [
    "%%timeit\n",
    "z = add_function3(x, y)"
   ]
  },
  {
   "cell_type": "code",
   "execution_count": 14,
   "metadata": {
    "collapsed": true
   },
   "outputs": [],
   "source": [
    "%%fortran --opt='-O3'\n",
    "subroutine add_function4(x, y, z)\n",
    "    use omp_lib\n",
    "    real, intent(in) :: x(:), y(:)\n",
    "    real, intent(out) :: z(size(x))\n",
    "    z = x + y\n",
    "end subroutine add_function4"
   ]
  },
  {
   "cell_type": "code",
   "execution_count": 15,
   "metadata": {},
   "outputs": [
    {
     "name": "stdout",
     "output_type": "stream",
     "text": [
      "3.77 µs ± 177 ns per loop (mean ± std. dev. of 7 runs, 100000 loops each)\n"
     ]
    }
   ],
   "source": [
    "%%timeit\n",
    "z = add_function4(x, y)"
   ]
  }
 ],
 "metadata": {
  "kernelspec": {
   "display_name": "Python 3",
   "language": "python",
   "name": "python3"
  },
  "language_info": {
   "codemirror_mode": {
    "name": "ipython",
    "version": 3
   },
   "file_extension": ".py",
   "mimetype": "text/x-python",
   "name": "python",
   "nbconvert_exporter": "python",
   "pygments_lexer": "ipython3",
   "version": "3.6.4"
  },
  "latex_envs": {
   "LaTeX_envs_menu_present": true,
   "autocomplete": true,
   "bibliofile": "biblio.bib",
   "cite_by": "apalike",
   "current_citInitial": 1,
   "eqLabelWithNumbers": true,
   "eqNumInitial": 1,
   "hotkeys": {
    "equation": "Ctrl-E",
    "itemize": "Ctrl-I"
   },
   "labels_anchors": false,
   "latex_user_defs": false,
   "report_style_numbering": false,
   "user_envs_cfg": false
  },
  "toc": {
   "nav_menu": {},
   "number_sections": true,
   "sideBar": true,
   "skip_h1_title": false,
   "toc_cell": false,
   "toc_position": {},
   "toc_section_display": "block",
   "toc_window_display": false
  }
 },
 "nbformat": 4,
 "nbformat_minor": 2
}
